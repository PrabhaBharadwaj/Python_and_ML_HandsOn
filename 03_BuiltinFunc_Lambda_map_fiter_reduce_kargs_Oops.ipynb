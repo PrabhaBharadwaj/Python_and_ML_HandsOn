{
 "cells": [
  {
   "cell_type": "markdown",
   "metadata": {},
   "source": [
    "# Functions"
   ]
  },
  {
   "cell_type": "code",
   "execution_count": 1,
   "metadata": {},
   "outputs": [],
   "source": [
    "# create a function to add two numbers\n",
    "\n",
    "#1. function definition\n",
    "def add(a, b):\n",
    "    c = a + b\n",
    "    return c  # return statement is optional"
   ]
  },
  {
   "cell_type": "code",
   "execution_count": 2,
   "metadata": {},
   "outputs": [
    {
     "name": "stdout",
     "output_type": "stream",
     "text": [
      "30\n"
     ]
    }
   ],
   "source": [
    "# 2. function call would execute the function\n",
    "function_output = add(10, 20)\n",
    "print(function_output)"
   ]
  },
  {
   "cell_type": "code",
   "execution_count": 3,
   "metadata": {},
   "outputs": [
    {
     "name": "stdout",
     "output_type": "stream",
     "text": [
      "[1, 2, 3, 4]\n"
     ]
    }
   ],
   "source": [
    "# you can call the function as many times as you want\n",
    "function_op = add([1,2], [3,4])\n",
    "print(function_op)"
   ]
  },
  {
   "cell_type": "code",
   "execution_count": 4,
   "metadata": {},
   "outputs": [
    {
     "name": "stdout",
     "output_type": "stream",
     "text": [
      "Multiplication Output is: 12\n",
      "None\n"
     ]
    }
   ],
   "source": [
    "# If you don't put the return statement then None type value would be returned\n",
    "def multiply(i, j):\n",
    "    c = i * j\n",
    "    print(\"Multiplication Output is: %s\"%c)\n",
    "\n",
    "# calling\n",
    "function_op = multiply(3,4)\n",
    "print(function_op)"
   ]
  },
  {
   "cell_type": "code",
   "execution_count": 5,
   "metadata": {},
   "outputs": [
    {
     "data": {
      "text/plain": [
       "NoneType"
      ]
     },
     "execution_count": 5,
     "metadata": {},
     "output_type": "execute_result"
    }
   ],
   "source": [
    "type(None)"
   ]
  },
  {
   "cell_type": "code",
   "execution_count": 6,
   "metadata": {},
   "outputs": [
    {
     "name": "stdout",
     "output_type": "stream",
     "text": [
      "hello  234 345\n"
     ]
    }
   ],
   "source": [
    "print(\"hello \",234,345)"
   ]
  },
  {
   "cell_type": "markdown",
   "metadata": {},
   "source": [
    "# Built-in functions"
   ]
  },
  {
   "cell_type": "code",
   "execution_count": 7,
   "metadata": {},
   "outputs": [
    {
     "data": {
      "text/plain": [
       "[-100, -4, -3, 0, 1, 2, 34]"
      ]
     },
     "execution_count": 7,
     "metadata": {},
     "output_type": "execute_result"
    }
   ],
   "source": [
    "#1. sorted(): returns a new sorted list\n",
    "a = [1, 2, -3, -4, 34, 0, -100]\n",
    "sorted(a)  "
   ]
  },
  {
   "cell_type": "code",
   "execution_count": 8,
   "metadata": {},
   "outputs": [
    {
     "data": {
      "text/plain": [
       "[34, 2, 1, 0, -3, -4, -100]"
      ]
     },
     "execution_count": 8,
     "metadata": {},
     "output_type": "execute_result"
    }
   ],
   "source": [
    "sorted(a, reverse=True)"
   ]
  },
  {
   "cell_type": "markdown",
   "metadata": {},
   "source": [
    "## What is True and False in Python ?\n",
    "\n",
    "- True values: any non-zero, non-empty object is True\n",
    "Ex: True, [1,2], (1,2), \"edureka\", 'H', -1, 100 or any object that\n",
    "is non-empty, that would also be True\n",
    "\n",
    "- False values: None, [], (), {}, '', 0, False or any object that is empty would\n",
    "also be considered as False value."
   ]
  },
  {
   "cell_type": "code",
   "execution_count": 9,
   "metadata": {},
   "outputs": [
    {
     "name": "stdout",
     "output_type": "stream",
     "text": [
      "IF\n"
     ]
    }
   ],
   "source": [
    "if -1:\n",
    "    print(\"IF\")\n",
    "else:\n",
    "    print(\"Else\")"
   ]
  },
  {
   "cell_type": "code",
   "execution_count": 10,
   "metadata": {},
   "outputs": [
    {
     "name": "stdout",
     "output_type": "stream",
     "text": [
      "If\n"
     ]
    }
   ],
   "source": [
    "if \"edureka\":\n",
    "    print(\"If\")\n",
    "else:\n",
    "    print(\"Else\")"
   ]
  },
  {
   "cell_type": "code",
   "execution_count": 11,
   "metadata": {},
   "outputs": [
    {
     "name": "stdout",
     "output_type": "stream",
     "text": [
      "Else\n"
     ]
    }
   ],
   "source": [
    "if []:\n",
    "    print(\"If\")\n",
    "else:\n",
    "    print(\"Else\")"
   ]
  },
  {
   "cell_type": "code",
   "execution_count": 12,
   "metadata": {},
   "outputs": [
    {
     "data": {
      "text/plain": [
       "False"
      ]
     },
     "execution_count": 12,
     "metadata": {},
     "output_type": "execute_result"
    }
   ],
   "source": [
    "\"\"\"\n",
    "2. all(<iterable>) : returns True when all the elements are True\n",
    "Iterable: objects that we can iterate over using a for loop are called\n",
    "iterable. ex: List, Tuple, strings\n",
    "\"\"\"\n",
    "all([100, -1, \"edureka\", 0])"
   ]
  },
  {
   "cell_type": "code",
   "execution_count": 13,
   "metadata": {},
   "outputs": [
    {
     "data": {
      "text/plain": [
       "True"
      ]
     },
     "execution_count": 13,
     "metadata": {},
     "output_type": "execute_result"
    }
   ],
   "source": [
    "all([100, -1, \"edureka\", 20])"
   ]
  },
  {
   "cell_type": "code",
   "execution_count": 14,
   "metadata": {},
   "outputs": [
    {
     "data": {
      "text/plain": [
       "False"
      ]
     },
     "execution_count": 14,
     "metadata": {},
     "output_type": "execute_result"
    }
   ],
   "source": [
    "\"\"\"\n",
    "3. any(<iterable>) : returns True if any of the element is\n",
    "True in the iterable\n",
    "Iterable: objects that we can iterate over using a for loop are called\n",
    "iterable. ex: List, Tuple, strings\n",
    "\"\"\"\n",
    "any([None, '', [], (), False])"
   ]
  },
  {
   "cell_type": "code",
   "execution_count": 15,
   "metadata": {},
   "outputs": [
    {
     "data": {
      "text/plain": [
       "True"
      ]
     },
     "execution_count": 15,
     "metadata": {},
     "output_type": "execute_result"
    }
   ],
   "source": [
    "any([\"edureka\",None, '', [], (), False])"
   ]
  },
  {
   "cell_type": "code",
   "execution_count": 16,
   "metadata": {},
   "outputs": [
    {
     "data": {
      "text/plain": [
       "False"
      ]
     },
     "execution_count": 16,
     "metadata": {},
     "output_type": "execute_result"
    }
   ],
   "source": [
    "#4. bool()\n",
    "bool(None)"
   ]
  },
  {
   "cell_type": "code",
   "execution_count": 17,
   "metadata": {},
   "outputs": [
    {
     "data": {
      "text/plain": [
       "False"
      ]
     },
     "execution_count": 17,
     "metadata": {},
     "output_type": "execute_result"
    }
   ],
   "source": [
    "bool([])"
   ]
  },
  {
   "cell_type": "code",
   "execution_count": 18,
   "metadata": {},
   "outputs": [
    {
     "data": {
      "text/plain": [
       "False"
      ]
     },
     "execution_count": 18,
     "metadata": {},
     "output_type": "execute_result"
    }
   ],
   "source": [
    "bool(())"
   ]
  },
  {
   "cell_type": "code",
   "execution_count": 19,
   "metadata": {},
   "outputs": [
    {
     "data": {
      "text/plain": [
       "False"
      ]
     },
     "execution_count": 19,
     "metadata": {},
     "output_type": "execute_result"
    }
   ],
   "source": [
    "bool('')"
   ]
  },
  {
   "cell_type": "code",
   "execution_count": 20,
   "metadata": {},
   "outputs": [
    {
     "data": {
      "text/plain": [
       "True"
      ]
     },
     "execution_count": 20,
     "metadata": {},
     "output_type": "execute_result"
    }
   ],
   "source": [
    "bool(-1)"
   ]
  },
  {
   "cell_type": "code",
   "execution_count": 21,
   "metadata": {},
   "outputs": [
    {
     "data": {
      "text/plain": [
       "'a'"
      ]
     },
     "execution_count": 21,
     "metadata": {},
     "output_type": "execute_result"
    }
   ],
   "source": [
    "#5. chr(code_point)\n",
    "chr(97)"
   ]
  },
  {
   "cell_type": "code",
   "execution_count": 22,
   "metadata": {},
   "outputs": [
    {
     "data": {
      "text/plain": [
       "'A'"
      ]
     },
     "execution_count": 22,
     "metadata": {},
     "output_type": "execute_result"
    }
   ],
   "source": [
    "chr(65)"
   ]
  },
  {
   "cell_type": "code",
   "execution_count": 23,
   "metadata": {},
   "outputs": [
    {
     "data": {
      "text/plain": [
       "65"
      ]
     },
     "execution_count": 23,
     "metadata": {},
     "output_type": "execute_result"
    }
   ],
   "source": [
    "# ord(character) returns code point for that character\n",
    "ord('A')"
   ]
  },
  {
   "cell_type": "code",
   "execution_count": 24,
   "metadata": {},
   "outputs": [
    {
     "data": {
      "text/plain": [
       "12"
      ]
     },
     "execution_count": 24,
     "metadata": {},
     "output_type": "execute_result"
    }
   ],
   "source": [
    "#6. abs()\n",
    "abs(12)"
   ]
  },
  {
   "cell_type": "code",
   "execution_count": 25,
   "metadata": {},
   "outputs": [
    {
     "data": {
      "text/plain": [
       "12"
      ]
     },
     "execution_count": 25,
     "metadata": {},
     "output_type": "execute_result"
    }
   ],
   "source": [
    "abs(-12)"
   ]
  },
  {
   "cell_type": "code",
   "execution_count": 26,
   "metadata": {},
   "outputs": [
    {
     "name": "stdout",
     "output_type": "stream",
     "text": [
      "without enumerate\n",
      "11\n",
      "22\n",
      "33\n",
      "44\n",
      "With enumerate:(index, value_at_that_index)\n",
      "(0, 11)\n",
      "(1, 22)\n",
      "(2, 33)\n",
      "(3, 44)\n"
     ]
    }
   ],
   "source": [
    "#7. enumerate\n",
    "\n",
    "# without enumerate\n",
    "print(\"without enumerate\")\n",
    "a = [11, 22, 33, 44]\n",
    "for elem in a:\n",
    "    print(elem)\n",
    "    \n",
    "print(\"With enumerate:(index, value_at_that_index)\")\n",
    "a = [11, 22, 33, 44]\n",
    "for elem in enumerate(a):\n",
    "    print(elem)  # (index, value)"
   ]
  },
  {
   "cell_type": "code",
   "execution_count": 27,
   "metadata": {},
   "outputs": [
    {
     "name": "stdout",
     "output_type": "stream",
     "text": [
      "original type: <class 'str'>\n",
      "After typecasting: <class 'int'>\n"
     ]
    }
   ],
   "source": [
    "#8. int(<string_containing_integer>)\n",
    "# it is for typecasting string to an integer provided string contains int values.\n",
    "a = \"123\"\n",
    "print(\"original type: %s\"%type(a))\n",
    "a = int(a)\n",
    "print(\"After typecasting: %s\"%type(a))\n"
   ]
  },
  {
   "cell_type": "code",
   "execution_count": 28,
   "metadata": {},
   "outputs": [
    {
     "ename": "ValueError",
     "evalue": "invalid literal for int() with base 10: '[1,2,3]'",
     "output_type": "error",
     "traceback": [
      "\u001b[1;31m---------------------------------------------------------------------------\u001b[0m",
      "\u001b[1;31mValueError\u001b[0m                                Traceback (most recent call last)",
      "\u001b[1;32m<ipython-input-28-fea8e20dbe71>\u001b[0m in \u001b[0;36m<module>\u001b[1;34m\u001b[0m\n\u001b[0;32m      1\u001b[0m \u001b[1;31m# this would throw an error\u001b[0m\u001b[1;33m\u001b[0m\u001b[1;33m\u001b[0m\u001b[1;33m\u001b[0m\u001b[0m\n\u001b[1;32m----> 2\u001b[1;33m \u001b[0mint\u001b[0m\u001b[1;33m(\u001b[0m\u001b[1;34m\"[1,2,3]\"\u001b[0m\u001b[1;33m)\u001b[0m\u001b[1;33m\u001b[0m\u001b[1;33m\u001b[0m\u001b[0m\n\u001b[0m",
      "\u001b[1;31mValueError\u001b[0m: invalid literal for int() with base 10: '[1,2,3]'"
     ]
    }
   ],
   "source": [
    "# this would throw an error\n",
    "int(\"[1,2,3]\")"
   ]
  },
  {
   "cell_type": "code",
   "execution_count": 29,
   "metadata": {},
   "outputs": [
    {
     "data": {
      "text/plain": [
       "{'__name__': '__main__',\n",
       " '__doc__': '\\n3. any(<iterable>) : returns True if any of the element is\\nTrue in the iterable\\nIterable: objects that we can iterate over using a for loop are called\\niterable. ex: List, Tuple, strings\\n',\n",
       " '__package__': None,\n",
       " '__loader__': None,\n",
       " '__spec__': None,\n",
       " '__builtin__': <module 'builtins' (built-in)>,\n",
       " '__builtins__': <module 'builtins' (built-in)>,\n",
       " '_ih': ['',\n",
       "  '# create a function to add two numbers\\n\\n#1. function definition\\ndef add(a, b):\\n    c = a + b\\n    return c  # return statement is optional',\n",
       "  '# 2. function call would execute the function\\nfunction_output = add(10, 20)\\nprint(function_output)',\n",
       "  '# you can call the function as many times as you want\\nfunction_op = add([1,2], [3,4])\\nprint(function_op)',\n",
       "  '# If you don\\'t put the return statement then None type value would be returned\\ndef multiply(i, j):\\n    c = i * j\\n    print(\"Multiplication Output is: %s\"%c)\\n\\n# calling\\nfunction_op = multiply(3,4)\\nprint(function_op)',\n",
       "  'type(None)',\n",
       "  'print(\"hello \",234,345)',\n",
       "  '#1. sorted(): returns a new sorted list\\na = [1, 2, -3, -4, 34, 0, -100]\\nsorted(a)  ',\n",
       "  'sorted(a, reverse=True)',\n",
       "  'if -1:\\n    print(\"IF\")\\nelse:\\n    print(\"Else\")',\n",
       "  'if \"edureka\":\\n    print(\"If\")\\nelse:\\n    print(\"Else\")',\n",
       "  'if []:\\n    print(\"If\")\\nelse:\\n    print(\"Else\")',\n",
       "  '\"\"\"\\n2. all(<iterable>) : returns True when all the elements are True\\nIterable: objects that we can iterate over using a for loop are called\\niterable. ex: List, Tuple, strings\\n\"\"\"\\nall([100, -1, \"edureka\", 0])',\n",
       "  'all([100, -1, \"edureka\", 20])',\n",
       "  '\"\"\"\\n3. any(<iterable>) : returns True if any of the element is\\nTrue in the iterable\\nIterable: objects that we can iterate over using a for loop are called\\niterable. ex: List, Tuple, strings\\n\"\"\"\\nany([None, \\'\\', [], (), False])',\n",
       "  'any([\"edureka\",None, \\'\\', [], (), False])',\n",
       "  '#4. bool()\\nbool(None)',\n",
       "  'bool([])',\n",
       "  'bool(())',\n",
       "  \"bool('')\",\n",
       "  'bool(-1)',\n",
       "  '#5. chr(code_point)\\nchr(97)',\n",
       "  'chr(65)',\n",
       "  \"# ord(character) returns code point for that character\\nord('A')\",\n",
       "  '#6. abs()\\nabs(12)',\n",
       "  'abs(-12)',\n",
       "  '#7. enumerate\\n\\n# without enumerate\\nprint(\"without enumerate\")\\na = [11, 22, 33, 44]\\nfor elem in a:\\n    print(elem)\\n    \\nprint(\"With enumerate:(index, value_at_that_index)\")\\na = [11, 22, 33, 44]\\nfor elem in enumerate(a):\\n    print(elem)  # (index, value)',\n",
       "  '#8. int(<string_containing_integer>)\\n# it is for typecasting string to an integer provided string contains int values.\\na = \"123\"\\nprint(\"original type: %s\"%type(a))\\na = int(a)\\nprint(\"After typecasting: %s\"%type(a))',\n",
       "  '# this would throw an error\\nint(\"[1,2,3]\")',\n",
       "  '#9. globals()\\nglobals()'],\n",
       " '_oh': {5: NoneType,\n",
       "  7: [-100, -4, -3, 0, 1, 2, 34],\n",
       "  8: [34, 2, 1, 0, -3, -4, -100],\n",
       "  12: False,\n",
       "  13: True,\n",
       "  14: False,\n",
       "  15: True,\n",
       "  16: False,\n",
       "  17: False,\n",
       "  18: False,\n",
       "  19: False,\n",
       "  20: True,\n",
       "  21: 'a',\n",
       "  22: 'A',\n",
       "  23: 65,\n",
       "  24: 12,\n",
       "  25: 12},\n",
       " '_dh': ['C:\\\\Users\\\\prabh\\\\DS Project Toolkit\\\\General'],\n",
       " 'In': ['',\n",
       "  '# create a function to add two numbers\\n\\n#1. function definition\\ndef add(a, b):\\n    c = a + b\\n    return c  # return statement is optional',\n",
       "  '# 2. function call would execute the function\\nfunction_output = add(10, 20)\\nprint(function_output)',\n",
       "  '# you can call the function as many times as you want\\nfunction_op = add([1,2], [3,4])\\nprint(function_op)',\n",
       "  '# If you don\\'t put the return statement then None type value would be returned\\ndef multiply(i, j):\\n    c = i * j\\n    print(\"Multiplication Output is: %s\"%c)\\n\\n# calling\\nfunction_op = multiply(3,4)\\nprint(function_op)',\n",
       "  'type(None)',\n",
       "  'print(\"hello \",234,345)',\n",
       "  '#1. sorted(): returns a new sorted list\\na = [1, 2, -3, -4, 34, 0, -100]\\nsorted(a)  ',\n",
       "  'sorted(a, reverse=True)',\n",
       "  'if -1:\\n    print(\"IF\")\\nelse:\\n    print(\"Else\")',\n",
       "  'if \"edureka\":\\n    print(\"If\")\\nelse:\\n    print(\"Else\")',\n",
       "  'if []:\\n    print(\"If\")\\nelse:\\n    print(\"Else\")',\n",
       "  '\"\"\"\\n2. all(<iterable>) : returns True when all the elements are True\\nIterable: objects that we can iterate over using a for loop are called\\niterable. ex: List, Tuple, strings\\n\"\"\"\\nall([100, -1, \"edureka\", 0])',\n",
       "  'all([100, -1, \"edureka\", 20])',\n",
       "  '\"\"\"\\n3. any(<iterable>) : returns True if any of the element is\\nTrue in the iterable\\nIterable: objects that we can iterate over using a for loop are called\\niterable. ex: List, Tuple, strings\\n\"\"\"\\nany([None, \\'\\', [], (), False])',\n",
       "  'any([\"edureka\",None, \\'\\', [], (), False])',\n",
       "  '#4. bool()\\nbool(None)',\n",
       "  'bool([])',\n",
       "  'bool(())',\n",
       "  \"bool('')\",\n",
       "  'bool(-1)',\n",
       "  '#5. chr(code_point)\\nchr(97)',\n",
       "  'chr(65)',\n",
       "  \"# ord(character) returns code point for that character\\nord('A')\",\n",
       "  '#6. abs()\\nabs(12)',\n",
       "  'abs(-12)',\n",
       "  '#7. enumerate\\n\\n# without enumerate\\nprint(\"without enumerate\")\\na = [11, 22, 33, 44]\\nfor elem in a:\\n    print(elem)\\n    \\nprint(\"With enumerate:(index, value_at_that_index)\")\\na = [11, 22, 33, 44]\\nfor elem in enumerate(a):\\n    print(elem)  # (index, value)',\n",
       "  '#8. int(<string_containing_integer>)\\n# it is for typecasting string to an integer provided string contains int values.\\na = \"123\"\\nprint(\"original type: %s\"%type(a))\\na = int(a)\\nprint(\"After typecasting: %s\"%type(a))',\n",
       "  '# this would throw an error\\nint(\"[1,2,3]\")',\n",
       "  '#9. globals()\\nglobals()'],\n",
       " 'Out': {5: NoneType,\n",
       "  7: [-100, -4, -3, 0, 1, 2, 34],\n",
       "  8: [34, 2, 1, 0, -3, -4, -100],\n",
       "  12: False,\n",
       "  13: True,\n",
       "  14: False,\n",
       "  15: True,\n",
       "  16: False,\n",
       "  17: False,\n",
       "  18: False,\n",
       "  19: False,\n",
       "  20: True,\n",
       "  21: 'a',\n",
       "  22: 'A',\n",
       "  23: 65,\n",
       "  24: 12,\n",
       "  25: 12},\n",
       " 'get_ipython': <bound method InteractiveShell.get_ipython of <ipykernel.zmqshell.ZMQInteractiveShell object at 0x0000025D2CCE39E8>>,\n",
       " 'exit': <IPython.core.autocall.ZMQExitAutocall at 0x25d2d537fd0>,\n",
       " 'quit': <IPython.core.autocall.ZMQExitAutocall at 0x25d2d537fd0>,\n",
       " '_': 12,\n",
       " '__': 12,\n",
       " '___': 65,\n",
       " '_i': '# this would throw an error\\nint(\"[1,2,3]\")',\n",
       " '_ii': '#8. int(<string_containing_integer>)\\n# it is for typecasting string to an integer provided string contains int values.\\na = \"123\"\\nprint(\"original type: %s\"%type(a))\\na = int(a)\\nprint(\"After typecasting: %s\"%type(a))',\n",
       " '_iii': '#7. enumerate\\n\\n# without enumerate\\nprint(\"without enumerate\")\\na = [11, 22, 33, 44]\\nfor elem in a:\\n    print(elem)\\n    \\nprint(\"With enumerate:(index, value_at_that_index)\")\\na = [11, 22, 33, 44]\\nfor elem in enumerate(a):\\n    print(elem)  # (index, value)',\n",
       " '_i1': '# create a function to add two numbers\\n\\n#1. function definition\\ndef add(a, b):\\n    c = a + b\\n    return c  # return statement is optional',\n",
       " 'add': <function __main__.add(a, b)>,\n",
       " '_i2': '# 2. function call would execute the function\\nfunction_output = add(10, 20)\\nprint(function_output)',\n",
       " 'function_output': 30,\n",
       " '_i3': '# you can call the function as many times as you want\\nfunction_op = add([1,2], [3,4])\\nprint(function_op)',\n",
       " 'function_op': None,\n",
       " '_i4': '# If you don\\'t put the return statement then None type value would be returned\\ndef multiply(i, j):\\n    c = i * j\\n    print(\"Multiplication Output is: %s\"%c)\\n\\n# calling\\nfunction_op = multiply(3,4)\\nprint(function_op)',\n",
       " 'multiply': <function __main__.multiply(i, j)>,\n",
       " '_i5': 'type(None)',\n",
       " '_5': NoneType,\n",
       " '_i6': 'print(\"hello \",234,345)',\n",
       " '_i7': '#1. sorted(): returns a new sorted list\\na = [1, 2, -3, -4, 34, 0, -100]\\nsorted(a)  ',\n",
       " 'a': 123,\n",
       " '_7': [-100, -4, -3, 0, 1, 2, 34],\n",
       " '_i8': 'sorted(a, reverse=True)',\n",
       " '_8': [34, 2, 1, 0, -3, -4, -100],\n",
       " '_i9': 'if -1:\\n    print(\"IF\")\\nelse:\\n    print(\"Else\")',\n",
       " '_i10': 'if \"edureka\":\\n    print(\"If\")\\nelse:\\n    print(\"Else\")',\n",
       " '_i11': 'if []:\\n    print(\"If\")\\nelse:\\n    print(\"Else\")',\n",
       " '_i12': '\"\"\"\\n2. all(<iterable>) : returns True when all the elements are True\\nIterable: objects that we can iterate over using a for loop are called\\niterable. ex: List, Tuple, strings\\n\"\"\"\\nall([100, -1, \"edureka\", 0])',\n",
       " '_12': False,\n",
       " '_i13': 'all([100, -1, \"edureka\", 20])',\n",
       " '_13': True,\n",
       " '_i14': '\"\"\"\\n3. any(<iterable>) : returns True if any of the element is\\nTrue in the iterable\\nIterable: objects that we can iterate over using a for loop are called\\niterable. ex: List, Tuple, strings\\n\"\"\"\\nany([None, \\'\\', [], (), False])',\n",
       " '_14': False,\n",
       " '_i15': 'any([\"edureka\",None, \\'\\', [], (), False])',\n",
       " '_15': True,\n",
       " '_i16': '#4. bool()\\nbool(None)',\n",
       " '_16': False,\n",
       " '_i17': 'bool([])',\n",
       " '_17': False,\n",
       " '_i18': 'bool(())',\n",
       " '_18': False,\n",
       " '_i19': \"bool('')\",\n",
       " '_19': False,\n",
       " '_i20': 'bool(-1)',\n",
       " '_20': True,\n",
       " '_i21': '#5. chr(code_point)\\nchr(97)',\n",
       " '_21': 'a',\n",
       " '_i22': 'chr(65)',\n",
       " '_22': 'A',\n",
       " '_i23': \"# ord(character) returns code point for that character\\nord('A')\",\n",
       " '_23': 65,\n",
       " '_i24': '#6. abs()\\nabs(12)',\n",
       " '_24': 12,\n",
       " '_i25': 'abs(-12)',\n",
       " '_25': 12,\n",
       " '_i26': '#7. enumerate\\n\\n# without enumerate\\nprint(\"without enumerate\")\\na = [11, 22, 33, 44]\\nfor elem in a:\\n    print(elem)\\n    \\nprint(\"With enumerate:(index, value_at_that_index)\")\\na = [11, 22, 33, 44]\\nfor elem in enumerate(a):\\n    print(elem)  # (index, value)',\n",
       " 'elem': (3, 44),\n",
       " '_i27': '#8. int(<string_containing_integer>)\\n# it is for typecasting string to an integer provided string contains int values.\\na = \"123\"\\nprint(\"original type: %s\"%type(a))\\na = int(a)\\nprint(\"After typecasting: %s\"%type(a))',\n",
       " '_i28': '# this would throw an error\\nint(\"[1,2,3]\")',\n",
       " '_i29': '#9. globals()\\nglobals()'}"
      ]
     },
     "execution_count": 29,
     "metadata": {},
     "output_type": "execute_result"
    }
   ],
   "source": [
    "#9. globals()\n",
    "globals()"
   ]
  },
  {
   "cell_type": "code",
   "execution_count": 30,
   "metadata": {},
   "outputs": [
    {
     "data": {
      "text/plain": [
       "'0b1111011'"
      ]
     },
     "execution_count": 30,
     "metadata": {},
     "output_type": "execute_result"
    }
   ],
   "source": [
    "# 10. bin() : returns binary value\n",
    "bin(123)"
   ]
  },
  {
   "cell_type": "code",
   "execution_count": 31,
   "metadata": {},
   "outputs": [
    {
     "data": {
      "text/plain": [
       "'0b101011001'"
      ]
     },
     "execution_count": 31,
     "metadata": {},
     "output_type": "execute_result"
    }
   ],
   "source": [
    "bin(345)"
   ]
  },
  {
   "cell_type": "code",
   "execution_count": 32,
   "metadata": {},
   "outputs": [
    {
     "data": {
      "text/plain": [
       "10"
      ]
     },
     "execution_count": 32,
     "metadata": {},
     "output_type": "execute_result"
    }
   ],
   "source": [
    "# 11. sum(<iterable>) returns sum of all the values of iterable\n",
    "sum([1,2,3,4])  # list"
   ]
  },
  {
   "cell_type": "code",
   "execution_count": 33,
   "metadata": {},
   "outputs": [
    {
     "data": {
      "text/plain": [
       "66"
      ]
     },
     "execution_count": 33,
     "metadata": {},
     "output_type": "execute_result"
    }
   ],
   "source": [
    "# tuple\n",
    "sum((11, 22, 33))"
   ]
  },
  {
   "cell_type": "code",
   "execution_count": 34,
   "metadata": {},
   "outputs": [
    {
     "data": {
      "text/plain": [
       "6"
      ]
     },
     "execution_count": 34,
     "metadata": {},
     "output_type": "execute_result"
    }
   ],
   "source": [
    "# with 'dict' sum() would sumup only the keys\n",
    "sum({1:11, 2:22, 3:33})"
   ]
  },
  {
   "cell_type": "code",
   "execution_count": 35,
   "metadata": {},
   "outputs": [
    {
     "ename": "TypeError",
     "evalue": "unsupported operand type(s) for +: 'int' and 'str'",
     "output_type": "error",
     "traceback": [
      "\u001b[1;31m---------------------------------------------------------------------------\u001b[0m",
      "\u001b[1;31mTypeError\u001b[0m                                 Traceback (most recent call last)",
      "\u001b[1;32m<ipython-input-35-829c277664fa>\u001b[0m in \u001b[0;36m<module>\u001b[1;34m\u001b[0m\n\u001b[0;32m      1\u001b[0m \u001b[1;31m# all the values must be of same type\u001b[0m\u001b[1;33m\u001b[0m\u001b[1;33m\u001b[0m\u001b[1;33m\u001b[0m\u001b[0m\n\u001b[1;32m----> 2\u001b[1;33m \u001b[0msum\u001b[0m\u001b[1;33m(\u001b[0m\u001b[1;33m[\u001b[0m\u001b[1;36m11\u001b[0m\u001b[1;33m,\u001b[0m \u001b[1;34m\"hello\"\u001b[0m\u001b[1;33m,\u001b[0m \u001b[1;36m12\u001b[0m\u001b[1;33m]\u001b[0m\u001b[1;33m)\u001b[0m\u001b[1;33m\u001b[0m\u001b[1;33m\u001b[0m\u001b[0m\n\u001b[0m",
      "\u001b[1;31mTypeError\u001b[0m: unsupported operand type(s) for +: 'int' and 'str'"
     ]
    }
   ],
   "source": [
    "# all the values must be of same type\n",
    "sum([11, \"hello\", 12])"
   ]
  },
  {
   "cell_type": "code",
   "execution_count": 36,
   "metadata": {},
   "outputs": [
    {
     "data": {
      "text/plain": [
       "'hello bye ds'"
      ]
     },
     "execution_count": 36,
     "metadata": {},
     "output_type": "execute_result"
    }
   ],
   "source": [
    "# Join the list to one line string\n",
    "' '.join([\"hello\", \"bye\", \"ds\"])"
   ]
  },
  {
   "cell_type": "code",
   "execution_count": 43,
   "metadata": {},
   "outputs": [
    {
     "name": "stdout",
     "output_type": "stream",
     "text": [
      "['hello', 'bye', 'ds']\n"
     ]
    }
   ],
   "source": [
    "# split the one line string to list\n",
    "a = 'hello bye ds'\n",
    "x = a.split(' ')\n",
    "print(x)"
   ]
  },
  {
   "cell_type": "code",
   "execution_count": 37,
   "metadata": {},
   "outputs": [
    {
     "data": {
      "text/plain": [
       "<list_reverseiterator at 0x25d2d6f52e8>"
      ]
     },
     "execution_count": 37,
     "metadata": {},
     "output_type": "execute_result"
    }
   ],
   "source": [
    "# 12. reversed(sequence)\n",
    "a = [1,2,3]\n",
    "reversed(a)"
   ]
  },
  {
   "cell_type": "code",
   "execution_count": 38,
   "metadata": {},
   "outputs": [
    {
     "name": "stdout",
     "output_type": "stream",
     "text": [
      "3\n",
      "2\n",
      "1\n"
     ]
    }
   ],
   "source": [
    "# iterating over reversed object to get the values in reverse order\n",
    "for elem in reversed(a):\n",
    "    print(elem)"
   ]
  },
  {
   "cell_type": "code",
   "execution_count": 39,
   "metadata": {},
   "outputs": [
    {
     "data": {
      "text/plain": [
       "'helloedureka'"
      ]
     },
     "execution_count": 39,
     "metadata": {},
     "output_type": "execute_result"
    }
   ],
   "source": [
    "\"hello\" + \"edureka\""
   ]
  },
  {
   "cell_type": "code",
   "execution_count": 5,
   "metadata": {},
   "outputs": [
    {
     "name": "stdout",
     "output_type": "stream",
     "text": [
      "['Welcome', 'to', 'Python']\n",
      "['Python', 'Welcome', 'to']\n",
      "Sorted words are:\n",
      "Python\n",
      "Welcome\n",
      "to\n"
     ]
    }
   ],
   "source": [
    "#accepts a sequence of words as input and prints the words in a sequence after sorting them alphabetically\n",
    "my_str = \"Welcome to Python\"\n",
    "\n",
    "# breakdown the string into a list of words\n",
    "words = my_str.split()\n",
    "print(words)\n",
    "\n",
    "sort_word = sorted(words)\n",
    "\n",
    "print(sort_word)\n",
    "print(\"Sorted words are:\")\n",
    "for i in sort_word:\n",
    "    print(i)"
   ]
  },
  {
   "cell_type": "code",
   "execution_count": 40,
   "metadata": {},
   "outputs": [
    {
     "name": "stdout",
     "output_type": "stream",
     "text": [
      "4\n",
      "1234"
     ]
    }
   ],
   "source": [
    "#Read an integer N.  Without using any string methods, try to print the following: 1,2,3…..N\n",
    "n = int(input())\n",
    "\n",
    "for i in range(n):\n",
    "  print (i+1,end=\"\")"
   ]
  },
  {
   "cell_type": "code",
   "execution_count": 41,
   "metadata": {},
   "outputs": [
    {
     "name": "stdout",
     "output_type": "stream",
     "text": [
      "4\n",
      "  1   1   1   1\n",
      "  2   2   2  10\n",
      "  3   3   3  11\n",
      "  4   4   4 100\n"
     ]
    }
   ],
   "source": [
    "\"\"\"\n",
    "Given an integer, , print the following values for each integer  from  to :\n",
    "\n",
    "Decimal\n",
    "Octal\n",
    "Hexadecimal (capitalized)\n",
    "Binary\n",
    "\n",
    "I/P:2\n",
    "\n",
    "O/P:\n",
    " 1     1     1     1\n",
    " 2     2     2    10\n",
    "\"\"\"\n",
    "\n",
    "\n",
    "n = int(input())\n",
    "width = len('{:b}'.format(n))\n",
    "for i in range(1,n+1):\n",
    "    print(\"{0:{width}d} {0:{width}o} {0:{width}X} {0:{width}b}\".format(i, width=width))"
   ]
  },
  {
   "cell_type": "code",
   "execution_count": 44,
   "metadata": {},
   "outputs": [
    {
     "name": "stdout",
     "output_type": "stream",
     "text": [
      "['chris', 'alan']\n",
      "['Chris']\n",
      "['Chris', 'Alan']\n",
      "Chris Alan\n"
     ]
    }
   ],
   "source": [
    "#Capitalize each 1st word in seq\n",
    "a = 'chris alan'\n",
    "x = a.split(' ')\n",
    "print(x)\n",
    "s = []\n",
    "\n",
    "for i in x:\n",
    "   s.append(str.capitalize(i))\n",
    "   print(s)\n",
    "\n",
    "y = ' '.join(s)\n",
    "print(y)\n",
    "\n"
   ]
  },
  {
   "cell_type": "code",
   "execution_count": 6,
   "metadata": {},
   "outputs": [
    {
     "name": "stdout",
     "output_type": "stream",
     "text": [
      "['2000', '2002', '2004', '2006', '2008', '2020', '2022', '2024', '2026', '2028', '2040', '2042', '2044', '2046', '2048', '2060', '2062', '2064', '2066', '2068', '2080', '2082', '2084', '2086', '2088', '2200', '2202', '2204', '2206', '2208', '2220', '2222', '2224', '2226', '2228', '2240', '2242', '2244', '2246', '2248', '2260', '2262', '2264', '2266', '2268', '2280', '2282', '2284', '2286', '2288', '2400', '2402', '2404', '2406', '2408', '2420', '2422', '2424', '2426', '2428', '2440', '2442', '2444', '2446', '2448', '2460', '2462', '2464', '2466', '2468', '2480', '2482', '2484', '2486', '2488', '2600', '2602', '2604', '2606', '2608', '2620', '2622', '2624', '2626', '2628', '2640', '2642', '2644', '2646', '2648', '2660', '2662', '2664', '2666', '2668', '2680', '2682', '2684', '2686', '2688', '2800', '2802', '2804', '2806', '2808', '2820', '2822', '2824', '2826', '2828', '2840', '2842', '2844', '2846', '2848', '2860', '2862', '2864', '2866', '2868', '2880', '2882', '2884', '2886', '2888']\n",
      "2000,2002,2004,2006,2008,2020,2022,2024,2026,2028,2040,2042,2044,2046,2048,2060,2062,2064,2066,2068,2080,2082,2084,2086,2088,2200,2202,2204,2206,2208,2220,2222,2224,2226,2228,2240,2242,2244,2246,2248,2260,2262,2264,2266,2268,2280,2282,2284,2286,2288,2400,2402,2404,2406,2408,2420,2422,2424,2426,2428,2440,2442,2444,2446,2448,2460,2462,2464,2466,2468,2480,2482,2484,2486,2488,2600,2602,2604,2606,2608,2620,2622,2624,2626,2628,2640,2642,2644,2646,2648,2660,2662,2664,2666,2668,2680,2682,2684,2686,2688,2800,2802,2804,2806,2808,2820,2822,2824,2826,2828,2840,2842,2844,2846,2848,2860,2862,2864,2866,2868,2880,2882,2884,2886,2888\n"
     ]
    }
   ],
   "source": [
    "\"\"\"\n",
    "3 Write a program, whichwill find all the numbers between 1000 and 3000 (both included) such that\n",
    "each digit of a number is an even number\n",
    "The numbers obtained should be printed in a comma separated sequence on a single line.\n",
    "\n",
    " - Hint: In case of input data being supplied to the question, it should be assumed to be a console input.\n",
    " - Divide each digit with 2 and verify is it even or not.\n",
    " \"\"\"\n",
    "values = []\n",
    "\n",
    "for i in range(1000,3001):\n",
    "    i = str(i)  #convert to str, then below conv to int\n",
    "\n",
    "    #Here it passes each digit in number\n",
    "    if (int(i[0])%2 == 0) and (int(i[1])%2 == 0) and (int(i[2])%2 == 0) and (int(i[3])%2 == 0):\n",
    "        values.append(i)\n",
    "    else:\n",
    "        pass\n",
    "    \n",
    "print(values)\n",
    "\n",
    "#This will append/join all values in list with , separated as below\n",
    "print (\",\".join(values))"
   ]
  },
  {
   "cell_type": "markdown",
   "metadata": {},
   "source": [
    "# lambda functions"
   ]
  },
  {
   "cell_type": "code",
   "execution_count": 4,
   "metadata": {},
   "outputs": [
    {
     "name": "stdout",
     "output_type": "stream",
     "text": [
      "     name  age\n",
      "0  prabha   31\n",
      "1  atharv    1\n",
      "2    yogi   32\n",
      "     name         age\n",
      "0  prabha  Thirty one\n",
      "1  atharv         one\n",
      "2    yogi  thirty two\n"
     ]
    }
   ],
   "source": [
    "#Normal map without lambda\n",
    "import pandas as pd\n",
    "data =  { 'name': ['prabha','atharv','yogi'], 'age': [31,1,32]}\n",
    "df = pd.DataFrame(data)\n",
    "print(df)\n",
    "#Replace age by text searches in dictionary for matching key and replaces by its  value \n",
    "data_change = {31:'Thirty one', 1:'one', 32:'thirty two'}\n",
    "df['age'] = df['age'].map(data_change)\n",
    "print(df)"
   ]
  },
  {
   "cell_type": "code",
   "execution_count": 45,
   "metadata": {},
   "outputs": [
    {
     "data": {
      "text/plain": [
       "3"
      ]
     },
     "execution_count": 45,
     "metadata": {},
     "output_type": "execute_result"
    }
   ],
   "source": [
    "# function definition\n",
    "def add(a,b):\n",
    "    return a+b\n",
    "#calling\n",
    "add(1,2)"
   ]
  },
  {
   "cell_type": "code",
   "execution_count": 46,
   "metadata": {},
   "outputs": [
    {
     "data": {
      "text/plain": [
       "3"
      ]
     },
     "execution_count": 46,
     "metadata": {},
     "output_type": "execute_result"
    }
   ],
   "source": [
    "# same function as lambda function\n",
    "(lambda a,b:a+b)(1,2)"
   ]
  },
  {
   "cell_type": "code",
   "execution_count": 47,
   "metadata": {},
   "outputs": [
    {
     "data": {
      "text/plain": [
       "5"
      ]
     },
     "execution_count": 47,
     "metadata": {},
     "output_type": "execute_result"
    }
   ],
   "source": [
    "# how to save lambda function for later use ?\n",
    "my_func = lambda a,b:a+b\n",
    "my_func(2,3)"
   ]
  },
  {
   "cell_type": "code",
   "execution_count": 48,
   "metadata": {},
   "outputs": [
    {
     "data": {
      "text/plain": [
       "[1, 4, 9, 16]"
      ]
     },
     "execution_count": 48,
     "metadata": {},
     "output_type": "execute_result"
    }
   ],
   "source": [
    "# Application of lambda function\n",
    "# Here Map will iterate through each element in list and applies specified funct\n",
    "#1. map(function_obj, iterable)\n",
    "ip = [1,2,3,4]\n",
    "expected_op = [1, 4, 9, 16]\n",
    "# M1: using normal def function we use 3 lines of code.\n",
    "def square(a):\n",
    "    return a**2\n",
    "\n",
    "list(map(square, ip)) #[square(1), square(2), square(3), square(4)]"
   ]
  },
  {
   "cell_type": "code",
   "execution_count": 49,
   "metadata": {},
   "outputs": [
    {
     "data": {
      "text/plain": [
       "[1, 4, 9, 16]"
      ]
     },
     "execution_count": 49,
     "metadata": {},
     "output_type": "execute_result"
    }
   ],
   "source": [
    "# M2: better option is to use lambda function\n",
    "#Here Map will iterate through each element in list\n",
    "ip = [1,2,3,4]\n",
    "list(map(lambda a:a**2, ip))"
   ]
  },
  {
   "cell_type": "code",
   "execution_count": 50,
   "metadata": {},
   "outputs": [
    {
     "data": {
      "text/plain": [
       "[1, 2, 3]"
      ]
     },
     "execution_count": 50,
     "metadata": {},
     "output_type": "execute_result"
    }
   ],
   "source": [
    "# Here Filter function with lambda acts as where clause or filter\n",
    "#Here Map will iterate through each element in list\n",
    "#2. filter(<function_obj>, iterable)\n",
    "\n",
    "ip = [-1, -2, 0, 1, 2, 3]\n",
    "# task: filter only the values greater than 0\n",
    "\n",
    "list(filter(lambda elem: elem > 0, ip))"
   ]
  },
  {
   "cell_type": "code",
   "execution_count": 51,
   "metadata": {},
   "outputs": [
    {
     "data": {
      "text/plain": [
       "15"
      ]
     },
     "execution_count": 51,
     "metadata": {},
     "output_type": "execute_result"
    }
   ],
   "source": [
    "\n",
    "#It takes 1st and 2nd item and does specified operation and then takes previous result and 3rd and performs operation. like way does all\n",
    "# 3. reduce(func_obj, iterable)\n",
    "from functools import reduce\n",
    "ip = [1, 2, 3, 4, 5]\n",
    "#task to do: add all the values of the Iterable\n",
    "\n",
    "reduce((lambda i,j:i+j), ip )"
   ]
  },
  {
   "cell_type": "code",
   "execution_count": 52,
   "metadata": {},
   "outputs": [
    {
     "data": {
      "text/plain": [
       "15"
      ]
     },
     "execution_count": 52,
     "metadata": {},
     "output_type": "execute_result"
    }
   ],
   "source": [
    "sum(ip)"
   ]
  },
  {
   "cell_type": "markdown",
   "metadata": {},
   "source": [
    "# Usage Of function 'APPLY'\n",
    "- 1. With Lambda\n",
    "- 2. With Normal func"
   ]
  },
  {
   "cell_type": "code",
   "execution_count": 7,
   "metadata": {},
   "outputs": [
    {
     "data": {
      "text/plain": [
       "London      20\n",
       "New York    21\n",
       "Helsinki    12\n",
       "dtype: int64"
      ]
     },
     "execution_count": 7,
     "metadata": {},
     "output_type": "execute_result"
    }
   ],
   "source": [
    "import pandas as pd\n",
    "import numpy as np\n",
    "series = pd.Series([20, 21, 12], index=['London', 'New York','Helsinki'])\n",
    "series"
   ]
  },
  {
   "cell_type": "code",
   "execution_count": 8,
   "metadata": {},
   "outputs": [
    {
     "data": {
      "text/plain": [
       "London      400\n",
       "New York    441\n",
       "Helsinki    144\n",
       "dtype: int64"
      ]
     },
     "execution_count": 8,
     "metadata": {},
     "output_type": "execute_result"
    }
   ],
   "source": [
    "series.apply(lambda x: x**2)"
   ]
  },
  {
   "cell_type": "code",
   "execution_count": 9,
   "metadata": {},
   "outputs": [
    {
     "data": {
      "text/plain": [
       "London      even\n",
       "New York     odd\n",
       "Helsinki    even\n",
       "dtype: object"
      ]
     },
     "execution_count": 9,
     "metadata": {},
     "output_type": "execute_result"
    }
   ],
   "source": [
    "#If no in series is even then print even else odd\n",
    "series.apply(lambda x: 'even' if x % 2 == 0 else 'odd')"
   ]
  },
  {
   "cell_type": "code",
   "execution_count": 10,
   "metadata": {},
   "outputs": [
    {
     "data": {
      "text/plain": [
       "London      400\n",
       "New York    441\n",
       "Helsinki    144\n",
       "dtype: int64"
      ]
     },
     "execution_count": 10,
     "metadata": {},
     "output_type": "execute_result"
    }
   ],
   "source": [
    "def square(x):\n",
    "     return x**2\n",
    "series.apply(square)"
   ]
  },
  {
   "cell_type": "code",
   "execution_count": null,
   "metadata": {},
   "outputs": [],
   "source": []
  },
  {
   "cell_type": "code",
   "execution_count": 9,
   "metadata": {},
   "outputs": [
    {
     "name": "stdout",
     "output_type": "stream",
     "text": [
      "{'Digit': 4, 'Letter': 6}\n",
      "Letter: 6\n",
      "Digit: 4\n"
     ]
    }
   ],
   "source": [
    "\"\"\"\n",
    "4. Write a program that accepts a sentence and calculate the number of letters and digits.\n",
    "Suppose if the entered string is: Python0325 Then the output will be:\n",
    "        LETTERS: 6\n",
    "        DIGITS:4\n",
    "        Hint: Use built-in functions of string.\n",
    "        \"\"\"\n",
    "str1 = 'Python0325'\n",
    "\n",
    "final_list = {'Digit' : 0 , 'Letter': 0}\n",
    "\n",
    "for i in str1:\n",
    "    if i.isdigit():\n",
    "        final_list['Digit']+=1\n",
    "    elif i.isalpha():\n",
    "        final_list['Letter']+=1\n",
    "\n",
    "print(final_list)\n",
    "\n",
    "print(\"Letter:\" , final_list['Letter'] )\n",
    "print(\"Digit:\" , final_list['Digit'] )"
   ]
  },
  {
   "cell_type": "code",
   "execution_count": 11,
   "metadata": {},
   "outputs": [
    {
     "name": "stdout",
     "output_type": "stream",
     "text": [
      "<reversed object at 0x0000021520596C18>\n",
      "It is palindrome\n",
      "Pass a string to check palindrome in '': 'ASDF'\n",
      "Passed value:  'ASDF' is not a palindrome\n"
     ]
    }
   ],
   "source": [
    "\"\"\"\n",
    "5. Design a code which will find the given number is Palindrome number or not.\n",
    "\"\"\"\n",
    "my_str = 'aIbohPhoBiA'\n",
    "\n",
    "# make it suitable for caseless comparison\n",
    "my_str = my_str.casefold()\n",
    "\n",
    "# reverse the string\n",
    "rev_str = reversed(my_str)\n",
    "print(rev_str)\n",
    "\n",
    "# check if the string is equal to its reverse\n",
    "#comapre by changing it to list\n",
    "if list(my_str) == list(rev_str):\n",
    "   print(\"It is palindrome\")\n",
    "else:\n",
    "   print(\"It is not palindrome\")\n",
    "\n",
    "\n",
    "#-------------------OR ----------------\n",
    "str1 = eval(input(\"Pass a string to check palindrome in '': \"))\n",
    "\n",
    "#Reverse the string\n",
    "reverse_str = str1[::-1]\n",
    "\n",
    "if str1 == reverse_str:\n",
    "    print(\"Passed value:  '%s' is palindrome\" %str1)\n",
    "else:\n",
    "    print(\"Passed value:  '%s' is not a palindrome\" %str1)"
   ]
  },
  {
   "cell_type": "code",
   "execution_count": 12,
   "metadata": {},
   "outputs": [
    {
     "name": "stdout",
     "output_type": "stream",
     "text": [
      "Pass the number for factorial:134\n",
      " 1 is factor of 134 which is odd no\n",
      " 2 is factor of 134 which is even no\n",
      " 67 is factor of 134 which is odd no\n",
      " 134 is factor of 134 which is even no\n"
     ]
    }
   ],
   "source": [
    "\"\"\"\n",
    "Module 2_CS1_1: Write a program which will find factors of given number and find whether the factor is even or odd.\n",
    "NOTE: its not factorial, its factor of given no:\n",
    "\n",
    "if no 24, then its fact are 1,2,3,4,6,8,12,24\n",
    "\"\"\"\n",
    "number = eval(input(\"Pass the number for factorial:\"))\n",
    "\n",
    "for i in range(1,number+1):\n",
    "   \n",
    "    if number % i == 0:\n",
    "        \n",
    "        if i % 2 == 0:\n",
    "            print(\" %s is factor of %s which is even no\" %(i,number) )\n",
    "        else:\n",
    "            print(\" %s is factor of %s which is odd no\" %(i,number) )\n"
   ]
  },
  {
   "cell_type": "markdown",
   "metadata": {},
   "source": [
    "# Global and Local variable\n",
    "- Global var can be accessed in the complete python file.\n",
    "- local var can only be accessed in the local domain where it was created\n",
    "  ex within function\n",
    "- To access a global variable we don't need the 'global'keyword, but to modify a global variable within a function would require a 'global' keyword otherwise if global keyword is missing withing the function and you are trying to modify a global variable there then it won't modify a global var instead it would create a local variable with the same name as global variable."
   ]
  },
  {
   "cell_type": "code",
   "execution_count": 53,
   "metadata": {},
   "outputs": [
    {
     "name": "stdout",
     "output_type": "stream",
     "text": [
      "Inside function Global var:100\n",
      "Inside function local var:200\n",
      "outside the function Global var:100\n"
     ]
    }
   ],
   "source": [
    "a = 100   # global variable\n",
    "\n",
    "def func():\n",
    "    b = 200  # local variable\n",
    "    print(\"Inside function Global var:%s\"% a)\n",
    "    print(\"Inside function local var:%s\"% b)\n",
    "\n",
    "func()\n",
    "print(\"outside the function Global var:%s\"% a)\n",
    "#print(\"outside function local var:%s\"%b)  # will throw en exception"
   ]
  },
  {
   "cell_type": "code",
   "execution_count": 54,
   "metadata": {},
   "outputs": [
    {
     "name": "stdout",
     "output_type": "stream",
     "text": [
      "inside function 200\n",
      "outside function 12\n",
      "inside function 200\n",
      "outside function 200\n"
     ]
    }
   ],
   "source": [
    "# modifying the global variable within function\n",
    "\"\"\"\n",
    "how to modify a global var inside a function\n",
    "Ans: Then you have to put a global <var_name> inside the function\n",
    "otherwise it would create a local var instead.\n",
    "\n",
    "\"\"\"\n",
    "a = 12  # global\n",
    "def func():\n",
    "    a = 200\n",
    "    print(\"inside function\",a)  #1\n",
    "\n",
    "func()\n",
    "print(\"outside function\",a)  #2\n",
    "\n",
    "\n",
    "#######################################\n",
    "# right way to modify a global var within a func\n",
    "a = 12  # global\n",
    "def func():\n",
    "    global a\n",
    "    a = 200\n",
    "    print(\"inside function\",a)  #1\n",
    "\n",
    "func()\n",
    "print(\"outside function\",a)  #2"
   ]
  },
  {
   "cell_type": "markdown",
   "metadata": {},
   "source": [
    "# keyword arguments"
   ]
  },
  {
   "cell_type": "code",
   "execution_count": 55,
   "metadata": {},
   "outputs": [
    {
     "name": "stdout",
     "output_type": "stream",
     "text": [
      "23\n",
      "Ravi\n",
      "M\n",
      "##########\n",
      "24\n",
      "Shyam\n",
      "M\n"
     ]
    }
   ],
   "source": [
    "def func(age, name, gender):\n",
    "    print(age)\n",
    "    print(name)\n",
    "    print(gender)\n",
    "\n",
    "# required positional argument way to calling the function\n",
    "func(23, 'Ravi', 'M')\n",
    "print(\"#\"*10)\n",
    "# keyword args way of calling the function\n",
    "func(name='Shyam', gender='M',age=24)\n"
   ]
  },
  {
   "cell_type": "markdown",
   "metadata": {},
   "source": [
    "## default args"
   ]
  },
  {
   "cell_type": "code",
   "execution_count": 56,
   "metadata": {},
   "outputs": [
    {
     "ename": "TypeError",
     "evalue": "add() missing 1 required positional argument: 'c'",
     "output_type": "error",
     "traceback": [
      "\u001b[1;31m---------------------------------------------------------------------------\u001b[0m",
      "\u001b[1;31mTypeError\u001b[0m                                 Traceback (most recent call last)",
      "\u001b[1;32m<ipython-input-56-516b4d02901e>\u001b[0m in \u001b[0;36m<module>\u001b[1;34m\u001b[0m\n\u001b[0;32m      5\u001b[0m \u001b[1;33m\u001b[0m\u001b[0m\n\u001b[0;32m      6\u001b[0m \u001b[1;31m# other team\u001b[0m\u001b[1;33m\u001b[0m\u001b[1;33m\u001b[0m\u001b[1;33m\u001b[0m\u001b[0m\n\u001b[1;32m----> 7\u001b[1;33m \u001b[0madd\u001b[0m\u001b[1;33m(\u001b[0m\u001b[1;36m1\u001b[0m\u001b[1;33m,\u001b[0m\u001b[1;36m2\u001b[0m\u001b[1;33m)\u001b[0m\u001b[1;33m\u001b[0m\u001b[1;33m\u001b[0m\u001b[0m\n\u001b[0m\u001b[0;32m      8\u001b[0m \u001b[1;33m\u001b[0m\u001b[0m\n\u001b[0;32m      9\u001b[0m \u001b[1;31m# new team asked\u001b[0m\u001b[1;33m\u001b[0m\u001b[1;33m\u001b[0m\u001b[1;33m\u001b[0m\u001b[0m\n",
      "\u001b[1;31mTypeError\u001b[0m: add() missing 1 required positional argument: 'c'"
     ]
    }
   ],
   "source": [
    "# API\n",
    "def add(a,b,c):\n",
    "    print(a+b+c)\n",
    "\n",
    "    \n",
    "# other team\n",
    "add(1,2)\n",
    "\n",
    "# new team asked\n",
    "add(1,2,3)"
   ]
  },
  {
   "cell_type": "code",
   "execution_count": 57,
   "metadata": {},
   "outputs": [
    {
     "name": "stdout",
     "output_type": "stream",
     "text": [
      "3\n",
      "6\n"
     ]
    }
   ],
   "source": [
    "# lets add a default args\n",
    "# API\n",
    "def add(a,b,c=0):\n",
    "    print(a+b+c)\n",
    "\n",
    "    \n",
    "# other team\n",
    "add(1,2)\n",
    "\n",
    "# new team asked\n",
    "add(1,2,3)"
   ]
  },
  {
   "cell_type": "code",
   "execution_count": 5,
   "metadata": {},
   "outputs": [
    {
     "name": "stdout",
     "output_type": "stream",
     "text": [
      "positional args as tuple:  ()\n",
      "Keyword args as dictionary:  {}\n",
      "sum of the pased aruments is: 0\n",
      "##########\n",
      "positional args as tuple:  (1, 2)\n",
      "Keyword args as dictionary:  {}\n",
      "sum of the pased aruments is: 3\n",
      "##########\n",
      "positional args as tuple:  (3, 4)\n",
      "Keyword args as dictionary:  {'a': 100, 'b': 200}\n",
      "sum of the pased aruments is: 307\n",
      "##########\n",
      "positional args as tuple:  ()\n",
      "Keyword args as dictionary:  {'c': 2, 'd': 45}\n",
      "sum of the pased aruments is: 47\n",
      "##########\n"
     ]
    }
   ],
   "source": [
    "\"\"\"\n",
    "function that can take any type(positional or keyword) and any number\n",
    "of the args\n",
    "\"\"\"\n",
    "def add(*args, **kwargs):\n",
    "    print(\"positional args as tuple: \", args)\n",
    "    print(\"Keyword args as dictionary: \", kwargs)\n",
    "    sum = 0\n",
    "    for elem in args:\n",
    "        sum += elem\n",
    "    \n",
    "    for elem in kwargs.values():\n",
    "        sum += elem\n",
    "    print(\"sum of the pased aruments is:\",sum)\n",
    "    print(\"#\"*10)\n",
    "\n",
    "add()\n",
    "add(1,2)\n",
    "add(3, 4, a=100, b=200)\n",
    "add(c=2, d=45)\n",
    "#add(a=12, 1,2, 3)  # keyword args can't come before positional args\n",
    "    \n",
    "    "
   ]
  },
  {
   "cell_type": "markdown",
   "metadata": {},
   "source": [
    "#  Key issues Build a system where when user enters Reference ID it is encrypted, so that hackers cannot view the mapping of Reference ID and finger prin\n",
    "    Approach to SolveYou have to use fundamentals of Python taught in module \n",
    "\n",
    "    1.Read the input from command line –Reference ID\n",
    "    2.Check for validity –it should be 12 digits and allows on number andalphabet\n",
    "    3.Encrypt the Reference ID and print it for referenceEnhancements for code\n",
    "    \n",
    "        You can try these enhancements in code1.\n",
    "        1.Allow some special characters in ReferenceID\n",
    "        2.Give the option for decryption to user \n"
   ]
  },
  {
   "cell_type": "code",
   "execution_count": 15,
   "metadata": {},
   "outputs": [
    {
     "name": "stdout",
     "output_type": "stream",
     "text": [
      "b'YWJjMTIzYWJjNDU2'\n",
      "b'abc123abc456'\n",
      "<class 'bytes'>\n",
      "Input the reference id: it should be 12 digits and allows on number and alphabet and special character #$% : 'sdf'\n",
      "Enter the correct reference id, it should be 12 character with alpha numeric\n"
     ]
    }
   ],
   "source": [
    "ref_id = 'abc123abc456'\n",
    "import base64\n",
    "\n",
    "ref_id_encrypt = base64.b64encode(ref_id.encode())\n",
    "print(ref_id_encrypt)\n",
    "\n",
    "\n",
    "ref_id_decry = base64.b64decode(ref_id_encrypt.decode())\n",
    "print(ref_id_decry)\n",
    "\n",
    "print((type(ref_id_encrypt)))\n",
    "\n",
    "#####Another way, but not correct\n",
    "Reference_id = eval(input(\"Input the reference id: it should be 12 digits and allows on number and alphabet and special character #$% : \"))\n",
    "#Validate reference id value\n",
    "\n",
    "import re\n",
    "\n",
    "if len(Reference_id) !=12 :\n",
    "    print(\"Enter the correct reference id, it should be 12 character with alpha numeric\")\n",
    "\n",
    "elif Reference_id.isalpha  and Reference_id.isdigit and re.search(\"[$#%]\",Reference_id):\n",
    "    print(\"Entered reference id is correct and matching to condition\")\n",
    "    \n",
    "    #Here encrypt the Reference_id\n",
    "    encrypt_Reference_id = Reference_id.encode('utf-8')\n",
    "    print(\"Encrypted reference id is %s\"  %encrypt_Reference_id)\n",
    "    \n",
    "    #Give the option for decryption to user \n",
    "\n",
    "    usr_decrpt_ref_id = encrypt_Reference_id.decode('utf-8')\n",
    "    print(\"Decrypted reference id is %s\"  %usr_decrpt_ref_id)\n",
    "    \n",
    "    "
   ]
  },
  {
   "cell_type": "markdown",
   "metadata": {},
   "source": [
    "# OOP"
   ]
  },
  {
   "cell_type": "markdown",
   "metadata": {},
   "source": [
    "## __init__ constructor\n",
    "- init method\n",
    "- self(not a keyword)"
   ]
  },
  {
   "cell_type": "code",
   "execution_count": 6,
   "metadata": {},
   "outputs": [
    {
     "name": "stdout",
     "output_type": "stream",
     "text": [
      "INIT called\n",
      "Ankush\n",
      "123\n"
     ]
    }
   ],
   "source": [
    "d\n",
    "class EdurekaPythonUser:\n",
    "    # this is closest thing to a constructor\n",
    "    def __init__(self, a,b,c):\n",
    "        print(\"INIT called\")\n",
    "        self.name = a  # instance/object attributes , userdefined\n",
    "        self.course_id = b\n",
    "        self.batch_id = c\n",
    "\n",
    "    def show_name(self):\n",
    "        print(self.name)\n",
    "\n",
    "    def show_sthg(self):\n",
    "        print(self.course_id)\n",
    "\n",
    "####################\n",
    "# instantiation/creation of an object\n",
    "# user 1\n",
    "ankush_obj = EdurekaPythonUser(\"Ankush\", 123, 567)\n",
    "# internally ankush_obj.__init__(ankush_obj, \"Ankush\", 123, 567)\n",
    "\n",
    "# how to access an attribute defined in the init method\n",
    "# Ans: If you are outside the class then use the object you have created\n",
    "#...but if you inside the class then use self to access it\n",
    "# Outside: obj.<name_attr>\n",
    "# inside: self.<name_attr>\n",
    "print(ankush_obj.name)\n",
    "print(ankush_obj.course_id)\n"
   ]
  },
  {
   "cell_type": "code",
   "execution_count": 7,
   "metadata": {},
   "outputs": [
    {
     "name": "stdout",
     "output_type": "stream",
     "text": [
      "INIT called\n",
      "Angad\n"
     ]
    }
   ],
   "source": [
    "\"\"\"you can create as many objects as you want and every object will\n",
    "contain all the attributes defined in the __init__ method\n",
    "\"\"\"\n",
    "angad_obj = EdurekaPythonUser(\"Angad\", 890, 767)\n",
    "print(angad_obj.name)"
   ]
  },
  {
   "cell_type": "code",
   "execution_count": 8,
   "metadata": {},
   "outputs": [
    {
     "name": "stdout",
     "output_type": "stream",
     "text": [
      "Angad\n",
      "890\n"
     ]
    }
   ],
   "source": [
    "# calling method of that class\n",
    "angad_obj.show_name()\n",
    "angad_obj.show_sthg()"
   ]
  },
  {
   "cell_type": "markdown",
   "metadata": {},
   "source": [
    "## Built-in class attributes\n",
    "- owned by the class (not objects)\n",
    "- must be accessed via class name but can be access via both class name or object of that class"
   ]
  },
  {
   "cell_type": "code",
   "execution_count": 9,
   "metadata": {},
   "outputs": [
    {
     "data": {
      "text/plain": [
       "mappingproxy({'__module__': '__main__',\n",
       "              'a': 100,\n",
       "              'hello': <function __main__.Edureka.hello(self)>,\n",
       "              '__dict__': <attribute '__dict__' of 'Edureka' objects>,\n",
       "              '__weakref__': <attribute '__weakref__' of 'Edureka' objects>,\n",
       "              '__doc__': None})"
      ]
     },
     "execution_count": 9,
     "metadata": {},
     "output_type": "execute_result"
    }
   ],
   "source": [
    "#1 .__dict__\n",
    "class Edureka:\n",
    "    a = 100\n",
    "    def hello(self):\n",
    "        print(\"hello\")\n",
    "\n",
    "Edureka.__dict__"
   ]
  },
  {
   "cell_type": "code",
   "execution_count": 10,
   "metadata": {},
   "outputs": [
    {
     "name": "stdout",
     "output_type": "stream",
     "text": [
      "\n",
      "    this is a edureka class\n",
      "    \n"
     ]
    }
   ],
   "source": [
    "#2 .__doc__\n",
    "class Edureka:\n",
    "    \"\"\"\n",
    "    this is a edureka class\n",
    "    \"\"\"\n",
    "    a = 100\n",
    "    def hello(self):\n",
    "        print(\"hello\")\n",
    "#####\n",
    "print(Edureka.__doc__)\n"
   ]
  },
  {
   "cell_type": "code",
   "execution_count": 11,
   "metadata": {},
   "outputs": [
    {
     "data": {
      "text/plain": [
       "'Edureka'"
      ]
     },
     "execution_count": 11,
     "metadata": {},
     "output_type": "execute_result"
    }
   ],
   "source": [
    "#3. __name__\n",
    "Edureka.__name__"
   ]
  },
  {
   "cell_type": "code",
   "execution_count": 12,
   "metadata": {},
   "outputs": [
    {
     "data": {
      "text/plain": [
       "'__main__'"
      ]
     },
     "execution_count": 12,
     "metadata": {},
     "output_type": "execute_result"
    }
   ],
   "source": [
    "#4. __module__\n",
    "Edureka.__module__"
   ]
  },
  {
   "cell_type": "code",
   "execution_count": 13,
   "metadata": {},
   "outputs": [
    {
     "data": {
      "text/plain": [
       "(object,)"
      ]
     },
     "execution_count": 13,
     "metadata": {},
     "output_type": "execute_result"
    }
   ],
   "source": [
    "#5. __bases__\n",
    "Edureka.__bases__"
   ]
  },
  {
   "cell_type": "code",
   "execution_count": 14,
   "metadata": {},
   "outputs": [
    {
     "name": "stdout",
     "output_type": "stream",
     "text": [
      "I am an attribute\n"
     ]
    },
    {
     "ename": "AttributeError",
     "evalue": "'Edureka' object has no attribute 'name'",
     "output_type": "error",
     "traceback": [
      "\u001b[1;31m---------------------------------------------------------------------------\u001b[0m",
      "\u001b[1;31mAttributeError\u001b[0m                            Traceback (most recent call last)",
      "\u001b[1;32m<ipython-input-14-301b4261cc5a>\u001b[0m in \u001b[0;36m<module>\u001b[1;34m\u001b[0m\n\u001b[0;32m     12\u001b[0m \u001b[1;33m\u001b[0m\u001b[0m\n\u001b[0;32m     13\u001b[0m \u001b[0mobj2\u001b[0m \u001b[1;33m=\u001b[0m \u001b[0mEdureka\u001b[0m\u001b[1;33m(\u001b[0m\u001b[1;33m)\u001b[0m\u001b[1;33m\u001b[0m\u001b[1;33m\u001b[0m\u001b[0m\n\u001b[1;32m---> 14\u001b[1;33m \u001b[0mobj2\u001b[0m\u001b[1;33m.\u001b[0m\u001b[0mname\u001b[0m\u001b[1;33m\u001b[0m\u001b[1;33m\u001b[0m\u001b[0m\n\u001b[0m",
      "\u001b[1;31mAttributeError\u001b[0m: 'Edureka' object has no attribute 'name'"
     ]
    }
   ],
   "source": [
    "# Create an attribute outside the __init__ method\n",
    "# however creating an attribute outside init method is not a good programming\n",
    "# ... practice.\n",
    "class Edureka:\n",
    "    def hello(self):\n",
    "        print(\"hello !!!\")\n",
    "###\n",
    "obj1 = Edureka()\n",
    "#creating an attribute for only object 'obj1'\n",
    "obj1.name = \"I am an attribute\"\n",
    "print(obj1.name)\n",
    "\n",
    "obj2 = Edureka()\n",
    "obj2.name"
   ]
  },
  {
   "cell_type": "markdown",
   "metadata": {},
   "source": [
    "## Public, private and protected attributes\n",
    "- within the class every attribute can be accessed freely\n"
   ]
  },
  {
   "cell_type": "code",
   "execution_count": 15,
   "metadata": {},
   "outputs": [
    {
     "data": {
      "text/plain": [
       "'public attribute are without underscores _'"
      ]
     },
     "execution_count": 15,
     "metadata": {},
     "output_type": "execute_result"
    }
   ],
   "source": [
    "class Edureka:\n",
    "    def __init__(self):\n",
    "        self.pub = \"public attribute are without underscores _\"\n",
    "        self._prot = \"protected attr because single _ is there\"\n",
    "        self.__pri = \"private attr because double __ are there\"\n",
    "    \n",
    "    def add(self, val_str):\n",
    "        print(val_str + self._prot)\n",
    "    \n",
    "    def hello(self, val):\n",
    "        print(val + self.__pri)\n",
    "####\n",
    "obj = Edureka()\n",
    "#1. public\n",
    "obj.pub"
   ]
  },
  {
   "cell_type": "code",
   "execution_count": 16,
   "metadata": {},
   "outputs": [
    {
     "data": {
      "text/plain": [
       "'protected attr because single _ is there'"
      ]
     },
     "execution_count": 16,
     "metadata": {},
     "output_type": "execute_result"
    }
   ],
   "source": [
    "#2. protected attr\n",
    "obj._prot"
   ]
  },
  {
   "cell_type": "code",
   "execution_count": 17,
   "metadata": {},
   "outputs": [
    {
     "ename": "AttributeError",
     "evalue": "'Edureka' object has no attribute '__pri'",
     "output_type": "error",
     "traceback": [
      "\u001b[1;31m---------------------------------------------------------------------------\u001b[0m",
      "\u001b[1;31mAttributeError\u001b[0m                            Traceback (most recent call last)",
      "\u001b[1;32m<ipython-input-17-b4a667be5517>\u001b[0m in \u001b[0;36m<module>\u001b[1;34m\u001b[0m\n\u001b[0;32m      1\u001b[0m \u001b[1;31m#3. private attr\u001b[0m\u001b[1;33m\u001b[0m\u001b[1;33m\u001b[0m\u001b[1;33m\u001b[0m\u001b[0m\n\u001b[1;32m----> 2\u001b[1;33m \u001b[0mobj\u001b[0m\u001b[1;33m.\u001b[0m\u001b[0m__pri\u001b[0m\u001b[1;33m\u001b[0m\u001b[1;33m\u001b[0m\u001b[0m\n\u001b[0m",
      "\u001b[1;31mAttributeError\u001b[0m: 'Edureka' object has no attribute '__pri'"
     ]
    }
   ],
   "source": [
    "#3. private attr\n",
    "obj.__pri"
   ]
  },
  {
   "cell_type": "code",
   "execution_count": 18,
   "metadata": {},
   "outputs": [
    {
     "data": {
      "text/plain": [
       "'private attr because double __ are there'"
      ]
     },
     "execution_count": 18,
     "metadata": {},
     "output_type": "execute_result"
    }
   ],
   "source": [
    "# you still can access private attrs\n",
    "# name mangling\n",
    "obj._Edureka__pri"
   ]
  },
  {
   "cell_type": "code",
   "execution_count": 25,
   "metadata": {},
   "outputs": [
    {
     "name": "stdout",
     "output_type": "stream",
     "text": [
      "public method\n",
      "Private method\n"
     ]
    }
   ],
   "source": [
    "class Edureka:\n",
    "    def method(self):\n",
    "        print(\"public method\")\n",
    "\n",
    "    def __private_my_method(self):\n",
    "        print(\"Private method\")\n",
    "\n",
    "    def method2(self):\n",
    "        self.__private_my_method()\n",
    "        print(\"HELLO\")\n",
    "\n",
    "### client code  #\n",
    "obj = Edureka() # it would call init method\n",
    "obj.method()\n",
    "\n",
    "#obj.__private_my_method()\n",
    "# name mangling\n",
    "obj._Edureka__private_my_method()\n",
    "\n",
    "\n"
   ]
  },
  {
   "cell_type": "markdown",
   "metadata": {},
   "source": [
    "## class variable and Instance variable\n",
    "- instance variable would be having multiple copies, each copy for each instance, but class variable would be having only one copy"
   ]
  },
  {
   "cell_type": "code",
   "execution_count": 28,
   "metadata": {},
   "outputs": [
    {
     "name": "stdout",
     "output_type": "stream",
     "text": [
      "Ravi singh\n",
      "Shyam sundar\n",
      "class variable\n",
      "class variable\n",
      "class variable\n"
     ]
    }
   ],
   "source": [
    "# any attribute starting with self is an instance/object attr\n",
    "class Edureka:\n",
    "    a = \"class variable\"   # can be accessed via class or obj\n",
    "    def __init__(self, n):\n",
    "        self.name = n  # name is an instance/object attr\n",
    "        self.dept = \"Data science\" #\n",
    "###\n",
    "ravi = Edureka(\"Ravi singh\")\n",
    "print(ravi.name)\n",
    "\n",
    "shyam = Edureka(\"Shyam sundar\")\n",
    "print(shyam.name)\n",
    "\n",
    "# class variable can be accessed via class name(preferred) or object\n",
    "print(Edureka.a) # always use class name\n",
    "print(ravi.a) # not preferred\n",
    "print(shyam.a)\n",
    "\n",
    "#class variable can be modified via class name only"
   ]
  },
  {
   "cell_type": "code",
   "execution_count": 33,
   "metadata": {},
   "outputs": [
    {
     "name": "stdout",
     "output_type": "stream",
     "text": [
      "hello\n",
      "object is going to be deleted\n"
     ]
    }
   ],
   "source": [
    "class Edureka:\n",
    "    def __init__(self):\n",
    "        print(\"hello\")\n",
    "    \n",
    "    def __del__(self):\n",
    "        print(\"object is going to be deleted\")\n",
    "#########        \n",
    "obj = Edureka()\n",
    "#del(obj)"
   ]
  },
  {
   "cell_type": "code",
   "execution_count": null,
   "metadata": {},
   "outputs": [],
   "source": []
  }
 ],
 "metadata": {
  "kernelspec": {
   "display_name": "Python 3",
   "language": "python",
   "name": "python3"
  },
  "language_info": {
   "codemirror_mode": {
    "name": "ipython",
    "version": 3
   },
   "file_extension": ".py",
   "mimetype": "text/x-python",
   "name": "python",
   "nbconvert_exporter": "python",
   "pygments_lexer": "ipython3",
   "version": "3.7.1"
  }
 },
 "nbformat": 4,
 "nbformat_minor": 2
}
