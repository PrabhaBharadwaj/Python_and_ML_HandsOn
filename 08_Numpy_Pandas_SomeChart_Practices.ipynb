{
 "cells": [
  {
   "cell_type": "markdown",
   "metadata": {},
   "source": [
    "# MODULE 4 CASE STUDY 1 "
   ]
  },
  {
   "cell_type": "markdown",
   "metadata": {},
   "source": [
    "# 1. Extract data from the givenSalaryGender CSV file and store the data from each column in a separate NumPy array"
   ]
  },
  {
   "cell_type": "code",
   "execution_count": 2,
   "metadata": {},
   "outputs": [],
   "source": [
    "import numpy as np\n",
    "import pandas as pd\n",
    "#We cant extract csv by np, so used pd, no need skiprows, in pd it takes 1st col as column name\n",
    "\n",
    "SalaryGende_data = pd.read_csv(r\"..\\Dataset\\SalaryGender.csv\")"
   ]
  },
  {
   "cell_type": "code",
   "execution_count": 5,
   "metadata": {},
   "outputs": [
    {
     "data": {
      "text/html": [
       "<div>\n",
       "<style scoped>\n",
       "    .dataframe tbody tr th:only-of-type {\n",
       "        vertical-align: middle;\n",
       "    }\n",
       "\n",
       "    .dataframe tbody tr th {\n",
       "        vertical-align: top;\n",
       "    }\n",
       "\n",
       "    .dataframe thead th {\n",
       "        text-align: right;\n",
       "    }\n",
       "</style>\n",
       "<table border=\"1\" class=\"dataframe\">\n",
       "  <thead>\n",
       "    <tr style=\"text-align: right;\">\n",
       "      <th></th>\n",
       "      <th>Salary</th>\n",
       "      <th>Gender</th>\n",
       "      <th>Age</th>\n",
       "      <th>PhD</th>\n",
       "    </tr>\n",
       "  </thead>\n",
       "  <tbody>\n",
       "    <tr>\n",
       "      <th>0</th>\n",
       "      <td>140.0</td>\n",
       "      <td>1</td>\n",
       "      <td>47</td>\n",
       "      <td>1</td>\n",
       "    </tr>\n",
       "    <tr>\n",
       "      <th>1</th>\n",
       "      <td>30.0</td>\n",
       "      <td>0</td>\n",
       "      <td>65</td>\n",
       "      <td>1</td>\n",
       "    </tr>\n",
       "    <tr>\n",
       "      <th>2</th>\n",
       "      <td>35.1</td>\n",
       "      <td>0</td>\n",
       "      <td>56</td>\n",
       "      <td>0</td>\n",
       "    </tr>\n",
       "    <tr>\n",
       "      <th>3</th>\n",
       "      <td>30.0</td>\n",
       "      <td>1</td>\n",
       "      <td>23</td>\n",
       "      <td>0</td>\n",
       "    </tr>\n",
       "    <tr>\n",
       "      <th>4</th>\n",
       "      <td>80.0</td>\n",
       "      <td>0</td>\n",
       "      <td>53</td>\n",
       "      <td>1</td>\n",
       "    </tr>\n",
       "  </tbody>\n",
       "</table>\n",
       "</div>"
      ],
      "text/plain": [
       "   Salary  Gender  Age  PhD\n",
       "0   140.0       1   47    1\n",
       "1    30.0       0   65    1\n",
       "2    35.1       0   56    0\n",
       "3    30.0       1   23    0\n",
       "4    80.0       0   53    1"
      ]
     },
     "execution_count": 5,
     "metadata": {},
     "output_type": "execute_result"
    }
   ],
   "source": [
    "SalaryGende_data.head()"
   ]
  },
  {
   "cell_type": "code",
   "execution_count": 6,
   "metadata": {},
   "outputs": [
    {
     "name": "stdout",
     "output_type": "stream",
     "text": [
      "Salary array:\n",
      "[[140.    30.    35.1   30.    80.    30.    60.    31.1  125.    51.\n",
      "    3.    46.   150.     3.   130.    15.   130.    84.   190.    74.\n",
      "   73.    10.    50.     7.     9.5   15.2   28.6   20.    72.    81.\n",
      "  100.    90.    90.    35.    30.    25.    52.     9.    63.    72.\n",
      "   16.    92.   106.     2.5    9.    32.    32.    55.    52.    28.\n",
      "   20.    14.7   22.3   34.8   84.    19.   160.    65.    55.     4.6\n",
      "  102.    20.    62.    55.    45.6   40.    24.    35.    48.    20.\n",
      "   40.7   15.     0.25 152.    39.8   12.    30.   120.     1.7   36.\n",
      "   96.    38.    90.     9.    25.8   22.    38.8   72.    89.    41.\n",
      "   89.    25.    52.   115.    66.    18.6  152.     1.8   35.     4.  ]]\n",
      "##########\n",
      "Gender array:\n",
      "[[1 0 0 1 0 0 1 0 1 1 1 1 1 1 1 0 1 0 1 1 0 0 0 0 0 1 1 0 0 1 0 0 0 1 0 1\n",
      "  0 0 1 1 1 0 1 1 0 0 0 1 1 0 0 0 1 0 0 1 1 0 0 1 1 1 0 1 1 0 0 1 0 0 0 1\n",
      "  0 1 0 0 1 1 1 1 1 0 1 1 0 0 0 1 1 0 1 0 1 0 0 1 1 1 0 0]]\n",
      "##########\n",
      "Age array:\n",
      "[[47 65 56 23 53 27 53 30 44 63 22 59 60 28 65 25 65 47 66 45 46 24 60 63\n",
      "  27 66 36 30 51 65 45 52 54 30 52 26 49 22 34 60 28 58 77 67 27 48 45 49\n",
      "  36 65 32 49 67 22 49 43 61 43 52 51 66 29 62 56 61 56 41 24 60 43 57 23\n",
      "  53 71 20 27 69 58 37 32 33 32 60 71 30 62 54 42 62 51 71 29 55 54 55 26\n",
      "  56 28 44 24]]\n",
      "##########\n",
      "PhD array:\n",
      "[[1 1 0 0 1 0 0 0 1 1 0 0 1 0 0 0 0 1 1 1 0 0 0 0 0 1 1 0 1 1 1 1 1 0 0 0\n",
      "  0 0 1 0 0 1 1 0 0 1 0 1 0 1 0 0 0 0 1 0 1 1 0 0 1 0 0 1 0 0 0 0 0 0 0 0\n",
      "  0 1 0 0 1 1 0 1 1 1 0 0 0 0 0 1 0 1 1 0 1 0 1 0 1 0 0 0]]\n"
     ]
    }
   ],
   "source": [
    "#above read only will converts data to dataframe, so no need this below 1st line\n",
    "SalaryGende_df = pd.DataFrame(SalaryGende_data)\n",
    "#print(SalaryGende_df)\n",
    "salary = SalaryGende_df['Salary']\n",
    "#print(salary)\n",
    "#use () inside give varible in []\n",
    "salary_arry = np.array([salary])\n",
    "print(\"Salary array:\")\n",
    "print(salary_arry)\n",
    "\n",
    "print('#'*10)\n",
    "gender = SalaryGende_df['Gender']\n",
    "gender_arry = np.array([gender])\n",
    "print(\"Gender array:\")\n",
    "print(gender_arry)\n",
    "\n",
    "print('#'*10)\n",
    "age = SalaryGende_df['Age']\n",
    "age_arry = np.array([age])\n",
    "print(\"Age array:\")\n",
    "print(age_arry)\n",
    "\n",
    "print('#'*10)\n",
    "PhD = SalaryGende_df['PhD']\n",
    "PhD_arry = np.array([PhD])\n",
    "print(\"PhD array:\")\n",
    "print(PhD_arry)"
   ]
  },
  {
   "cell_type": "markdown",
   "metadata": {},
   "source": [
    "# 2.Find:1. The number of men with a PhD2. The number of women with a PhD"
   ]
  },
  {
   "cell_type": "code",
   "execution_count": 7,
   "metadata": {},
   "outputs": [
    {
     "data": {
      "text/html": [
       "<div>\n",
       "<style scoped>\n",
       "    .dataframe tbody tr th:only-of-type {\n",
       "        vertical-align: middle;\n",
       "    }\n",
       "\n",
       "    .dataframe tbody tr th {\n",
       "        vertical-align: top;\n",
       "    }\n",
       "\n",
       "    .dataframe thead th {\n",
       "        text-align: right;\n",
       "    }\n",
       "</style>\n",
       "<table border=\"1\" class=\"dataframe\">\n",
       "  <thead>\n",
       "    <tr style=\"text-align: right;\">\n",
       "      <th></th>\n",
       "      <th>Salary</th>\n",
       "      <th>Gender</th>\n",
       "      <th>Age</th>\n",
       "      <th>PhD</th>\n",
       "    </tr>\n",
       "  </thead>\n",
       "  <tbody>\n",
       "    <tr>\n",
       "      <th>0</th>\n",
       "      <td>140.0</td>\n",
       "      <td>1</td>\n",
       "      <td>47</td>\n",
       "      <td>1</td>\n",
       "    </tr>\n",
       "    <tr>\n",
       "      <th>1</th>\n",
       "      <td>30.0</td>\n",
       "      <td>0</td>\n",
       "      <td>65</td>\n",
       "      <td>1</td>\n",
       "    </tr>\n",
       "    <tr>\n",
       "      <th>2</th>\n",
       "      <td>35.1</td>\n",
       "      <td>0</td>\n",
       "      <td>56</td>\n",
       "      <td>0</td>\n",
       "    </tr>\n",
       "    <tr>\n",
       "      <th>3</th>\n",
       "      <td>30.0</td>\n",
       "      <td>1</td>\n",
       "      <td>23</td>\n",
       "      <td>0</td>\n",
       "    </tr>\n",
       "    <tr>\n",
       "      <th>4</th>\n",
       "      <td>80.0</td>\n",
       "      <td>0</td>\n",
       "      <td>53</td>\n",
       "      <td>1</td>\n",
       "    </tr>\n",
       "  </tbody>\n",
       "</table>\n",
       "</div>"
      ],
      "text/plain": [
       "   Salary  Gender  Age  PhD\n",
       "0   140.0       1   47    1\n",
       "1    30.0       0   65    1\n",
       "2    35.1       0   56    0\n",
       "3    30.0       1   23    0\n",
       "4    80.0       0   53    1"
      ]
     },
     "execution_count": 7,
     "metadata": {},
     "output_type": "execute_result"
    }
   ],
   "source": [
    "SalaryGende_data.head()\n"
   ]
  },
  {
   "cell_type": "code",
   "execution_count": 8,
   "metadata": {},
   "outputs": [
    {
     "name": "stdout",
     "output_type": "stream",
     "text": [
      "Male Phd:\n",
      "24\n",
      "FeMale Phd:\n",
      "15\n"
     ]
    }
   ],
   "source": [
    "#Method 1:\n",
    "Male_Gen = SalaryGende_data[SalaryGende_data['Gender'] == 1 ]\n",
    "Male_Phd = Male_Gen[Male_Gen['PhD'] == 1]\n",
    "print(\"Male Phd:\")\n",
    "print(Male_Phd['PhD'].sum())\n",
    "\n",
    "FeMale_Gen = SalaryGende_data[SalaryGende_data['Gender'] == 0 ]\n",
    "FeMale_Phd = FeMale_Gen[FeMale_Gen['PhD'] == 1]\n",
    "print(\"FeMale Phd:\")\n",
    "print(FeMale_Phd['PhD'].sum())"
   ]
  },
  {
   "cell_type": "code",
   "execution_count": 21,
   "metadata": {},
   "outputs": [
    {
     "name": "stdout",
     "output_type": "stream",
     "text": [
      "Male Phd:24\n",
      "FeMale Phd:24\n"
     ]
    }
   ],
   "source": [
    "#Method 2:\n",
    "Male_Phd = SalaryGende_data[(SalaryGende_data.Gender == 1 ) & (SalaryGende_data.PhD == 1) ]['PhD'].sum()\n",
    "print(\"Male Phd:%d\" %Male_Phd)\n",
    "\n",
    "Female_Phd = SalaryGende_data[(SalaryGende_data.Gender == 0 ) & (SalaryGende_data.PhD == 1) ]['PhD'].sum()\n",
    "print(\"FeMale Phd:%d\" %Male_Phd)\n",
    "\n"
   ]
  },
  {
   "cell_type": "code",
   "execution_count": 22,
   "metadata": {},
   "outputs": [
    {
     "name": "stdout",
     "output_type": "stream",
     "text": [
      "Male PHD Count:  24\n",
      "Female PHD Count:  15\n"
     ]
    }
   ],
   "source": [
    "#Method 3:\n",
    "Male_Phd_count=0\n",
    "Female_Phd_count=0\n",
    "for row,rowval in SalaryGende_data.iterrows():\n",
    "        #print(row)\n",
    "        #print(rowval)\n",
    "        if rowval['Gender'] == 1.0 and rowval['PhD'] == 1.0 :\n",
    "           # print('Male')\n",
    "            Male_Phd_count+= 1\n",
    "        elif rowval['Gender'] == 0.0 and rowval['PhD'] == 1.0 :\n",
    "           # print('FeMale')\n",
    "            Female_Phd_count+= 1\n",
    "print(\"Male PHD Count: \" ,Male_Phd_count)\n",
    "print(\"Female PHD Count: \" ,Female_Phd_count)"
   ]
  },
  {
   "cell_type": "code",
   "execution_count": 23,
   "metadata": {},
   "outputs": [
    {
     "name": "stdout",
     "output_type": "stream",
     "text": [
      "24\n",
      "15\n"
     ]
    }
   ],
   "source": [
    "#Method 3:\n",
    "import numpy, pandas\n",
    "\n",
    "df = pandas.read_csv(r\"C:\\Users\\prabh\\PycharmProjects\\Edureka_Practice\\Case_Studies\\Dataset\\Module4\\SalaryGender.csv\", delimiter=',')\n",
    "salary = numpy.array(df['Salary'])\n",
    "gender = numpy.array(df['Gender'])\n",
    "phd = numpy.array(df['PhD'])\n",
    "age = numpy.array(df['Age'])\n",
    "\n",
    "men_count = 0\n",
    "women_count = 0\n",
    "\n",
    "for i in range(0, 100):\n",
    "    if gender[i] == 1 and phd[i] == 1:\n",
    "        men_count +=1\n",
    "    if gender[i] == 0 and phd[i] == 1:\n",
    "        women_count +=1\n",
    "\n",
    "print(men_count)\n",
    "print(women_count)\n"
   ]
  },
  {
   "cell_type": "markdown",
   "metadata": {},
   "source": [
    "# 3.Use SalaryGender CSV file. Store the “Age” and “PhD” columns in one DataFrame and delete the data of all people who don’t have a PhD"
   ]
  },
  {
   "cell_type": "code",
   "execution_count": 24,
   "metadata": {},
   "outputs": [],
   "source": [
    "#Method 1\n",
    "import numpy as np\n",
    "import pandas as pd\n",
    "#We cant extract csv by np, so used pd, no need skiprows, in pd it takes 1st col as column name\n",
    "\n",
    "SalaryGende_data = pd.read_csv(r\"..\\Dataset\\SalaryGender.csv\")\n",
    "SalaryGende_df = pd.DataFrame(SalaryGende_data)"
   ]
  },
  {
   "cell_type": "code",
   "execution_count": 25,
   "metadata": {},
   "outputs": [],
   "source": [
    "#1st create dictonaries with series value, then convert to Datframe\n",
    "data ={'Age':pd.Series(SalaryGende_df['Age']), 'PhD':pd.Series(SalaryGende_df['PhD'])}"
   ]
  },
  {
   "cell_type": "code",
   "execution_count": 26,
   "metadata": {},
   "outputs": [
    {
     "name": "stdout",
     "output_type": "stream",
     "text": [
      "Before delete: \n"
     ]
    },
    {
     "data": {
      "text/html": [
       "<div>\n",
       "<style scoped>\n",
       "    .dataframe tbody tr th:only-of-type {\n",
       "        vertical-align: middle;\n",
       "    }\n",
       "\n",
       "    .dataframe tbody tr th {\n",
       "        vertical-align: top;\n",
       "    }\n",
       "\n",
       "    .dataframe thead th {\n",
       "        text-align: right;\n",
       "    }\n",
       "</style>\n",
       "<table border=\"1\" class=\"dataframe\">\n",
       "  <thead>\n",
       "    <tr style=\"text-align: right;\">\n",
       "      <th></th>\n",
       "      <th>Age</th>\n",
       "      <th>PhD</th>\n",
       "    </tr>\n",
       "  </thead>\n",
       "  <tbody>\n",
       "    <tr>\n",
       "      <th>0</th>\n",
       "      <td>47</td>\n",
       "      <td>1</td>\n",
       "    </tr>\n",
       "    <tr>\n",
       "      <th>1</th>\n",
       "      <td>65</td>\n",
       "      <td>1</td>\n",
       "    </tr>\n",
       "    <tr>\n",
       "      <th>2</th>\n",
       "      <td>56</td>\n",
       "      <td>0</td>\n",
       "    </tr>\n",
       "    <tr>\n",
       "      <th>3</th>\n",
       "      <td>23</td>\n",
       "      <td>0</td>\n",
       "    </tr>\n",
       "    <tr>\n",
       "      <th>4</th>\n",
       "      <td>53</td>\n",
       "      <td>1</td>\n",
       "    </tr>\n",
       "  </tbody>\n",
       "</table>\n",
       "</div>"
      ],
      "text/plain": [
       "   Age  PhD\n",
       "0   47    1\n",
       "1   65    1\n",
       "2   56    0\n",
       "3   23    0\n",
       "4   53    1"
      ]
     },
     "execution_count": 26,
     "metadata": {},
     "output_type": "execute_result"
    }
   ],
   "source": [
    "df = pd.DataFrame(data)\n",
    "print(\"Before delete: \")\n",
    "df.head()"
   ]
  },
  {
   "cell_type": "code",
   "execution_count": 27,
   "metadata": {},
   "outputs": [],
   "source": [
    "for row, row_val in df.iterrows():\n",
    "    #print(row)  #It gives row index\n",
    "    #print(row_val)  #It gives each rows all column values\n",
    "    #ind = row\n",
    "    #print(type(ind))\n",
    "    if row_val['PhD'] == 0:\n",
    "        df = df.drop(row) #Delete row based on row index\n",
    "        #print('hi')"
   ]
  },
  {
   "cell_type": "code",
   "execution_count": 28,
   "metadata": {},
   "outputs": [
    {
     "name": "stdout",
     "output_type": "stream",
     "text": [
      "After delete: \n"
     ]
    },
    {
     "data": {
      "text/html": [
       "<div>\n",
       "<style scoped>\n",
       "    .dataframe tbody tr th:only-of-type {\n",
       "        vertical-align: middle;\n",
       "    }\n",
       "\n",
       "    .dataframe tbody tr th {\n",
       "        vertical-align: top;\n",
       "    }\n",
       "\n",
       "    .dataframe thead th {\n",
       "        text-align: right;\n",
       "    }\n",
       "</style>\n",
       "<table border=\"1\" class=\"dataframe\">\n",
       "  <thead>\n",
       "    <tr style=\"text-align: right;\">\n",
       "      <th></th>\n",
       "      <th>Age</th>\n",
       "      <th>PhD</th>\n",
       "    </tr>\n",
       "  </thead>\n",
       "  <tbody>\n",
       "    <tr>\n",
       "      <th>0</th>\n",
       "      <td>47</td>\n",
       "      <td>1</td>\n",
       "    </tr>\n",
       "    <tr>\n",
       "      <th>1</th>\n",
       "      <td>65</td>\n",
       "      <td>1</td>\n",
       "    </tr>\n",
       "    <tr>\n",
       "      <th>4</th>\n",
       "      <td>53</td>\n",
       "      <td>1</td>\n",
       "    </tr>\n",
       "    <tr>\n",
       "      <th>8</th>\n",
       "      <td>44</td>\n",
       "      <td>1</td>\n",
       "    </tr>\n",
       "    <tr>\n",
       "      <th>9</th>\n",
       "      <td>63</td>\n",
       "      <td>1</td>\n",
       "    </tr>\n",
       "  </tbody>\n",
       "</table>\n",
       "</div>"
      ],
      "text/plain": [
       "   Age  PhD\n",
       "0   47    1\n",
       "1   65    1\n",
       "4   53    1\n",
       "8   44    1\n",
       "9   63    1"
      ]
     },
     "execution_count": 28,
     "metadata": {},
     "output_type": "execute_result"
    }
   ],
   "source": [
    "print(\"After delete: \")\n",
    "df.head()"
   ]
  },
  {
   "cell_type": "code",
   "execution_count": 29,
   "metadata": {},
   "outputs": [
    {
     "name": "stdout",
     "output_type": "stream",
     "text": [
      "    Age  PhD\n",
      "0    47    1\n",
      "1    65    1\n",
      "4    53    1\n",
      "8    44    1\n",
      "9    63    1\n",
      "12   60    1\n",
      "17   47    1\n",
      "18   66    1\n",
      "19   45    1\n",
      "25   66    1\n",
      "26   36    1\n",
      "28   51    1\n",
      "29   65    1\n",
      "30   45    1\n",
      "31   52    1\n",
      "32   54    1\n",
      "38   34    1\n",
      "41   58    1\n",
      "42   77    1\n",
      "45   48    1\n",
      "47   49    1\n",
      "49   65    1\n",
      "54   49    1\n",
      "56   61    1\n",
      "57   43    1\n",
      "60   66    1\n",
      "63   56    1\n",
      "73   71    1\n",
      "76   69    1\n",
      "77   58    1\n",
      "79   32    1\n",
      "80   33    1\n",
      "81   32    1\n",
      "87   42    1\n",
      "89   51    1\n",
      "90   71    1\n",
      "92   55    1\n",
      "94   55    1\n",
      "96   56    1\n"
     ]
    }
   ],
   "source": [
    "#Method 2 Edu:\n",
    "import numpy, pandas\n",
    "\n",
    "df = pandas.read_csv(r'..\\Dataset\\SalaryGender.csv', delimiter=',')\n",
    "salary = numpy.array(df['Salary'])\n",
    "gender = numpy.array(df['Gender'])\n",
    "phd = numpy.array(df['PhD'])\n",
    "age = numpy.array(df['Age'])\n",
    "\n",
    "frame = pandas.DataFrame()\n",
    "frame[\"Age\"] = age\n",
    "frame[\"PhD\"] = phd\n",
    "\n",
    "for i in range(0, 100):\n",
    "    if frame.loc[i][\"PhD\"] == 0:\n",
    "        frame = frame.drop(i)  # Delete rows based on index\n",
    "\n",
    "print(frame)"
   ]
  },
  {
   "cell_type": "markdown",
   "metadata": {},
   "source": [
    "# 4.Calculate the total number of people who have a PhD degreefrom SalaryGender CSV file."
   ]
  },
  {
   "cell_type": "code",
   "execution_count": 30,
   "metadata": {},
   "outputs": [
    {
     "name": "stdout",
     "output_type": "stream",
     "text": [
      "Total no of people with Phd\n"
     ]
    },
    {
     "data": {
      "text/plain": [
       "39"
      ]
     },
     "execution_count": 30,
     "metadata": {},
     "output_type": "execute_result"
    }
   ],
   "source": [
    "#In previous Q, calculated only Phd people, now we will use same dataframe\n",
    "\n",
    "print(\"Total no of people with Phd\")\n",
    "df['PhD'].sum()"
   ]
  },
  {
   "cell_type": "code",
   "execution_count": 31,
   "metadata": {},
   "outputs": [
    {
     "name": "stdout",
     "output_type": "stream",
     "text": [
      "39\n"
     ]
    }
   ],
   "source": [
    "#Method 2 Edu sol\n",
    "\n",
    "import numpy, pandas\n",
    "\n",
    "df = pandas.read_csv(r'..\\Dataset\\SalaryGender.csv', delimiter=',')\n",
    "salary = numpy.array(df['Salary'])\n",
    "gender = numpy.array(df['Gender'])\n",
    "phd = numpy.array(df['PhD'])\n",
    "age = numpy.array(df['Age'])\n",
    "\n",
    "men_count = 0\n",
    "women_count = 0\n",
    "\n",
    "for i in range(0, 100):\n",
    "    if gender[i] == 1 and phd[i] == 1:\n",
    "        men_count +=1\n",
    "    if gender[i] == 0 and phd[i] == 1:\n",
    "        women_count +=1\n",
    "\n",
    "print(men_count + women_count)"
   ]
  },
  {
   "cell_type": "markdown",
   "metadata": {},
   "source": [
    "# 5.How  do  you  Count  The  Number  Of  Times  Each  Value  Appears  In  An  Array  Of Integers?\n",
    "    [0, 5, 4, 0, 4, 4, 3, 0, 0, 5, 2, 1, 1, 9]\n",
    "    \n",
    "    Answer should be array([4, 2, 1, 1, 3, 2, 0, 0, 0, 1]) which means 0 comes 4 times, 1 comes 2 times, 2 comes 1 time, 3 comes 1 time and so on."
   ]
  },
  {
   "cell_type": "code",
   "execution_count": 32,
   "metadata": {},
   "outputs": [
    {
     "name": "stdout",
     "output_type": "stream",
     "text": [
      "Input\n",
      "[0 5 4 0 4 4 3 0 0 5 2 1 1 9]\n",
      "<class 'numpy.ndarray'>\n"
     ]
    }
   ],
   "source": [
    "import numpy as np\n",
    "#Numpy array\n",
    "list1 = [0, 5, 4, 0, 4, 4, 3, 0, 0, 5, 2, 1, 1, 9]\n",
    "\n",
    "data = np.array(list1)\n",
    "print(\"Input\")\n",
    "print(data)\n",
    "print(type(data))"
   ]
  },
  {
   "cell_type": "code",
   "execution_count": 33,
   "metadata": {},
   "outputs": [
    {
     "name": "stdout",
     "output_type": "stream",
     "text": [
      "0\n",
      "5\n",
      "4\n",
      "0\n",
      "4\n",
      "4\n",
      "3\n",
      "0\n",
      "0\n",
      "5\n",
      "2\n",
      "1\n",
      "1\n",
      "9\n"
     ]
    }
   ],
   "source": [
    " for i in data:\n",
    "        print(i)"
   ]
  },
  {
   "cell_type": "code",
   "execution_count": 34,
   "metadata": {},
   "outputs": [
    {
     "name": "stdout",
     "output_type": "stream",
     "text": [
      "Final Output\n",
      "[[4 2 1 1 3 2 0 0 0 1]]\n"
     ]
    }
   ],
   "source": [
    "#empty array\n",
    "list2 = []\n",
    "\n",
    "for  j in range(10):\n",
    "    cnt = 0\n",
    "    for i in data:\n",
    "        \n",
    "        if i == j:\n",
    "            cnt+= 1\n",
    "    #print(cnt)\n",
    "    list2.append(cnt)\n",
    "\n",
    "final_arr = np.array([list2])\n",
    "print(\"Final Output\")\n",
    "print(final_arr)"
   ]
  },
  {
   "cell_type": "code",
   "execution_count": 35,
   "metadata": {},
   "outputs": [
    {
     "name": "stdout",
     "output_type": "stream",
     "text": [
      "[4 2 1 1 3 2 0 0 0 1]\n"
     ]
    }
   ],
   "source": [
    "#Method 2 Edu sol\n",
    "#bincount method will count no from 0 to 10 in numpy array\n",
    "\n",
    "import numpy\n",
    "arr = numpy.array([0, 5, 4, 0, 4, 4, 3, 0, 0, 5, 2, 1, 1, 9])\n",
    "print(numpy.bincount(arr))\n"
   ]
  },
  {
   "cell_type": "markdown",
   "metadata": {},
   "source": [
    "# 6.Create a numpyarray [[0, 1, 2],[ 3, 4, 5],[ 6, 7, 8],[ 9,10, 11]]) and filter the elements greater than 5"
   ]
  },
  {
   "cell_type": "code",
   "execution_count": 36,
   "metadata": {},
   "outputs": [
    {
     "data": {
      "text/plain": [
       "array([[ 0,  1,  2],\n",
       "       [ 3,  4,  5],\n",
       "       [ 6,  7,  8],\n",
       "       [ 9, 10, 11]])"
      ]
     },
     "execution_count": 36,
     "metadata": {},
     "output_type": "execute_result"
    }
   ],
   "source": [
    "list1 = [[0, 1, 2],[ 3, 4, 5],[ 6, 7, 8],[ 9,10, 11]]\n",
    "data = np.array(list1)\n",
    "data"
   ]
  },
  {
   "cell_type": "code",
   "execution_count": 37,
   "metadata": {},
   "outputs": [],
   "source": [
    "#Ravel the shape\n",
    "#data_ravel = np.ravel(data)\n",
    "#print(data_ravel)\n",
    "#data_ravel[data_ravel<5]"
   ]
  },
  {
   "cell_type": "code",
   "execution_count": 38,
   "metadata": {},
   "outputs": [
    {
     "name": "stdout",
     "output_type": "stream",
     "text": [
      "Values lesser than 6, filter all >5\n",
      "[ 6  7  8  9 10 11]\n"
     ]
    }
   ],
   "source": [
    "print(\"Values lesser than 6, filter all >5\")\n",
    "print(data[data>5])"
   ]
  },
  {
   "cell_type": "code",
   "execution_count": 39,
   "metadata": {},
   "outputs": [
    {
     "name": "stdout",
     "output_type": "stream",
     "text": [
      "Our array is:\n",
      "[[ 0  1  2]\n",
      " [ 3  4  5]\n",
      " [ 6  7  8]\n",
      " [ 9 10 11]]\n",
      "\n",
      "\n",
      "The items greater than 5 are:\n",
      "[ 6  7  8  9 10 11]\n"
     ]
    }
   ],
   "source": [
    "#Method 2 edu sol\n",
    "\n",
    "import numpy as np\n",
    "x = np.array([[ 0,  1,  2],[ 3,  4,  5],[ 6,  7,  8],[ 9, 10, 11]])\n",
    "print('Our array is:' )\n",
    "print(x)\n",
    "print('\\n')\n",
    "# Now we will print the items greater than 5\n",
    "print('The items greater than 5 are:' )\n",
    "print(x[x > 5])\n"
   ]
  },
  {
   "cell_type": "markdown",
   "metadata": {},
   "source": [
    "# 7. Create a numpy array having NaN (Not a Number) \n",
    "    and print it.array([ nan,   1.,   2.,  nan,   3.,   4.,   5.])\n",
    "    Print the same array omitting all elements which are nan"
   ]
  },
  {
   "cell_type": "code",
   "execution_count": 40,
   "metadata": {},
   "outputs": [
    {
     "data": {
      "text/plain": [
       "array([nan,  1.,  2., nan,  3.,  4.,  5.])"
      ]
     },
     "execution_count": 40,
     "metadata": {},
     "output_type": "execute_result"
    }
   ],
   "source": [
    "\n",
    "new_arr = np.array([np.nan,1,2,np.nan,3,4,5])\n",
    "new_arr"
   ]
  },
  {
   "cell_type": "code",
   "execution_count": 41,
   "metadata": {},
   "outputs": [
    {
     "name": "stdout",
     "output_type": "stream",
     "text": [
      "Without Nan : [1. 2. 3. 4. 5.]\n"
     ]
    }
   ],
   "source": [
    "final_arr = new_arr[~np.isnan(new_arr)]\n",
    "print(\"Without Nan :\", final_arr)"
   ]
  },
  {
   "cell_type": "code",
   "execution_count": 42,
   "metadata": {},
   "outputs": [
    {
     "data": {
      "text/plain": [
       "array([ True, False, False,  True, False, False, False])"
      ]
     },
     "execution_count": 42,
     "metadata": {},
     "output_type": "execute_result"
    }
   ],
   "source": [
    "np.isnan(new_arr)"
   ]
  },
  {
   "cell_type": "markdown",
   "metadata": {},
   "source": [
    "# 8.Create  a  10x10  array  with  random  values  and  find  the  minimum  and  maximum values."
   ]
  },
  {
   "cell_type": "code",
   "execution_count": 43,
   "metadata": {},
   "outputs": [
    {
     "name": "stdout",
     "output_type": "stream",
     "text": [
      "[[-5.01297320e-01  2.02349189e-03 -1.47536047e+00 -3.27591487e-01\n",
      "  -6.00122630e-01  9.74892804e-01 -1.39145184e+00 -1.06206764e+00\n",
      "  -2.08464403e+00 -3.79936271e-01]\n",
      " [-3.18454583e-01  1.38253991e+00 -3.77835531e-01  5.96742277e-01\n",
      "   6.27489007e-02  1.41706498e+00  4.71578418e-01 -6.78585516e-01\n",
      "   6.36619667e-01 -5.04268370e-01]\n",
      " [ 4.70674474e-01 -1.52747637e+00 -2.85405471e+00 -2.36663393e+00\n",
      "   9.88660453e-01 -2.11073828e-01  3.39234817e-01  4.40985607e-01\n",
      "  -1.48423962e-02  1.06512181e+00]\n",
      " [ 8.58655638e-01  1.78610771e-01 -8.19080317e-01  6.32556649e-01\n",
      "  -9.41130550e-01 -6.31254829e-01 -1.01505704e+00 -4.41436975e-01\n",
      "   2.03220193e+00 -1.08329676e+00]\n",
      " [ 1.28219274e+00  9.39407194e-01 -1.26273661e+00 -1.33563631e+00\n",
      "  -1.14894403e+00  5.34133657e-01 -7.99455416e-01 -1.04809068e-01\n",
      "   5.71414935e-01 -1.39316797e+00]\n",
      " [ 1.41731664e-01 -3.24033489e-01 -1.64541569e+00  8.36952677e-02\n",
      "  -1.17599597e+00  1.71781973e+00 -2.24283109e-01 -5.21133097e-01\n",
      "   4.07124793e-01  5.33409907e-01]\n",
      " [ 8.94210747e-01 -8.51309569e-01  1.90234944e-01  2.99527439e-01\n",
      "  -5.31634161e-01 -1.92301036e+00  2.47920881e+00  9.46347757e-01\n",
      "   3.70142320e-01  2.06008706e-01]\n",
      " [ 9.83865192e-01  1.85414499e+00 -1.55219827e+00  4.49567263e-01\n",
      "  -4.06221010e-02 -1.34388144e-01 -1.14453193e-01  2.32281441e-01\n",
      "  -9.95854636e-01  4.25139751e-01]\n",
      " [ 4.51288851e-01  1.58415623e+00  3.20389481e-01 -2.25284092e-01\n",
      "   1.04390151e+00  1.13095423e+00  3.64649934e-01  1.16815065e+00\n",
      "   1.65512066e+00  4.96131250e-01]\n",
      " [-4.41386053e-01  7.34125547e-01 -9.22704181e-01  8.87442430e-01\n",
      "  -3.09049999e-01  9.92856457e-01  3.43389204e-01 -1.61647488e+00\n",
      "   3.33963049e-01  2.62550917e-01]]\n"
     ]
    }
   ],
   "source": [
    "list1 = np.random.randn(10,10)\n",
    "new_arr = np.array(list1)\n",
    "print(new_arr)"
   ]
  },
  {
   "cell_type": "code",
   "execution_count": 44,
   "metadata": {},
   "outputs": [
    {
     "name": "stdout",
     "output_type": "stream",
     "text": [
      "Min Value\n",
      "-2.854054713841983\n",
      "Max Value\n",
      "2.4792088084951374\n"
     ]
    }
   ],
   "source": [
    "print(\"Min Value\" )\n",
    "print(np.min(new_arr))\n",
    "print(\"Max Value\" )\n",
    "print(np.max(new_arr))"
   ]
  },
  {
   "cell_type": "code",
   "execution_count": 45,
   "metadata": {},
   "outputs": [
    {
     "name": "stdout",
     "output_type": "stream",
     "text": [
      "0.0044990873543702126 0.972266484764376\n"
     ]
    }
   ],
   "source": [
    "#Method 2 :edu sol\n",
    "import numpy as np\n",
    "Z = np.random.random((10,10))\n",
    "Zmin, Zmax = Z.min(), Z.max()\n",
    "print(Zmin, Zmax)\n"
   ]
  },
  {
   "cell_type": "markdown",
   "metadata": {},
   "source": [
    "# 9.Create a random vector of size 30 and find the mean value."
   ]
  },
  {
   "cell_type": "code",
   "execution_count": 46,
   "metadata": {},
   "outputs": [
    {
     "name": "stdout",
     "output_type": "stream",
     "text": [
      "[[ 1.30790735e+00 -7.92717185e-01  2.22897964e-01  2.27540323e+00\n",
      "  -1.03761546e+00  4.18638537e-01  5.32469315e-01 -4.00191682e-01\n",
      "  -9.30474994e-03 -1.33023144e+00 -2.45857920e-01 -9.30176570e-02\n",
      "   1.52153857e+00 -6.55330702e-01 -7.15257125e-01  2.39056783e-03\n",
      "  -8.67010156e-01 -1.92933853e+00 -2.73203261e+00  7.80040801e-02\n",
      "   1.17769491e-01  2.11357710e-01 -6.16528068e-01  2.84503267e-01\n",
      "   5.58041065e-01  4.98599350e-01  2.18241717e-01  1.22867604e+00\n",
      "   1.44888887e-01 -1.00158224e+00]]\n"
     ]
    }
   ],
   "source": [
    "list2 = np.random.randn(30)\n",
    "new_arr = np.array([list2])\n",
    "print(new_arr)"
   ]
  },
  {
   "cell_type": "code",
   "execution_count": 47,
   "metadata": {},
   "outputs": [
    {
     "data": {
      "text/plain": [
       "-0.09348961252126724"
      ]
     },
     "execution_count": 47,
     "metadata": {},
     "output_type": "execute_result"
    }
   ],
   "source": [
    "np.mean(list2)  # or m = list2.mean() print(m)"
   ]
  },
  {
   "cell_type": "markdown",
   "metadata": {},
   "source": [
    "# 10.Create numpy array having elements 0 to 10 And negate all the elements between 3 and 9"
   ]
  },
  {
   "cell_type": "code",
   "execution_count": 48,
   "metadata": {},
   "outputs": [
    {
     "data": {
      "text/plain": [
       "array([ 0,  1,  2,  3,  4,  5,  6,  7,  8,  9, 10])"
      ]
     },
     "execution_count": 48,
     "metadata": {},
     "output_type": "execute_result"
    }
   ],
   "source": [
    "arr1 = np.arange(11)\n",
    "arr1"
   ]
  },
  {
   "cell_type": "code",
   "execution_count": 49,
   "metadata": {},
   "outputs": [
    {
     "data": {
      "text/plain": [
       "array([4, 5, 6, 7, 8, 9])"
      ]
     },
     "execution_count": 49,
     "metadata": {},
     "output_type": "execute_result"
    }
   ],
   "source": [
    "arr1[(arr1>3) & (arr1<10)]"
   ]
  },
  {
   "cell_type": "code",
   "execution_count": 50,
   "metadata": {},
   "outputs": [
    {
     "name": "stdout",
     "output_type": "stream",
     "text": [
      "[ 0  1  2  3 -4 -5 -6 -7 -8 -9 10]\n"
     ]
    }
   ],
   "source": [
    "#if values matches to inside condition, only those items will multiply with no -1 \n",
    "arr1[(arr1>3) & (arr1<10)]*= -1\n",
    "\n",
    "print(arr1)\n",
    "\n",
    "#Something like below\n",
    "# arr1[(arr1>3) & (arr1<10)] = arr1[(arr1>3) & (arr1<10)]* (-1)"
   ]
  },
  {
   "cell_type": "markdown",
   "metadata": {},
   "source": [
    "# 11. Create a random array of 3 rows and 3 columns and sort it according to 1stcolumn, 2ndcolumn or 3rdcolumn"
   ]
  },
  {
   "cell_type": "code",
   "execution_count": 51,
   "metadata": {},
   "outputs": [
    {
     "name": "stdout",
     "output_type": "stream",
     "text": [
      "Before Sort: \n",
      " [[-0.43127474 -0.13616471 -0.48832089]\n",
      " [-0.32357679  0.84229285 -0.26436702]\n",
      " [-1.09298872 -0.48674499  1.40025296]]\n",
      "After Sort: \n",
      " [[-1.09298872 -0.48674499 -0.48832089]\n",
      " [-0.43127474 -0.13616471 -0.26436702]\n",
      " [-0.32357679  0.84229285  1.40025296]]\n"
     ]
    }
   ],
   "source": [
    "arr = np.random.randn(3,3)\n",
    "\n",
    "print(\"Before Sort: \\n\" ,arr)\n",
    "arr = np.sort(arr,axis=0)  #axis = 0 sorts in colmn wise, 1 will sort baed on row wise\n",
    "print(\"After Sort: \\n\" ,arr)"
   ]
  },
  {
   "cell_type": "code",
   "execution_count": 52,
   "metadata": {},
   "outputs": [
    {
     "name": "stdout",
     "output_type": "stream",
     "text": [
      "[0.07383836 0.12650519 0.14678961 0.31432394 0.37217406 0.72873351\n",
      " 0.79825334 0.88294408 0.91251956 0.91530258]\n"
     ]
    }
   ],
   "source": [
    "#For 1 dimention, we can use this way\n",
    "Z = np.random.random(10)\n",
    "Z.sort()\n",
    "print(Z)"
   ]
  },
  {
   "cell_type": "code",
   "execution_count": 53,
   "metadata": {},
   "outputs": [
    {
     "name": "stdout",
     "output_type": "stream",
     "text": [
      "Before Sort: \n",
      " [[-0.12653556  1.26858263 -0.70036024]\n",
      " [-0.1213478   0.77215245  0.61489009]\n",
      " [-0.2650802  -1.65267982  0.95446975]]\n",
      "[[-0.12653556  1.26858263 -0.70036024]\n",
      " [-0.1213478   0.77215245  0.61489009]\n",
      " [-0.2650802  -1.65267982  0.95446975]]\n",
      "[[-0.2650802  -1.65267982  0.95446975]\n",
      " [-0.1213478   0.77215245  0.61489009]\n",
      " [-0.12653556  1.26858263 -0.70036024]]\n",
      "After Sort:\n",
      " [[-0.2650802  -1.65267982  0.95446975]\n",
      " [-0.12653556  1.26858263 -0.70036024]\n",
      " [-0.1213478   0.77215245  0.61489009]]\n"
     ]
    }
   ],
   "source": [
    "#Prabha : ARGSORT, Its another ethos, Its not working\n",
    "\n",
    "arr = np.random.randn(3,3)\n",
    "\n",
    "print(\"Before Sort: \\n\" ,arr)\n",
    "\n",
    "#This will sort all values based on 1st col,2nd col 3rd col, each assigned to new array name\n",
    "arr3 = arr[arr[:,2].argsort()]\n",
    "print(arr3)\n",
    "arr2 = arr3[arr3[:,1].argsort(kind='mergesort')]\n",
    "print(arr2)\n",
    "arr0 = arr2[arr2[:,0].argsort()]\n",
    "print(\"After Sort:\\n\" ,arr0)\n",
    "\n"
   ]
  },
  {
   "cell_type": "code",
   "execution_count": 54,
   "metadata": {},
   "outputs": [
    {
     "name": "stdout",
     "output_type": "stream",
     "text": [
      "[[3 1 2]\n",
      " [4 6 2]\n",
      " [7 6 5]]\n",
      "[[3 1 2]\n",
      " [4 6 2]\n",
      " [7 6 5]]\n"
     ]
    }
   ],
   "source": [
    "#Edu sol Argsort , here its not working\n",
    "Z = np.random.randint(0,10,(3,3))\n",
    "print(Z)\n",
    "print(Z[Z[:,1].argsort()])\n"
   ]
  },
  {
   "cell_type": "markdown",
   "metadata": {},
   "source": [
    "# 12.Create a four dimensions array get sum over the last two axis at once"
   ]
  },
  {
   "cell_type": "code",
   "execution_count": 55,
   "metadata": {},
   "outputs": [
    {
     "name": "stdout",
     "output_type": "stream",
     "text": [
      "[[1 1 1 1]\n",
      " [2 2 2 2]\n",
      " [3 3 3 3]\n",
      " [4 4 4 4]]\n"
     ]
    },
    {
     "data": {
      "text/plain": [
       "20"
      ]
     },
     "execution_count": 55,
     "metadata": {},
     "output_type": "execute_result"
    }
   ],
   "source": [
    "#Prabha: This wrong, its not 4 D array\n",
    "list1 = [ [1,1,1,1] , [2,2,2,2] ,[3,3,3,3] ,[4,4,4,4]]\n",
    "arr2 = np.array(list1)\n",
    "print(arr2)\n",
    "np.sum(arr2[:,2:])  # This will sum all rows in column 2nd and 3rd(whisch is last 2 col)"
   ]
  },
  {
   "cell_type": "code",
   "execution_count": 56,
   "metadata": {},
   "outputs": [
    {
     "name": "stdout",
     "output_type": "stream",
     "text": [
      "[[[[4 9 3 9]\n",
      "   [3 4 5 3]\n",
      "   [1 3 2 8]]\n",
      "\n",
      "  [[8 8 9 3]\n",
      "   [8 8 8 1]\n",
      "   [1 4 0 1]]\n",
      "\n",
      "  [[8 8 8 3]\n",
      "   [1 4 8 7]\n",
      "   [1 3 1 8]]\n",
      "\n",
      "  [[9 9 4 7]\n",
      "   [8 3 6 3]\n",
      "   [0 7 0 3]]]\n",
      "\n",
      "\n",
      " [[[3 0 8 8]\n",
      "   [2 7 6 8]\n",
      "   [8 7 5 4]]\n",
      "\n",
      "  [[5 8 7 1]\n",
      "   [3 2 5 2]\n",
      "   [8 7 5 8]]\n",
      "\n",
      "  [[2 7 3 8]\n",
      "   [8 2 9 1]\n",
      "   [6 6 2 8]]\n",
      "\n",
      "  [[4 7 2 2]\n",
      "   [2 4 1 6]\n",
      "   [1 4 8 4]]]\n",
      "\n",
      "\n",
      " [[[9 7 7 2]\n",
      "   [0 0 5 4]\n",
      "   [4 5 9 2]]\n",
      "\n",
      "  [[0 5 1 7]\n",
      "   [9 0 2 4]\n",
      "   [9 3 1 5]]\n",
      "\n",
      "  [[7 8 2 3]\n",
      "   [4 5 6 1]\n",
      "   [5 9 1 2]]\n",
      "\n",
      "  [[9 7 6 3]\n",
      "   [9 2 9 2]\n",
      "   [1 0 7 3]]]]\n",
      "**********\n",
      "result\n",
      "[[54 59 60 59]\n",
      " [66 61 62 45]\n",
      " [54 46 53 58]]\n"
     ]
    }
   ],
   "source": [
    "#Correct way, not clear :(   Edu sol ALSO SAME\n",
    "A = np.random.randint(0,10,(3,4,3,4))\n",
    "print(A)\n",
    "sum = A.reshape(A.shape[:-2] + (-1,)).sum(axis=-1)\n",
    "print(\"*\"*10)\n",
    "print(\"result\")\n",
    "print(sum)"
   ]
  },
  {
   "cell_type": "markdown",
   "metadata": {},
   "source": [
    "# 13.Create a random array and swap two rows of an array"
   ]
  },
  {
   "cell_type": "code",
   "execution_count": 57,
   "metadata": {},
   "outputs": [
    {
     "name": "stdout",
     "output_type": "stream",
     "text": [
      "[[-0.54403924 -1.3188285   0.65841478  1.1402732   1.76245003]\n",
      " [ 0.49234715 -0.19967342 -1.0950694  -0.58026665 -0.66567657]]\n"
     ]
    }
   ],
   "source": [
    "\n",
    "arr = np.random.randn(2,5)\n",
    "print(arr)"
   ]
  },
  {
   "cell_type": "code",
   "execution_count": 58,
   "metadata": {},
   "outputs": [
    {
     "data": {
      "text/plain": [
       "array([[-0.54403924, -1.3188285 ,  0.65841478,  1.1402732 ,  1.76245003],\n",
       "       [ 0.49234715, -0.19967342, -1.0950694 , -0.58026665, -0.66567657]])"
      ]
     },
     "execution_count": 58,
     "metadata": {},
     "output_type": "execute_result"
    }
   ],
   "source": [
    "arr[[0,1]]"
   ]
  },
  {
   "cell_type": "code",
   "execution_count": 59,
   "metadata": {},
   "outputs": [],
   "source": [
    "arr[[0,1]] = arr[[1,0]]"
   ]
  },
  {
   "cell_type": "code",
   "execution_count": 60,
   "metadata": {},
   "outputs": [
    {
     "name": "stdout",
     "output_type": "stream",
     "text": [
      "[[ 0.49234715 -0.19967342 -1.0950694  -0.58026665 -0.66567657]\n",
      " [-0.54403924 -1.3188285   0.65841478  1.1402732   1.76245003]]\n"
     ]
    }
   ],
   "source": [
    "print(arr)"
   ]
  },
  {
   "cell_type": "markdown",
   "metadata": {},
   "source": [
    "# 14.Create a randommatrix and Compute a matrix rank."
   ]
  },
  {
   "cell_type": "code",
   "execution_count": 61,
   "metadata": {},
   "outputs": [
    {
     "name": "stdout",
     "output_type": "stream",
     "text": [
      "[[0.38752902 0.9118477  0.8813644 ]\n",
      " [0.57278592 0.13968368 0.87276414]\n",
      " [0.60586073 0.27975401 0.09710477]]\n"
     ]
    }
   ],
   "source": [
    "#Not clear on approach and functon linalg.svd\n",
    "Z = np.random.uniform(0,1,(3,3))  \n",
    "print(Z)\n"
   ]
  },
  {
   "cell_type": "code",
   "execution_count": 62,
   "metadata": {},
   "outputs": [
    {
     "name": "stdout",
     "output_type": "stream",
     "text": [
      "3\n"
     ]
    }
   ],
   "source": [
    "U, S, V = np.linalg.svd(Z) # Singular Value Decomposition\n",
    "rank = np.sum(S > 1e-10)\n",
    "print(rank)"
   ]
  },
  {
   "cell_type": "markdown",
   "metadata": {},
   "source": [
    "# 15.Analyse  various  school  outcomes  in  Tennessee  using  pandas.  \n",
    "    Its big case study. uppose  you  are  a public   schooladministrator.   Some   schools   in   your   state   of   Tennessee   are performing  below  average  academically.  Your  superintendent,  under  pressure from frustrated parents and voters, approached you with the task of understanding why  these  schools  are  under-performing.To  improve  school  performance,  you need to learn more about these schools and their students, just as a business needs to understand its own strengths and weaknesses and its customers. Though you is eager  to  build  an  impressive  explanatory  model,  you  knowthe  importance  of conducting  preliminary  research  to  prevent  possible  pitfalls  orblind  spots.  Thus, you engages in a thorough exploratory analysis, which includes: a lit review, data collection, descriptive and inferential statistics, and data visualization."
   ]
  },
  {
   "cell_type": "markdown",
   "metadata": {},
   "source": [
    "## Phase 1 -Data CollectionHere  is  a  data  of  every  public  school  in  middle  Tennessee.  \n",
    "    The  data  also  includes various  demographic,  school  faculty,  and  income  variables.  \n",
    "    You  need  to  convert  the data into useful information.\n",
    "        •Read the data in pandas data frame\n",
    "        •Describe the data to find more details"
   ]
  },
  {
   "cell_type": "code",
   "execution_count": 63,
   "metadata": {},
   "outputs": [],
   "source": [
    "import pandas as pd\n",
    "import numpy as np\n",
    "\n",
    "Sch_data = pd.read_csv(r\"..\\Dataset\\middle_tn_schools.csv\")"
   ]
  },
  {
   "cell_type": "code",
   "execution_count": 64,
   "metadata": {},
   "outputs": [
    {
     "data": {
      "text/html": [
       "<div>\n",
       "<style scoped>\n",
       "    .dataframe tbody tr th:only-of-type {\n",
       "        vertical-align: middle;\n",
       "    }\n",
       "\n",
       "    .dataframe tbody tr th {\n",
       "        vertical-align: top;\n",
       "    }\n",
       "\n",
       "    .dataframe thead th {\n",
       "        text-align: right;\n",
       "    }\n",
       "</style>\n",
       "<table border=\"1\" class=\"dataframe\">\n",
       "  <thead>\n",
       "    <tr style=\"text-align: right;\">\n",
       "      <th></th>\n",
       "      <th>name</th>\n",
       "      <th>school_rating</th>\n",
       "      <th>size</th>\n",
       "      <th>reduced_lunch</th>\n",
       "      <th>state_percentile_16</th>\n",
       "      <th>state_percentile_15</th>\n",
       "      <th>stu_teach_ratio</th>\n",
       "      <th>school_type</th>\n",
       "      <th>avg_score_15</th>\n",
       "      <th>avg_score_16</th>\n",
       "      <th>full_time_teachers</th>\n",
       "      <th>percent_black</th>\n",
       "      <th>percent_white</th>\n",
       "      <th>percent_asian</th>\n",
       "      <th>percent_hispanic</th>\n",
       "    </tr>\n",
       "  </thead>\n",
       "  <tbody>\n",
       "    <tr>\n",
       "      <th>0</th>\n",
       "      <td>Allendale Elementary School</td>\n",
       "      <td>5.0</td>\n",
       "      <td>851.0</td>\n",
       "      <td>10.0</td>\n",
       "      <td>90.2</td>\n",
       "      <td>95.8</td>\n",
       "      <td>15.7</td>\n",
       "      <td>Public</td>\n",
       "      <td>89.4</td>\n",
       "      <td>85.2</td>\n",
       "      <td>54.0</td>\n",
       "      <td>2.9</td>\n",
       "      <td>85.5</td>\n",
       "      <td>1.6</td>\n",
       "      <td>5.6</td>\n",
       "    </tr>\n",
       "    <tr>\n",
       "      <th>1</th>\n",
       "      <td>Anderson Elementary</td>\n",
       "      <td>2.0</td>\n",
       "      <td>412.0</td>\n",
       "      <td>71.0</td>\n",
       "      <td>32.8</td>\n",
       "      <td>37.3</td>\n",
       "      <td>12.8</td>\n",
       "      <td>Public</td>\n",
       "      <td>43.0</td>\n",
       "      <td>38.3</td>\n",
       "      <td>32.0</td>\n",
       "      <td>3.9</td>\n",
       "      <td>86.7</td>\n",
       "      <td>1.0</td>\n",
       "      <td>4.9</td>\n",
       "    </tr>\n",
       "    <tr>\n",
       "      <th>2</th>\n",
       "      <td>Avoca Elementary</td>\n",
       "      <td>4.0</td>\n",
       "      <td>482.0</td>\n",
       "      <td>43.0</td>\n",
       "      <td>78.4</td>\n",
       "      <td>83.6</td>\n",
       "      <td>16.6</td>\n",
       "      <td>Public</td>\n",
       "      <td>75.7</td>\n",
       "      <td>73.0</td>\n",
       "      <td>29.0</td>\n",
       "      <td>1.0</td>\n",
       "      <td>91.5</td>\n",
       "      <td>1.2</td>\n",
       "      <td>4.4</td>\n",
       "    </tr>\n",
       "    <tr>\n",
       "      <th>3</th>\n",
       "      <td>Bailey Middle</td>\n",
       "      <td>0.0</td>\n",
       "      <td>394.0</td>\n",
       "      <td>91.0</td>\n",
       "      <td>1.6</td>\n",
       "      <td>1.0</td>\n",
       "      <td>13.1</td>\n",
       "      <td>Public Magnet</td>\n",
       "      <td>2.1</td>\n",
       "      <td>4.4</td>\n",
       "      <td>30.0</td>\n",
       "      <td>80.7</td>\n",
       "      <td>11.7</td>\n",
       "      <td>2.3</td>\n",
       "      <td>4.3</td>\n",
       "    </tr>\n",
       "    <tr>\n",
       "      <th>4</th>\n",
       "      <td>Barfield Elementary</td>\n",
       "      <td>4.0</td>\n",
       "      <td>948.0</td>\n",
       "      <td>26.0</td>\n",
       "      <td>85.3</td>\n",
       "      <td>89.2</td>\n",
       "      <td>14.8</td>\n",
       "      <td>Public</td>\n",
       "      <td>81.3</td>\n",
       "      <td>79.6</td>\n",
       "      <td>64.0</td>\n",
       "      <td>11.8</td>\n",
       "      <td>71.2</td>\n",
       "      <td>7.1</td>\n",
       "      <td>6.0</td>\n",
       "    </tr>\n",
       "  </tbody>\n",
       "</table>\n",
       "</div>"
      ],
      "text/plain": [
       "                          name  school_rating   size  reduced_lunch  \\\n",
       "0  Allendale Elementary School            5.0  851.0           10.0   \n",
       "1          Anderson Elementary            2.0  412.0           71.0   \n",
       "2             Avoca Elementary            4.0  482.0           43.0   \n",
       "3                Bailey Middle            0.0  394.0           91.0   \n",
       "4          Barfield Elementary            4.0  948.0           26.0   \n",
       "\n",
       "   state_percentile_16  state_percentile_15  stu_teach_ratio    school_type  \\\n",
       "0                 90.2                 95.8             15.7         Public   \n",
       "1                 32.8                 37.3             12.8         Public   \n",
       "2                 78.4                 83.6             16.6         Public   \n",
       "3                  1.6                  1.0             13.1  Public Magnet   \n",
       "4                 85.3                 89.2             14.8         Public   \n",
       "\n",
       "   avg_score_15  avg_score_16  full_time_teachers  percent_black  \\\n",
       "0          89.4          85.2                54.0            2.9   \n",
       "1          43.0          38.3                32.0            3.9   \n",
       "2          75.7          73.0                29.0            1.0   \n",
       "3           2.1           4.4                30.0           80.7   \n",
       "4          81.3          79.6                64.0           11.8   \n",
       "\n",
       "   percent_white  percent_asian  percent_hispanic  \n",
       "0           85.5            1.6               5.6  \n",
       "1           86.7            1.0               4.9  \n",
       "2           91.5            1.2               4.4  \n",
       "3           11.7            2.3               4.3  \n",
       "4           71.2            7.1               6.0  "
      ]
     },
     "execution_count": 64,
     "metadata": {},
     "output_type": "execute_result"
    }
   ],
   "source": [
    "\n",
    "\"\"\"\n",
    "As per data school_rating = 5 means good rating, state percentile also good, \n",
    "school_rating=0 means bad rating state percentile low\n",
    "\n",
    "reduced lunch means 'average  percentage of students per school enrolled in a federal program that \n",
    "                        provides lunches for students from lower-income households'\n",
    "if reduced lunch is more then more no of people with less income\n",
    "if its less, then its \n",
    "\"\"\"\n",
    "Sch_data.head()"
   ]
  },
  {
   "cell_type": "code",
   "execution_count": 65,
   "metadata": {},
   "outputs": [
    {
     "data": {
      "text/html": [
       "<div>\n",
       "<style scoped>\n",
       "    .dataframe tbody tr th:only-of-type {\n",
       "        vertical-align: middle;\n",
       "    }\n",
       "\n",
       "    .dataframe tbody tr th {\n",
       "        vertical-align: top;\n",
       "    }\n",
       "\n",
       "    .dataframe thead th {\n",
       "        text-align: right;\n",
       "    }\n",
       "</style>\n",
       "<table border=\"1\" class=\"dataframe\">\n",
       "  <thead>\n",
       "    <tr style=\"text-align: right;\">\n",
       "      <th></th>\n",
       "      <th>school_rating</th>\n",
       "      <th>size</th>\n",
       "      <th>reduced_lunch</th>\n",
       "      <th>state_percentile_16</th>\n",
       "      <th>state_percentile_15</th>\n",
       "      <th>stu_teach_ratio</th>\n",
       "      <th>avg_score_15</th>\n",
       "      <th>avg_score_16</th>\n",
       "      <th>full_time_teachers</th>\n",
       "      <th>percent_black</th>\n",
       "      <th>percent_white</th>\n",
       "      <th>percent_asian</th>\n",
       "      <th>percent_hispanic</th>\n",
       "    </tr>\n",
       "  </thead>\n",
       "  <tbody>\n",
       "    <tr>\n",
       "      <th>count</th>\n",
       "      <td>347.000000</td>\n",
       "      <td>347.000000</td>\n",
       "      <td>347.000000</td>\n",
       "      <td>347.000000</td>\n",
       "      <td>341.000000</td>\n",
       "      <td>347.000000</td>\n",
       "      <td>341.000000</td>\n",
       "      <td>347.000000</td>\n",
       "      <td>347.000000</td>\n",
       "      <td>347.000000</td>\n",
       "      <td>347.000000</td>\n",
       "      <td>347.000000</td>\n",
       "      <td>347.000000</td>\n",
       "    </tr>\n",
       "    <tr>\n",
       "      <th>mean</th>\n",
       "      <td>2.968300</td>\n",
       "      <td>699.472622</td>\n",
       "      <td>50.279539</td>\n",
       "      <td>58.801729</td>\n",
       "      <td>58.249267</td>\n",
       "      <td>15.461671</td>\n",
       "      <td>57.004692</td>\n",
       "      <td>57.049856</td>\n",
       "      <td>44.939481</td>\n",
       "      <td>21.197983</td>\n",
       "      <td>61.673487</td>\n",
       "      <td>2.642651</td>\n",
       "      <td>11.164553</td>\n",
       "    </tr>\n",
       "    <tr>\n",
       "      <th>std</th>\n",
       "      <td>1.690377</td>\n",
       "      <td>400.598636</td>\n",
       "      <td>25.480236</td>\n",
       "      <td>32.540747</td>\n",
       "      <td>32.702630</td>\n",
       "      <td>5.725170</td>\n",
       "      <td>26.696450</td>\n",
       "      <td>27.968974</td>\n",
       "      <td>22.053386</td>\n",
       "      <td>23.562538</td>\n",
       "      <td>27.274859</td>\n",
       "      <td>3.109629</td>\n",
       "      <td>12.030608</td>\n",
       "    </tr>\n",
       "    <tr>\n",
       "      <th>min</th>\n",
       "      <td>0.000000</td>\n",
       "      <td>53.000000</td>\n",
       "      <td>2.000000</td>\n",
       "      <td>0.200000</td>\n",
       "      <td>0.600000</td>\n",
       "      <td>4.700000</td>\n",
       "      <td>1.500000</td>\n",
       "      <td>0.100000</td>\n",
       "      <td>2.000000</td>\n",
       "      <td>0.000000</td>\n",
       "      <td>1.100000</td>\n",
       "      <td>0.000000</td>\n",
       "      <td>0.000000</td>\n",
       "    </tr>\n",
       "    <tr>\n",
       "      <th>25%</th>\n",
       "      <td>2.000000</td>\n",
       "      <td>420.500000</td>\n",
       "      <td>30.000000</td>\n",
       "      <td>30.950000</td>\n",
       "      <td>27.100000</td>\n",
       "      <td>13.700000</td>\n",
       "      <td>37.600000</td>\n",
       "      <td>37.000000</td>\n",
       "      <td>30.000000</td>\n",
       "      <td>3.600000</td>\n",
       "      <td>40.600000</td>\n",
       "      <td>0.750000</td>\n",
       "      <td>3.800000</td>\n",
       "    </tr>\n",
       "    <tr>\n",
       "      <th>50%</th>\n",
       "      <td>3.000000</td>\n",
       "      <td>595.000000</td>\n",
       "      <td>51.000000</td>\n",
       "      <td>66.400000</td>\n",
       "      <td>65.800000</td>\n",
       "      <td>15.000000</td>\n",
       "      <td>61.800000</td>\n",
       "      <td>60.700000</td>\n",
       "      <td>40.000000</td>\n",
       "      <td>13.500000</td>\n",
       "      <td>68.700000</td>\n",
       "      <td>1.600000</td>\n",
       "      <td>6.400000</td>\n",
       "    </tr>\n",
       "    <tr>\n",
       "      <th>75%</th>\n",
       "      <td>4.000000</td>\n",
       "      <td>851.000000</td>\n",
       "      <td>71.500000</td>\n",
       "      <td>88.000000</td>\n",
       "      <td>88.600000</td>\n",
       "      <td>16.700000</td>\n",
       "      <td>79.600000</td>\n",
       "      <td>80.250000</td>\n",
       "      <td>54.000000</td>\n",
       "      <td>28.350000</td>\n",
       "      <td>85.950000</td>\n",
       "      <td>3.100000</td>\n",
       "      <td>13.800000</td>\n",
       "    </tr>\n",
       "    <tr>\n",
       "      <th>max</th>\n",
       "      <td>5.000000</td>\n",
       "      <td>2314.000000</td>\n",
       "      <td>98.000000</td>\n",
       "      <td>99.800000</td>\n",
       "      <td>99.800000</td>\n",
       "      <td>111.000000</td>\n",
       "      <td>99.000000</td>\n",
       "      <td>98.900000</td>\n",
       "      <td>140.000000</td>\n",
       "      <td>97.400000</td>\n",
       "      <td>99.700000</td>\n",
       "      <td>21.100000</td>\n",
       "      <td>65.200000</td>\n",
       "    </tr>\n",
       "  </tbody>\n",
       "</table>\n",
       "</div>"
      ],
      "text/plain": [
       "       school_rating         size  reduced_lunch  state_percentile_16  \\\n",
       "count     347.000000   347.000000     347.000000           347.000000   \n",
       "mean        2.968300   699.472622      50.279539            58.801729   \n",
       "std         1.690377   400.598636      25.480236            32.540747   \n",
       "min         0.000000    53.000000       2.000000             0.200000   \n",
       "25%         2.000000   420.500000      30.000000            30.950000   \n",
       "50%         3.000000   595.000000      51.000000            66.400000   \n",
       "75%         4.000000   851.000000      71.500000            88.000000   \n",
       "max         5.000000  2314.000000      98.000000            99.800000   \n",
       "\n",
       "       state_percentile_15  stu_teach_ratio  avg_score_15  avg_score_16  \\\n",
       "count           341.000000       347.000000    341.000000    347.000000   \n",
       "mean             58.249267        15.461671     57.004692     57.049856   \n",
       "std              32.702630         5.725170     26.696450     27.968974   \n",
       "min               0.600000         4.700000      1.500000      0.100000   \n",
       "25%              27.100000        13.700000     37.600000     37.000000   \n",
       "50%              65.800000        15.000000     61.800000     60.700000   \n",
       "75%              88.600000        16.700000     79.600000     80.250000   \n",
       "max              99.800000       111.000000     99.000000     98.900000   \n",
       "\n",
       "       full_time_teachers  percent_black  percent_white  percent_asian  \\\n",
       "count          347.000000     347.000000     347.000000     347.000000   \n",
       "mean            44.939481      21.197983      61.673487       2.642651   \n",
       "std             22.053386      23.562538      27.274859       3.109629   \n",
       "min              2.000000       0.000000       1.100000       0.000000   \n",
       "25%             30.000000       3.600000      40.600000       0.750000   \n",
       "50%             40.000000      13.500000      68.700000       1.600000   \n",
       "75%             54.000000      28.350000      85.950000       3.100000   \n",
       "max            140.000000      97.400000      99.700000      21.100000   \n",
       "\n",
       "       percent_hispanic  \n",
       "count        347.000000  \n",
       "mean          11.164553  \n",
       "std           12.030608  \n",
       "min            0.000000  \n",
       "25%            3.800000  \n",
       "50%            6.400000  \n",
       "75%           13.800000  \n",
       "max           65.200000  "
      ]
     },
     "execution_count": 65,
     "metadata": {},
     "output_type": "execute_result"
    }
   ],
   "source": [
    "Sch_data.describe()"
   ]
  },
  {
   "cell_type": "markdown",
   "metadata": {},
   "source": [
    "## Phase 2 -Group data by school ratings\n",
    "    Chooses  indicators  that  describe  the  student  body  (for  example,reduced_lunch)  or school administration (stu_teach_ratio) hoping they will explainschool_rating.\n",
    "    \n",
    "    reduced_lunch is  a  variable  measuring  the  average  percentage of students per school enrolled in a federal program that provides lunches for students from lower-income households.\n",
    "    \n",
    "    In short,reduced_lunch is a good proxy for household income. Isolates‘reduced_lunch’and groups the data by‘school_rating’using pandas groupby method and then uses describe on the re-shaped data"
   ]
  },
  {
   "cell_type": "code",
   "execution_count": 66,
   "metadata": {},
   "outputs": [
    {
     "ename": "NameError",
     "evalue": "name 'group_key' is not defined",
     "output_type": "error",
     "traceback": [
      "\u001b[1;31m---------------------------------------------------------------------------\u001b[0m",
      "\u001b[1;31mNameError\u001b[0m                                 Traceback (most recent call last)",
      "\u001b[1;32m<ipython-input-66-53d742308dab>\u001b[0m in \u001b[0;36m<module>\u001b[1;34m\u001b[0m\n\u001b[0;32m      3\u001b[0m \u001b[0mgrouped\u001b[0m\u001b[1;33m.\u001b[0m\u001b[0mgroups\u001b[0m\u001b[1;33m\u001b[0m\u001b[1;33m\u001b[0m\u001b[0m\n\u001b[0;32m      4\u001b[0m \u001b[1;32mfor\u001b[0m \u001b[0mgrp_key\u001b[0m\u001b[1;33m,\u001b[0m \u001b[0mgrp_val\u001b[0m \u001b[1;32min\u001b[0m \u001b[0mgrouped\u001b[0m\u001b[1;33m:\u001b[0m\u001b[1;33m\u001b[0m\u001b[1;33m\u001b[0m\u001b[0m\n\u001b[1;32m----> 5\u001b[1;33m     \u001b[0mprint\u001b[0m\u001b[1;33m(\u001b[0m\u001b[0mgroup_key\u001b[0m\u001b[1;33m)\u001b[0m\u001b[1;33m\u001b[0m\u001b[1;33m\u001b[0m\u001b[0m\n\u001b[0m\u001b[0;32m      6\u001b[0m     \u001b[1;31m#print(group_value)\u001b[0m\u001b[1;33m\u001b[0m\u001b[1;33m\u001b[0m\u001b[1;33m\u001b[0m\u001b[0m\n\u001b[0;32m      7\u001b[0m     \u001b[1;31m#describe on the re-shaped data\u001b[0m\u001b[1;33m\u001b[0m\u001b[1;33m\u001b[0m\u001b[1;33m\u001b[0m\u001b[0m\n",
      "\u001b[1;31mNameError\u001b[0m: name 'group_key' is not defined"
     ]
    }
   ],
   "source": [
    "#This is not prfect way\n",
    "grouped = Sch_data.groupby(['reduced_lunch','school_rating'])\n",
    "grouped.groups\n",
    "for grp_key, grp_val in grouped:\n",
    "    print(group_key)\n",
    "    #print(group_value)\n",
    "    #describe on the re-shaped data\n",
    "    print(grouped.get_group(grp_key).describe())\n",
    "    "
   ]
  },
  {
   "cell_type": "code",
   "execution_count": 67,
   "metadata": {},
   "outputs": [
    {
     "data": {
      "text/plain": [
       "                      school_rating\n",
       "reduced_lunch  count  0.0              43.000000\n",
       "                      1.0              40.000000\n",
       "                      2.0              44.000000\n",
       "                      3.0              56.000000\n",
       "                      4.0              86.000000\n",
       "                      5.0              78.000000\n",
       "               mean   0.0              83.581395\n",
       "                      1.0              74.950000\n",
       "                      2.0              64.272727\n",
       "                      3.0              50.285714\n",
       "                      4.0              41.000000\n",
       "                      5.0              21.602564\n",
       "               std    0.0               8.813498\n",
       "                      1.0              11.644191\n",
       "                      2.0              11.956051\n",
       "                      3.0              13.550866\n",
       "                      4.0              16.681092\n",
       "                      5.0              17.651268\n",
       "               min    0.0              53.000000\n",
       "                      1.0              53.000000\n",
       "                      2.0              37.000000\n",
       "                      3.0              24.000000\n",
       "                      4.0               4.000000\n",
       "                      5.0               2.000000\n",
       "               25%    0.0              79.500000\n",
       "                      1.0              65.000000\n",
       "                      2.0              54.750000\n",
       "                      3.0              41.000000\n",
       "                      4.0              30.000000\n",
       "                      5.0               8.000000\n",
       "               50%    0.0              86.000000\n",
       "                      1.0              74.500000\n",
       "                      2.0              62.500000\n",
       "                      3.0              48.500000\n",
       "                      4.0              41.500000\n",
       "                      5.0              19.000000\n",
       "               75%    0.0              90.000000\n",
       "                      1.0              84.250000\n",
       "                      2.0              74.000000\n",
       "                      3.0              63.000000\n",
       "                      4.0              50.000000\n",
       "                      5.0              29.750000\n",
       "               max    0.0              98.000000\n",
       "                      1.0              98.000000\n",
       "                      2.0              88.000000\n",
       "                      3.0              78.000000\n",
       "                      4.0              87.000000\n",
       "                      5.0              87.000000\n",
       "dtype: float64"
      ]
     },
     "execution_count": 67,
     "metadata": {},
     "output_type": "execute_result"
    }
   ],
   "source": [
    "#Another way edu sol\n",
    "#it provides only these 2 field in select and grouped by shool_rating\n",
    "Sch_data[['reduced_lunch', 'school_rating']].groupby(['school_rating']).describe().unstack()"
   ]
  },
  {
   "cell_type": "markdown",
   "metadata": {},
   "source": [
    "## Phase 3 –Correlation analysis\n",
    "        Find the correlation between ‘reduced_lunch’and‘school_rating’. \n",
    "        The values in the correlation matrix table will be between -1 and 1. \n",
    "        A value of -1 indicates the strongest possible negative correlation, meaning as one variable decreases the other increases. \n",
    "        And a value of 1 indicates the opposite."
   ]
  },
  {
   "cell_type": "code",
   "execution_count": 68,
   "metadata": {},
   "outputs": [
    {
     "data": {
      "text/html": [
       "<div>\n",
       "<style scoped>\n",
       "    .dataframe tbody tr th:only-of-type {\n",
       "        vertical-align: middle;\n",
       "    }\n",
       "\n",
       "    .dataframe tbody tr th {\n",
       "        vertical-align: top;\n",
       "    }\n",
       "\n",
       "    .dataframe thead th {\n",
       "        text-align: right;\n",
       "    }\n",
       "</style>\n",
       "<table border=\"1\" class=\"dataframe\">\n",
       "  <thead>\n",
       "    <tr style=\"text-align: right;\">\n",
       "      <th></th>\n",
       "      <th>school_rating</th>\n",
       "      <th>size</th>\n",
       "      <th>reduced_lunch</th>\n",
       "      <th>state_percentile_16</th>\n",
       "      <th>state_percentile_15</th>\n",
       "      <th>stu_teach_ratio</th>\n",
       "      <th>avg_score_15</th>\n",
       "      <th>avg_score_16</th>\n",
       "      <th>full_time_teachers</th>\n",
       "      <th>percent_black</th>\n",
       "      <th>percent_white</th>\n",
       "      <th>percent_asian</th>\n",
       "      <th>percent_hispanic</th>\n",
       "    </tr>\n",
       "  </thead>\n",
       "  <tbody>\n",
       "    <tr>\n",
       "      <th>school_rating</th>\n",
       "      <td>1.000000</td>\n",
       "      <td>0.181428</td>\n",
       "      <td>-0.815757</td>\n",
       "      <td>0.985545</td>\n",
       "      <td>0.937817</td>\n",
       "      <td>0.203459</td>\n",
       "      <td>0.941336</td>\n",
       "      <td>0.982390</td>\n",
       "      <td>0.122910</td>\n",
       "      <td>-0.593869</td>\n",
       "      <td>0.639014</td>\n",
       "      <td>0.161469</td>\n",
       "      <td>-0.376288</td>\n",
       "    </tr>\n",
       "    <tr>\n",
       "      <th>size</th>\n",
       "      <td>0.181428</td>\n",
       "      <td>1.000000</td>\n",
       "      <td>-0.277807</td>\n",
       "      <td>0.171060</td>\n",
       "      <td>0.162887</td>\n",
       "      <td>0.143173</td>\n",
       "      <td>0.161788</td>\n",
       "      <td>0.143289</td>\n",
       "      <td>0.966880</td>\n",
       "      <td>-0.148405</td>\n",
       "      <td>0.102904</td>\n",
       "      <td>0.193491</td>\n",
       "      <td>-0.017660</td>\n",
       "    </tr>\n",
       "    <tr>\n",
       "      <th>reduced_lunch</th>\n",
       "      <td>-0.815757</td>\n",
       "      <td>-0.277807</td>\n",
       "      <td>1.000000</td>\n",
       "      <td>-0.815720</td>\n",
       "      <td>-0.825085</td>\n",
       "      <td>-0.197428</td>\n",
       "      <td>-0.839536</td>\n",
       "      <td>-0.816479</td>\n",
       "      <td>-0.214848</td>\n",
       "      <td>0.562921</td>\n",
       "      <td>-0.668327</td>\n",
       "      <td>-0.226385</td>\n",
       "      <td>0.490446</td>\n",
       "    </tr>\n",
       "    <tr>\n",
       "      <th>state_percentile_16</th>\n",
       "      <td>0.985545</td>\n",
       "      <td>0.171060</td>\n",
       "      <td>-0.815720</td>\n",
       "      <td>1.000000</td>\n",
       "      <td>0.949694</td>\n",
       "      <td>0.186893</td>\n",
       "      <td>0.949197</td>\n",
       "      <td>0.994085</td>\n",
       "      <td>0.117061</td>\n",
       "      <td>-0.573810</td>\n",
       "      <td>0.625374</td>\n",
       "      <td>0.151021</td>\n",
       "      <td>-0.383017</td>\n",
       "    </tr>\n",
       "    <tr>\n",
       "      <th>state_percentile_15</th>\n",
       "      <td>0.937817</td>\n",
       "      <td>0.162887</td>\n",
       "      <td>-0.825085</td>\n",
       "      <td>0.949694</td>\n",
       "      <td>1.000000</td>\n",
       "      <td>0.141066</td>\n",
       "      <td>0.991847</td>\n",
       "      <td>0.946101</td>\n",
       "      <td>0.109569</td>\n",
       "      <td>-0.564929</td>\n",
       "      <td>0.612183</td>\n",
       "      <td>0.181822</td>\n",
       "      <td>-0.371708</td>\n",
       "    </tr>\n",
       "    <tr>\n",
       "      <th>stu_teach_ratio</th>\n",
       "      <td>0.203459</td>\n",
       "      <td>0.143173</td>\n",
       "      <td>-0.197428</td>\n",
       "      <td>0.186893</td>\n",
       "      <td>0.141066</td>\n",
       "      <td>1.000000</td>\n",
       "      <td>0.147963</td>\n",
       "      <td>0.175880</td>\n",
       "      <td>0.019594</td>\n",
       "      <td>-0.122307</td>\n",
       "      <td>0.134595</td>\n",
       "      <td>0.089211</td>\n",
       "      <td>-0.089307</td>\n",
       "    </tr>\n",
       "    <tr>\n",
       "      <th>avg_score_15</th>\n",
       "      <td>0.941336</td>\n",
       "      <td>0.161788</td>\n",
       "      <td>-0.839536</td>\n",
       "      <td>0.949197</td>\n",
       "      <td>0.991847</td>\n",
       "      <td>0.147963</td>\n",
       "      <td>1.000000</td>\n",
       "      <td>0.953714</td>\n",
       "      <td>0.105186</td>\n",
       "      <td>-0.595062</td>\n",
       "      <td>0.637500</td>\n",
       "      <td>0.192656</td>\n",
       "      <td>-0.374300</td>\n",
       "    </tr>\n",
       "    <tr>\n",
       "      <th>avg_score_16</th>\n",
       "      <td>0.982390</td>\n",
       "      <td>0.143289</td>\n",
       "      <td>-0.816479</td>\n",
       "      <td>0.994085</td>\n",
       "      <td>0.946101</td>\n",
       "      <td>0.175880</td>\n",
       "      <td>0.953714</td>\n",
       "      <td>1.000000</td>\n",
       "      <td>0.089338</td>\n",
       "      <td>-0.592876</td>\n",
       "      <td>0.635201</td>\n",
       "      <td>0.172739</td>\n",
       "      <td>-0.373618</td>\n",
       "    </tr>\n",
       "    <tr>\n",
       "      <th>full_time_teachers</th>\n",
       "      <td>0.122910</td>\n",
       "      <td>0.966880</td>\n",
       "      <td>-0.214848</td>\n",
       "      <td>0.117061</td>\n",
       "      <td>0.109569</td>\n",
       "      <td>0.019594</td>\n",
       "      <td>0.105186</td>\n",
       "      <td>0.089338</td>\n",
       "      <td>1.000000</td>\n",
       "      <td>-0.113515</td>\n",
       "      <td>0.055672</td>\n",
       "      <td>0.146726</td>\n",
       "      <td>0.026130</td>\n",
       "    </tr>\n",
       "    <tr>\n",
       "      <th>percent_black</th>\n",
       "      <td>-0.593869</td>\n",
       "      <td>-0.148405</td>\n",
       "      <td>0.562921</td>\n",
       "      <td>-0.573810</td>\n",
       "      <td>-0.564929</td>\n",
       "      <td>-0.122307</td>\n",
       "      <td>-0.595062</td>\n",
       "      <td>-0.592876</td>\n",
       "      <td>-0.113515</td>\n",
       "      <td>1.000000</td>\n",
       "      <td>-0.874202</td>\n",
       "      <td>-0.112274</td>\n",
       "      <td>0.086627</td>\n",
       "    </tr>\n",
       "    <tr>\n",
       "      <th>percent_white</th>\n",
       "      <td>0.639014</td>\n",
       "      <td>0.102904</td>\n",
       "      <td>-0.668327</td>\n",
       "      <td>0.625374</td>\n",
       "      <td>0.612183</td>\n",
       "      <td>0.134595</td>\n",
       "      <td>0.637500</td>\n",
       "      <td>0.635201</td>\n",
       "      <td>0.055672</td>\n",
       "      <td>-0.874202</td>\n",
       "      <td>1.000000</td>\n",
       "      <td>-0.092287</td>\n",
       "      <td>-0.537571</td>\n",
       "    </tr>\n",
       "    <tr>\n",
       "      <th>percent_asian</th>\n",
       "      <td>0.161469</td>\n",
       "      <td>0.193491</td>\n",
       "      <td>-0.226385</td>\n",
       "      <td>0.151021</td>\n",
       "      <td>0.181822</td>\n",
       "      <td>0.089211</td>\n",
       "      <td>0.192656</td>\n",
       "      <td>0.172739</td>\n",
       "      <td>0.146726</td>\n",
       "      <td>-0.112274</td>\n",
       "      <td>-0.092287</td>\n",
       "      <td>1.000000</td>\n",
       "      <td>0.187277</td>\n",
       "    </tr>\n",
       "    <tr>\n",
       "      <th>percent_hispanic</th>\n",
       "      <td>-0.376288</td>\n",
       "      <td>-0.017660</td>\n",
       "      <td>0.490446</td>\n",
       "      <td>-0.383017</td>\n",
       "      <td>-0.371708</td>\n",
       "      <td>-0.089307</td>\n",
       "      <td>-0.374300</td>\n",
       "      <td>-0.373618</td>\n",
       "      <td>0.026130</td>\n",
       "      <td>0.086627</td>\n",
       "      <td>-0.537571</td>\n",
       "      <td>0.187277</td>\n",
       "      <td>1.000000</td>\n",
       "    </tr>\n",
       "  </tbody>\n",
       "</table>\n",
       "</div>"
      ],
      "text/plain": [
       "                     school_rating      size  reduced_lunch  \\\n",
       "school_rating             1.000000  0.181428      -0.815757   \n",
       "size                      0.181428  1.000000      -0.277807   \n",
       "reduced_lunch            -0.815757 -0.277807       1.000000   \n",
       "state_percentile_16       0.985545  0.171060      -0.815720   \n",
       "state_percentile_15       0.937817  0.162887      -0.825085   \n",
       "stu_teach_ratio           0.203459  0.143173      -0.197428   \n",
       "avg_score_15              0.941336  0.161788      -0.839536   \n",
       "avg_score_16              0.982390  0.143289      -0.816479   \n",
       "full_time_teachers        0.122910  0.966880      -0.214848   \n",
       "percent_black            -0.593869 -0.148405       0.562921   \n",
       "percent_white             0.639014  0.102904      -0.668327   \n",
       "percent_asian             0.161469  0.193491      -0.226385   \n",
       "percent_hispanic         -0.376288 -0.017660       0.490446   \n",
       "\n",
       "                     state_percentile_16  state_percentile_15  \\\n",
       "school_rating                   0.985545             0.937817   \n",
       "size                            0.171060             0.162887   \n",
       "reduced_lunch                  -0.815720            -0.825085   \n",
       "state_percentile_16             1.000000             0.949694   \n",
       "state_percentile_15             0.949694             1.000000   \n",
       "stu_teach_ratio                 0.186893             0.141066   \n",
       "avg_score_15                    0.949197             0.991847   \n",
       "avg_score_16                    0.994085             0.946101   \n",
       "full_time_teachers              0.117061             0.109569   \n",
       "percent_black                  -0.573810            -0.564929   \n",
       "percent_white                   0.625374             0.612183   \n",
       "percent_asian                   0.151021             0.181822   \n",
       "percent_hispanic               -0.383017            -0.371708   \n",
       "\n",
       "                     stu_teach_ratio  avg_score_15  avg_score_16  \\\n",
       "school_rating               0.203459      0.941336      0.982390   \n",
       "size                        0.143173      0.161788      0.143289   \n",
       "reduced_lunch              -0.197428     -0.839536     -0.816479   \n",
       "state_percentile_16         0.186893      0.949197      0.994085   \n",
       "state_percentile_15         0.141066      0.991847      0.946101   \n",
       "stu_teach_ratio             1.000000      0.147963      0.175880   \n",
       "avg_score_15                0.147963      1.000000      0.953714   \n",
       "avg_score_16                0.175880      0.953714      1.000000   \n",
       "full_time_teachers          0.019594      0.105186      0.089338   \n",
       "percent_black              -0.122307     -0.595062     -0.592876   \n",
       "percent_white               0.134595      0.637500      0.635201   \n",
       "percent_asian               0.089211      0.192656      0.172739   \n",
       "percent_hispanic           -0.089307     -0.374300     -0.373618   \n",
       "\n",
       "                     full_time_teachers  percent_black  percent_white  \\\n",
       "school_rating                  0.122910      -0.593869       0.639014   \n",
       "size                           0.966880      -0.148405       0.102904   \n",
       "reduced_lunch                 -0.214848       0.562921      -0.668327   \n",
       "state_percentile_16            0.117061      -0.573810       0.625374   \n",
       "state_percentile_15            0.109569      -0.564929       0.612183   \n",
       "stu_teach_ratio                0.019594      -0.122307       0.134595   \n",
       "avg_score_15                   0.105186      -0.595062       0.637500   \n",
       "avg_score_16                   0.089338      -0.592876       0.635201   \n",
       "full_time_teachers             1.000000      -0.113515       0.055672   \n",
       "percent_black                 -0.113515       1.000000      -0.874202   \n",
       "percent_white                  0.055672      -0.874202       1.000000   \n",
       "percent_asian                  0.146726      -0.112274      -0.092287   \n",
       "percent_hispanic               0.026130       0.086627      -0.537571   \n",
       "\n",
       "                     percent_asian  percent_hispanic  \n",
       "school_rating             0.161469         -0.376288  \n",
       "size                      0.193491         -0.017660  \n",
       "reduced_lunch            -0.226385          0.490446  \n",
       "state_percentile_16       0.151021         -0.383017  \n",
       "state_percentile_15       0.181822         -0.371708  \n",
       "stu_teach_ratio           0.089211         -0.089307  \n",
       "avg_score_15              0.192656         -0.374300  \n",
       "avg_score_16              0.172739         -0.373618  \n",
       "full_time_teachers        0.146726          0.026130  \n",
       "percent_black            -0.112274          0.086627  \n",
       "percent_white            -0.092287         -0.537571  \n",
       "percent_asian             1.000000          0.187277  \n",
       "percent_hispanic          0.187277          1.000000  "
      ]
     },
     "execution_count": 68,
     "metadata": {},
     "output_type": "execute_result"
    }
   ],
   "source": [
    "import matplotlib as plt\n",
    "\n",
    "correlation = Sch_data.corr()\n",
    "\n",
    "\n",
    "#Correlation between school_rating and reduced_lunch is -0.8157, i.e its highly correlated, \n",
    "#reduced_lunch increases school_rating decreases\n",
    "correlation"
   ]
  },
  {
   "cell_type": "code",
   "execution_count": 69,
   "metadata": {},
   "outputs": [
    {
     "name": "stdout",
     "output_type": "stream",
     "text": [
      "               school_rating  reduced_lunch\n",
      "school_rating       1.000000      -0.815757\n",
      "reduced_lunch      -0.815757       1.000000\n"
     ]
    }
   ],
   "source": [
    "#Considered only 2 filed for correlation\n",
    "sch2_data = Sch_data.loc[:, ['school_rating', 'reduced_lunch']]\n",
    "correlation1 = sch2_data.corr()\n",
    "print(correlation1)\n",
    "\n",
    "#or \n",
    "# sch2_data[['reduced_lunch', 'school_rating']].corr()"
   ]
  },
  {
   "cell_type": "markdown",
   "metadata": {},
   "source": [
    "## Phase 4 –Scatter Plot\n",
    "    Find the relationship between school_rating and reduced_lunch, \n",
    "     Plot a graph with the two variables on a scatter plot. \n",
    "        Each dot represents a school. \n",
    "        The placement of the dot represents that school's rating (Y-axis) \n",
    "        and the percentage of its students on reduced lunch    (x-axis).    \n",
    "        \n",
    "        The    downward    trend    line    shows    the    negative    correlation between\n",
    "        school_rating and reduced_lunch(as one increases, the other decreases). \n",
    "        \n",
    "        The slope of the trend line indicates how much school_rating decreases as reduced_lunch increases.  \n",
    "        A  steeper  slope  would  indicate  that  a  small  change inreduced_lunch has  a  big  impact  onschool_rating\n",
    "        while  a  more  horizontal  slope would  indicate  that  the  same  small  change  in reduced_lunch has  a  smaller  \n",
    "        impact on school_rating"
   ]
  },
  {
   "cell_type": "code",
   "execution_count": 70,
   "metadata": {},
   "outputs": [
    {
     "data": {
      "text/plain": [
       "<Figure size 640x480 with 1 Axes>"
      ]
     },
     "metadata": {},
     "output_type": "display_data"
    }
   ],
   "source": [
    "import matplotlib.pyplot as plt\n",
    "import numpy as np\n",
    "\n",
    "x = Sch_data.loc[:, ['reduced_lunch']]\n",
    "y = Sch_data.loc[:, ['school_rating']]\n",
    "\n",
    "plt.scatter(x, y)\n",
    "#plt.scatter(Sch_data.loc[:, ['reduced_lunch']], Sch_data.loc[:, ['school_rating']])\n",
    "plt.xlabel(\"reduced_lunch\")\n",
    "plt.ylabel(\"school_rating'\")\n",
    "plt.show()"
   ]
  },
  {
   "cell_type": "code",
   "execution_count": 71,
   "metadata": {},
   "outputs": [
    {
     "name": "stderr",
     "output_type": "stream",
     "text": [
      "C:\\Users\\prabh\\Anaconda3\\lib\\site-packages\\scipy\\stats\\stats.py:1713: FutureWarning: Using a non-tuple sequence for multidimensional indexing is deprecated; use `arr[tuple(seq)]` instead of `arr[seq]`. In the future this will be interpreted as an array index, `arr[np.array(seq)]`, which will result either in an error or a different result.\n",
      "  return np.add.reduce(sorted[indexer] * weights, axis=axis) / sumval\n"
     ]
    },
    {
     "data": {
      "image/png": "[encoded data removed]",
      "text/plain": [
       "<Figure size 1008x576 with 1 Axes>"
      ]
     },
     "metadata": {
      "needs_background": "light"
     },
     "output_type": "display_data"
    }
   ],
   "source": [
    "#Method 2 Edu sol\n",
    "\n",
    "import pandas as pd\n",
    "import matplotlib.pyplot as plt\n",
    "import seaborn as sns\n",
    "plt.figure(figsize=(14,8)) # set the size of the graph\n",
    "_ = sns.regplot(data=Sch_data, x='reduced_lunch', y='school_rating')\n",
    "plt.show()"
   ]
  },
  {
   "cell_type": "markdown",
   "metadata": {},
   "source": [
    "## Phase 5 –Correlation Matrix\n",
    "    An efficient graph for assessing relationships is the correlation matrix, as seen below; \n",
    "    its  color-coded  cells  make  it  easier  to  interpret  than  the  tabular  correlation  matrix above. \n",
    "    Red cells indicate positive correlation; \n",
    "    blue cells indicate negative correlation; white cells indicate no correlation. \n",
    "    The darker the colors, the stronger the correlation (positive or negative) between those two variables.\n",
    "    Draw a graph of correlation matrix having all important fields of data frame\n",
    "    "
   ]
  },
  {
   "cell_type": "code",
   "execution_count": 72,
   "metadata": {},
   "outputs": [
    {
     "data": {
      "image/png": "[encoded data removed]",
      "text/plain": [
       "<Figure size 936x720 with 2 Axes>"
      ]
     },
     "metadata": {
      "needs_background": "light"
     },
     "output_type": "display_data"
    }
   ],
   "source": [
    "import seaborn as sns\n",
    "\n",
    "#Considered all filed for correlation\n",
    "correlation = Sch_data.corr()\n",
    "# RdBu_r  are for red and blue comb, YlGnBu for YellowGeenBlue comb\n",
    "_, ax = plt.subplots(figsize=(13,10))   #Graph size\n",
    "sns.heatmap(correlation, cmap =\"RdBu_r\")\n",
    "#OR # graph correlation matrix\n",
    "# _ = sns.heatmap(correlation, ax=ax, xticklabels=corr.columns.values, yticklabels=corr.columns.values)\n",
    "\n",
    "plt.title(\"Correlation Matrx\")\n",
    "plt.show()"
   ]
  },
  {
   "cell_type": "markdown",
   "metadata": {},
   "source": [
    "# MODULE 4 CS-2 - Domain –Education\n",
    "    focus –Data analysis\n",
    "    Business challenge/requirementYou are a data analyst with University of Cal USA (Not a machine learning expert yet as \n",
    "     you still have not completed ML with Python Course :-)).\n",
    "    \n",
    "    The University has data of Math, Physics and Data Structure  score of sophomore students. \n",
    "    This data is stored indifferent files. \n",
    "    The University has hired a data science company to do analysis of scores and find if there is any correlation ofscore \n",
    "    with age, ethnicity etc. Before the data is given to the company you have to do data wrangling.\n",
    "    \n",
    "    Key issues\n",
    "        Ensure students identify is not revealed   to the agency and only relevant data is shared"
   ]
  },
  {
   "cell_type": "markdown",
   "metadata": {},
   "source": [
    "## Approach to SolveYou have to use fundamentals of Numpy and Pandas covered in module4.  \n",
    "    1.Read the three csv files which contains the score of same students in term1 for each Subject\n",
    "    2.Remove the name and ethnicity column (to ensure confidentiality)\n",
    "    3.Fill missing score data with zero\n",
    "    4.Merge the three files\n",
    "    5.Change Sex(M/F) Columnto 1/2 for further analysis\n",
    "    6.Store the data in new file –ScoreFinal.csvEnhancements for code\n",
    "    \n",
    "        You can try these enhancements in code\n",
    "            1.Convert ethnicity to numericalvalue\n",
    "            2.Fill the missing score for a student tothe average of the class\n"
   ]
  },
  {
   "cell_type": "code",
   "execution_count": 1,
   "metadata": {},
   "outputs": [
    {
     "name": "stdout",
     "output_type": "stream",
     "text": [
      "Maths:\n",
      "              Name  Score  Age         Ethinicity Subject Sex  ID\n",
      "0  AI-KYUNG CHUNG   88.0   18     White American   Maths   M   1\n",
      "1     ALAN HARVEY   85.0   19  European American   Maths   M   2\n",
      "2    ALAN REYNAUD   45.0   19  European American   Maths   M   3\n",
      "3  ALBERT CENDANA   82.0   18     White American   Maths   M   4\n",
      "4  ALBERT HOLT JR   82.0   18     White American   Maths   F   5\n",
      "Physics:\n",
      "              Name  Score  Age         Ethinicity  Subject Sex  ID\n",
      "0  AI-KYUNG CHUNG   84.0   18     White American  Physics   M   1\n",
      "1     ALAN HARVEY   81.0   19  European American  Physics   M   2\n",
      "2    ALAN REYNAUD   41.0   19  European American  Physics   M   3\n",
      "3  ALBERT CENDANA   78.0   18     White American  Physics   M   4\n",
      "4  ALBERT HOLT JR   78.0   18     White American  Physics   F   5\n",
      "Datastructure:\n",
      "              Name  Score  Age         Ethinicity        Subject Sex  ID\n",
      "0  AI-KYUNG CHUNG   82.0   18     White American  Data Structue   M   1\n",
      "1     ALAN HARVEY   79.0   19  European American  Data Structue   M   2\n",
      "2    ALAN REYNAUD   39.0   19  European American  Data Structue   M   3\n",
      "3  ALBERT CENDANA   76.0   18     White American  Data Structue   M   4\n",
      "4  ALBERT HOLT JR   76.0   18     White American  Data Structue   F   5\n"
     ]
    }
   ],
   "source": [
    "import pandas as pd\n",
    "import numpy as np\n",
    "\n",
    "# 1.Read the three csv files which contains the score of same students in term1 for each Subject\n",
    "\n",
    "math_df = pd.read_csv(r\"..\\Dataset\\MathScoreTerm1.csv\", delimiter=',')\n",
    "print(\"Maths:\\n\" , math_df.head())\n",
    "phys_df = pd.read_csv(r\"..\\Dataset\\PhysicsScoreTerm1.csv\", delimiter=',')\n",
    "print(\"Physics:\\n\" , phys_df.head())\n",
    "ds_df = pd.read_csv(r\"..\\Dataset\\DSScoreTerm1.csv\", delimiter=',')\n",
    "print(\"Datastructure:\\n\" , ds_df.head())"
   ]
  },
  {
   "cell_type": "code",
   "execution_count": 2,
   "metadata": {},
   "outputs": [
    {
     "name": "stdout",
     "output_type": "stream",
     "text": [
      "Maths:\n",
      "    Score  Age Subject Sex  ID\n",
      "0   88.0   18   Maths   M   1\n",
      "1   85.0   19   Maths   M   2\n",
      "2   45.0   19   Maths   M   3\n",
      "3   82.0   18   Maths   M   4\n",
      "4   82.0   18   Maths   F   5\n",
      "Physics:\n",
      "    Score  Age  Subject Sex  ID\n",
      "0   84.0   18  Physics   M   1\n",
      "1   81.0   19  Physics   M   2\n",
      "2   41.0   19  Physics   M   3\n",
      "3   78.0   18  Physics   M   4\n",
      "4   78.0   18  Physics   F   5\n",
      "Datastructure:\n",
      "    Score  Age        Subject Sex  ID\n",
      "0   82.0   18  Data Structue   M   1\n",
      "1   79.0   19  Data Structue   M   2\n",
      "2   39.0   19  Data Structue   M   3\n",
      "3   76.0   18  Data Structue   M   4\n",
      "4   76.0   18  Data Structue   F   5\n"
     ]
    }
   ],
   "source": [
    "# 2.Remove the name and ethnicity column (to ensure confidentiality)\n",
    "math_df.drop(['Name','Ethinicity'], axis=1, inplace = True)\n",
    "print(\"Maths:\\n\" , math_df.head())\n",
    "\n",
    "phys_df.drop(['Name','Ethinicity'], axis=1, inplace = True)\n",
    "print(\"Physics:\\n\" , phys_df.head())\n",
    "\n",
    "ds_df.drop(['Name','Ethinicity'], axis=1, inplace = True)\n",
    "print(\"Datastructure:\\n\" , ds_df.head())"
   ]
  },
  {
   "cell_type": "code",
   "execution_count": 3,
   "metadata": {},
   "outputs": [
    {
     "name": "stdout",
     "output_type": "stream",
     "text": [
      "Score      3\n",
      "Age        0\n",
      "Subject    0\n",
      "Sex        0\n",
      "ID         0\n",
      "dtype: int64\n",
      "Before nan replace \n",
      "             Score         Age          ID\n",
      "count  596.000000  599.000000  599.000000\n",
      "mean    74.348993   19.121870  300.000000\n",
      "std     16.217918    1.052234  173.060683\n",
      "min     31.000000   18.000000    1.000000\n",
      "25%     65.000000   18.000000  150.500000\n",
      "50%     78.500000   19.000000  300.000000\n",
      "75%     88.000000   20.000000  449.500000\n",
      "max     95.000000   21.000000  599.000000\n",
      "After nan replace \n",
      "             Score         Age          ID\n",
      "count  599.000000  599.000000  599.000000\n",
      "mean    73.976628   19.121870  300.000000\n",
      "std     17.008638    1.052234  173.060683\n",
      "min      0.000000   18.000000    1.000000\n",
      "25%     65.000000   18.000000  150.500000\n",
      "50%     75.000000   19.000000  300.000000\n",
      "75%     88.000000   20.000000  449.500000\n",
      "max     95.000000   21.000000  599.000000\n",
      "Before nan replace \n",
      "             Score         Age          ID\n",
      "count  593.000000  599.000000  599.000000\n",
      "mean    70.598651   19.121870  300.000000\n",
      "std     15.997280    1.052234  173.060683\n",
      "min     27.000000   18.000000    1.000000\n",
      "25%     61.000000   18.000000  150.500000\n",
      "50%     78.000000   19.000000  300.000000\n",
      "75%     84.000000   20.000000  449.500000\n",
      "max     94.000000   21.000000  599.000000\n",
      "After nan replace \n",
      "             Score         Age          ID\n",
      "count  599.000000  599.000000  599.000000\n",
      "mean    69.891486   19.121870  300.000000\n",
      "std     17.402665    1.052234  173.060683\n",
      "min      0.000000   18.000000    1.000000\n",
      "25%     61.000000   18.000000  150.500000\n",
      "50%     71.000000   19.000000  300.000000\n",
      "75%     84.000000   20.000000  449.500000\n",
      "max     94.000000   21.000000  599.000000\n",
      "Before nan replace \n",
      "             Score         Age          ID\n",
      "count  591.000000  599.000000  599.000000\n",
      "mean    68.367174   19.121870  300.000000\n",
      "std     16.161543    1.052234  173.060683\n",
      "min     25.000000   18.000000    1.000000\n",
      "25%     59.000000   18.000000  150.500000\n",
      "50%     69.000000   19.000000  300.000000\n",
      "75%     82.000000   20.000000  449.500000\n",
      "max     89.000000   21.000000  599.000000\n",
      "After nan replace \n",
      "             Score         Age          ID\n",
      "count  599.000000  599.000000  599.000000\n",
      "mean    67.454090   19.121870  300.000000\n",
      "std     17.871639    1.052234  173.060683\n",
      "min      0.000000   18.000000    1.000000\n",
      "25%     59.000000   18.000000  150.500000\n",
      "50%     69.000000   19.000000  300.000000\n",
      "75%     82.000000   20.000000  449.500000\n",
      "max     89.000000   21.000000  599.000000\n"
     ]
    }
   ],
   "source": [
    "#3.Fill missing score data with zero\n",
    "\n",
    "# print Summary of missing values in Term1 Data\n",
    "print (math_df.isnull().sum())\n",
    "\n",
    "print(\"Before nan replace \\n\" , math_df.describe())\n",
    "math_df['Score'].fillna(0, inplace = True)\n",
    "#or \n",
    "#math_df['Score'] = math_df['Score'].fillna(0)\n",
    "print(\"After nan replace \\n\" , math_df.describe())\n",
    "\n",
    "print(\"Before nan replace \\n\" , phys_df.describe())\n",
    "phys_df['Score'].fillna(0, inplace = True)\n",
    "print(\"After nan replace \\n\" , phys_df.describe())\n",
    "\n",
    "print(\"Before nan replace \\n\" , ds_df.describe())\n",
    "ds_df['Score'].fillna(0, inplace = True)\n",
    "print(\"After nan replace \\n\" , ds_df.describe())"
   ]
  },
  {
   "cell_type": "code",
   "execution_count": 4,
   "metadata": {},
   "outputs": [
    {
     "data": {
      "text/html": [
       "<div>\n",
       "<style scoped>\n",
       "    .dataframe tbody tr th:only-of-type {\n",
       "        vertical-align: middle;\n",
       "    }\n",
       "\n",
       "    .dataframe tbody tr th {\n",
       "        vertical-align: top;\n",
       "    }\n",
       "\n",
       "    .dataframe thead th {\n",
       "        text-align: right;\n",
       "    }\n",
       "</style>\n",
       "<table border=\"1\" class=\"dataframe\">\n",
       "  <thead>\n",
       "    <tr style=\"text-align: right;\">\n",
       "      <th></th>\n",
       "      <th>Score</th>\n",
       "      <th>Age</th>\n",
       "      <th>Subject</th>\n",
       "      <th>Sex</th>\n",
       "      <th>ID</th>\n",
       "    </tr>\n",
       "  </thead>\n",
       "  <tbody>\n",
       "    <tr>\n",
       "      <th>0</th>\n",
       "      <td>88.0</td>\n",
       "      <td>18</td>\n",
       "      <td>Maths</td>\n",
       "      <td>M</td>\n",
       "      <td>1</td>\n",
       "    </tr>\n",
       "    <tr>\n",
       "      <th>1</th>\n",
       "      <td>85.0</td>\n",
       "      <td>19</td>\n",
       "      <td>Maths</td>\n",
       "      <td>M</td>\n",
       "      <td>2</td>\n",
       "    </tr>\n",
       "    <tr>\n",
       "      <th>2</th>\n",
       "      <td>45.0</td>\n",
       "      <td>19</td>\n",
       "      <td>Maths</td>\n",
       "      <td>M</td>\n",
       "      <td>3</td>\n",
       "    </tr>\n",
       "    <tr>\n",
       "      <th>3</th>\n",
       "      <td>82.0</td>\n",
       "      <td>18</td>\n",
       "      <td>Maths</td>\n",
       "      <td>M</td>\n",
       "      <td>4</td>\n",
       "    </tr>\n",
       "    <tr>\n",
       "      <th>4</th>\n",
       "      <td>82.0</td>\n",
       "      <td>18</td>\n",
       "      <td>Maths</td>\n",
       "      <td>F</td>\n",
       "      <td>5</td>\n",
       "    </tr>\n",
       "    <tr>\n",
       "      <th>5</th>\n",
       "      <td>95.0</td>\n",
       "      <td>20</td>\n",
       "      <td>Maths</td>\n",
       "      <td>M</td>\n",
       "      <td>6</td>\n",
       "    </tr>\n",
       "    <tr>\n",
       "      <th>6</th>\n",
       "      <td>95.0</td>\n",
       "      <td>18</td>\n",
       "      <td>Maths</td>\n",
       "      <td>M</td>\n",
       "      <td>7</td>\n",
       "    </tr>\n",
       "    <tr>\n",
       "      <th>7</th>\n",
       "      <td>65.0</td>\n",
       "      <td>19</td>\n",
       "      <td>Maths</td>\n",
       "      <td>M</td>\n",
       "      <td>8</td>\n",
       "    </tr>\n",
       "    <tr>\n",
       "      <th>8</th>\n",
       "      <td>88.0</td>\n",
       "      <td>18</td>\n",
       "      <td>Maths</td>\n",
       "      <td>M</td>\n",
       "      <td>9</td>\n",
       "    </tr>\n",
       "    <tr>\n",
       "      <th>9</th>\n",
       "      <td>88.0</td>\n",
       "      <td>19</td>\n",
       "      <td>Maths</td>\n",
       "      <td>F</td>\n",
       "      <td>10</td>\n",
       "    </tr>\n",
       "    <tr>\n",
       "      <th>10</th>\n",
       "      <td>53.0</td>\n",
       "      <td>20</td>\n",
       "      <td>Maths</td>\n",
       "      <td>M</td>\n",
       "      <td>11</td>\n",
       "    </tr>\n",
       "    <tr>\n",
       "      <th>11</th>\n",
       "      <td>53.0</td>\n",
       "      <td>20</td>\n",
       "      <td>Maths</td>\n",
       "      <td>M</td>\n",
       "      <td>12</td>\n",
       "    </tr>\n",
       "    <tr>\n",
       "      <th>12</th>\n",
       "      <td>66.0</td>\n",
       "      <td>19</td>\n",
       "      <td>Maths</td>\n",
       "      <td>M</td>\n",
       "      <td>13</td>\n",
       "    </tr>\n",
       "    <tr>\n",
       "      <th>13</th>\n",
       "      <td>88.0</td>\n",
       "      <td>18</td>\n",
       "      <td>Maths</td>\n",
       "      <td>M</td>\n",
       "      <td>14</td>\n",
       "    </tr>\n",
       "    <tr>\n",
       "      <th>14</th>\n",
       "      <td>88.0</td>\n",
       "      <td>21</td>\n",
       "      <td>Maths</td>\n",
       "      <td>F</td>\n",
       "      <td>15</td>\n",
       "    </tr>\n",
       "    <tr>\n",
       "      <th>15</th>\n",
       "      <td>82.0</td>\n",
       "      <td>20</td>\n",
       "      <td>Maths</td>\n",
       "      <td>M</td>\n",
       "      <td>16</td>\n",
       "    </tr>\n",
       "    <tr>\n",
       "      <th>16</th>\n",
       "      <td>31.0</td>\n",
       "      <td>18</td>\n",
       "      <td>Maths</td>\n",
       "      <td>M</td>\n",
       "      <td>17</td>\n",
       "    </tr>\n",
       "    <tr>\n",
       "      <th>17</th>\n",
       "      <td>95.0</td>\n",
       "      <td>18</td>\n",
       "      <td>Maths</td>\n",
       "      <td>M</td>\n",
       "      <td>18</td>\n",
       "    </tr>\n",
       "    <tr>\n",
       "      <th>18</th>\n",
       "      <td>91.0</td>\n",
       "      <td>18</td>\n",
       "      <td>Maths</td>\n",
       "      <td>M</td>\n",
       "      <td>19</td>\n",
       "    </tr>\n",
       "    <tr>\n",
       "      <th>19</th>\n",
       "      <td>66.0</td>\n",
       "      <td>18</td>\n",
       "      <td>Maths</td>\n",
       "      <td>F</td>\n",
       "      <td>20</td>\n",
       "    </tr>\n",
       "    <tr>\n",
       "      <th>20</th>\n",
       "      <td>82.0</td>\n",
       "      <td>18</td>\n",
       "      <td>Maths</td>\n",
       "      <td>M</td>\n",
       "      <td>21</td>\n",
       "    </tr>\n",
       "    <tr>\n",
       "      <th>21</th>\n",
       "      <td>66.0</td>\n",
       "      <td>18</td>\n",
       "      <td>Maths</td>\n",
       "      <td>M</td>\n",
       "      <td>22</td>\n",
       "    </tr>\n",
       "    <tr>\n",
       "      <th>22</th>\n",
       "      <td>75.0</td>\n",
       "      <td>18</td>\n",
       "      <td>Maths</td>\n",
       "      <td>M</td>\n",
       "      <td>23</td>\n",
       "    </tr>\n",
       "    <tr>\n",
       "      <th>23</th>\n",
       "      <td>65.0</td>\n",
       "      <td>19</td>\n",
       "      <td>Maths</td>\n",
       "      <td>M</td>\n",
       "      <td>24</td>\n",
       "    </tr>\n",
       "    <tr>\n",
       "      <th>24</th>\n",
       "      <td>91.0</td>\n",
       "      <td>20</td>\n",
       "      <td>Maths</td>\n",
       "      <td>F</td>\n",
       "      <td>25</td>\n",
       "    </tr>\n",
       "    <tr>\n",
       "      <th>25</th>\n",
       "      <td>91.0</td>\n",
       "      <td>18</td>\n",
       "      <td>Maths</td>\n",
       "      <td>M</td>\n",
       "      <td>26</td>\n",
       "    </tr>\n",
       "    <tr>\n",
       "      <th>26</th>\n",
       "      <td>53.0</td>\n",
       "      <td>20</td>\n",
       "      <td>Maths</td>\n",
       "      <td>M</td>\n",
       "      <td>27</td>\n",
       "    </tr>\n",
       "    <tr>\n",
       "      <th>27</th>\n",
       "      <td>91.0</td>\n",
       "      <td>20</td>\n",
       "      <td>Maths</td>\n",
       "      <td>M</td>\n",
       "      <td>28</td>\n",
       "    </tr>\n",
       "    <tr>\n",
       "      <th>28</th>\n",
       "      <td>88.0</td>\n",
       "      <td>21</td>\n",
       "      <td>Maths</td>\n",
       "      <td>M</td>\n",
       "      <td>29</td>\n",
       "    </tr>\n",
       "    <tr>\n",
       "      <th>29</th>\n",
       "      <td>85.0</td>\n",
       "      <td>19</td>\n",
       "      <td>Maths</td>\n",
       "      <td>F</td>\n",
       "      <td>30</td>\n",
       "    </tr>\n",
       "    <tr>\n",
       "      <th>...</th>\n",
       "      <td>...</td>\n",
       "      <td>...</td>\n",
       "      <td>...</td>\n",
       "      <td>...</td>\n",
       "      <td>...</td>\n",
       "    </tr>\n",
       "    <tr>\n",
       "      <th>569</th>\n",
       "      <td>59.0</td>\n",
       "      <td>19</td>\n",
       "      <td>Data Structue</td>\n",
       "      <td>F</td>\n",
       "      <td>570</td>\n",
       "    </tr>\n",
       "    <tr>\n",
       "      <th>570</th>\n",
       "      <td>39.0</td>\n",
       "      <td>19</td>\n",
       "      <td>Data Structue</td>\n",
       "      <td>M</td>\n",
       "      <td>571</td>\n",
       "    </tr>\n",
       "    <tr>\n",
       "      <th>571</th>\n",
       "      <td>76.0</td>\n",
       "      <td>20</td>\n",
       "      <td>Data Structue</td>\n",
       "      <td>M</td>\n",
       "      <td>572</td>\n",
       "    </tr>\n",
       "    <tr>\n",
       "      <th>572</th>\n",
       "      <td>47.0</td>\n",
       "      <td>18</td>\n",
       "      <td>Data Structue</td>\n",
       "      <td>M</td>\n",
       "      <td>573</td>\n",
       "    </tr>\n",
       "    <tr>\n",
       "      <th>573</th>\n",
       "      <td>79.0</td>\n",
       "      <td>18</td>\n",
       "      <td>Data Structue</td>\n",
       "      <td>M</td>\n",
       "      <td>574</td>\n",
       "    </tr>\n",
       "    <tr>\n",
       "      <th>574</th>\n",
       "      <td>69.0</td>\n",
       "      <td>20</td>\n",
       "      <td>Data Structue</td>\n",
       "      <td>F</td>\n",
       "      <td>575</td>\n",
       "    </tr>\n",
       "    <tr>\n",
       "      <th>575</th>\n",
       "      <td>79.0</td>\n",
       "      <td>21</td>\n",
       "      <td>Data Structue</td>\n",
       "      <td>M</td>\n",
       "      <td>576</td>\n",
       "    </tr>\n",
       "    <tr>\n",
       "      <th>576</th>\n",
       "      <td>69.0</td>\n",
       "      <td>18</td>\n",
       "      <td>Data Structue</td>\n",
       "      <td>M</td>\n",
       "      <td>577</td>\n",
       "    </tr>\n",
       "    <tr>\n",
       "      <th>577</th>\n",
       "      <td>79.0</td>\n",
       "      <td>19</td>\n",
       "      <td>Data Structue</td>\n",
       "      <td>M</td>\n",
       "      <td>578</td>\n",
       "    </tr>\n",
       "    <tr>\n",
       "      <th>578</th>\n",
       "      <td>76.0</td>\n",
       "      <td>18</td>\n",
       "      <td>Data Structue</td>\n",
       "      <td>M</td>\n",
       "      <td>579</td>\n",
       "    </tr>\n",
       "    <tr>\n",
       "      <th>579</th>\n",
       "      <td>59.0</td>\n",
       "      <td>21</td>\n",
       "      <td>Data Structue</td>\n",
       "      <td>F</td>\n",
       "      <td>580</td>\n",
       "    </tr>\n",
       "    <tr>\n",
       "      <th>580</th>\n",
       "      <td>89.0</td>\n",
       "      <td>18</td>\n",
       "      <td>Data Structue</td>\n",
       "      <td>M</td>\n",
       "      <td>581</td>\n",
       "    </tr>\n",
       "    <tr>\n",
       "      <th>581</th>\n",
       "      <td>85.0</td>\n",
       "      <td>20</td>\n",
       "      <td>Data Structue</td>\n",
       "      <td>M</td>\n",
       "      <td>582</td>\n",
       "    </tr>\n",
       "    <tr>\n",
       "      <th>582</th>\n",
       "      <td>39.0</td>\n",
       "      <td>21</td>\n",
       "      <td>Data Structue</td>\n",
       "      <td>M</td>\n",
       "      <td>583</td>\n",
       "    </tr>\n",
       "    <tr>\n",
       "      <th>583</th>\n",
       "      <td>89.0</td>\n",
       "      <td>18</td>\n",
       "      <td>Data Structue</td>\n",
       "      <td>M</td>\n",
       "      <td>584</td>\n",
       "    </tr>\n",
       "    <tr>\n",
       "      <th>584</th>\n",
       "      <td>85.0</td>\n",
       "      <td>18</td>\n",
       "      <td>Data Structue</td>\n",
       "      <td>F</td>\n",
       "      <td>585</td>\n",
       "    </tr>\n",
       "    <tr>\n",
       "      <th>585</th>\n",
       "      <td>47.0</td>\n",
       "      <td>20</td>\n",
       "      <td>Data Structue</td>\n",
       "      <td>M</td>\n",
       "      <td>586</td>\n",
       "    </tr>\n",
       "    <tr>\n",
       "      <th>586</th>\n",
       "      <td>79.0</td>\n",
       "      <td>19</td>\n",
       "      <td>Data Structue</td>\n",
       "      <td>M</td>\n",
       "      <td>587</td>\n",
       "    </tr>\n",
       "    <tr>\n",
       "      <th>587</th>\n",
       "      <td>39.0</td>\n",
       "      <td>18</td>\n",
       "      <td>Data Structue</td>\n",
       "      <td>M</td>\n",
       "      <td>588</td>\n",
       "    </tr>\n",
       "    <tr>\n",
       "      <th>588</th>\n",
       "      <td>82.0</td>\n",
       "      <td>19</td>\n",
       "      <td>Data Structue</td>\n",
       "      <td>M</td>\n",
       "      <td>589</td>\n",
       "    </tr>\n",
       "    <tr>\n",
       "      <th>589</th>\n",
       "      <td>76.0</td>\n",
       "      <td>20</td>\n",
       "      <td>Data Structue</td>\n",
       "      <td>F</td>\n",
       "      <td>590</td>\n",
       "    </tr>\n",
       "    <tr>\n",
       "      <th>590</th>\n",
       "      <td>59.0</td>\n",
       "      <td>19</td>\n",
       "      <td>Data Structue</td>\n",
       "      <td>M</td>\n",
       "      <td>591</td>\n",
       "    </tr>\n",
       "    <tr>\n",
       "      <th>591</th>\n",
       "      <td>82.0</td>\n",
       "      <td>19</td>\n",
       "      <td>Data Structue</td>\n",
       "      <td>M</td>\n",
       "      <td>592</td>\n",
       "    </tr>\n",
       "    <tr>\n",
       "      <th>592</th>\n",
       "      <td>85.0</td>\n",
       "      <td>20</td>\n",
       "      <td>Data Structue</td>\n",
       "      <td>M</td>\n",
       "      <td>593</td>\n",
       "    </tr>\n",
       "    <tr>\n",
       "      <th>593</th>\n",
       "      <td>82.0</td>\n",
       "      <td>19</td>\n",
       "      <td>Data Structue</td>\n",
       "      <td>M</td>\n",
       "      <td>594</td>\n",
       "    </tr>\n",
       "    <tr>\n",
       "      <th>594</th>\n",
       "      <td>39.0</td>\n",
       "      <td>19</td>\n",
       "      <td>Data Structue</td>\n",
       "      <td>F</td>\n",
       "      <td>595</td>\n",
       "    </tr>\n",
       "    <tr>\n",
       "      <th>595</th>\n",
       "      <td>69.0</td>\n",
       "      <td>18</td>\n",
       "      <td>Data Structue</td>\n",
       "      <td>M</td>\n",
       "      <td>596</td>\n",
       "    </tr>\n",
       "    <tr>\n",
       "      <th>596</th>\n",
       "      <td>47.0</td>\n",
       "      <td>20</td>\n",
       "      <td>Data Structue</td>\n",
       "      <td>M</td>\n",
       "      <td>597</td>\n",
       "    </tr>\n",
       "    <tr>\n",
       "      <th>597</th>\n",
       "      <td>69.0</td>\n",
       "      <td>20</td>\n",
       "      <td>Data Structue</td>\n",
       "      <td>M</td>\n",
       "      <td>598</td>\n",
       "    </tr>\n",
       "    <tr>\n",
       "      <th>598</th>\n",
       "      <td>0.0</td>\n",
       "      <td>19</td>\n",
       "      <td>Data Structue</td>\n",
       "      <td>M</td>\n",
       "      <td>599</td>\n",
       "    </tr>\n",
       "  </tbody>\n",
       "</table>\n",
       "<p>1797 rows × 5 columns</p>\n",
       "</div>"
      ],
      "text/plain": [
       "     Score  Age        Subject Sex   ID\n",
       "0     88.0   18          Maths   M    1\n",
       "1     85.0   19          Maths   M    2\n",
       "2     45.0   19          Maths   M    3\n",
       "3     82.0   18          Maths   M    4\n",
       "4     82.0   18          Maths   F    5\n",
       "5     95.0   20          Maths   M    6\n",
       "6     95.0   18          Maths   M    7\n",
       "7     65.0   19          Maths   M    8\n",
       "8     88.0   18          Maths   M    9\n",
       "9     88.0   19          Maths   F   10\n",
       "10    53.0   20          Maths   M   11\n",
       "11    53.0   20          Maths   M   12\n",
       "12    66.0   19          Maths   M   13\n",
       "13    88.0   18          Maths   M   14\n",
       "14    88.0   21          Maths   F   15\n",
       "15    82.0   20          Maths   M   16\n",
       "16    31.0   18          Maths   M   17\n",
       "17    95.0   18          Maths   M   18\n",
       "18    91.0   18          Maths   M   19\n",
       "19    66.0   18          Maths   F   20\n",
       "20    82.0   18          Maths   M   21\n",
       "21    66.0   18          Maths   M   22\n",
       "22    75.0   18          Maths   M   23\n",
       "23    65.0   19          Maths   M   24\n",
       "24    91.0   20          Maths   F   25\n",
       "25    91.0   18          Maths   M   26\n",
       "26    53.0   20          Maths   M   27\n",
       "27    91.0   20          Maths   M   28\n",
       "28    88.0   21          Maths   M   29\n",
       "29    85.0   19          Maths   F   30\n",
       "..     ...  ...            ...  ..  ...\n",
       "569   59.0   19  Data Structue   F  570\n",
       "570   39.0   19  Data Structue   M  571\n",
       "571   76.0   20  Data Structue   M  572\n",
       "572   47.0   18  Data Structue   M  573\n",
       "573   79.0   18  Data Structue   M  574\n",
       "574   69.0   20  Data Structue   F  575\n",
       "575   79.0   21  Data Structue   M  576\n",
       "576   69.0   18  Data Structue   M  577\n",
       "577   79.0   19  Data Structue   M  578\n",
       "578   76.0   18  Data Structue   M  579\n",
       "579   59.0   21  Data Structue   F  580\n",
       "580   89.0   18  Data Structue   M  581\n",
       "581   85.0   20  Data Structue   M  582\n",
       "582   39.0   21  Data Structue   M  583\n",
       "583   89.0   18  Data Structue   M  584\n",
       "584   85.0   18  Data Structue   F  585\n",
       "585   47.0   20  Data Structue   M  586\n",
       "586   79.0   19  Data Structue   M  587\n",
       "587   39.0   18  Data Structue   M  588\n",
       "588   82.0   19  Data Structue   M  589\n",
       "589   76.0   20  Data Structue   F  590\n",
       "590   59.0   19  Data Structue   M  591\n",
       "591   82.0   19  Data Structue   M  592\n",
       "592   85.0   20  Data Structue   M  593\n",
       "593   82.0   19  Data Structue   M  594\n",
       "594   39.0   19  Data Structue   F  595\n",
       "595   69.0   18  Data Structue   M  596\n",
       "596   47.0   20  Data Structue   M  597\n",
       "597   69.0   20  Data Structue   M  598\n",
       "598    0.0   19  Data Structue   M  599\n",
       "\n",
       "[1797 rows x 5 columns]"
      ]
     },
     "execution_count": 4,
     "metadata": {},
     "output_type": "execute_result"
    }
   ],
   "source": [
    "# 4.Merge the three files\n",
    "frame = [math_df, phys_df ,ds_df ]\n",
    "new_file =pd.concat(frame)\n",
    "new_file "
   ]
  },
  {
   "cell_type": "code",
   "execution_count": 5,
   "metadata": {},
   "outputs": [
    {
     "name": "stdout",
     "output_type": "stream",
     "text": [
      "   Score  Age Subject  Sex  ID\n",
      "0   88.0   18   Maths    1   1\n",
      "1   85.0   19   Maths    1   2\n",
      "2   45.0   19   Maths    1   3\n",
      "3   82.0   18   Maths    1   4\n",
      "4   82.0   18   Maths    0   5\n"
     ]
    },
    {
     "data": {
      "text/plain": [
       "\"\\nfor dataset in new_file:\\n    dataset['Sex'] = dataset['Sex'].map({'M': 1, 'F': 2}).astype(int)\\n\""
      ]
     },
     "execution_count": 5,
     "metadata": {},
     "output_type": "execute_result"
    }
   ],
   "source": [
    "#5.Change Sex(M/F) Columnto 1/2 for further analysis\n",
    "\n",
    "\"\"\"\n",
    "new_file.Sex[new_file.Sex == 'M'] = 1\n",
    "new_file.Sex[new_file.Sex == 'F'] = 0\n",
    "\"\"\"\n",
    "new_file.Sex.replace(['M','F'], [1,0], inplace=True)\n",
    "print(new_file.head())\n",
    "\n",
    "#Anotherway\n",
    "## Convert Sex M to 1 and F to 2\n",
    "\"\"\"\n",
    "for dataset in new_file:\n",
    "    dataset['Sex'] = dataset['Sex'].map({'M': 1, 'F': 2}).astype(int)\n",
    "\"\"\""
   ]
  },
  {
   "cell_type": "code",
   "execution_count": 6,
   "metadata": {},
   "outputs": [],
   "source": [
    "#6.Store the data in new file –ScoreFinal.csvEnhancements for code\n",
    "new_file.to_csv(r\"..\\Dataset\\ScoreFinal.csv\")"
   ]
  },
  {
   "cell_type": "code",
   "execution_count": 7,
   "metadata": {},
   "outputs": [
    {
     "name": "stdout",
     "output_type": "stream",
     "text": [
      "Maths:\n",
      "              Name  Score  Age         Ethinicity Subject Sex  ID\n",
      "0  AI-KYUNG CHUNG   88.0   18     White American   Maths   M   1\n",
      "1     ALAN HARVEY   85.0   19  European American   Maths   M   2\n",
      "2    ALAN REYNAUD   45.0   19  European American   Maths   M   3\n",
      "3  ALBERT CENDANA   82.0   18     White American   Maths   M   4\n",
      "4  ALBERT HOLT JR   82.0   18     White American   Maths   F   5\n",
      "Maths:\n",
      "              Name  Score  Age  Ethinicity Subject Sex  ID\n",
      "0  AI-KYUNG CHUNG   88.0   18           0   Maths   M   1\n",
      "1     ALAN HARVEY   85.0   19           1   Maths   M   2\n",
      "2    ALAN REYNAUD   45.0   19           1   Maths   M   3\n",
      "3  ALBERT CENDANA   82.0   18           0   Maths   M   4\n",
      "4  ALBERT HOLT JR   82.0   18           0   Maths   F   5\n"
     ]
    }
   ],
   "source": [
    "# You can try these enhancements in code\n",
    "       # 1.Convert ethnicity to numericalvalue\n",
    "      \n",
    "        \n",
    "       # Applying on 1 csv data \n",
    "math_df_en = pd.read_csv(r\"..\\Dataset\\MathScoreTerm1.csv\", delimiter=',')\n",
    "print(\"Maths:\\n\" , math_df_en.head())\n",
    "\"\"\"\n",
    "math_df_en.Ethinicity[math_df_en.Ethinicity == 'White American'] = 0\n",
    "math_df_en.Ethinicity[math_df_en.Ethinicity == 'European American'] = 1\n",
    "math_df_en.Ethinicity[math_df_en.Ethinicity == 'Hispanic'] = 2\n",
    "math_df_en.Ethinicity[math_df_en.Ethinicity == 'African American'] = 3\n",
    "\"\"\"\n",
    "math_df_en.Ethinicity.replace(['White American', 'European American', 'Hispanic', 'African American' ], [0, 1,2,3], inplace=True)\n",
    "\n",
    "print(\"Maths:\\n\" , math_df_en.head())"
   ]
  },
  {
   "cell_type": "code",
   "execution_count": 8,
   "metadata": {},
   "outputs": [
    {
     "name": "stdout",
     "output_type": "stream",
     "text": [
      "74.3489932885906\n"
     ]
    }
   ],
   "source": [
    " # 2.Fill the missing score for a student to the average of the class\n",
    "print(math_df_en.Score.mean())\n",
    "    \n",
    "math_df_en['Score'].fillna(math_df_en.Score.mean(), inplace = True)"
   ]
  },
  {
   "cell_type": "code",
   "execution_count": 9,
   "metadata": {},
   "outputs": [
    {
     "data": {
      "text/plain": [
       "0      88.0\n",
       "1      85.0\n",
       "2      45.0\n",
       "3      82.0\n",
       "4      82.0\n",
       "5      95.0\n",
       "6      95.0\n",
       "7      65.0\n",
       "8      88.0\n",
       "9      88.0\n",
       "10     53.0\n",
       "11     53.0\n",
       "12     66.0\n",
       "13     88.0\n",
       "14     88.0\n",
       "15     82.0\n",
       "16     31.0\n",
       "17     95.0\n",
       "18     91.0\n",
       "19     66.0\n",
       "20     82.0\n",
       "21     66.0\n",
       "22     75.0\n",
       "23     65.0\n",
       "24     91.0\n",
       "25     91.0\n",
       "26     53.0\n",
       "27     91.0\n",
       "28     88.0\n",
       "29     85.0\n",
       "       ... \n",
       "569    65.0\n",
       "570    45.0\n",
       "571    82.0\n",
       "572    53.0\n",
       "573    85.0\n",
       "574    75.0\n",
       "575    85.0\n",
       "576    75.0\n",
       "577    85.0\n",
       "578    82.0\n",
       "579    65.0\n",
       "580    95.0\n",
       "581    91.0\n",
       "582    45.0\n",
       "583    95.0\n",
       "584    91.0\n",
       "585    53.0\n",
       "586    85.0\n",
       "587    45.0\n",
       "588    88.0\n",
       "589    82.0\n",
       "590    65.0\n",
       "591    88.0\n",
       "592    91.0\n",
       "593    88.0\n",
       "594    45.0\n",
       "595    75.0\n",
       "596    53.0\n",
       "597    75.0\n",
       "598    88.0\n",
       "Name: Score, Length: 599, dtype: float64"
      ]
     },
     "execution_count": 9,
     "metadata": {},
     "output_type": "execute_result"
    }
   ],
   "source": [
    "math_df_en.Score"
   ]
  },
  {
   "cell_type": "markdown",
   "metadata": {},
   "source": [
    "# Module 4 Case study 3\n",
    "    1.You are given a dataset, which is present in the LMS, \n",
    "    containing the number of hurricanes occurring in the United States along the coast of the Atlantic. \n",
    "    Load the data from the dataset into your program and plot a Bar Graph of the data, taking the Year as the x-axis \n",
    "    and the number of hurricanes occurring as the Y-axis."
   ]
  },
  {
   "cell_type": "code",
   "execution_count": 10,
   "metadata": {},
   "outputs": [
    {
     "data": {
      "text/html": [
       "<div>\n",
       "<style scoped>\n",
       "    .dataframe tbody tr th:only-of-type {\n",
       "        vertical-align: middle;\n",
       "    }\n",
       "\n",
       "    .dataframe tbody tr th {\n",
       "        vertical-align: top;\n",
       "    }\n",
       "\n",
       "    .dataframe thead th {\n",
       "        text-align: right;\n",
       "    }\n",
       "</style>\n",
       "<table border=\"1\" class=\"dataframe\">\n",
       "  <thead>\n",
       "    <tr style=\"text-align: right;\">\n",
       "      <th></th>\n",
       "      <th>Year</th>\n",
       "      <th>Hurricanes</th>\n",
       "    </tr>\n",
       "  </thead>\n",
       "  <tbody>\n",
       "    <tr>\n",
       "      <th>0</th>\n",
       "      <td>1914</td>\n",
       "      <td>0</td>\n",
       "    </tr>\n",
       "    <tr>\n",
       "      <th>1</th>\n",
       "      <td>1915</td>\n",
       "      <td>5</td>\n",
       "    </tr>\n",
       "    <tr>\n",
       "      <th>2</th>\n",
       "      <td>1916</td>\n",
       "      <td>10</td>\n",
       "    </tr>\n",
       "    <tr>\n",
       "      <th>3</th>\n",
       "      <td>1917</td>\n",
       "      <td>2</td>\n",
       "    </tr>\n",
       "    <tr>\n",
       "      <th>4</th>\n",
       "      <td>1918</td>\n",
       "      <td>4</td>\n",
       "    </tr>\n",
       "  </tbody>\n",
       "</table>\n",
       "</div>"
      ],
      "text/plain": [
       "   Year  Hurricanes\n",
       "0  1914           0\n",
       "1  1915           5\n",
       "2  1916          10\n",
       "3  1917           2\n",
       "4  1918           4"
      ]
     },
     "execution_count": 10,
     "metadata": {},
     "output_type": "execute_result"
    }
   ],
   "source": [
    "import numpy as np\n",
    "import pandas as pd\n",
    "import matplotlib.pyplot as plt\n",
    "\n",
    "hurrc_df = pd.read_csv(r\"..\\Dataset\\Hurricanes.csv\")\n",
    "\n",
    "hurrc_df.head()"
   ]
  },
  {
   "cell_type": "code",
   "execution_count": 11,
   "metadata": {},
   "outputs": [
    {
     "data": {
      "image/png": "[encoded data removed]",
      "text/plain": [
       "<Figure size 432x288 with 1 Axes>"
      ]
     },
     "metadata": {
      "needs_background": "light"
     },
     "output_type": "display_data"
    }
   ],
   "source": [
    "x = hurrc_df.Year\n",
    "y = hurrc_df.Hurricanes\n",
    "plt.bar(x,y, width = 0.4)\n",
    "plt.xlabel(\"Year\")\n",
    "plt.ylabel(\"No of Hurricane\")\n",
    "plt.show()"
   ]
  },
  {
   "cell_type": "markdown",
   "metadata": {},
   "source": [
    "# 2.The dataset given, records data of city temperatures over the years’2014 and 2015. \n",
    "Plot the histogram of the temperatures over this period for the cities of San Francisco and Moscow"
   ]
  },
  {
   "cell_type": "code",
   "execution_count": 8,
   "metadata": {},
   "outputs": [
    {
     "data": {
      "text/html": [
       "<div>\n",
       "<style scoped>\n",
       "    .dataframe tbody tr th:only-of-type {\n",
       "        vertical-align: middle;\n",
       "    }\n",
       "\n",
       "    .dataframe tbody tr th {\n",
       "        vertical-align: top;\n",
       "    }\n",
       "\n",
       "    .dataframe thead th {\n",
       "        text-align: right;\n",
       "    }\n",
       "</style>\n",
       "<table border=\"1\" class=\"dataframe\">\n",
       "  <thead>\n",
       "    <tr style=\"text-align: right;\">\n",
       "      <th></th>\n",
       "      <th>Year</th>\n",
       "      <th>Month</th>\n",
       "      <th>Moscow</th>\n",
       "      <th>Melbourne</th>\n",
       "      <th>San Francisco</th>\n",
       "    </tr>\n",
       "  </thead>\n",
       "  <tbody>\n",
       "    <tr>\n",
       "      <th>0</th>\n",
       "      <td>2014</td>\n",
       "      <td>1</td>\n",
       "      <td>-8.6</td>\n",
       "      <td>22.0</td>\n",
       "      <td>12.8</td>\n",
       "    </tr>\n",
       "    <tr>\n",
       "      <th>1</th>\n",
       "      <td>2014</td>\n",
       "      <td>2</td>\n",
       "      <td>-1.9</td>\n",
       "      <td>21.5</td>\n",
       "      <td>12.7</td>\n",
       "    </tr>\n",
       "    <tr>\n",
       "      <th>2</th>\n",
       "      <td>2014</td>\n",
       "      <td>3</td>\n",
       "      <td>2.8</td>\n",
       "      <td>19.5</td>\n",
       "      <td>15.0</td>\n",
       "    </tr>\n",
       "    <tr>\n",
       "      <th>3</th>\n",
       "      <td>2014</td>\n",
       "      <td>4</td>\n",
       "      <td>7.0</td>\n",
       "      <td>15.8</td>\n",
       "      <td>15.7</td>\n",
       "    </tr>\n",
       "    <tr>\n",
       "      <th>4</th>\n",
       "      <td>2014</td>\n",
       "      <td>5</td>\n",
       "      <td>16.0</td>\n",
       "      <td>13.9</td>\n",
       "      <td>17.5</td>\n",
       "    </tr>\n",
       "  </tbody>\n",
       "</table>\n",
       "</div>"
      ],
      "text/plain": [
       "   Year  Month  Moscow  Melbourne  San Francisco\n",
       "0  2014      1    -8.6       22.0           12.8\n",
       "1  2014      2    -1.9       21.5           12.7\n",
       "2  2014      3     2.8       19.5           15.0\n",
       "3  2014      4     7.0       15.8           15.7\n",
       "4  2014      5    16.0       13.9           17.5"
      ]
     },
     "execution_count": 8,
     "metadata": {},
     "output_type": "execute_result"
    }
   ],
   "source": [
    "import pandas as pd\n",
    "city_temp_df = pd.read_csv(r\"..\\Dataset\\CityTemps.csv\")\n",
    "\n",
    "city_temp_df.head()"
   ]
  },
  {
   "cell_type": "code",
   "execution_count": 13,
   "metadata": {},
   "outputs": [
    {
     "data": {
      "image/png": "[encoded data removed]",
      "text/plain": [
       "<Figure size 432x288 with 1 Axes>"
      ]
     },
     "metadata": {
      "needs_background": "light"
     },
     "output_type": "display_data"
    }
   ],
   "source": [
    "melb = city_temp_df['Melbourne']\n",
    "San = city_temp_df['San Francisco']\n",
    "year1 = city_temp_df['Year'] \n",
    "legend = [ 'Melbourne ' , 'San Francisco']\n",
    "plt.xlabel(\"Temperature\")\n",
    "plt.ylabel(\"Frequency\")\n",
    "plt.hist([San, melb] , color = ['orange' , 'green'])  #100 bins are allowed, bin beans each verticle in hist\n",
    "plt.legend(legend)\n",
    "plt.show()"
   ]
  },
  {
   "cell_type": "markdown",
   "metadata": {},
   "source": [
    "# 3.Create csv file from the data file available in LMS which goes by the name ‘M4_assign_dataset’     and read this file into a pandas data frame"
   ]
  },
  {
   "cell_type": "code",
   "execution_count": 14,
   "metadata": {},
   "outputs": [
    {
     "name": "stdout",
     "output_type": "stream",
     "text": [
      "   account_number                           name item_code category  quantity  \\\n",
      "0          296809                    Carroll PLC  QN-82852     Belt        13   \n",
      "1           98022              Heidenreich-Bosco  MJ-21460    Shoes        19   \n",
      "2          563905  Kerluke, Reilly and Bechtelar  AS-93055    Shirt        12   \n",
      "3           93356                  Waters-Walker  AS-93055    Shirt         5   \n",
      "4          659366                  Waelchi-Fahey  AS-93055    Shirt        18   \n",
      "\n",
      "   unit price  net_price                 date  \n",
      "0       44.48     578.24  2014-09-27 07:13:03  \n",
      "1       53.62    1018.78  2014-07-29 02:10:44  \n",
      "2       24.16     289.92  2014-03-01 10:51:24  \n",
      "3       82.68     413.40  2013-11-17 20:41:11  \n",
      "4       99.64    1793.52  2014-01-03 08:14:27  \n",
      "##########\n",
      "   Unnamed: 0  account_number                           name item_code  \\\n",
      "0           0          296809                    Carroll PLC  QN-82852   \n",
      "1           1           98022              Heidenreich-Bosco  MJ-21460   \n",
      "2           2          563905  Kerluke, Reilly and Bechtelar  AS-93055   \n",
      "3           3           93356                  Waters-Walker  AS-93055   \n",
      "4           4          659366                  Waelchi-Fahey  AS-93055   \n",
      "\n",
      "  category  quantity  unit price  net_price                 date  \n",
      "0     Belt        13       44.48     578.24  2014-09-27 07:13:03  \n",
      "1    Shoes        19       53.62    1018.78  2014-07-29 02:10:44  \n",
      "2    Shirt        12       24.16     289.92  2014-03-01 10:51:24  \n",
      "3    Shirt         5       82.68     413.40  2013-11-17 20:41:11  \n",
      "4    Shirt        18       99.64    1793.52  2014-01-03 08:14:27  \n"
     ]
    }
   ],
   "source": [
    "# Read data file\n",
    "data_df = pd.read_csv(r\"..\\Dataset\\data_file.txt\")\n",
    "\n",
    "print(data_df.head())\n",
    "\n",
    "data_df.to_csv(r\"..\\Dataset\\M4_assign_dataset.csv\")\n",
    "M4_assign_dataset_df = pd.read_csv(r\"..\\Dataset\\M4_assign_dataset.csv\")\n",
    "\n",
    "print('#'*10)\n",
    "\n",
    "print(M4_assign_dataset_df.head())"
   ]
  },
  {
   "cell_type": "markdown",
   "metadata": {},
   "source": [
    "# 4.Let the x axis data points and y axis data points are\n",
    "    X = [1,2,3,4]\n",
    "    y = [20, 21, 20.5, 20.8]\n",
    "    \n",
    "        5.1: Draw a Simple plot\n",
    "        5.2: Configure the line and markers in simple plot\n",
    "        5.3: configure the axes\n",
    "        5.4: Give title of Graph & labels of x axis and y axis\n",
    "        5.5: Give error bar if  y_error = [0.12, 0.13, 0.2, 0.1]\n",
    "        5.6: define width, height as figsize=(4,5) DPI and adjust plot dpi=100\n",
    "        5.7: Give a font size of 14\n",
    "        5.8: Draw a scatter graph of any 50 random values of x and y axis\n",
    "        5.9: Create a dataframe from following data\n",
    "            'first_name': ['Jason', 'Molly', 'Tina', 'Jake', 'Amy'], \n",
    "            'last_name': ['Miller', 'Jacobson', 'Ali', 'Milner', 'Cooze'], \n",
    "            'female': [0, 1, 1, 0, 1],\n",
    "            'age': [42, 52, 36, 24, 73], \n",
    "            'preTestScore': [4, 24, 31, 2, 3],\n",
    "            'postTestScore': [25, 94, 57, 62, 70]\n",
    "                \n",
    "    Draw a Scatterplot of preTestScore and postTestScore, with the size of each point determined by age\n",
    "    \n",
    "    5.10: Draw a Scatterplot from the data in question 9 of preTestScore and postTestScore with the size = 300 \n",
    "        and the color determined by sex\n",
    "\n"
   ]
  },
  {
   "cell_type": "code",
   "execution_count": 15,
   "metadata": {},
   "outputs": [
    {
     "data": {
      "image/png": "[encoded data removed]",
      "text/plain": [
       "<Figure size 432x288 with 1 Axes>"
      ]
     },
     "metadata": {
      "needs_background": "light"
     },
     "output_type": "display_data"
    }
   ],
   "source": [
    "x = [1,2,3,4]\n",
    "y = [20, 21, 20.5, 20.8]\n",
    "#5.1: Draw a Simple plot\n",
    "plt.plot(x,y)\n",
    "plt.show()"
   ]
  },
  {
   "cell_type": "code",
   "execution_count": 16,
   "metadata": {},
   "outputs": [
    {
     "data": {
      "image/png": "[encoded data removed]",
      "text/plain": [
       "<Figure size 432x288 with 1 Axes>"
      ]
     },
     "metadata": {
      "needs_background": "light"
     },
     "output_type": "display_data"
    }
   ],
   "source": [
    "#5.2: Configure the line and markers in simple plot\n",
    "\n",
    "plt.plot(x, y, 'bo--', linewidth=2, markersize=20)\n",
    "\n",
    "#OR\n",
    "#plt.plot(x, y, linestyle=\"dashed\", marker=\"o\", color=\"green\")\n",
    "plt.show()"
   ]
  },
  {
   "cell_type": "code",
   "execution_count": 18,
   "metadata": {},
   "outputs": [
    {
     "data": {
      "image/png": "[encoded data removed]",
      "text/plain": [
       "<Figure size 432x288 with 1 Axes>"
      ]
     },
     "metadata": {
      "needs_background": "light"
     },
     "output_type": "display_data"
    }
   ],
   "source": [
    "#5.3: configure the axes\n",
    "\n",
    "#plot data\n",
    "plt.plot(x, y, linestyle=\"dashed\", marker=\"o\", color=\"green\")\n",
    "\n",
    "#configure  X axes means xlim those axis\n",
    "plt.xlim(0.5,4.5)    # This is the axes configure\n",
    "plt.xticks([1,2,3,4])\n",
    "\n",
    "#configure  Y axes\n",
    "plt.ylim(19.8,21.2)\n",
    "plt.yticks([20, 21, 20.5, 20.8])\n",
    "\n",
    "#show plot\n",
    "plt.show()"
   ]
  },
  {
   "cell_type": "code",
   "execution_count": 19,
   "metadata": {},
   "outputs": [
    {
     "data": {
      "image/png": "[encoded data removed]",
      "text/plain": [
       "<Figure size 432x288 with 1 Axes>"
      ]
     },
     "metadata": {
      "needs_background": "light"
     },
     "output_type": "display_data"
    }
   ],
   "source": [
    "# 5.4: Give title of Graph & labels of x axis and y axis\n",
    "#fig1, ax1 = plt.subplots()\n",
    "plt.plot(x, y, 'bo--', linewidth=2, markersize=20)\n",
    "#ax1.axis('equal')  #Set equal scaling (i.e., make circles circular) by changing axis limits\n",
    "\n",
    "\n",
    "#configure  X axes means xlim those axis\n",
    "plt.xlim(0.5,4.5)\n",
    "plt.xticks([1,2,3,4])\n",
    "\n",
    "#configure  Y axes\n",
    "plt.ylim(19.8,21.2)\n",
    "plt.yticks([20, 21, 20.5, 20.8])\n",
    "\n",
    "#Labels and title\n",
    "plt.xlabel(\"X-AXIS\")\n",
    "plt.ylabel(\"Y-AXIS\")\n",
    "plt.title(\"Graph Title\")\n",
    "plt.show()\n"
   ]
  },
  {
   "cell_type": "code",
   "execution_count": 20,
   "metadata": {},
   "outputs": [
    {
     "data": {
      "image/png": "[encoded data removed]",
      "text/plain": [
       "<Figure size 432x288 with 1 Axes>"
      ]
     },
     "metadata": {
      "needs_background": "light"
     },
     "output_type": "display_data"
    }
   ],
   "source": [
    "# 5.5: Give error bar if  y_error = [0.12, 0.13, 0.2, 0.1]\n",
    "\n",
    "#fig1, ax1 = plt.subplots()\n",
    "plt.plot(x, y, 'bo--', linewidth=2, markersize=5)\n",
    "plt.axis('equal')  #Set equal scaling (i.e., make circles circular) by changing axis limits\n",
    "\n",
    "#configure  X axes means xlim those axis\n",
    "plt.xlim(0.5,4.5)\n",
    "plt.xticks([1,2,3,4])\n",
    "\n",
    "#configure  Y axes\n",
    "plt.ylim(19.8,21.2)\n",
    "plt.yticks([20, 21, 20.5, 20.8])\n",
    "\n",
    "#Labels and title\n",
    "plt.xlabel(\"X-AXIS\")\n",
    "plt.ylabel(\"Y-AXIS\")\n",
    "plt.title(\"Graph Title\")\n",
    "\n",
    "y_error = [0.12, 0.13, 0.2, 0.1]\n",
    "#plot only errorbars\n",
    "plt.errorbar(x, y, yerr=y_error)\n",
    "plt.show()\n",
    "\n",
    "\n"
   ]
  },
  {
   "cell_type": "code",
   "execution_count": 21,
   "metadata": {},
   "outputs": [
    {
     "data": {
      "image/png": "[encoded data removed]",
      "text/plain": [
       "<Figure size 400x500 with 1 Axes>"
      ]
     },
     "metadata": {
      "needs_background": "light"
     },
     "output_type": "display_data"
    }
   ],
   "source": [
    "# 5.6: define width, height as figsize=(4,5) DPI and adjust plot dpi=100\n",
    "\n",
    "#fig1, ax1 = plt.subplots(figsize=(4,5), dpi=100)\n",
    "#define plot size in inches (width, height) & resolution(DPI)\n",
    "\n",
    "fig = plt.figure(figsize=(4, 5), dpi=100)\n",
    "\n",
    "plt.plot(x, y, 'bo--', linewidth=2, markersize=5)\n",
    "plt.axis('equal')  #Set equal scaling (i.e., make circles circular) by changing axis limits\n",
    "\n",
    "#configure  X axes means xlim those axis\n",
    "plt.xlim(0.5,4.5)\n",
    "plt.xticks([1,2,3,4])\n",
    "\n",
    "#configure  Y axes\n",
    "plt.ylim(19.8,21.2)\n",
    "plt.yticks([20, 21, 20.5, 20.8])\n",
    "\n",
    "#Labels and title\n",
    "plt.xlabel(\"X-AXIS\")\n",
    "plt.ylabel(\"Y-AXIS\")\n",
    "plt.title(\"Graph Title\")\n",
    "\n",
    "y_error = [0.12, 0.13, 0.2, 0.1]\n",
    "plt.errorbar(x, y, yerr=y_error)\n",
    "\n",
    "#adjust plot\n",
    "plt.subplots_adjust(left=0.18)\n",
    "\n",
    "plt.show()\n"
   ]
  },
  {
   "cell_type": "code",
   "execution_count": 22,
   "metadata": {},
   "outputs": [
    {
     "data": {
      "image/png": "[encoded data removed]",
      "text/plain": [
       "<Figure size 400x500 with 1 Axes>"
      ]
     },
     "metadata": {
      "needs_background": "light"
     },
     "output_type": "display_data"
    }
   ],
   "source": [
    "# 5.7: Give a font size of 14\n",
    "\n",
    "#fig1, ax1 = plt.subplots(figsize=(4,5), dpi=100)\n",
    "\n",
    "fig = plt.figure(figsize=(4, 5), dpi=100)\n",
    "plt.plot(x, y, 'bo--', linewidth=2, markersize=5)\n",
    "#ax1.axis('equal')  #Set equal scaling (i.e., make circles circular) by changing axis limits\n",
    "\n",
    "#configure  X axes means xlim those axis\n",
    "plt.xlim(0.5,4.5)\n",
    "plt.xticks([1,2,3,4])\n",
    "\n",
    "#configure  Y axes\n",
    "plt.ylim(19.8,21.2)\n",
    "plt.yticks([20, 21, 20.5, 20.8])\n",
    "\n",
    "#Labels and title\n",
    "plt.xlabel(\"X-AXIS\")\n",
    "plt.ylabel(\"Y-AXIS\")\n",
    "plt.title(\"Graph Title\")\n",
    "\n",
    "y_error = [0.12, 0.13, 0.2, 0.1]\n",
    "plt.errorbar(x, y, yerr=y_error)\n",
    "\n",
    "#define font size\n",
    "plt.rc('font', size = 14)  # Here all character font size changed to 10\n",
    "plt.show()\n",
    "\n"
   ]
  },
  {
   "cell_type": "code",
   "execution_count": 23,
   "metadata": {},
   "outputs": [
    {
     "name": "stdout",
     "output_type": "stream",
     "text": [
      "[ 1.76405235  0.40015721  0.97873798  2.2408932   1.86755799 -0.97727788\n",
      "  0.95008842 -0.15135721 -0.10321885  0.4105985   0.14404357  1.45427351\n",
      "  0.76103773  0.12167502  0.44386323  0.33367433  1.49407907 -0.20515826\n",
      "  0.3130677  -0.85409574 -2.55298982  0.6536186   0.8644362  -0.74216502\n",
      "  2.26975462 -1.45436567  0.04575852 -0.18718385  1.53277921  1.46935877\n",
      "  0.15494743  0.37816252 -0.88778575 -1.98079647 -0.34791215  0.15634897\n",
      "  1.23029068  1.20237985 -0.38732682 -0.30230275 -1.04855297 -1.42001794\n",
      " -1.70627019  1.9507754  -0.50965218 -0.4380743  -1.25279536  0.77749036\n",
      " -1.61389785 -0.21274028]\n",
      "[-0.89546656  0.3869025  -0.51080514 -1.18063218 -0.02818223  0.42833187\n",
      "  0.06651722  0.3024719  -0.63432209 -0.36274117 -0.67246045 -0.35955316\n",
      " -0.81314628 -1.7262826   0.17742614 -0.40178094 -1.63019835  0.46278226\n",
      " -0.90729836  0.0519454   0.72909056  0.12898291  1.13940068 -1.23482582\n",
      "  0.40234164 -0.68481009 -0.87079715 -0.57884966 -0.31155253  0.05616534\n",
      " -1.16514984  0.90082649  0.46566244 -1.53624369  1.48825219  1.89588918\n",
      "  1.17877957 -0.17992484 -1.07075262  1.05445173 -0.40317695  1.22244507\n",
      "  0.20827498  0.97663904  0.3563664   0.70657317  0.01050002  1.78587049\n",
      "  0.12691209  0.40198936]\n"
     ]
    },
    {
     "data": {
      "image/png": "[encoded data removed]",
      "text/plain": [
       "<Figure size 432x288 with 1 Axes>"
      ]
     },
     "metadata": {
      "needs_background": "light"
     },
     "output_type": "display_data"
    }
   ],
   "source": [
    "# 5.8: Draw a scatter graph of any 50 random values of x and y axis\n",
    "rng = np.random.RandomState(0)\n",
    "x = rng.randn(50)\n",
    "y = rng.randn(50)\n",
    "print(x)\n",
    "print(y)\n",
    "colors = np.random.rand(50)\n",
    "area = np.pi * (15 * np.random.rand(50))**2  # 0 to 15 point radii\n",
    "plt.scatter(x, y, s=area, c=colors, alpha=0.5)\n",
    "#plt.scatter(x, y)\n",
    "plt.show()"
   ]
  },
  {
   "cell_type": "markdown",
   "metadata": {},
   "source": [
    "# 5.9: Create a dataframe from following data\n",
    "        'first_name': ['Jason', 'Molly', 'Tina', 'Jake', 'Amy'], \n",
    "        'last_name': ['Miller', 'Jacobson', 'Ali', 'Milner', 'Cooze'], \n",
    "        'female': [0, 1, 1, 0, 1],\n",
    "        'age': [42, 52, 36, 24, 73], \n",
    "        'preTestScore': [4, 24, 31, 2, 3],\n",
    "        'postTestScore': [25, 94, 57, 62, 70]\n",
    "\n",
    "Draw a Scatterplot of preTestScore and postTestScore, with the size of each point determined by age\n",
    "\n"
   ]
  },
  {
   "cell_type": "code",
   "execution_count": 24,
   "metadata": {},
   "outputs": [
    {
     "data": {
      "text/html": [
       "<div>\n",
       "<style scoped>\n",
       "    .dataframe tbody tr th:only-of-type {\n",
       "        vertical-align: middle;\n",
       "    }\n",
       "\n",
       "    .dataframe tbody tr th {\n",
       "        vertical-align: top;\n",
       "    }\n",
       "\n",
       "    .dataframe thead th {\n",
       "        text-align: right;\n",
       "    }\n",
       "</style>\n",
       "<table border=\"1\" class=\"dataframe\">\n",
       "  <thead>\n",
       "    <tr style=\"text-align: right;\">\n",
       "      <th></th>\n",
       "      <th>first_name</th>\n",
       "      <th>last_name</th>\n",
       "      <th>female</th>\n",
       "      <th>age</th>\n",
       "      <th>preTestScore</th>\n",
       "      <th>postTestScore</th>\n",
       "    </tr>\n",
       "  </thead>\n",
       "  <tbody>\n",
       "    <tr>\n",
       "      <th>0</th>\n",
       "      <td>Jason</td>\n",
       "      <td>Miller</td>\n",
       "      <td>0</td>\n",
       "      <td>42</td>\n",
       "      <td>4</td>\n",
       "      <td>25</td>\n",
       "    </tr>\n",
       "    <tr>\n",
       "      <th>1</th>\n",
       "      <td>Molly</td>\n",
       "      <td>Jacobson</td>\n",
       "      <td>1</td>\n",
       "      <td>52</td>\n",
       "      <td>24</td>\n",
       "      <td>94</td>\n",
       "    </tr>\n",
       "    <tr>\n",
       "      <th>2</th>\n",
       "      <td>Tina</td>\n",
       "      <td>Ali</td>\n",
       "      <td>1</td>\n",
       "      <td>36</td>\n",
       "      <td>31</td>\n",
       "      <td>57</td>\n",
       "    </tr>\n",
       "    <tr>\n",
       "      <th>3</th>\n",
       "      <td>Jake</td>\n",
       "      <td>Milner</td>\n",
       "      <td>0</td>\n",
       "      <td>24</td>\n",
       "      <td>2</td>\n",
       "      <td>62</td>\n",
       "    </tr>\n",
       "    <tr>\n",
       "      <th>4</th>\n",
       "      <td>Amy</td>\n",
       "      <td>Cooze</td>\n",
       "      <td>1</td>\n",
       "      <td>73</td>\n",
       "      <td>3</td>\n",
       "      <td>70</td>\n",
       "    </tr>\n",
       "  </tbody>\n",
       "</table>\n",
       "</div>"
      ],
      "text/plain": [
       "  first_name last_name  female  age  preTestScore  postTestScore\n",
       "0      Jason    Miller       0   42             4             25\n",
       "1      Molly  Jacobson       1   52            24             94\n",
       "2       Tina       Ali       1   36            31             57\n",
       "3       Jake    Milner       0   24             2             62\n",
       "4        Amy     Cooze       1   73             3             70"
      ]
     },
     "execution_count": 24,
     "metadata": {},
     "output_type": "execute_result"
    }
   ],
   "source": [
    "dict1 =  { 'first_name': ['Jason', 'Molly', 'Tina', 'Jake', 'Amy'], \n",
    "        'last_name': ['Miller', 'Jacobson', 'Ali', 'Milner', 'Cooze'], \n",
    "        'female': [0, 1, 1, 0, 1],\n",
    "        'age': [42, 52, 36, 24, 73], \n",
    "        'preTestScore': [4, 24, 31, 2, 3],\n",
    "        'postTestScore': [25, 94, 57, 62, 70]}\n",
    "\n",
    "data_df = pd.DataFrame(dict1)\n",
    "\n",
    "data_df.head(10)"
   ]
  },
  {
   "cell_type": "code",
   "execution_count": 26,
   "metadata": {},
   "outputs": [
    {
     "name": "stdout",
     "output_type": "stream",
     "text": [
      "0    42\n",
      "1    52\n",
      "2    36\n",
      "3    24\n",
      "4    73\n",
      "Name: age, dtype: int64\n"
     ]
    }
   ],
   "source": [
    "#​size of each point determined by age\n",
    "size1 = data_df.age\n",
    "print(size1)"
   ]
  },
  {
   "cell_type": "code",
   "execution_count": 27,
   "metadata": {},
   "outputs": [
    {
     "data": {
      "image/png": "[encoded data removed]",
      "text/plain": [
       "<Figure size 432x288 with 1 Axes>"
      ]
     },
     "metadata": {
      "needs_background": "light"
     },
     "output_type": "display_data"
    }
   ],
   "source": [
    "x = data_df.preTestScore\n",
    "y = data_df.postTestScore\n",
    "plt.scatter(x, y, s = size1 )\n",
    "plt.show()"
   ]
  },
  {
   "cell_type": "code",
   "execution_count": 28,
   "metadata": {},
   "outputs": [
    {
     "name": "stdout",
     "output_type": "stream",
     "text": [
      "0    0\n",
      "1    1\n",
      "2    1\n",
      "3    0\n",
      "4    1\n",
      "Name: female, dtype: int64\n"
     ]
    },
    {
     "data": {
      "image/png": "[encoded data removed]",
      "text/plain": [
       "<Figure size 432x288 with 1 Axes>"
      ]
     },
     "metadata": {
      "needs_background": "light"
     },
     "output_type": "display_data"
    }
   ],
   "source": [
    "# 5.10: Draw a Scatterplot from the data in question 9 of preTestScore and postTestScore with the size = 300 \n",
    "    #and the color determined by sex\n",
    "    \n",
    "x = data_df.preTestScore\n",
    "y = data_df.postTestScore\n",
    "size1 = 300 \n",
    "\n",
    "#​ color determined by sex\n",
    "sex = data_df.female\n",
    "print(sex)\n",
    "\n",
    "plt.scatter(x, y, s = size1, c = sex)\n",
    "plt.show()"
   ]
  },
  {
   "cell_type": "markdown",
   "metadata": {},
   "source": [
    "# Module 4 CS 4\n",
    "    Domain –Retail \n",
    "    focus –Visualize the sales \n",
    "    \n",
    "    dataBusiness challenge/requirementBigMart is one of the biggest retailer of Europe and has operations across \n",
    "    multiple countries. You are a data analystin IT team of BigMart. \n",
    "    \n",
    "    Invoice and SKU wise Sales Data for Year 2011 is shared with you. \n",
    "    You need to preparemeaningful charts to show case the various sales trends for 2011 to top management. \n",
    "    \n",
    "    Key issues:\n",
    "        Data should be displayed pictorially to capture the attention of top managementConsiderations"
   ]
  },
  {
   "cell_type": "markdown",
   "metadata": {},
   "source": [
    "# Approach to Solve\n",
    "    You have to use fundamentals of Matplotlib covered in module 5 and plot following 4 chart/graph\n",
    "    \n",
    "        1.Plot Total Sales Per Month for Year 2011.  How the total sales haveincreased over months in Year 2011. \n",
    "            Which month has lowest Sales?\n",
    "        2.Plot Total Sales Per Month for Year 2011 as Bar Chart.  \n",
    "            Is Bar Chart Better to visualize than Simple Plot?\n",
    "        3.Plot Pie Chart for Year 2011 Country Wise. \n",
    "            Which Country contributes highest towards sales?\n",
    "        4.Plot Scatter Plot for the invoice amounts and see the concentration of amount.  \n",
    "                In which range most of the invoice amounts are concentrated Enhancements for code\n",
    "            \n",
    "        You can try these enhancements in code\n",
    "            1.Change the bar chart to show the value of bar \n",
    "            2.In Pie Chart Play With Parameters shadow=True, startangle=90 and see how different the chart looks \n",
    "            3.In scatter plot change the color of Scatter Points\n"
   ]
  },
  {
   "cell_type": "code",
   "execution_count": 29,
   "metadata": {},
   "outputs": [
    {
     "data": {
      "text/html": [
       "<div>\n",
       "<style scoped>\n",
       "    .dataframe tbody tr th:only-of-type {\n",
       "        vertical-align: middle;\n",
       "    }\n",
       "\n",
       "    .dataframe tbody tr th {\n",
       "        vertical-align: top;\n",
       "    }\n",
       "\n",
       "    .dataframe thead th {\n",
       "        text-align: right;\n",
       "    }\n",
       "</style>\n",
       "<table border=\"1\" class=\"dataframe\">\n",
       "  <thead>\n",
       "    <tr style=\"text-align: right;\">\n",
       "      <th></th>\n",
       "      <th>InvoiceNo</th>\n",
       "      <th>StockCode</th>\n",
       "      <th>Description</th>\n",
       "      <th>Quantity</th>\n",
       "      <th>UnitPrice</th>\n",
       "      <th>Amount</th>\n",
       "      <th>InvoiceDate</th>\n",
       "      <th>Day</th>\n",
       "      <th>Month</th>\n",
       "      <th>Year</th>\n",
       "      <th>CustomerID</th>\n",
       "      <th>Country</th>\n",
       "    </tr>\n",
       "  </thead>\n",
       "  <tbody>\n",
       "    <tr>\n",
       "      <th>0</th>\n",
       "      <td>536365</td>\n",
       "      <td>85123A</td>\n",
       "      <td>WHITE HANGING HEART T-LIGHT HOLDER</td>\n",
       "      <td>6</td>\n",
       "      <td>2.55</td>\n",
       "      <td>15.30</td>\n",
       "      <td>01-12-10</td>\n",
       "      <td>1</td>\n",
       "      <td>12</td>\n",
       "      <td>2010</td>\n",
       "      <td>17850.0</td>\n",
       "      <td>United Kingdom</td>\n",
       "    </tr>\n",
       "    <tr>\n",
       "      <th>1</th>\n",
       "      <td>536365</td>\n",
       "      <td>71053</td>\n",
       "      <td>WHITE METAL LANTERN</td>\n",
       "      <td>6</td>\n",
       "      <td>3.39</td>\n",
       "      <td>20.34</td>\n",
       "      <td>01-12-10</td>\n",
       "      <td>1</td>\n",
       "      <td>12</td>\n",
       "      <td>2010</td>\n",
       "      <td>17850.0</td>\n",
       "      <td>United Kingdom</td>\n",
       "    </tr>\n",
       "    <tr>\n",
       "      <th>2</th>\n",
       "      <td>536365</td>\n",
       "      <td>84406B</td>\n",
       "      <td>CREAM CUPID HEARTS COAT HANGER</td>\n",
       "      <td>8</td>\n",
       "      <td>2.75</td>\n",
       "      <td>22.00</td>\n",
       "      <td>01-12-10</td>\n",
       "      <td>1</td>\n",
       "      <td>12</td>\n",
       "      <td>2010</td>\n",
       "      <td>17850.0</td>\n",
       "      <td>United Kingdom</td>\n",
       "    </tr>\n",
       "    <tr>\n",
       "      <th>3</th>\n",
       "      <td>536365</td>\n",
       "      <td>84029G</td>\n",
       "      <td>KNITTED UNION FLAG HOT WATER BOTTLE</td>\n",
       "      <td>6</td>\n",
       "      <td>3.39</td>\n",
       "      <td>20.34</td>\n",
       "      <td>01-12-10</td>\n",
       "      <td>1</td>\n",
       "      <td>12</td>\n",
       "      <td>2010</td>\n",
       "      <td>17850.0</td>\n",
       "      <td>United Kingdom</td>\n",
       "    </tr>\n",
       "    <tr>\n",
       "      <th>4</th>\n",
       "      <td>536365</td>\n",
       "      <td>84029E</td>\n",
       "      <td>RED WOOLLY HOTTIE WHITE HEART.</td>\n",
       "      <td>6</td>\n",
       "      <td>3.39</td>\n",
       "      <td>20.34</td>\n",
       "      <td>01-12-10</td>\n",
       "      <td>1</td>\n",
       "      <td>12</td>\n",
       "      <td>2010</td>\n",
       "      <td>17850.0</td>\n",
       "      <td>United Kingdom</td>\n",
       "    </tr>\n",
       "  </tbody>\n",
       "</table>\n",
       "</div>"
      ],
      "text/plain": [
       "  InvoiceNo StockCode                          Description  Quantity  \\\n",
       "0    536365    85123A   WHITE HANGING HEART T-LIGHT HOLDER         6   \n",
       "1    536365     71053                  WHITE METAL LANTERN         6   \n",
       "2    536365    84406B       CREAM CUPID HEARTS COAT HANGER         8   \n",
       "3    536365    84029G  KNITTED UNION FLAG HOT WATER BOTTLE         6   \n",
       "4    536365    84029E       RED WOOLLY HOTTIE WHITE HEART.         6   \n",
       "\n",
       "   UnitPrice  Amount InvoiceDate  Day  Month  Year  CustomerID         Country  \n",
       "0       2.55   15.30    01-12-10    1     12  2010     17850.0  United Kingdom  \n",
       "1       3.39   20.34    01-12-10    1     12  2010     17850.0  United Kingdom  \n",
       "2       2.75   22.00    01-12-10    1     12  2010     17850.0  United Kingdom  \n",
       "3       3.39   20.34    01-12-10    1     12  2010     17850.0  United Kingdom  \n",
       "4       3.39   20.34    01-12-10    1     12  2010     17850.0  United Kingdom  "
      ]
     },
     "execution_count": 29,
     "metadata": {},
     "output_type": "execute_result"
    }
   ],
   "source": [
    "import numpy as np\n",
    "import pandas as pd\n",
    "import matplotlib.pyplot as plt\n",
    "\n",
    "bigmart_df = pd.read_csv(r\"..\\Dataset\\BigMartSalesData.csv\" , delimiter =',')\n",
    "bigmart_df.head()"
   ]
  },
  {
   "cell_type": "code",
   "execution_count": 30,
   "metadata": {},
   "outputs": [
    {
     "name": "stdout",
     "output_type": "stream",
     "text": [
      " Getting Sales Data for Year 2011\n",
      " getting Amount for Each Month\n",
      "Month\n",
      "1      822669.640\n",
      "2      549134.460\n",
      "3      752003.310\n",
      "4      582318.451\n",
      "5      817655.200\n",
      "6      832231.670\n",
      "7      757108.941\n",
      "8      791173.020\n",
      "9     1097467.722\n",
      "10    1239237.260\n",
      "11    1557236.410\n",
      "12     843909.020\n",
      "Name: Amount, dtype: float64\n"
     ]
    },
    {
     "data": {
      "image/png": "[encoded data removed]",
      "text/plain": [
       "<Figure size 432x288 with 1 Axes>"
      ]
     },
     "metadata": {
      "needs_background": "light"
     },
     "output_type": "display_data"
    },
    {
     "data": {
      "text/plain": [
       "'\\n#below code me tried, not correct it gave only counts, not sale amt\\n\\nimport seaborn as sns\\n\\nsns.countplot( x = bigmart_df_2011.Month  ,data = bigmart_df_2011 )\\nplt.plot()\\n\\n#By this graph looks 2011 November month had high sale, Feb had less sales\\n'"
      ]
     },
     "execution_count": 30,
     "metadata": {},
     "output_type": "execute_result"
    },
    {
     "data": {
      "text/plain": [
       "<Figure size 432x288 with 0 Axes>"
      ]
     },
     "metadata": {},
     "output_type": "display_data"
    }
   ],
   "source": [
    "# 1.Plot Total Sales Per Month for Year 2011.  How the total sales haveincreased over months in Year 2011. \n",
    "        #Which month has lowest Sales?\n",
    "print (\" Getting Sales Data for Year 2011\")\n",
    "sales_country_wise = bigmart_df.groupby('Country').sum()['Amount']\n",
    "sales_2011 = bigmart_df[bigmart_df[\"Year\"] == 2011]\n",
    "#print(bigmart_df_2011)\n",
    "#bigmart_df_2011.head()\n",
    "print (\" getting Amount for Each Month\")\n",
    "sales_2011_month = sales_2011.groupby('Month').sum()['Amount']\n",
    "print(sales_2011_month)\n",
    "\n",
    "# Simply Plot the Sales Data for 2011 , X Axis Sales for each month, Y -Axis Month Number\n",
    "plt.plot(sales_2011_month.index,sales_2011_month.values)\n",
    "plt.xlabel(\"Sales in Euro\")\n",
    "plt.ylabel(\"Month Number\")\n",
    "plt.title(\"Sales Per Month in Year 2011\")\n",
    "plt.show()\n",
    "\n",
    "# Save the Plot Locally\n",
    "plt.savefig(\"Year2011MonthWiseSales\")\n",
    "# December should be the answer\n",
    "\n",
    "\"\"\"\n",
    "#below code me tried, not correct it gave only counts, not sale amt\n",
    "\n",
    "import seaborn as sns\n",
    "\n",
    "sns.countplot( x = bigmart_df_2011.Month  ,data = bigmart_df_2011 )\n",
    "plt.plot()\n",
    "\n",
    "#By this graph looks 2011 November month had high sale, Feb had less sales\n",
    "\"\"\""
   ]
  },
  {
   "cell_type": "code",
   "execution_count": 31,
   "metadata": {},
   "outputs": [
    {
     "data": {
      "text/plain": [
       "<matplotlib.axes._subplots.AxesSubplot at 0x1ffea5d5908>"
      ]
     },
     "execution_count": 31,
     "metadata": {},
     "output_type": "execute_result"
    },
    {
     "data": {
      "image/png": "[encoded data removed]",
      "text/plain": [
       "<Figure size 432x288 with 1 Axes>"
      ]
     },
     "metadata": {
      "needs_background": "light"
     },
     "output_type": "display_data"
    }
   ],
   "source": [
    "#Simple Plot, this month vs total count, not the total sales amt count\n",
    "sales_2011[\"Month\"].value_counts().plot()"
   ]
  },
  {
   "cell_type": "code",
   "execution_count": 32,
   "metadata": {},
   "outputs": [
    {
     "data": {
      "image/png": "[encoded data removed]",
      "text/plain": [
       "<Figure size 432x288 with 1 Axes>"
      ]
     },
     "metadata": {
      "needs_background": "light"
     },
     "output_type": "display_data"
    },
    {
     "data": {
      "text/plain": [
       "'\\nthis is wrong\\n#bigmart_df_2011[\"Month\"].value_counts().plot(\\'bar\\')\\n\\n# Yes bar char more better visual than simple plot\\n'"
      ]
     },
     "execution_count": 32,
     "metadata": {},
     "output_type": "execute_result"
    }
   ],
   "source": [
    "# 2.Plot Total Sales Per Month for Year 2011 as Bar Chart.         Is Bar Chart Better to visualize than Simple Plot?\n",
    "\n",
    "\n",
    "plt.bar(sales_2011_month.index,sales_2011_month.values,color=\"red\") # Change the color and play\n",
    "plt.xlabel(\"Sales in Euro\")\n",
    "plt.ylabel(\"Month Number\")\n",
    "plt.title(\"Sales Per Month in Year 2011\")\n",
    "plt.show()\n",
    "\n",
    "# Enhancement Can you show the value of the bar\n",
    "# Refer to https://matplotlib.org/gallery/api/barchart.html#sphx-glr-gallery-api-barchart-py\n",
    "\n",
    "\"\"\"\n",
    "this is wrong\n",
    "#bigmart_df_2011[\"Month\"].value_counts().plot('bar')\n",
    "\n",
    "# Yes bar char more better visual than simple plot\n",
    "\"\"\"\n"
   ]
  },
  {
   "cell_type": "code",
   "execution_count": 33,
   "metadata": {},
   "outputs": [
    {
     "name": "stdout",
     "output_type": "stream",
     "text": [
      "[1.38904750e+05 9.94568000e+03 7.54140000e+02 3.96718100e+04\n",
      " 1.14360000e+03 3.66638000e+03 2.04510600e+04 1.26436500e+04\n",
      " 9.45760000e+02 1.78610400e+04 2.92594530e+05 1.30875000e+03\n",
      " 2.18726200e+04 2.12369060e+05 2.20116630e+05 4.81052000e+03\n",
      " 2.12665600e+04 3.59821000e+03 8.13526000e+03 1.72474700e+04\n",
      " 3.17870500e+04 1.69388000e+03 2.94571000e+03 2.77446660e+05\n",
      " 3.33803000e+04 7.20800000e+03 3.56273600e+04 1.00231000e+03\n",
      " 1.60670000e+02 3.34381900e+04 6.65359100e+04 3.51384500e+04\n",
      " 5.64895300e+04 5.42986000e+03 1.90228000e+03 8.99790167e+06\n",
      " 4.74979000e+03]\n",
      "Index(['Australia', 'Austria', 'Bahrain', 'Belgium', 'Brazil', 'Canada',\n",
      "       'Channel Islands', 'Cyprus', 'Czech Republic', 'Denmark', 'EIRE',\n",
      "       'European Community', 'Finland', 'France', 'Germany', 'Greece',\n",
      "       'Hong Kong', 'Iceland', 'Israel', 'Italy', 'Japan', 'Lebanon', 'Malta',\n",
      "       'Netherlands', 'Norway', 'Poland', 'Portugal', 'RSA', 'Saudi Arabia',\n",
      "       'Singapore', 'Spain', 'Sweden', 'Switzerland', 'USA',\n",
      "       'United Arab Emirates', 'United Kingdom', 'Unspecified'],\n",
      "      dtype='object', name='Country')\n"
     ]
    },
    {
     "data": {
      "image/png": "[encoded data removed]",
      "text/plain": [
       "<Figure size 432x288 with 1 Axes>"
      ]
     },
     "metadata": {},
     "output_type": "display_data"
    }
   ],
   "source": [
    "# 3.Plot Pie Chart for Year 2011 Country Wise.    Which Country contributes highest towards sales?\n",
    "\n",
    "sales_country_wise = sales_2011.groupby('Country').sum()['Amount']\n",
    "print(sales_country_wise.values)\n",
    "print(sales_country_wise.index)\n",
    "plt.title(\"Country Wise Contribution For 2011\")\n",
    "plt.pie(sales_country_wise.values,labels=sales_country_wise.index,autopct='%1.1f%%')\n",
    "plt.show()\n",
    "# Answer: UK -- 83.5 %\n",
    "# Enhancement -- Play With Parameters  shadow=True, startangle=90 etc in plt.pie and see how different the chart looks\n",
    "\n"
   ]
  },
  {
   "cell_type": "code",
   "execution_count": 34,
   "metadata": {},
   "outputs": [
    {
     "data": {
      "image/png": "[encoded data removed]",
      "text/plain": [
       "<Figure size 432x288 with 1 Axes>"
      ]
     },
     "metadata": {},
     "output_type": "display_data"
    }
   ],
   "source": [
    "#Enhancement 2.In Pie Chart Play With Parameters shadow=True, startangle=90 and see how different the chart looks \n",
    "sales_country_wise = sales_2011.groupby('Country').sum()['Amount']\n",
    "\n",
    "plt.title(\"Country Wise Contribution For 2011\")\n",
    "plt.pie(sales_country_wise.values,labels=sales_country_wise.index,autopct='%1.1f%%', shadow=True, startangle=90)\n",
    "plt.show()"
   ]
  },
  {
   "cell_type": "code",
   "execution_count": null,
   "metadata": {},
   "outputs": [],
   "source": [
    "#   4.Plot Scatter Plot for the invoice amounts and see the concentration of amount.  \n",
    "        #    In which range most of the invoice amounts are concentrated Enhancements for code#\n",
    "#Prabha, not sure why same .values used in scatter plot\n",
    "\n"
   ]
  },
  {
   "cell_type": "code",
   "execution_count": 35,
   "metadata": {},
   "outputs": [
    {
     "data": {
      "image/png": "[encoded data removed]",
      "text/plain": [
       "<Figure size 432x288 with 1 Axes>"
      ]
     },
     "metadata": {
      "needs_background": "light"
     },
     "output_type": "display_data"
    }
   ],
   "source": [
    "# Enhancement  3.In scatter plot change the color of Scatter Points\n",
    "# Enhancement -- Change the color of points use color=['red','green','blue']\n",
    "sales_invoice_wise = sales_2011.groupby('InvoiceNo').sum()['Amount']\n",
    "#print(sales_invoice_wise)\n",
    "#RGB = [255 153 153]/256 ;\n",
    "#RGB = [204 204 255]/256 ;\n",
    "plt.scatter(sales_invoice_wise.values,sales_invoice_wise.values, c = 'red')\n",
    "plt.grid(True)\n",
    "plt.show()\n",
    "\n"
   ]
  },
  {
   "cell_type": "markdown",
   "metadata": {},
   "source": [
    "# Module 5 Case study 1\n"
   ]
  },
  {
   "cell_type": "markdown",
   "metadata": {},
   "source": [
    "## From the data provided on Hollywood movies:\n",
    "    1.Find the highest rated movie in the“Quest” story type.\n",
    "    2.Find the genre in which there has been the greatest number of movie releases\n",
    "    3.Print the names of the top five movies with the costliest budgets.\n",
    "    4.Is there any correspondence between the critics’ evaluation of a movie and itsacceptance by the public? \n",
    "    Find out, by plotting the net profitability of a movie against the ratings it receives on Rotten Tomatoes."
   ]
  },
  {
   "cell_type": "code",
   "execution_count": 37,
   "metadata": {},
   "outputs": [
    {
     "name": "stdout",
     "output_type": "stream",
     "text": [
      "                                       Movie   LeadStudio  RottenTomatoes  \\\n",
      "0                               Spider-Man 3         Sony            61.0   \n",
      "1                            Shrek the Third    Paramount            42.0   \n",
      "2                               Transformers    Paramount            57.0   \n",
      "3   Pirates of the Caribbean: At World's End       Disney            45.0   \n",
      "4  Harry Potter and the Order of the Phoenix  Warner Bros            78.0   \n",
      "\n",
      "   AudienceScore          Story      Genre  TheatersOpenWeek  OpeningWeekend  \\\n",
      "0           54.0  Metamorphosis     Action            4252.0           151.1   \n",
      "1           57.0          Quest  Animation            4122.0           121.6   \n",
      "2           89.0  Monster Force     Action            4011.0            70.5   \n",
      "3           74.0         Rescue     Action            4362.0           114.7   \n",
      "4           82.0          Quest  Adventure            4285.0            77.1   \n",
      "\n",
      "   BOAvgOpenWeekend  DomesticGross  ForeignGross  WorldGross  Budget  \\\n",
      "0           35540.0         336.53        554.34      890.87   258.0   \n",
      "1           29507.0         322.72        476.24      798.96   160.0   \n",
      "2           17577.0         319.25        390.46      709.71   150.0   \n",
      "3           26302.0         309.42        654.00      963.42   300.0   \n",
      "4           17998.0         292.00        647.88      939.89   150.0   \n",
      "\n",
      "   Profitability  OpenProfit  Year  \n",
      "0         345.30       58.57  2007  \n",
      "1         499.35       76.00  2007  \n",
      "2         473.14       47.00  2007  \n",
      "3         321.14       38.23  2007  \n",
      "4         626.59       51.40  2007  \n"
     ]
    }
   ],
   "source": [
    "import numpy as np\n",
    "import pandas as pd\n",
    "\n",
    "hollywood_fm = pd.read_csv(r\"..\\Dataset\\HollywoodMovies.csv\")\n",
    "print(hollywood_fm.head())"
   ]
  },
  {
   "cell_type": "code",
   "execution_count": 54,
   "metadata": {},
   "outputs": [
    {
     "name": "stdout",
     "output_type": "stream",
     "text": [
      "Highest rated Quest story type movie: \n",
      "                   Movie  RottenTomatoes\n",
      "Story                                 \n",
      "QUEST  The Hurt Locker            97.0\n"
     ]
    }
   ],
   "source": [
    "#1.Find the highest rated movie in the“Quest” story type.\n",
    "\n",
    "#Method 1\n",
    "\n",
    "#Filter quest story type in dataframe\n",
    "High_rate_quest1 = hollywood_fm[hollywood_fm[\"Story\"].str.upper() == 'QUEST']\n",
    "\n",
    "#Sort DF based on audience_score, then group by based on col 'story' which is converted to upper case\n",
    "#then take 1st row movie name from  dataframe\n",
    "High_rate_quest = High_rate_quest1.sort_values(['RottenTomatoes'], ascending=False).groupby(High_rate_quest1[\"Story\"].str.upper())[[\"Movie\",\"RottenTomatoes\"]].first()\n",
    "\n",
    "print(\"Highest rated Quest story type movie: \\n \", High_rate_quest)\n"
   ]
  },
  {
   "cell_type": "code",
   "execution_count": 41,
   "metadata": {},
   "outputs": [
    {
     "name": "stdout",
     "output_type": "stream",
     "text": [
      "The Hurt Locker 97.0\n"
     ]
    }
   ],
   "source": [
    "#Method 2 Edu sol:\n",
    "highest_rated = \"\"\n",
    "rating = 0\n",
    "selected_columns = hollywood_fm.loc[:, [\"Movie\", \"RottenTomatoes\", \"Story\"]]\n",
    "\n",
    "#Compare each column by next column\n",
    "for i in range(0, 970):\n",
    "    if selected_columns.loc[i][\"Story\"] == \"Quest\" and selected_columns.loc[i][\"RottenTomatoes\"] > rating:\n",
    "        rating = selected_columns.loc[i][\"RottenTomatoes\"]\n",
    "        highest_rated = selected_columns.loc[i][\"Movie\"]\n",
    "\n",
    "print(highest_rated, rating)"
   ]
  },
  {
   "cell_type": "code",
   "execution_count": 56,
   "metadata": {},
   "outputs": [
    {
     "name": "stdout",
     "output_type": "stream",
     "text": [
      "Genre in which there has been the greatest number of movie releases : \n",
      "     Genre  counts\n",
      "0  Comedy     177\n",
      "{'Action': 166, 'Animation': 51, 'Adventure': 30, 'Thriller': 35, 'Comedy': 177, 'Musical': 4, 'Drama': 109, 'Biography': 14, 'Horror': 52, 'Romance': 20, 'Fantasy': 6, 'Documentary': 7, 'Crime': 15, 'nan': 1, 'Mystery': 5}\n"
     ]
    }
   ],
   "source": [
    "#2.Find the genre in which there has been the greatest number of movie releases\n",
    "#Method 1\n",
    "\n",
    "#Here reset_index for rename field as count, size will give row count based on grp, nalrgest will select 1st highest count\n",
    "movie_max = hollywood_fm.groupby(\"Genre\").size().nlargest(1).reset_index(name='counts')\n",
    "print(\"Genre in which there has been the greatest number of movie releases : \\n\" , movie_max)\n",
    "\n",
    "\n",
    "\n",
    "#Method 2 Edu sol:\n",
    "genre = hollywood_fm.loc[:, [\"Genre\"]]\n",
    "\n",
    "frequency = dict()\n",
    "for i in range(0, 970):\n",
    "    #If key is there then increment, else add key with value as 1\n",
    "    if genre.loc[i][0] in frequency:\n",
    "        #Here adding genre as dictionaries key and incrementing its value with 1\n",
    "        frequency[str(genre.loc[i][0])] += 1\n",
    "    else:\n",
    "        frequency[str(genre.loc[i][0])] = 1\n",
    "print(frequency)\n"
   ]
  },
  {
   "cell_type": "code",
   "execution_count": 57,
   "metadata": {},
   "outputs": [
    {
     "name": "stdout",
     "output_type": "stream",
     "text": [
      "                                        Movie  Budget\n",
      "3    Pirates of the Caribbean: At World's End   300.0\n",
      "468                                   Tangled   260.0\n",
      "0                                Spider-Man 3   258.0\n",
      "778                     The Dark Knight Rises   250.0\n",
      "241    Harry Potter and the Half-Blood Prince   250.0\n"
     ]
    }
   ],
   "source": [
    "#3.Print the names of the top five movies with the costliest budgets.\n",
    "\n",
    "cost_mov  = hollywood_fm.sort_values([\"Budget\"] , ascending = False).head(5)\n",
    "print(cost_mov.loc[ :,['Movie',\"Budget\"]])"
   ]
  },
  {
   "cell_type": "code",
   "execution_count": 58,
   "metadata": {},
   "outputs": [
    {
     "data": {
      "image/png": "[encoded data removed]",
      "text/plain": [
       "<Figure size 432x288 with 1 Axes>"
      ]
     },
     "metadata": {
      "needs_background": "light"
     },
     "output_type": "display_data"
    }
   ],
   "source": [
    "#4.Is there any correspondence between the critics’ evaluation of a movie and its acceptance by the public?\n",
    "#Find out, by plotting the net profitability of a movie against the ratings it receives on Rotten Tomatoes.\n",
    "\n",
    "import matplotlib.pyplot as plt\n",
    "x = hollywood_fm.Profitability.values\n",
    "y = hollywood_fm[\"RottenTomatoes\"].values\n",
    "\n",
    "plt.scatter(x,y)\n",
    "plt.xlabel(\"Profitability\")\n",
    "plt.ylabel(\"Rotten tomato rating\")\n",
    "plt.xlim(0, 200)\n",
    "plt.show()\n",
    "#OR\n",
    "#selected = hollywood_fm.loc[:, [\"Profitability\", \"RottenTomatoes\"]]\n",
    "#plt.scatter(selected[\"Profitability\"], selected[\"RottenTomatoes\"])"
   ]
  },
  {
   "cell_type": "markdown",
   "metadata": {},
   "source": [
    "# 5.Perform Operations on Files\n",
    "    5.1: From the raw data below create a data frame\n",
    "            'first_name': ['Jason', 'Molly', 'Tina', 'Jake', 'Amy'], \n",
    "            'last_name': ['Miller', 'Jacobson', \".\", 'Milner', 'Cooze'], \n",
    "            'age': [42, 52, 36, 24, 73], \n",
    "            'preTestScore': [4, 24, 31, \".\", \".\"],\n",
    "            'postTestScore': [\"25,000\", \"94,000\", 57, 62, 70]\n",
    "                \n",
    "    5.2: Save the dataframe into a csv file as example.csv        \n",
    "    5.3: Read the example.csv and print the data frame\n",
    "    5.4: Read the example.csv without column heading\n",
    "    5.5: Read the example.csv and make the index columns as 'First Name’ and 'Last Name'\n",
    "    5.6:  Print  the  data  frame  in  a  Boolean  form  as  True  or  False.  True  for  Null/  NaN values and false \n",
    "        for non-nullvalues\n",
    "    5.7: Read the dataframe by skipping first 3 rows and print the data frame\n",
    "    5.8: Load a csv file while interpreting \",\" in strings around numbers as thousands seperators. \n",
    "        Check the raw data 'postTestScore' column has, as thousands separator. \n",
    "        Comma should be ignored while reading the data. \n",
    "        It is default behaviour,but you need to give argument to read_csv function which makes sure commas are ignored.\n"
   ]
  },
  {
   "cell_type": "code",
   "execution_count": 60,
   "metadata": {},
   "outputs": [
    {
     "name": "stdout",
     "output_type": "stream",
     "text": [
      "  first_name last_name  age preTestScore postTestScore\n",
      "0      Jason    Miller   42            4        25,000\n",
      "1      Molly  Jacobson   52           24        94,000\n",
      "2       Tina         .   36           31            57\n",
      "3       Jake    Milner   24            .            62\n",
      "4        Amy     Cooze   73            .            70\n"
     ]
    }
   ],
   "source": [
    "#Create dictionary\n",
    "new_dict  = {'first_name': ['Jason', 'Molly', 'Tina', 'Jake', 'Amy'], \n",
    "        'last_name': ['Miller', 'Jacobson', \".\", 'Milner', 'Cooze'], \n",
    "        'age': [42, 52, 36, 24, 73], 'preTestScore': [4, 24, 31, \".\", \".\"],\n",
    "        'postTestScore': [\"25,000\", \"94,000\", 57, 62, 70]\n",
    "}\n",
    "\n",
    "new_df = pd.DataFrame(new_dict)\n",
    "print(new_df)"
   ]
  },
  {
   "cell_type": "code",
   "execution_count": 62,
   "metadata": {},
   "outputs": [],
   "source": [
    "#5.2: Save the dataframe into a csv file as example.\n",
    "new_df.to_csv('../Dataset/example.csv',index=False)"
   ]
  },
  {
   "cell_type": "code",
   "execution_count": 63,
   "metadata": {},
   "outputs": [
    {
     "name": "stdout",
     "output_type": "stream",
     "text": [
      "  first_name last_name  age preTestScore postTestScore\n",
      "0      Jason    Miller   42            4        25,000\n",
      "1      Molly  Jacobson   52           24        94,000\n",
      "2       Tina         .   36           31            57\n",
      "3       Jake    Milner   24            .            62\n",
      "4        Amy     Cooze   73            .            70\n"
     ]
    }
   ],
   "source": [
    "#5.3: Read the example.csv and print the data frame\n",
    "read_new_csv = pd.read_csv('../Dataset/example.csv' )\n",
    "print(read_new_csv)"
   ]
  },
  {
   "cell_type": "code",
   "execution_count": 64,
   "metadata": {},
   "outputs": [
    {
     "name": "stdout",
     "output_type": "stream",
     "text": [
      "       0         1   2   3       4\n",
      "0  Jason    Miller  42   4  25,000\n",
      "1  Molly  Jacobson  52  24  94,000\n",
      "2   Tina         .  36  31      57\n",
      "3   Jake    Milner  24   .      62\n",
      "4    Amy     Cooze  73   .      70\n"
     ]
    }
   ],
   "source": [
    "#5.4: Read the example.csv without column heading\n",
    "#here, header will be skipped and 1st row treated as data, skiprows will sKkip that header else it will come as 1st row\n",
    "read_new_csv_no_header = pd.read_csv('../Dataset/example.csv' ,header = None,skiprows = 1)\n",
    "print(read_new_csv_no_header)"
   ]
  },
  {
   "cell_type": "code",
   "execution_count": 65,
   "metadata": {},
   "outputs": [
    {
     "name": "stdout",
     "output_type": "stream",
     "text": [
      "                      age preTestScore postTestScore\n",
      "first_name last_name                                \n",
      "Jason      Miller      42            4        25,000\n",
      "Molly      Jacobson    52           24        94,000\n",
      "Tina       .           36           31            57\n",
      "Jake       Milner      24            .            62\n",
      "Amy        Cooze       73            .            70\n"
     ]
    }
   ],
   "source": [
    "#5.5: Read the example.csv and make the index columns as 'First Name’ and 'Last Name'\n",
    "\n",
    "read_new_csv1 = pd.read_csv('../Dataset/example.csv' , index_col = ['first_name','last_name'])\n",
    "#read_new_csv1 = pd.read_csv('example.csv' , index_col = ['first_name','last_name'], names=[ 'First Name', 'Last Name', 'Age', 'Pre-Test Score', 'Post-Test Score'])\n",
    "print(read_new_csv1)\n"
   ]
  },
  {
   "cell_type": "code",
   "execution_count": 66,
   "metadata": {},
   "outputs": [
    {
     "name": "stdout",
     "output_type": "stream",
     "text": [
      "   first_name  last_name    age  preTestScore  postTestScore\n",
      "0       False      False  False         False          False\n",
      "1       False      False  False         False          False\n",
      "2       False       True  False         False          False\n",
      "3       False      False  False          True          False\n",
      "4       False      False  False          True          False\n"
     ]
    }
   ],
   "source": [
    "#5.6:  Print the data frame in  a  Boolean  form as True or False. True  for  Null/  NaN values and false for non-nullvalues\n",
    "df = pd.read_csv('../Dataset/example.csv', na_values=['.'])\n",
    "print(pd.isnull(df))\n"
   ]
  },
  {
   "cell_type": "code",
   "execution_count": 79,
   "metadata": {},
   "outputs": [
    {
     "name": "stdout",
     "output_type": "stream",
     "text": [
      "  first_name last_name  age preTestScore  postTestScore\n",
      "0       Jake    Milner   24            .             62\n",
      "1        Amy     Cooze   73            .             70\n"
     ]
    }
   ],
   "source": [
    "#.7: Read the dataframe by skipping first 3 rows and print the data frame\n",
    "\n",
    "read_new_csv2 = pd.read_csv('../Dataset/example.csv' , skiprows = [1,2,3])  #hERE explicitly mentioned row id excluding header, so reurn 2 last rows\n",
    "#OR\n",
    "#read_new_csv2 = pd.read_csv('example.csv' , skiprows = 3)  #hERE HEADER also considered as row and reurn 3 last rows\n",
    "print(read_new_csv2)\n"
   ]
  },
  {
   "cell_type": "code",
   "execution_count": 80,
   "metadata": {},
   "outputs": [
    {
     "name": "stdout",
     "output_type": "stream",
     "text": [
      "  first_name last_name  age preTestScore  postTestScore\n",
      "0      Jason    Miller   42            4          25000\n",
      "1      Molly  Jacobson   52           24          94000\n",
      "2       Tina         .   36           31             57\n",
      "3       Jake    Milner   24            .             62\n",
      "4        Amy     Cooze   73            .             70\n"
     ]
    }
   ],
   "source": [
    "\"\"\"    5.8: Load a csv file while interpreting \",\" in strings around numbers as thousands seperators. \n",
    "    Check the raw data 'postTestScore' column has, as thousands separator. \n",
    "    Comma should be ignored while reading the data. \n",
    "    It is default behaviour,but you need to give argument to read_csv function which makes sure commas are ignored.\n",
    "\"\"\"\n",
    "read_new_csv3 = pd.read_csv('../Dataset/example.csv' ,thousands=',')\n",
    "print(read_new_csv3)"
   ]
  },
  {
   "cell_type": "code",
   "execution_count": 81,
   "metadata": {},
   "outputs": [
    {
     "name": "stdout",
     "output_type": "stream",
     "text": [
      "['Amit' 'Bob' 'Kate' 'A' 'b' nan 'Car' 'dog' 'cat']\n",
      "\n",
      " Print in lower case:\n",
      "['amit' 'bob' 'kate' 'a' 'b' nan 'car' 'dog' 'cat']\n",
      "\n",
      " Print all the elements in upper case:\n",
      "['AMIT' 'BOB' 'KATE' 'A' 'B' nan 'CAR' 'DOG' 'CAT']\n",
      "\n",
      " Print the length of all the elements:\n",
      "Length of Amit in 4 \n",
      "Length of Bob in 3 \n",
      "Length of Kate in 4 \n",
      "Length of A in 1 \n",
      "Length of b in 1 \n",
      "Length of nan in 3 \n",
      "Length of Car in 3 \n",
      "Length of dog in 3 \n",
      "Length of cat in 3 \n"
     ]
    }
   ],
   "source": [
    "\"\"\"\n",
    "6.Perform Operations on Files \n",
    "\n",
    "6.1: From the raw data below create a Pandas Series 'Amit', 'Bob', 'Kate', 'A', 'b', np.nan, 'Car', 'dog', 'cat'\n",
    "    a) Print all elements in lower case\n",
    "    b) Print all the elements in upper case\n",
    "    c) Print the length of all the elements\n",
    "\"\"\"\n",
    "\n",
    "new_series = pd.Series(['Amit', 'Bob', 'Kate', 'A', 'b', np.nan, 'Car', 'dog', 'cat'])\n",
    "print(new_series.values)\n",
    "\n",
    "print(\"\\n Print in lower case:\")\n",
    "print(new_series.str.lower().values)\n",
    "\n",
    "print(\"\\n Print all the elements in upper case:\")\n",
    "print(new_series.str.upper().values)\n",
    "\n",
    "print(\"\\n Print the length of all the elements:\")\n",
    "for item  in new_series:\n",
    "    #print(type(str(item)))\n",
    "    print(\"Length of %s in %s \" %(item, len(str(item))))\n"
   ]
  },
  {
   "cell_type": "code",
   "execution_count": 82,
   "metadata": {},
   "outputs": [
    {
     "name": "stdout",
     "output_type": "stream",
     "text": [
      "[' Atul' 'John ' ' jack ' 'Sam']\n",
      "\n",
      " Print all elements after stripping spaces from the left and right:\n",
      "['Atul' 'John' 'jack' 'Sam']\n",
      "\n",
      " Print all the elements after removing spaces from the left only:\n",
      "['Atul' 'John ' 'jack ' 'Sam']\n",
      "\n",
      " Print all the elements after removing spaces from the right only:\n",
      "[' Atul' 'John' ' jack' 'Sam']\n"
     ]
    }
   ],
   "source": [
    "\"\"\"\n",
    "6.2: From the raw data below create a Pandas Series' Atul', 'John ', ' jack ', 'Sam'\n",
    "    a) Print all elements after stripping spaces from the left and right\n",
    "    b) Print all the elements after removing spaces from the left only\n",
    "    c) Print all the elements after removing spaces from the right only\n",
    "\"\"\"\n",
    "\n",
    "\n",
    "new_series1 = pd.Series([' Atul', 'John ', ' jack ', 'Sam'])\n",
    "print(new_series1.values)\n",
    "\n",
    "print(\"\\n Print all elements after stripping spaces from the left and right:\")\n",
    "print(new_series1.str.strip().values)\n",
    "\n",
    "print(\"\\n Print all the elements after removing spaces from the left only:\")\n",
    "print(new_series1.str.lstrip().values)\n",
    "\n",
    "print(\"\\n Print all the elements after removing spaces from the right only:\")\n",
    "print(new_series1.str.rstrip().values)"
   ]
  },
  {
   "cell_type": "code",
   "execution_count": 83,
   "metadata": {},
   "outputs": [
    {
     "name": "stdout",
     "output_type": "stream",
     "text": [
      "['India_is_big' 'Population_is_huge' nan 'Has_diverse_culture']\n",
      "\n",
      " split the individual strings wherever ‘_’ comes and create a list out of it.:\n",
      "0           [India, is, big]\n",
      "1     [Population, is, huge]\n",
      "2                        NaN\n",
      "3    [Has, diverse, culture]\n",
      "dtype: object\n",
      "\n",
      " Access the individual element of a list:\n",
      "['India', 'is', 'big']\n",
      "India\n",
      "is\n",
      "big\n",
      "['Population', 'is', 'huge']\n",
      "Population\n",
      "is\n",
      "huge\n",
      "nan\n",
      "nan\n",
      "['Has', 'diverse', 'culture']\n",
      "Has\n",
      "diverse\n",
      "culture\n",
      "\n",
      " Expand the elements so that all individual elements get splitted by ‘_’ and insted of list returns individual elements:\n",
      "            0        1        2\n",
      "0       India       is      big\n",
      "1  Population       is     huge\n",
      "2         NaN      NaN      NaN\n",
      "3         Has  diverse  culture\n"
     ]
    }
   ],
   "source": [
    "\"\"\"\n",
    "6.3: -Create a series from the raw data below\n",
    "    'India_is_big', 'Population_is_huge', np.nan, 'Has_diverse_culture'\n",
    "    \n",
    "    a)split the individual strings wherever ‘_’ comes and create a list out of it.\n",
    "    b)Access the individual element of a list\n",
    "    c)Expand the elements so that all individual elements get splitted by ‘_’ and insted of list returns individual elements\n",
    "\n",
    "\"\"\"\n",
    "\n",
    "\n",
    "new_series2 = pd.Series(['India_is_big', 'Population_is_huge', np.nan, 'Has_diverse_culture'])\n",
    "print(new_series2.values)\n",
    "\n",
    "print(\"\\n split the individual strings wherever ‘_’ comes and create a list out of it.:\")\n",
    "print(new_series2.str.split('_'))\n",
    "\n",
    "print(\"\\n Access the individual element of a list:\")\n",
    "x = new_series2.str.split('_').values\n",
    "\n",
    "for item in x:\n",
    "    print(item)\n",
    "\n",
    "    if str(item) == 'nan':\n",
    "        print('nan')\n",
    "    else: \n",
    "        for i in range(len((item))):\n",
    "            print(item[i])\n",
    "\n",
    "print(\"\\n Expand the elements so that all individual elements get splitted by ‘_’ and insted of list returns individual elements:\")\n",
    "print(new_series2.str.split('_', expand=True))"
   ]
  },
  {
   "cell_type": "code",
   "execution_count": 84,
   "metadata": {},
   "outputs": [
    {
     "name": "stdout",
     "output_type": "stream",
     "text": [
      "['A' 'B' 'C' 'AabX' 'BacX' '' nan 'CABA' 'dog' 'cat']\n",
      "0           XX-XX\n",
      "1               B\n",
      "2               C\n",
      "3    XX-XXXX-XXbX\n",
      "4        BXX-XXcX\n",
      "5                \n",
      "6             NaN\n",
      "7    CXX-XXBXX-XX\n",
      "8           XX-XX\n",
      "9         cXX-XXt\n",
      "dtype: object\n"
     ]
    }
   ],
   "source": [
    "#6.4: Create a series and replace either a or dog with XX-XX'\n",
    "    #A', 'B', 'C', 'AabX', 'BacX','', np.nan, 'CABA', 'dog', 'cat'\n",
    "    \n",
    "import re\n",
    "new_series3 = pd.Series(['A', 'B', 'C', 'AabX', 'BacX','', np.nan, 'CABA', 'dog', 'cat'])\n",
    "print(new_series3.values)\n",
    "\n",
    "# Here , case=False will replace both small a and big A\n",
    "print(new_series3.str.replace('a|dog', 'XX-XX' , case=False) )"
   ]
  },
  {
   "cell_type": "code",
   "execution_count": 73,
   "metadata": {},
   "outputs": [
    {
     "name": "stdout",
     "output_type": "stream",
     "text": [
      "['12' '-$10' '$10,000']\n",
      "0        12\n",
      "1       -10\n",
      "2    10,000\n",
      "dtype: object\n"
     ]
    }
   ],
   "source": [
    "# 6.5: Create a series and remove dollar from the numeric values\n",
    "    # '12', '-$10', '$10,000'\n",
    "    \n",
    "new_series4 = pd.Series(['12', '-$10', '$10,000'])\n",
    "print(new_series4.values)\n",
    "print(new_series4.str.replace(r'$', '') )"
   ]
  },
  {
   "cell_type": "code",
   "execution_count": 85,
   "metadata": {},
   "outputs": [
    {
     "name": "stdout",
     "output_type": "stream",
     "text": [
      "['india 1998' 'big country' nan]\n",
      "0     aidni 1998\n",
      "1    gib yrtnuoc\n",
      "2            NaN\n",
      "dtype: object\n"
     ]
    }
   ],
   "source": [
    "# 6.6:-Create a series and reverse all lower case words \n",
    "  #'india 1998', 'big country', np.nan\n",
    "new_series5 = pd.Series(['india 1998', 'big country', np.nan])\n",
    "print(new_series5.values)\n",
    "\n",
    "#Here pattern to consider only character a-z, +means continues letter\n",
    "pat=r'[a-z]+'\n",
    "repl=lambda m: m.group(0)[::-1]\n",
    "\n",
    "print(new_series5.str.replace(pat,repl ) )\n"
   ]
  },
  {
   "cell_type": "code",
   "execution_count": 86,
   "metadata": {},
   "outputs": [
    {
     "name": "stdout",
     "output_type": "stream",
     "text": [
      "['1' '2' '1a' '2b' '2003c']\n",
      "0    False\n",
      "1    False\n",
      "2     True\n",
      "3     True\n",
      "4     True\n",
      "dtype: bool\n"
     ]
    }
   ],
   "source": [
    "#6.7: Create pandas series and print true if value is alphanumeric in series or false if value is not alpha numeric in series.\n",
    "    #'1', '2', '1a', '2b', '2003c'\n",
    "    \n",
    "new_series6 = pd.Series(['1', '2', '1a', '2b', '2003c'])\n",
    "print(new_series6.values)\n",
    "#Not correct\n",
    "#print(new_series6.str.isalnum())\n",
    "\n",
    "#Edu sol\n",
    "import pandas as pd\n",
    "  \n",
    "pattern = r'[0-9][a-z]'\n",
    "print(pd.Series(['1', '2', '1a', '2b', '2003c']).str.contains(pattern))"
   ]
  },
  {
   "cell_type": "code",
   "execution_count": 87,
   "metadata": {},
   "outputs": [
    {
     "name": "stdout",
     "output_type": "stream",
     "text": [
      "['1' '2' '1a' '2b' 'America' 'VietnAm' 'vietnam' '2003c']\n",
      "America\n",
      "VietnAm\n",
      "0    False\n",
      "1    False\n",
      "2    False\n",
      "3    False\n",
      "4     True\n",
      "5     True\n",
      "6    False\n",
      "7    False\n",
      "dtype: bool\n"
     ]
    }
   ],
   "source": [
    "#6.8: Create pandas series and print true if value is containing ‘A’\n",
    "    #'1', '2', '1a', '2b', 'America', 'VietnAm','vietnam', '2003c'\n",
    "    \n",
    "new_series7 = pd.Series(['1', '2', '1a', '2b', 'America', 'VietnAm','vietnam', '2003c'])\n",
    "print(new_series7.values)\n",
    "\n",
    "for item in new_series7:\n",
    "    if 'A' in item:\n",
    "        print(item)\n",
    "        \n",
    "#OR\n",
    "\n",
    "print(new_series7.str.contains('A'))"
   ]
  },
  {
   "cell_type": "code",
   "execution_count": 88,
   "metadata": {},
   "outputs": [
    {
     "name": "stdout",
     "output_type": "stream",
     "text": [
      "['a' 'a|b' nan 'a|c']\n",
      "   a  b  c\n",
      "0  1  0  0\n",
      "1  1  1  0\n",
      "2  0  0  0\n",
      "3  1  0  1\n"
     ]
    }
   ],
   "source": [
    "\"\"\"\n",
    "6.9: Create pandas series and print in three columns value 0 or 1 is a or b or c exists in values\n",
    "    'a', 'a|b', np.nan, 'a|c'\n",
    "\"\"\"\n",
    "\n",
    "new_series8 = pd.Series([ 'a', 'a|b', np.nan, 'a|c'])\n",
    "print(new_series8.values)\n",
    "\n",
    "#Here get_dummies, Convert categorical variable into dummy/indicator variables\n",
    "print(new_series8.str.get_dummies(sep='|'))\n"
   ]
  },
  {
   "cell_type": "code",
   "execution_count": 89,
   "metadata": {},
   "outputs": [
    {
     "name": "stdout",
     "output_type": "stream",
     "text": [
      "Newpd1: \n",
      "     key  ltable\n",
      "0  One       1\n",
      "1  Two       2\n",
      "Newpd2: \n",
      "     key  rtable\n",
      "0  One       4\n",
      "1  Two       5\n",
      "Newpd3: \n",
      "     key  ltable  rtable\n",
      "0  One       1       4\n",
      "1  Two       2       5\n"
     ]
    }
   ],
   "source": [
    "# 6.10: Create pandas dataframe having keys and ltable and rtable as below -\n",
    "    # 'key': ['One', 'Two'], 'ltable': [1, 2]\n",
    "    #  'key': ['One', 'Two'], 'rtable': [4, 5]\n",
    "    # Merge both the tables based of key\n",
    "\n",
    "ltable = {'key': ['One', 'Two'], 'ltable': [1, 2]}\n",
    "rtable = {'key': ['One', 'Two'], 'rtable': [4, 5]}\n",
    "\n",
    "new_pd1 = pd.DataFrame(data=ltable)\n",
    "new_pd2 = pd.DataFrame(data=rtable)\n",
    "print(\"Newpd1: \\n \" , new_pd1)\n",
    "print(\"Newpd2: \\n \" , new_pd2)\n",
    "\n",
    "#Method 1\n",
    "new_pd3 = pd.merge(new_pd1, new_pd2, on = 'key')\n",
    "print(\"Newpd3: \\n \" , new_pd3)\n",
    "\n",
    "#Method 2\n",
    "\n",
    "#new_pd1.add(new_pd2,fill_value=0)\n",
    "#print(new_pd1)"
   ]
  },
  {
   "cell_type": "markdown",
   "metadata": {},
   "source": [
    "# Module 4 Case Study 2\n",
    "    Domain –HR\n",
    "        focus –Insights from data\n",
    "            Business challenge/requirementSFO Public Department -referred to as SFO  has captured all the salary data of its \n",
    "            employees from year 2011-2014.  \n",
    "            Now we are in year 2015 and the organization is facing some financial crisis. \n",
    "            As first step HR wants to rationalize employee cost to save payroll budget.\n",
    "            You have to do data manipulation and analysis on the salary data to answer specific questions for cost savings.\n",
    "            Key issuesCost can be saved by figuring out the key pockets of high salaries\n",
    "            \n",
    "            \n",
    "            Approach to Solve You have to use fundamentals of Pandas covered in module 6 and answer following 5 Questions\n",
    "            \n",
    "            1.Compute how much total salary cost has increased from year 2011 to 2014\n",
    "            2.Which Job Title in Year 2014 has highest mean salary?\n",
    "            3.How much money could have been saved in Year 2014 by stopping OverTimePay?\n",
    "            4.Which are the top 5 common job in Year 2014 and how much do they cost SFO ?\n",
    "            5.Who was the top earning employee across all the years?\n",
    "            \n",
    "            Enhancements for code\n",
    "                You can try these enhancements in code\n",
    "               1.Which are the last 5 common job in Year 2014 and how much do they cost SFO?\n",
    "               2.In year 201 OverTimePay was what percentage of  TotalPayBenefits\n",
    "               3.Which Job Title in Year 2014 has lowest mean salary?\n"
   ]
  },
  {
   "cell_type": "code",
   "execution_count": 90,
   "metadata": {},
   "outputs": [
    {
     "name": "stderr",
     "output_type": "stream",
     "text": [
      "C:\\Users\\prabh\\Anaconda3\\lib\\site-packages\\IPython\\core\\interactiveshell.py:3020: DtypeWarning: Columns (12) have mixed types. Specify dtype option on import or set low_memory=False.\n",
      "  interactivity=interactivity, compiler=compiler, result=result)\n"
     ]
    },
    {
     "data": {
      "text/html": [
       "<div>\n",
       "<style scoped>\n",
       "    .dataframe tbody tr th:only-of-type {\n",
       "        vertical-align: middle;\n",
       "    }\n",
       "\n",
       "    .dataframe tbody tr th {\n",
       "        vertical-align: top;\n",
       "    }\n",
       "\n",
       "    .dataframe thead th {\n",
       "        text-align: right;\n",
       "    }\n",
       "</style>\n",
       "<table border=\"1\" class=\"dataframe\">\n",
       "  <thead>\n",
       "    <tr style=\"text-align: right;\">\n",
       "      <th></th>\n",
       "      <th>Id</th>\n",
       "      <th>EmployeeName</th>\n",
       "      <th>JobTitle</th>\n",
       "      <th>BasePay</th>\n",
       "      <th>OvertimePay</th>\n",
       "      <th>OtherPay</th>\n",
       "      <th>Benefits</th>\n",
       "      <th>TotalPay</th>\n",
       "      <th>TotalPayBenefits</th>\n",
       "      <th>Year</th>\n",
       "      <th>Notes</th>\n",
       "      <th>Agency</th>\n",
       "      <th>Status</th>\n",
       "    </tr>\n",
       "  </thead>\n",
       "  <tbody>\n",
       "    <tr>\n",
       "      <th>0</th>\n",
       "      <td>1</td>\n",
       "      <td>NATHANIEL FORD</td>\n",
       "      <td>GENERAL MANAGER-METROPOLITAN TRANSIT AUTHORITY</td>\n",
       "      <td>167411.18</td>\n",
       "      <td>0.00</td>\n",
       "      <td>400184.25</td>\n",
       "      <td>NaN</td>\n",
       "      <td>567595.43</td>\n",
       "      <td>567595.43</td>\n",
       "      <td>2011</td>\n",
       "      <td>NaN</td>\n",
       "      <td>San Francisco</td>\n",
       "      <td>NaN</td>\n",
       "    </tr>\n",
       "    <tr>\n",
       "      <th>1</th>\n",
       "      <td>2</td>\n",
       "      <td>GARY JIMENEZ</td>\n",
       "      <td>CAPTAIN III (POLICE DEPARTMENT)</td>\n",
       "      <td>155966.02</td>\n",
       "      <td>245131.88</td>\n",
       "      <td>137811.38</td>\n",
       "      <td>NaN</td>\n",
       "      <td>538909.28</td>\n",
       "      <td>538909.28</td>\n",
       "      <td>2011</td>\n",
       "      <td>NaN</td>\n",
       "      <td>San Francisco</td>\n",
       "      <td>NaN</td>\n",
       "    </tr>\n",
       "    <tr>\n",
       "      <th>2</th>\n",
       "      <td>3</td>\n",
       "      <td>ALBERT PARDINI</td>\n",
       "      <td>CAPTAIN III (POLICE DEPARTMENT)</td>\n",
       "      <td>212739.13</td>\n",
       "      <td>106088.18</td>\n",
       "      <td>16452.60</td>\n",
       "      <td>NaN</td>\n",
       "      <td>335279.91</td>\n",
       "      <td>335279.91</td>\n",
       "      <td>2011</td>\n",
       "      <td>NaN</td>\n",
       "      <td>San Francisco</td>\n",
       "      <td>NaN</td>\n",
       "    </tr>\n",
       "    <tr>\n",
       "      <th>3</th>\n",
       "      <td>4</td>\n",
       "      <td>CHRISTOPHER CHONG</td>\n",
       "      <td>WIRE ROPE CABLE MAINTENANCE MECHANIC</td>\n",
       "      <td>77916.00</td>\n",
       "      <td>56120.71</td>\n",
       "      <td>198306.90</td>\n",
       "      <td>NaN</td>\n",
       "      <td>332343.61</td>\n",
       "      <td>332343.61</td>\n",
       "      <td>2011</td>\n",
       "      <td>NaN</td>\n",
       "      <td>San Francisco</td>\n",
       "      <td>NaN</td>\n",
       "    </tr>\n",
       "    <tr>\n",
       "      <th>4</th>\n",
       "      <td>5</td>\n",
       "      <td>PATRICK GARDNER</td>\n",
       "      <td>DEPUTY CHIEF OF DEPARTMENT,(FIRE DEPARTMENT)</td>\n",
       "      <td>134401.60</td>\n",
       "      <td>9737.00</td>\n",
       "      <td>182234.59</td>\n",
       "      <td>NaN</td>\n",
       "      <td>326373.19</td>\n",
       "      <td>326373.19</td>\n",
       "      <td>2011</td>\n",
       "      <td>NaN</td>\n",
       "      <td>San Francisco</td>\n",
       "      <td>NaN</td>\n",
       "    </tr>\n",
       "  </tbody>\n",
       "</table>\n",
       "</div>"
      ],
      "text/plain": [
       "   Id       EmployeeName                                        JobTitle  \\\n",
       "0   1     NATHANIEL FORD  GENERAL MANAGER-METROPOLITAN TRANSIT AUTHORITY   \n",
       "1   2       GARY JIMENEZ                 CAPTAIN III (POLICE DEPARTMENT)   \n",
       "2   3     ALBERT PARDINI                 CAPTAIN III (POLICE DEPARTMENT)   \n",
       "3   4  CHRISTOPHER CHONG            WIRE ROPE CABLE MAINTENANCE MECHANIC   \n",
       "4   5    PATRICK GARDNER    DEPUTY CHIEF OF DEPARTMENT,(FIRE DEPARTMENT)   \n",
       "\n",
       "     BasePay  OvertimePay   OtherPay  Benefits   TotalPay  TotalPayBenefits  \\\n",
       "0  167411.18         0.00  400184.25       NaN  567595.43         567595.43   \n",
       "1  155966.02    245131.88  137811.38       NaN  538909.28         538909.28   \n",
       "2  212739.13    106088.18   16452.60       NaN  335279.91         335279.91   \n",
       "3   77916.00     56120.71  198306.90       NaN  332343.61         332343.61   \n",
       "4  134401.60      9737.00  182234.59       NaN  326373.19         326373.19   \n",
       "\n",
       "   Year  Notes         Agency Status  \n",
       "0  2011    NaN  San Francisco    NaN  \n",
       "1  2011    NaN  San Francisco    NaN  \n",
       "2  2011    NaN  San Francisco    NaN  \n",
       "3  2011    NaN  San Francisco    NaN  \n",
       "4  2011    NaN  San Francisco    NaN  "
      ]
     },
     "execution_count": 90,
     "metadata": {},
     "output_type": "execute_result"
    }
   ],
   "source": [
    "import pandas as pd\n",
    "import numpy as np\n",
    "sal_df = pd.read_csv(r\"..\\Dataset\\Salaries.csv\")\n",
    "sal_df.head()"
   ]
  },
  {
   "cell_type": "code",
   "execution_count": 91,
   "metadata": {},
   "outputs": [
    {
     "data": {
      "text/html": [
       "<div>\n",
       "<style scoped>\n",
       "    .dataframe tbody tr th:only-of-type {\n",
       "        vertical-align: middle;\n",
       "    }\n",
       "\n",
       "    .dataframe tbody tr th {\n",
       "        vertical-align: top;\n",
       "    }\n",
       "\n",
       "    .dataframe thead th {\n",
       "        text-align: right;\n",
       "    }\n",
       "</style>\n",
       "<table border=\"1\" class=\"dataframe\">\n",
       "  <thead>\n",
       "    <tr style=\"text-align: right;\">\n",
       "      <th></th>\n",
       "      <th>Id</th>\n",
       "      <th>BasePay</th>\n",
       "      <th>OvertimePay</th>\n",
       "      <th>OtherPay</th>\n",
       "      <th>Benefits</th>\n",
       "      <th>TotalPay</th>\n",
       "      <th>TotalPayBenefits</th>\n",
       "      <th>Year</th>\n",
       "      <th>Notes</th>\n",
       "    </tr>\n",
       "  </thead>\n",
       "  <tbody>\n",
       "    <tr>\n",
       "      <th>count</th>\n",
       "      <td>148648.000000</td>\n",
       "      <td>148043.000000</td>\n",
       "      <td>148648.000000</td>\n",
       "      <td>148648.000000</td>\n",
       "      <td>112490.000000</td>\n",
       "      <td>148648.000000</td>\n",
       "      <td>148648.000000</td>\n",
       "      <td>148648.000000</td>\n",
       "      <td>0.0</td>\n",
       "    </tr>\n",
       "    <tr>\n",
       "      <th>mean</th>\n",
       "      <td>74326.110220</td>\n",
       "      <td>66325.398119</td>\n",
       "      <td>5065.821161</td>\n",
       "      <td>3648.761721</td>\n",
       "      <td>25007.777439</td>\n",
       "      <td>74770.035453</td>\n",
       "      <td>93694.776345</td>\n",
       "      <td>2012.522617</td>\n",
       "      <td>NaN</td>\n",
       "    </tr>\n",
       "    <tr>\n",
       "      <th>std</th>\n",
       "      <td>42911.633315</td>\n",
       "      <td>42764.898947</td>\n",
       "      <td>11454.266982</td>\n",
       "      <td>8056.655841</td>\n",
       "      <td>15402.235424</td>\n",
       "      <td>50516.440633</td>\n",
       "      <td>62792.743250</td>\n",
       "      <td>1.117526</td>\n",
       "      <td>NaN</td>\n",
       "    </tr>\n",
       "    <tr>\n",
       "      <th>min</th>\n",
       "      <td>1.000000</td>\n",
       "      <td>-166.010000</td>\n",
       "      <td>-0.010000</td>\n",
       "      <td>-7058.590000</td>\n",
       "      <td>-33.890000</td>\n",
       "      <td>-618.130000</td>\n",
       "      <td>-618.130000</td>\n",
       "      <td>2011.000000</td>\n",
       "      <td>NaN</td>\n",
       "    </tr>\n",
       "    <tr>\n",
       "      <th>25%</th>\n",
       "      <td>37163.750000</td>\n",
       "      <td>33587.350000</td>\n",
       "      <td>0.000000</td>\n",
       "      <td>0.000000</td>\n",
       "      <td>11535.192500</td>\n",
       "      <td>36169.370000</td>\n",
       "      <td>44072.062500</td>\n",
       "      <td>2012.000000</td>\n",
       "      <td>NaN</td>\n",
       "    </tr>\n",
       "    <tr>\n",
       "      <th>50%</th>\n",
       "      <td>74326.500000</td>\n",
       "      <td>65007.450000</td>\n",
       "      <td>0.000000</td>\n",
       "      <td>811.205000</td>\n",
       "      <td>28628.365000</td>\n",
       "      <td>71427.130000</td>\n",
       "      <td>92406.020000</td>\n",
       "      <td>2013.000000</td>\n",
       "      <td>NaN</td>\n",
       "    </tr>\n",
       "    <tr>\n",
       "      <th>75%</th>\n",
       "      <td>111488.250000</td>\n",
       "      <td>94691.050000</td>\n",
       "      <td>4657.597500</td>\n",
       "      <td>4236.035000</td>\n",
       "      <td>35566.790000</td>\n",
       "      <td>105840.920000</td>\n",
       "      <td>132876.997500</td>\n",
       "      <td>2014.000000</td>\n",
       "      <td>NaN</td>\n",
       "    </tr>\n",
       "    <tr>\n",
       "      <th>max</th>\n",
       "      <td>148654.000000</td>\n",
       "      <td>319275.010000</td>\n",
       "      <td>245131.880000</td>\n",
       "      <td>400184.250000</td>\n",
       "      <td>96570.660000</td>\n",
       "      <td>567595.430000</td>\n",
       "      <td>567595.430000</td>\n",
       "      <td>2014.000000</td>\n",
       "      <td>NaN</td>\n",
       "    </tr>\n",
       "  </tbody>\n",
       "</table>\n",
       "</div>"
      ],
      "text/plain": [
       "                  Id        BasePay    OvertimePay       OtherPay  \\\n",
       "count  148648.000000  148043.000000  148648.000000  148648.000000   \n",
       "mean    74326.110220   66325.398119    5065.821161    3648.761721   \n",
       "std     42911.633315   42764.898947   11454.266982    8056.655841   \n",
       "min         1.000000    -166.010000      -0.010000   -7058.590000   \n",
       "25%     37163.750000   33587.350000       0.000000       0.000000   \n",
       "50%     74326.500000   65007.450000       0.000000     811.205000   \n",
       "75%    111488.250000   94691.050000    4657.597500    4236.035000   \n",
       "max    148654.000000  319275.010000  245131.880000  400184.250000   \n",
       "\n",
       "            Benefits       TotalPay  TotalPayBenefits           Year  Notes  \n",
       "count  112490.000000  148648.000000     148648.000000  148648.000000    0.0  \n",
       "mean    25007.777439   74770.035453      93694.776345    2012.522617    NaN  \n",
       "std     15402.235424   50516.440633      62792.743250       1.117526    NaN  \n",
       "min       -33.890000    -618.130000       -618.130000    2011.000000    NaN  \n",
       "25%     11535.192500   36169.370000      44072.062500    2012.000000    NaN  \n",
       "50%     28628.365000   71427.130000      92406.020000    2013.000000    NaN  \n",
       "75%     35566.790000  105840.920000     132876.997500    2014.000000    NaN  \n",
       "max     96570.660000  567595.430000     567595.430000    2014.000000    NaN  "
      ]
     },
     "execution_count": 91,
     "metadata": {},
     "output_type": "execute_result"
    }
   ],
   "source": [
    "sal_df.describe()"
   ]
  },
  {
   "cell_type": "code",
   "execution_count": 92,
   "metadata": {},
   "outputs": [
    {
     "data": {
      "text/html": [
       "<div>\n",
       "<style scoped>\n",
       "    .dataframe tbody tr th:only-of-type {\n",
       "        vertical-align: middle;\n",
       "    }\n",
       "\n",
       "    .dataframe tbody tr th {\n",
       "        vertical-align: top;\n",
       "    }\n",
       "\n",
       "    .dataframe thead th {\n",
       "        text-align: right;\n",
       "    }\n",
       "</style>\n",
       "<table border=\"1\" class=\"dataframe\">\n",
       "  <thead>\n",
       "    <tr style=\"text-align: right;\">\n",
       "      <th></th>\n",
       "      <th>JobTitle</th>\n",
       "      <th>OvertimePay</th>\n",
       "      <th>Year</th>\n",
       "      <th>TotalPayBenefits</th>\n",
       "    </tr>\n",
       "  </thead>\n",
       "  <tbody>\n",
       "    <tr>\n",
       "      <th>0</th>\n",
       "      <td>GENERAL MANAGER-METROPOLITAN TRANSIT AUTHORITY</td>\n",
       "      <td>0.00</td>\n",
       "      <td>2011</td>\n",
       "      <td>567595.43</td>\n",
       "    </tr>\n",
       "    <tr>\n",
       "      <th>1</th>\n",
       "      <td>CAPTAIN III (POLICE DEPARTMENT)</td>\n",
       "      <td>245131.88</td>\n",
       "      <td>2011</td>\n",
       "      <td>538909.28</td>\n",
       "    </tr>\n",
       "    <tr>\n",
       "      <th>2</th>\n",
       "      <td>CAPTAIN III (POLICE DEPARTMENT)</td>\n",
       "      <td>106088.18</td>\n",
       "      <td>2011</td>\n",
       "      <td>335279.91</td>\n",
       "    </tr>\n",
       "    <tr>\n",
       "      <th>3</th>\n",
       "      <td>WIRE ROPE CABLE MAINTENANCE MECHANIC</td>\n",
       "      <td>56120.71</td>\n",
       "      <td>2011</td>\n",
       "      <td>332343.61</td>\n",
       "    </tr>\n",
       "    <tr>\n",
       "      <th>4</th>\n",
       "      <td>DEPUTY CHIEF OF DEPARTMENT,(FIRE DEPARTMENT)</td>\n",
       "      <td>9737.00</td>\n",
       "      <td>2011</td>\n",
       "      <td>326373.19</td>\n",
       "    </tr>\n",
       "  </tbody>\n",
       "</table>\n",
       "</div>"
      ],
      "text/plain": [
       "                                         JobTitle  OvertimePay  Year  \\\n",
       "0  GENERAL MANAGER-METROPOLITAN TRANSIT AUTHORITY         0.00  2011   \n",
       "1                 CAPTAIN III (POLICE DEPARTMENT)    245131.88  2011   \n",
       "2                 CAPTAIN III (POLICE DEPARTMENT)    106088.18  2011   \n",
       "3            WIRE ROPE CABLE MAINTENANCE MECHANIC     56120.71  2011   \n",
       "4    DEPUTY CHIEF OF DEPARTMENT,(FIRE DEPARTMENT)      9737.00  2011   \n",
       "\n",
       "   TotalPayBenefits  \n",
       "0         567595.43  \n",
       "1         538909.28  \n",
       "2         335279.91  \n",
       "3         332343.61  \n",
       "4         326373.19  "
      ]
     },
     "execution_count": 92,
     "metadata": {},
     "output_type": "execute_result"
    }
   ],
   "source": [
    "#1.Compute how much total salary cost has increased from year 2011 to 2014\n",
    "\n",
    "sal_df_yr_cost = sal_df.loc[:, [\"JobTitle\", \"OvertimePay\", \"Year\", \"TotalPayBenefits\"]]\n",
    "sal_df_yr_cost.head()"
   ]
  },
  {
   "cell_type": "code",
   "execution_count": 93,
   "metadata": {},
   "outputs": [
    {
     "name": "stdout",
     "output_type": "stream",
     "text": [
      "       OvertimePay  TotalPayBenefits\n",
      "Year                                \n",
      "2011  1.638191e+08      2.594113e+09\n",
      "2012  1.846650e+08      3.696790e+09\n",
      "2013  1.986214e+08      3.814772e+09\n",
      "2014  2.059186e+08      3.821866e+09\n"
     ]
    }
   ],
   "source": [
    "#Method 1\n",
    "grp = sal_df_yr_cost.groupby(\"Year\").sum()\n",
    "print(grp)\n",
    "#grp[grp['Year'] == '2014']\n",
    "\n",
    "#new_df = grp.filter(lambda x: x['Year'] == '2014')\n"
   ]
  },
  {
   "cell_type": "code",
   "execution_count": 94,
   "metadata": {},
   "outputs": [
    {
     "name": "stdout",
     "output_type": "stream",
     "text": [
      "\n",
      " Total salary 2014 3821865780.6\n",
      "\n",
      " Total salary 2011 2594113030.72\n",
      "\n",
      " Total salary cost has increased from year 2011 to 2014:  1227752749.88\n"
     ]
    }
   ],
   "source": [
    "sal_2014 = sal_df_yr_cost[sal_df_yr_cost['Year'] == 2014]\n",
    "sal_2014_total = sal_2014[\"TotalPayBenefits\"].sum()\n",
    "print(\"\\n Total salary 2014\" ,sal_2014_total )\n",
    "\n",
    "sal_2011 = sal_df_yr_cost[sal_df_yr_cost['Year'] == 2011]\n",
    "sal_2011_total = sal_2011[\"TotalPayBenefits\"].sum()\n",
    "print(\"\\n Total salary 2011\" ,sal_2011_total )\n",
    "\n",
    "print(\"\\n Total salary cost has increased from year 2011 to 2014: \" , sal_2014_total-sal_2011_total )"
   ]
  },
  {
   "cell_type": "code",
   "execution_count": 95,
   "metadata": {},
   "outputs": [
    {
     "name": "stdout",
     "output_type": "stream",
     "text": [
      "Year\n",
      "2011     71743.819645\n",
      "2012    100551.886807\n",
      "2013    101440.519714\n",
      "2014    100261.438668\n",
      "Name: TotalPayBenefits, dtype: float64\n"
     ]
    }
   ],
   "source": [
    "#Method 2 Edu sol\n",
    "\n",
    "# Check the mean salary cost per year and see how it has increased per year\n",
    "\n",
    "mean_year = sal_df_yr_cost.groupby('Year').mean()['TotalPayBenefits']\n",
    "print ( mean_year)\n",
    "\n",
    "# To Effectively Reduce Cost Check which is the highest mean paying job Title Wise\n"
   ]
  },
  {
   "cell_type": "code",
   "execution_count": 96,
   "metadata": {},
   "outputs": [
    {
     "name": "stdout",
     "output_type": "stream",
     "text": [
      "\n",
      " Title in Year 2014 has highest mean salary:  Youth Comm Advisor\n"
     ]
    }
   ],
   "source": [
    "# 2.Which Job Title in Year 2014 has highest mean salary?\n",
    "#Method 1\n",
    "print(\"\\n Title in Year 2014 has highest mean salary: \" , sal_2014[\"JobTitle\"].max() )"
   ]
  },
  {
   "cell_type": "code",
   "execution_count": 97,
   "metadata": {},
   "outputs": [
    {
     "name": "stdout",
     "output_type": "stream",
     "text": [
      "Year  JobTitle                                          \n",
      "2011  ACCOUNT CLERK                                          44035.664337\n",
      "      ACCOUNTANT                                             47429.268000\n",
      "      ACCOUNTANT INTERN                                      29031.742917\n",
      "      ACUPUNCTURIST                                          67594.400000\n",
      "      ADMINISTRATIVE ANALYST                                 63954.867527\n",
      "      ADMINISTRATIVE ANALYST II                              61497.035000\n",
      "      ADMINISTRATIVE ANALYST III                             92698.515000\n",
      "      ADMINISTRATIVE ENGINEER                               127961.430000\n",
      "      ADMINISTRATIVE SERVICES MANAGER                        77015.580000\n",
      "      ADMINISTRATOR, SFGH MEDICAL CENTER                    257124.440000\n",
      "      AFFIRMATIVE ACTION SPECIALIST                          68213.983333\n",
      "      AGRICULTURAL INSPECTOR                                 53586.100000\n",
      "      AIRPORT ASSISTANT DEPUTY DIRECTOR, BUSINESS ADMINI      1927.500000\n",
      "      AIRPORT ASSISTANT DEPUTY DIRECTOR, OPERATIONS          15420.000000\n",
      "      AIRPORT COMMUNICATIONS OPERATOR                        81214.809630\n",
      "      AIRPORT COMMUNICATIONS SUPERVISOR                      88180.000000\n",
      "      AIRPORT ECONOMIC PLANNER                              108264.821538\n",
      "      AIRPORT ELECTRICIAN                                   108707.828235\n",
      "      AIRPORT ELECTRICIAN SUPERVISOR                        117088.760000\n",
      "      AIRPORT EMERGENCY PLANNING COORDINATOR                 75865.935000\n",
      "      AIRPORT MECHANICAL MAINTENANCE SUPERVISOR             128534.170000\n",
      "      AIRPORT NOISE ABATEMENT SPECIALIST                     49497.225000\n",
      "      AIRPORT OPERATIONS SUPERVISOR                          94913.980000\n",
      "      AIRPORT POLICE SERVICES AIDE                           60129.931283\n",
      "      AIRPORT PROPERTY SPECIALIST I                          77681.843077\n",
      "      AIRPORT SAFETY OFFICER                                 74599.264250\n",
      "      ANESTHETIST                                           112265.260400\n",
      "      ANIMAL CARE ASSISTANT SUPERVISOR                       56298.620000\n",
      "      ANIMAL CARE ATTENDANT                                  43780.723571\n",
      "      ANIMAL CARE SUPERVISOR                                 73618.870000\n",
      "                                                                ...      \n",
      "2014  Victim/Witness Investigator 2                          92414.385714\n",
      "      Victim/Witness Investigator 3                         108339.597500\n",
      "      Volunteer/Outreach Coord                               80124.626154\n",
      "      Wastewater Control Inspector                          112761.387500\n",
      "      Water & Power Maint Sprv 1                            135292.120000\n",
      "      Water Conservation Admin                              159008.930000\n",
      "      Water Const&Main Supt                                 225784.240000\n",
      "      Water Meter Repairer                                   87759.045000\n",
      "      Water Meter Shop Supervisor 1                         119121.320000\n",
      "      Water Operations Analyst                              139219.160909\n",
      "      Water Quality Tech III                                102042.746250\n",
      "      Water Quality Technician                               94591.214687\n",
      "      Water QualityTech I/II                                  6306.720000\n",
      "      Water Service Inspector                               117856.226207\n",
      "      Watershed Forester                                    138282.385000\n",
      "      Watershed Keeper                                       94268.642308\n",
      "      Watershed Keeper Supervisor                           117978.900000\n",
      "      Watershed Worker (Seasonal)                            10349.227407\n",
      "      Welder                                                124063.229167\n",
      "      Welfare Fraud Investigator                            108896.628333\n",
      "      Wharfinger 1                                           95670.330000\n",
      "      Wharfinger 2                                          112926.616667\n",
      "      Window Cleaner                                        101467.583750\n",
      "      Window Cleaner Supervisor                             111085.850000\n",
      "      Wire Rope Cable Maint Mechanic                        155044.213000\n",
      "      Wire Rope Cable Maint Sprv                            228338.090000\n",
      "      Worker's Comp Supervisor 1                             76964.451667\n",
      "      Worker's Compensation Adjuster                         97213.493846\n",
      "      X-Ray Laboratory Aide                                  68754.120000\n",
      "      Youth Comm Advisor                                     52011.190000\n",
      "Name: TotalPayBenefits, Length: 4136, dtype: float64\n"
     ]
    }
   ],
   "source": [
    "#Method 2 Edu sol:\n",
    "mean_title_year = sal_df_yr_cost.groupby(['Year','JobTitle']).mean()['TotalPayBenefits']\n",
    "print ( mean_title_year)"
   ]
  },
  {
   "cell_type": "code",
   "execution_count": 98,
   "metadata": {},
   "outputs": [
    {
     "name": "stdout",
     "output_type": "stream",
     "text": [
      "\n",
      " Money could have been saved in Year 2014 by stopping OverTimePay:  205918599.27\n"
     ]
    }
   ],
   "source": [
    "# 3.How much money could have been saved in Year 2014 by stopping OverTimePay?\n",
    "#Method 1\n",
    "SAL_2014_with_OT = sal_2014[sal_2014[\"OvertimePay\"] != 0 ]\n",
    "print(\"\\n Money could have been saved in Year 2014 by stopping OverTimePay: \" , SAL_2014_with_OT[\"OvertimePay\"] .sum() )\n"
   ]
  },
  {
   "cell_type": "code",
   "execution_count": 99,
   "metadata": {},
   "outputs": [
    {
     "name": "stdout",
     "output_type": "stream",
     "text": [
      "Year\n",
      "2011    1.638191e+08\n",
      "2012    1.846650e+08\n",
      "2013    1.986214e+08\n",
      "2014    2.059186e+08\n",
      "Name: OvertimePay, dtype: float64\n"
     ]
    }
   ],
   "source": [
    "#Method 2 edu sol:\n",
    "over_time_pay_year = sal_df_yr_cost.groupby('Year').sum()['OvertimePay']\n",
    "print ( over_time_pay_year)"
   ]
  },
  {
   "cell_type": "code",
   "execution_count": 100,
   "metadata": {},
   "outputs": [
    {
     "name": "stdout",
     "output_type": "stream",
     "text": [
      "Transit Operator                2479\n",
      "Special Nurse                   1478\n",
      "Registered Nurse                1234\n",
      "Public Svc Aide-Public Works     916\n",
      "Firefighter                      815\n",
      "Name: JobTitle, dtype: int64\n",
      "\n",
      " Type of this\n",
      "<class 'pandas.core.series.Series'>\n",
      "\n",
      " Calculate the Cost\n",
      "Transit Operator 2479\n",
      "Special Nurse 1478\n",
      "Registered Nurse 1234\n",
      "Public Svc Aide-Public Works 916\n",
      "Firefighter 815\n",
      " Total Cost of Top 5 Jobs in Year 2014  610269227.6600003\n"
     ]
    }
   ],
   "source": [
    "# 4.Which are the top 5 common job in Year 2014 and how much do they cost SFO ?\n",
    "#Prabha:  how much do they cost SFO ? \n",
    "#Edu sol  -- Little Bit Tricky\n",
    "\n",
    "top_job_title = sal_df_yr_cost[sal_df_yr_cost['Year'] == 2014]['JobTitle'].value_counts().head(5)\n",
    "print (top_job_title)\n",
    "\n",
    "# Uncomment this and check what it prints\n",
    "print(\"\\n Type of this\")\n",
    "print (type(top_job_title))\n",
    "\n",
    "\n",
    "print(\"\\n Calculate the Cost\")\n",
    "# Calculate the Cost\n",
    "sum_cost = 0\n",
    "for index,value in top_job_title.iteritems():\n",
    "    print(index,value)\n",
    "    sum_cost += sum(sal_df_yr_cost[ (sal_df_yr_cost['Year']== 2014) & (sal_df_yr_cost['JobTitle'] == index)]['TotalPayBenefits'])\n",
    "\n",
    "print (\" Total Cost of Top 5 Jobs in Year 2014 \", sum_cost)"
   ]
  },
  {
   "cell_type": "code",
   "execution_count": 101,
   "metadata": {},
   "outputs": [
    {
     "name": "stdout",
     "output_type": "stream",
     "text": [
      "        EmployeeName  Year  TotalPayBenefits\n",
      "0     NATHANIEL FORD  2011         567595.43\n",
      "1       GARY JIMENEZ  2011         538909.28\n",
      "2     ALBERT PARDINI  2011         335279.91\n",
      "3  CHRISTOPHER CHONG  2011         332343.61\n",
      "4    PATRICK GARDNER  2011         326373.19\n"
     ]
    },
    {
     "data": {
      "text/plain": [
       "'\\ngrp = sal_df_yr.groupby(\"Year\")\\nfor year, grp_val in grp:\\n    print(year)\\n    print(grp_val)\\n    #print(grp_val[\"TotalPayBenefits\"])\\n    #print(grp_val[grp_val[\"TotalPayBenefits\"] == max())\\n    print(grp_val.groupby[0].sum())\\n'"
      ]
     },
     "execution_count": 101,
     "metadata": {},
     "output_type": "execute_result"
    }
   ],
   "source": [
    "#5.Who was the top earning employee across all the years?\n",
    "#Method 1\n",
    "sal_df_yr = sal_df.loc[:, [\"EmployeeName\", \"Year\", \"TotalPayBenefits\"]]\n",
    "print(sal_df_yr.head())\n",
    "\"\"\"\n",
    "grp = sal_df_yr.groupby(\"Year\")\n",
    "for year, grp_val in grp:\n",
    "    print(year)\n",
    "    print(grp_val)\n",
    "    #print(grp_val[\"TotalPayBenefits\"])\n",
    "    #print(grp_val[grp_val[\"TotalPayBenefits\"] == max())\n",
    "    print(grp_val.groupby[0].sum())\n",
    "\"\"\""
   ]
  },
  {
   "cell_type": "code",
   "execution_count": 102,
   "metadata": {},
   "outputs": [
    {
     "name": "stdout",
     "output_type": "stream",
     "text": [
      "EmployeeName\n",
      "Joe Lopez                   -618.13\n",
      "David P Kucia                -33.89\n",
      "Mark E Laherty                -8.20\n",
      "Timothy E Gibson              -2.73\n",
      "Mark W Mcclure                 0.00\n",
      "PAULETTE ADAMS                 0.00\n",
      "KAUKAB MOHSIN                  0.00\n",
      "JOSEPHINE MCCREARY             0.00\n",
      "Charlene D Mccully             0.00\n",
      "JOE BROWN JR                   0.30\n",
      "Donald Clark                   1.91\n",
      "SERENA HUGHES                  4.17\n",
      "John Draper                    5.17\n",
      "Nereida  Vega                  5.56\n",
      "ROCK CRAWFORD                  5.80\n",
      "MARCELLA TUCKER                8.86\n",
      "Arthur L Curry                10.67\n",
      "Roberto A Perez Lima          11.33\n",
      "Darius T Gardner              11.33\n",
      "Chinaenye E Nwachukwu         12.14\n",
      "Mouy  Him                     12.14\n",
      "Mengru  Chen                  12.14\n",
      "John Carajan                  12.90\n",
      "Kenneth Mackey                15.35\n",
      "Carlos J Hernadez             15.99\n",
      "Guillermo A Rodriguez         16.19\n",
      "MARVA MOORE                   17.42\n",
      "WALTER WILLIAMS               17.78\n",
      "ANH LUU                       18.78\n",
      "Simone Koga                   19.91\n",
      "                            ...    \n",
      "Steven  Lee               772100.81\n",
      "Henry Yee                 785480.98\n",
      "Michael Wong              787388.08\n",
      "Michael Lee               792816.38\n",
      "Harlan L Kelly-Jr         794616.56\n",
      "William Lee               794871.35\n",
      "Ana Gonzalez              795145.15\n",
      "David L Franklin          799045.86\n",
      "John Lee                  799287.73\n",
      "KEVIN LEE                 809424.84\n",
      "Ellen G Moffatt           817504.82\n",
      "Frank Lee                 823942.97\n",
      "Ryan J Jones              824661.39\n",
      "Thomas Smith              831608.57\n",
      "Joanne M Hayes-White      839788.50\n",
      "Gregory P Suhr            843834.50\n",
      "David Shinn               844056.71\n",
      "Amy P Hart                863398.99\n",
      "John Miller               874900.73\n",
      "Robert Wong               901466.16\n",
      "Michael Brown             907786.48\n",
      "John Chan                 946239.26\n",
      "Alan Wong                1011610.58\n",
      "Wayne Wong               1021109.55\n",
      "John L Martin            1054756.22\n",
      "Richard Lee              1268668.84\n",
      "Stanley Lee              1457279.68\n",
      "William Wong             1459954.17\n",
      "Steven Lee               1706550.76\n",
      "Kevin Lee                1778487.17\n",
      "Name: TotalPayBenefits, Length: 110809, dtype: float64\n",
      "End of Cast Study.............\n"
     ]
    }
   ],
   "source": [
    "#Method 2 Edu sol\n",
    "\n",
    "top_sal = sal_df.groupby('EmployeeName').sum()['TotalPayBenefits']\n",
    "print((top_sal.sort_values(axis=0)))\n",
    "\n",
    "# You can improve the code above\n",
    "\n",
    "print (\"End of Cast Study.............\")"
   ]
  },
  {
   "cell_type": "code",
   "execution_count": null,
   "metadata": {},
   "outputs": [],
   "source": []
  }
 ],
 "metadata": {
  "kernelspec": {
   "display_name": "Python 3",
   "language": "python",
   "name": "python3"
  },
  "language_info": {
   "codemirror_mode": {
    "name": "ipython",
    "version": 3
   },
   "file_extension": ".py",
   "mimetype": "text/x-python",
   "name": "python",
   "nbconvert_exporter": "python",
   "pygments_lexer": "ipython3",
   "version": "3.7.1"
  }
 },
 "nbformat": 4,
 "nbformat_minor": 2
}
