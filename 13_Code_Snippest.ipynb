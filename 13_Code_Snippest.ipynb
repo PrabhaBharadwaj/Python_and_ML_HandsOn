{
 "cells": [
  {
   "cell_type": "markdown",
   "metadata": {},
   "source": [
    "## To replace 0 values in col to mean value. 1st replace that to NAN and then replace to mean value of that col\n"
   ]
  },
  {
   "cell_type": "code",
   "execution_count": null,
   "metadata": {},
   "outputs": [],
   "source": [
    "non_zero = ['Glucose','BloodPressure','SkinThickness','Insulin','BMI']\n",
    "# Above are col name in dataframe data\n",
    "for coloumn in non_zero:\n",
    "    data[coloumn] = data[coloumn].replace(0,np.NaN)  # Replace 0 to NAN\n",
    "    mean = int(data[coloumn].mean(skipna = True))  # To find mean skip NAN value in col\n",
    "    data[coloumn] = data[coloumn].replace(np.NaN, mean)\n",
    "    print(data[coloumn])"
   ]
  },
  {
   "cell_type": "markdown",
   "metadata": {},
   "source": [
    "## INSTALL PKG  'mlxtend' In Python PIP platform, if its not installed\n",
    "\n",
    "##### 3 different ways we can install\n",
    "    >  1. Type below in jupeter notebook  this will download and execute and install automaticaly\n",
    "            pip install mlxtend\n",
    "        \n",
    "    >  2. Type same statement in anaconda cmd prompt, this will  execute and install automaticaly\n",
    "            pip install mlxtend\n",
    "        \n",
    "    >  3. Go anaconda website and search ur package. it will show few comands. Run this in anaconda comand prompt. For this system below statement worked \n",
    "        \n",
    "            https://anaconda.org/conda-forge/mlxtend\n",
    "            conda install -c conda-forge/label/gcc7 mlxtend"
   ]
  },
  {
   "cell_type": "code",
   "execution_count": 3,
   "metadata": {},
   "outputs": [
    {
     "ename": "AttributeError",
     "evalue": "module 'pip' has no attribute 'main'",
     "output_type": "error",
     "traceback": [
      "\u001b[1;31m---------------------------------------------------------------------------\u001b[0m",
      "\u001b[1;31mModuleNotFoundError\u001b[0m                       Traceback (most recent call last)",
      "\u001b[1;32m<ipython-input-3-5849a748afd3>\u001b[0m in \u001b[0;36m<module>\u001b[1;34m\u001b[0m\n\u001b[0;32m      2\u001b[0m \u001b[1;32mtry\u001b[0m\u001b[1;33m:\u001b[0m\u001b[1;33m\u001b[0m\u001b[1;33m\u001b[0m\u001b[0m\n\u001b[1;32m----> 3\u001b[1;33m     \u001b[1;32mimport\u001b[0m \u001b[0mmlxtend\u001b[0m\u001b[1;33m\u001b[0m\u001b[1;33m\u001b[0m\u001b[0m\n\u001b[0m\u001b[0;32m      4\u001b[0m \u001b[1;32mexcept\u001b[0m\u001b[1;33m:\u001b[0m\u001b[1;33m\u001b[0m\u001b[1;33m\u001b[0m\u001b[0m\n",
      "\u001b[1;31mModuleNotFoundError\u001b[0m: No module named 'mlxtend'",
      "\nDuring handling of the above exception, another exception occurred:\n",
      "\u001b[1;31mAttributeError\u001b[0m                            Traceback (most recent call last)",
      "\u001b[1;32m<ipython-input-3-5849a748afd3>\u001b[0m in \u001b[0;36m<module>\u001b[1;34m\u001b[0m\n\u001b[0;32m      4\u001b[0m \u001b[1;32mexcept\u001b[0m\u001b[1;33m:\u001b[0m\u001b[1;33m\u001b[0m\u001b[1;33m\u001b[0m\u001b[0m\n\u001b[0;32m      5\u001b[0m     \u001b[1;32mimport\u001b[0m \u001b[0mpip\u001b[0m\u001b[1;33m\u001b[0m\u001b[1;33m\u001b[0m\u001b[0m\n\u001b[1;32m----> 6\u001b[1;33m     \u001b[0mpip\u001b[0m\u001b[1;33m.\u001b[0m\u001b[0mmain\u001b[0m\u001b[1;33m(\u001b[0m\u001b[1;33m[\u001b[0m\u001b[1;34m'install'\u001b[0m\u001b[1;33m,\u001b[0m\u001b[1;34m'mlxtend'\u001b[0m\u001b[1;33m]\u001b[0m\u001b[1;33m)\u001b[0m\u001b[1;33m\u001b[0m\u001b[1;33m\u001b[0m\u001b[0m\n\u001b[0m\u001b[0;32m      7\u001b[0m     \u001b[1;32mimport\u001b[0m \u001b[0mmlxtend\u001b[0m\u001b[1;33m\u001b[0m\u001b[1;33m\u001b[0m\u001b[0m\n\u001b[0;32m      8\u001b[0m \u001b[1;33m\u001b[0m\u001b[0m\n",
      "\u001b[1;31mAttributeError\u001b[0m: module 'pip' has no attribute 'main'"
     ]
    }
   ],
   "source": [
    "# We can add this in our jupiter script only. If its not installed, it will instal   \n",
    "    \n",
    "try:\n",
    "    import mlxtend\n",
    "except:\n",
    "    import pip\n",
    "    pip.main(['install','mlxtend'])\n",
    "    import mlxtend\n",
    "    \n",
    "## If pkg not downloaded, then this error will show --> \"ModuleNotFoundError: No module named 'mlxtend'\"\n"
   ]
  },
  {
   "cell_type": "code",
   "execution_count": null,
   "metadata": {},
   "outputs": [],
   "source": []
  }
 ],
 "metadata": {
  "kernelspec": {
   "display_name": "Python 3",
   "language": "python",
   "name": "python3"
  },
  "language_info": {
   "codemirror_mode": {
    "name": "ipython",
    "version": 3
   },
   "file_extension": ".py",
   "mimetype": "text/x-python",
   "name": "python",
   "nbconvert_exporter": "python",
   "pygments_lexer": "ipython3",
   "version": "3.7.1"
  }
 },
 "nbformat": 4,
 "nbformat_minor": 2
}
