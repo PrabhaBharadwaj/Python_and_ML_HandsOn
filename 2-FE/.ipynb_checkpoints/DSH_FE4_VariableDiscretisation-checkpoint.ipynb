{
 "cells": [
  {
   "cell_type": "code",
   "execution_count": 2,
   "metadata": {},
   "outputs": [],
   "source": [
    "import numpy as np\n",
    "import pandas as pd\n",
    "from pandas import DataFrame, Series\n",
    "from sklearn.model_selection import train_test_split\n",
    "import matplotlib.pyplot as plt\n",
    "from feature_engine import discretisers as dsc"
   ]
  },
  {
   "cell_type": "markdown",
   "metadata": {},
   "source": [
    "# EqualFrequencyDiscretiser"
   ]
  },
  {
   "cell_type": "code",
   "execution_count": 3,
   "metadata": {},
   "outputs": [],
   "source": [
    "# Load dataset\n",
    "data = data = pd.read_csv('houseprice.csv')\n",
    "\n",
    "# Separate into train and test sets\n",
    "X_train, X_test, y_train, y_test =  train_test_split(\n",
    "            data.drop(['Id', 'SalePrice'], axis=1),\n",
    "            data['SalePrice'], test_size=0.3, random_state=0)\n",
    "\n",
    "# set up the discretisation transformer\n",
    "disc = dsc.EqualFrequencyDiscretiser(q=10, variables=['LotArea', 'GrLivArea'])\n",
    "\n",
    "# fit the transformer\n",
    "disc.fit(X_train)\n",
    "\n",
    "# transform the data\n",
    "train_t= disc.transform(X_train)\n",
    "test_t= disc.transform(X_test)\n"
   ]
  },
  {
   "cell_type": "code",
   "execution_count": 4,
   "metadata": {},
   "outputs": [
    {
     "data": {
      "text/plain": [
       "EqualFrequencyDiscretiser(variables=['LotArea', 'GrLivArea'])"
      ]
     },
     "execution_count": 4,
     "metadata": {},
     "output_type": "execute_result"
    }
   ],
   "source": [
    "disc"
   ]
  },
  {
   "cell_type": "code",
   "execution_count": 5,
   "metadata": {},
   "outputs": [
    {
     "data": {
      "text/plain": [
       "{'LotArea': [-inf,\n",
       "  5007.1,\n",
       "  7164.6,\n",
       "  8165.700000000001,\n",
       "  8882.0,\n",
       "  9536.0,\n",
       "  10200.0,\n",
       "  11046.300000000001,\n",
       "  12166.400000000001,\n",
       "  14373.9,\n",
       "  inf],\n",
       " 'GrLivArea': [-inf,\n",
       "  912.0,\n",
       "  1069.6000000000001,\n",
       "  1211.3000000000002,\n",
       "  1344.0,\n",
       "  1479.0,\n",
       "  1603.2000000000003,\n",
       "  1716.0,\n",
       "  1893.0000000000005,\n",
       "  2166.3999999999996,\n",
       "  inf]}"
      ]
     },
     "execution_count": 5,
     "metadata": {},
     "output_type": "execute_result"
    }
   ],
   "source": [
    "disc.binner_dict_"
   ]
  },
  {
   "cell_type": "code",
   "execution_count": 8,
   "metadata": {},
   "outputs": [
    {
     "data": {
      "text/plain": [
       "Text(0, 0.5, 'Number of houses')"
      ]
     },
     "execution_count": 8,
     "metadata": {},
     "output_type": "execute_result"
    },
    {
     "data": {
      "image/png": "[encoded data removed]",
      "text/plain": [
       "<Figure size 432x288 with 1 Axes>"
      ]
     },
     "metadata": {
      "needs_background": "light"
     },
     "output_type": "display_data"
    }
   ],
   "source": [
    "# Before applying transformer\n",
    "data.groupby('GrLivArea')['GrLivArea'].count().plot.bar()\n",
    "plt.xlabel('GrLivAread Not Binned')\n",
    "plt.ylabel('Number of houses')"
   ]
  },
  {
   "cell_type": "code",
   "execution_count": 7,
   "metadata": {},
   "outputs": [
    {
     "data": {
      "text/plain": [
       "Text(0, 0.5, 'Number of houses')"
      ]
     },
     "execution_count": 7,
     "metadata": {},
     "output_type": "execute_result"
    },
    {
     "data": {
      "image/png": "[encoded data removed]",
      "text/plain": [
       "<Figure size 432x288 with 1 Axes>"
      ]
     },
     "metadata": {
      "needs_background": "light"
     },
     "output_type": "display_data"
    }
   ],
   "source": [
    "# with equal frequency discretisation, each bin contains approximately\n",
    "# the same number of observations.\n",
    "\n",
    "#After applying transformer\n",
    "\n",
    "train_t.groupby('GrLivArea')['GrLivArea'].count().plot.bar()\n",
    "plt.xlabel('GrLivAread Binned')\n",
    "plt.ylabel('Number of houses')"
   ]
  },
  {
   "cell_type": "code",
   "execution_count": 15,
   "metadata": {},
   "outputs": [
    {
     "data": {
      "text/plain": [
       "array([1710, 1262, 1786, 1717, 2198, 1362, 1694, 2090, 1774, 1077, 1040,\n",
       "       2324,  912, 1494, 1253,  854, 1004, 1296, 1114, 1339, 2376, 1108,\n",
       "       1795, 1060, 1600,  900, 1704,  520, 1317, 1228, 1234, 1700, 1561,\n",
       "       2452, 1097, 1297, 1057, 1152, 1324, 1328,  884,  938, 1150, 1752,\n",
       "       2149, 1656, 1452,  955, 1470, 1176,  816, 1842, 1360, 1425, 1739,\n",
       "       1720, 2945,  780, 1158, 1111, 1370, 2034, 2473, 2207, 1479,  747,\n",
       "       2287, 2223,  845, 1718, 1086, 1605,  988,  952, 1285, 1768, 1230,\n",
       "       2142, 1337, 1563, 1065, 1474, 2417, 1560, 1224, 1526,  990, 1235,\n",
       "        964, 2291, 1588,  960,  835, 1225, 1610, 1732, 1535, 1226, 1818,\n",
       "       1992, 1047,  789, 1517, 1844, 1855, 1430, 2696, 2259, 2320, 1458,\n",
       "       1092, 1125, 3222, 1456, 1123, 1080, 1199, 1586,  754,  958,  840,\n",
       "       1348, 1053, 2157, 2054, 1327, 1721, 1682, 1214, 1959, 1852, 1764,\n",
       "        864, 1734, 1385, 1501, 1728, 1709,  875, 2035, 1344,  969, 1993,\n",
       "       1252, 1200, 1096, 1968, 1947, 2462, 1232, 2668, 1541,  882, 1616,\n",
       "       1355, 1867, 2161, 1707, 1382, 1767, 1651, 2158, 2060, 1920, 2234,\n",
       "        968, 1525, 1802, 1340, 2082, 3608, 1217, 1593, 2727, 1431, 1726,\n",
       "       3112, 2229, 1713, 1121, 1279, 1310,  848, 1284, 1442, 1696, 1100,\n",
       "       2062, 1212, 1392, 1236, 1436, 1954, 1248, 1498, 2267, 1552, 2392,\n",
       "       1302, 2520,  987, 1555, 1194, 2794,  894, 1960, 1414, 1744, 1487,\n",
       "       1566,  866, 1440, 2110, 1872, 1928, 1375, 1668, 2144, 1306, 1625,\n",
       "       1640, 1314, 1604, 1792, 2574, 1316,  764, 1422, 1511, 2192,  778,\n",
       "       1113, 1939, 1363, 2270, 1632, 1548, 2121, 2022, 1982, 1468, 1575,\n",
       "       1250,  858, 1396, 1919, 1716, 2263, 1644, 1003, 1558, 1950, 1743,\n",
       "       1336, 3493, 2000, 2243, 1406,  861, 1944,  972, 1118, 2036, 1641,\n",
       "       1432, 2353, 2646, 1472, 2596, 2468, 2730, 1163, 2978,  803, 1719,\n",
       "       1383, 2134, 1192, 1056, 1629, 1358, 1638, 1922, 1536, 1621, 1215,\n",
       "       1908,  841, 1684, 1112, 1577, 1478, 1626, 2728, 1869, 1453,  720,\n",
       "       1595, 1167, 1142, 1352, 1924, 1505, 1574, 1394, 1268, 1287, 1664,\n",
       "        752, 1319,  904,  914, 2466, 1856, 1800, 1691, 1301, 1797,  784,\n",
       "       1953, 1269, 1184, 2332, 1367, 1961,  788, 1034, 1144, 1812, 1550,\n",
       "       1288,  672, 1572, 1620, 1639, 1680, 2172, 2078, 1276, 1028, 2097,\n",
       "       1400, 2624, 1134, 1602, 2630, 1196, 1389,  907, 1208, 1412, 1198,\n",
       "       1365,  630, 1661,  694, 2402, 1573, 1258, 1689, 1888, 1886, 1376,\n",
       "       1183,  813, 1533, 1756, 1590, 1242, 1663, 1666, 1203, 1935, 1135,\n",
       "       1660, 1277, 1634, 1502, 1969, 1072, 1976, 1652,  970, 1493, 2643,\n",
       "       1131, 1850, 1826, 1216,  999, 1073, 1484, 2414, 1304, 1578,  886,\n",
       "       3228, 1820,  899, 1218, 1801, 1322, 1911, 1378, 1041, 1368, 2020,\n",
       "       2119, 2344, 1796, 2080, 1294, 1244, 4676, 2398, 1266,  928, 2713,\n",
       "        605, 2515, 1509,  827,  334, 1347, 1724, 1159, 1601, 1838, 2285,\n",
       "        767, 1496, 2183, 1635,  768,  825, 2094, 1069, 1126, 2046, 1048,\n",
       "       1446, 1557,  996, 1674, 2295, 1647, 2504, 2132,  943, 1692, 1109,\n",
       "       1477, 1320, 1429, 2042, 2775, 2028,  838,  860, 1473,  935, 1582,\n",
       "       2296,  924, 1402, 1556, 1904, 1915, 1986, 2008, 3194, 1029, 2153,\n",
       "       1032, 1120, 1054,  832, 1828, 2262, 2614,  980, 1512, 1790, 1116,\n",
       "       1520, 1350, 1750, 1554, 1411, 3395,  800, 1387,  796, 1567, 1518,\n",
       "       1929, 2704, 1766,  981, 1094, 1839, 1665, 1510, 1469, 2113, 1486,\n",
       "       2448, 1181, 1936, 2380, 1679, 1437, 1180, 1476, 1369, 1136, 1441,\n",
       "        792,  923, 1291, 1761, 1102, 1419, 4316, 2519, 1539, 1137,  616,\n",
       "       1148, 1391, 1164, 2576, 1824,  729, 1178, 2554, 2418,  971, 1742,\n",
       "       1698, 1776, 1146, 2031,  948, 1349, 1464, 2715, 2256, 2640, 1529,\n",
       "       1140, 2098, 1026, 1471, 1386, 2531, 1547, 2365, 1506, 1714, 1836,\n",
       "       3279, 1220, 1117, 1973, 1204, 1614, 1603, 1110, 1342, 2084,  901,\n",
       "       2087, 1145, 1062, 2013, 1895, 1564,  773, 3140, 1688, 2822, 1128,\n",
       "       1428, 1576, 2138, 1309, 1044, 1008, 1052,  936, 1733, 1489, 1434,\n",
       "       2126, 1223, 1829, 1516, 1067, 1559, 1099, 1482, 1165, 1416, 1701,\n",
       "       1775, 2358, 1646, 1445, 1779, 1481, 2654, 1426, 1039, 1372, 1002,\n",
       "       1949,  910, 2610, 2224, 1155, 1090, 2230,  892, 1712, 1393, 2217,\n",
       "       1683, 1068,  951, 2240, 2364, 1670,  902, 1063, 1636, 2057, 2274,\n",
       "       1015, 2002,  480, 1229, 2127, 2200, 1617, 1686, 2374, 1978, 1788,\n",
       "       2236, 1466,  925, 1905, 1500, 2069, 1971, 1962, 2403, 1381,  965,\n",
       "       1958, 2872, 1894, 1308, 1098, 1095,  918, 2019,  869, 1241, 2612,\n",
       "       2290, 1940, 2030, 1851, 1050,  944,  691, 1504,  985, 1657, 1522,\n",
       "       1271, 1022, 1082, 1132, 2898, 1264, 3082, 1654,  954, 1803, 2329,\n",
       "       2524, 2868, 1771,  930, 1977, 1989, 1523, 1364, 2184, 1991, 1338,\n",
       "       2337, 1103, 1154, 2260, 1571, 1611, 2521,  893, 1240, 1740, 1459,\n",
       "       1251, 1247, 1088,  438,  950, 2622, 2021, 1690, 1658, 1964,  833,\n",
       "       1012,  698, 1005, 1530, 1981,  974, 2210,  986, 1020, 1868, 2828,\n",
       "       1006, 1298,  932, 1811, 1265, 1580, 1876, 1671, 2108, 3627, 1261,\n",
       "       3086, 2345, 1343, 1124, 2514, 4476, 1130, 1221, 1699, 1624, 1804,\n",
       "       1622, 1863, 1630, 1074, 2196, 1283, 1845, 1902, 1211, 1846, 2136,\n",
       "       1490, 1138, 1933, 1702, 1507, 2620, 1190, 1188, 1784, 1948, 1141,\n",
       "       1173, 2076, 1553, 2058, 1405,  874, 2167, 1987, 1166, 1675, 1889,\n",
       "       2018, 3447, 1524, 1357, 1395, 2447, 1659, 1970, 2372, 5642, 1246,\n",
       "       1983, 2526, 1708, 1122, 1274, 2810, 2599, 2112, 1787, 1923,  708,\n",
       "        774, 2792, 1334,  693, 1861,  872, 2169, 1913, 2156, 2634, 3238,\n",
       "       1865, 1078, 1980, 2601, 1738, 1475, 1374, 2633,  790, 2117, 1762,\n",
       "       2784, 1746, 1584, 1912, 2482, 1687, 1513, 1608, 2093, 1840, 1848,\n",
       "       1569, 2450, 2201,  804, 1537, 1932, 1725, 2555, 2007,  913, 1346,\n",
       "       2073, 2340, 1256])"
      ]
     },
     "execution_count": 15,
     "metadata": {},
     "output_type": "execute_result"
    }
   ],
   "source": [
    "data['GrLivArea'].unique()"
   ]
  },
  {
   "cell_type": "code",
   "execution_count": 16,
   "metadata": {},
   "outputs": [
    {
     "data": {
      "text/plain": [
       "array([8, 3, 0, 4, 1, 2, 6, 9, 7, 5])"
      ]
     },
     "execution_count": 16,
     "metadata": {},
     "output_type": "execute_result"
    }
   ],
   "source": [
    "train_t['GrLivArea'].unique()"
   ]
  },
  {
   "cell_type": "markdown",
   "metadata": {},
   "source": [
    "# EqualWidthDiscretiser"
   ]
  },
  {
   "cell_type": "code",
   "execution_count": null,
   "metadata": {},
   "outputs": [],
   "source": [
    "class feature_engine.discretisers.EqualWidthDiscretiser(bins=10, variables=None, return_object=False, \n",
    "                                                        return_boundaries=False)"
   ]
  },
  {
   "cell_type": "code",
   "execution_count": 24,
   "metadata": {},
   "outputs": [],
   "source": [
    "# Load dataset\n",
    "data = data = pd.read_csv('houseprice.csv')\n",
    "\n",
    "# Separate into train and test sets\n",
    "X_train, X_test, y_train, y_test =  train_test_split(\n",
    "            data.drop(['Id', 'SalePrice'], axis=1),\n",
    "            data['SalePrice'], test_size=0.3, random_state=0)\n",
    "\n",
    "# set up the discretisation transformer\n",
    "disc = dsc.EqualWidthDiscretiser(bins=10, variables=['LotArea', 'GrLivArea'])\n",
    "\n",
    "# fit the transformer\n",
    "disc.fit(X_train)\n",
    "\n",
    "# transform the data\n",
    "train_t= disc.transform(X_train)\n",
    "test_t= disc.transform(X_test)\n"
   ]
  },
  {
   "cell_type": "code",
   "execution_count": 25,
   "metadata": {},
   "outputs": [
    {
     "data": {
      "text/plain": [
       "EqualWidthDiscretiser(variables=['LotArea', 'GrLivArea'])"
      ]
     },
     "execution_count": 25,
     "metadata": {},
     "output_type": "execute_result"
    }
   ],
   "source": [
    "disc"
   ]
  },
  {
   "cell_type": "code",
   "execution_count": 18,
   "metadata": {},
   "outputs": [
    {
     "data": {
      "text/plain": [
       "{'LotArea': [-inf,\n",
       "  22694.5,\n",
       "  44089.0,\n",
       "  65483.5,\n",
       "  86878.0,\n",
       "  108272.5,\n",
       "  129667.0,\n",
       "  151061.5,\n",
       "  172456.0,\n",
       "  193850.5,\n",
       "  inf],\n",
       " 'GrLivArea': [-inf,\n",
       "  768.2,\n",
       "  1202.4,\n",
       "  1636.6,\n",
       "  2070.8,\n",
       "  2505.0,\n",
       "  2939.2,\n",
       "  3373.4,\n",
       "  3807.6,\n",
       "  4241.799999999999,\n",
       "  inf]}"
      ]
     },
     "execution_count": 18,
     "metadata": {},
     "output_type": "execute_result"
    }
   ],
   "source": [
    "disc.binner_dict_"
   ]
  },
  {
   "cell_type": "code",
   "execution_count": 19,
   "metadata": {},
   "outputs": [
    {
     "data": {
      "text/plain": [
       "Text(0, 0.5, 'Number of houses')"
      ]
     },
     "execution_count": 19,
     "metadata": {},
     "output_type": "execute_result"
    },
    {
     "data": {
      "image/png": "[encoded data removed]",
      "text/plain": [
       "<Figure size 432x288 with 1 Axes>"
      ]
     },
     "metadata": {
      "needs_background": "light"
     },
     "output_type": "display_data"
    }
   ],
   "source": [
    "#After applying transformer\n",
    "\n",
    "train_t.groupby('GrLivArea')['GrLivArea'].count().plot.bar()\n",
    "plt.xlabel('GrLivAread Binned')\n",
    "plt.ylabel('Number of houses')"
   ]
  },
  {
   "cell_type": "code",
   "execution_count": 20,
   "metadata": {},
   "outputs": [
    {
     "data": {
      "text/plain": [
       "array([3, 2, 1, 0, 4, 6, 5, 7, 9])"
      ]
     },
     "execution_count": 20,
     "metadata": {},
     "output_type": "execute_result"
    }
   ],
   "source": [
    "train_t['GrLivArea'].unique()"
   ]
  },
  {
   "cell_type": "markdown",
   "metadata": {},
   "source": [
    "# DecisionTreeDiscretiser"
   ]
  },
  {
   "cell_type": "code",
   "execution_count": null,
   "metadata": {},
   "outputs": [],
   "source": [
    "class feature_engine.discretisers.DecisionTreeDiscretiser(cv=3, scoring='neg_mean_squared_error', \n",
    "                                                          variables=None, param_grid={'max_depth': [1, 2, 3, 4]}, \n",
    "                                                          regression=True, random_state=None)"
   ]
  },
  {
   "cell_type": "code",
   "execution_count": 33,
   "metadata": {},
   "outputs": [],
   "source": [
    "# Load dataset\n",
    "data = data = pd.read_csv('houseprice.csv')\n",
    "\n",
    "# Separate into train and test sets\n",
    "X_train, X_test, y_train, y_test =  train_test_split(\n",
    "            data.drop(['Id', 'SalePrice'], axis=1),\n",
    "            data['SalePrice'], test_size=0.3, random_state=0)\n",
    "\n",
    "# set up the discretisation transformer\n",
    "disc = dsc.DecisionTreeDiscretiser(cv=3,\n",
    "                              scoring='neg_mean_squared_error',\n",
    "                              variables=['LotArea', 'GrLivArea'],\n",
    "                              regression=True)\n",
    "\n",
    "# fit the transformer\n",
    "disc.fit(X_train, y_train)\n",
    "\n",
    "# transform the data\n",
    "train_t= disc.transform(X_train)\n",
    "test_t= disc.transform(X_test)\n"
   ]
  },
  {
   "cell_type": "code",
   "execution_count": 34,
   "metadata": {},
   "outputs": [
    {
     "data": {
      "text/plain": [
       "{'LotArea': GridSearchCV(cv=3, estimator=DecisionTreeRegressor(),\n",
       "              param_grid={'max_depth': [1, 2, 3, 4]},\n",
       "              scoring='neg_mean_squared_error'),\n",
       " 'GrLivArea': GridSearchCV(cv=3, estimator=DecisionTreeRegressor(),\n",
       "              param_grid={'max_depth': [1, 2, 3, 4]},\n",
       "              scoring='neg_mean_squared_error')}"
      ]
     },
     "execution_count": 34,
     "metadata": {},
     "output_type": "execute_result"
    }
   ],
   "source": [
    "disc.binner_dict_"
   ]
  },
  {
   "cell_type": "code",
   "execution_count": 35,
   "metadata": {},
   "outputs": [
    {
     "data": {
      "text/plain": [
       "{'LotArea': -4755246384.331181, 'GrLivArea': -2805826224.7717223}"
      ]
     },
     "execution_count": 35,
     "metadata": {},
     "output_type": "execute_result"
    }
   ],
   "source": [
    "disc.scores_dict_\n",
    "\n",
    "#The score of the best decision tree, over the train set. Provided in case the user wishes to understand the performance of the decision tree."
   ]
  },
  {
   "cell_type": "code",
   "execution_count": 36,
   "metadata": {},
   "outputs": [
    {
     "data": {
      "text/plain": [
       "Text(0, 0.5, 'Number of houses')"
      ]
     },
     "execution_count": 36,
     "metadata": {},
     "output_type": "execute_result"
    },
    {
     "data": {
      "image/png": "[encoded data removed]",
      "text/plain": [
       "<Figure size 432x288 with 1 Axes>"
      ]
     },
     "metadata": {
      "needs_background": "light"
     },
     "output_type": "display_data"
    }
   ],
   "source": [
    "# with tree discretisation, each bin does not necessarily contain\n",
    "# the same number of observations.\n",
    "train_t.groupby('GrLivArea')['GrLivArea'].count().plot.bar()\n",
    "plt.ylabel('Number of houses')"
   ]
  },
  {
   "cell_type": "code",
   "execution_count": 37,
   "metadata": {},
   "outputs": [
    {
     "data": {
      "text/plain": [
       "array([246372.77165354, 149540.32663317, 122286.38839286,  88631.59375   ,\n",
       "       165174.20895522, 198837.68608414, 312260.5       , 509937.5       ])"
      ]
     },
     "execution_count": 37,
     "metadata": {},
     "output_type": "execute_result"
    }
   ],
   "source": [
    "train_t['GrLivArea'].unique()"
   ]
  },
  {
   "cell_type": "markdown",
   "metadata": {},
   "source": [
    "# UserInputDiscretiser"
   ]
  },
  {
   "cell_type": "code",
   "execution_count": null,
   "metadata": {},
   "outputs": [],
   "source": [
    "class feature_engine.discretisers.UserInputDiscretiser(binning_dict, return_object=False, return_boundaries=False)"
   ]
  },
  {
   "cell_type": "code",
   "execution_count": 38,
   "metadata": {},
   "outputs": [],
   "source": [
    "from feature_engine.discretisers import UserInputDiscretiser"
   ]
  },
  {
   "cell_type": "code",
   "execution_count": 40,
   "metadata": {},
   "outputs": [],
   "source": [
    "from sklearn.datasets import load_boston"
   ]
  },
  {
   "cell_type": "code",
   "execution_count": 41,
   "metadata": {},
   "outputs": [],
   "source": [
    "boston_dataset = load_boston()"
   ]
  },
  {
   "cell_type": "code",
   "execution_count": 43,
   "metadata": {},
   "outputs": [],
   "source": [
    "data = pd.DataFrame(boston_dataset.data, columns=boston_dataset.feature_names)"
   ]
  },
  {
   "cell_type": "code",
   "execution_count": 44,
   "metadata": {},
   "outputs": [
    {
     "name": "stdout",
     "output_type": "stream",
     "text": [
      "<class 'pandas.core.frame.DataFrame'>\n",
      "RangeIndex: 506 entries, 0 to 505\n",
      "Data columns (total 13 columns):\n",
      " #   Column   Non-Null Count  Dtype  \n",
      "---  ------   --------------  -----  \n",
      " 0   CRIM     506 non-null    float64\n",
      " 1   ZN       506 non-null    float64\n",
      " 2   INDUS    506 non-null    float64\n",
      " 3   CHAS     506 non-null    float64\n",
      " 4   NOX      506 non-null    float64\n",
      " 5   RM       506 non-null    float64\n",
      " 6   AGE      506 non-null    float64\n",
      " 7   DIS      506 non-null    float64\n",
      " 8   RAD      506 non-null    float64\n",
      " 9   TAX      506 non-null    float64\n",
      " 10  PTRATIO  506 non-null    float64\n",
      " 11  B        506 non-null    float64\n",
      " 12  LSTAT    506 non-null    float64\n",
      "dtypes: float64(13)\n",
      "memory usage: 51.5 KB\n"
     ]
    }
   ],
   "source": [
    "data.info()"
   ]
  },
  {
   "cell_type": "code",
   "execution_count": 45,
   "metadata": {},
   "outputs": [
    {
     "data": {
      "text/plain": [
       "array([ 4.98,  9.14,  4.03,  2.94,  5.33,  5.21, 12.43, 19.15, 29.93,\n",
       "       17.1 , 20.45, 13.27, 15.71,  8.26, 10.26,  8.47,  6.58, 14.67,\n",
       "       11.69, 11.28, 21.02, 13.83, 18.72, 19.88, 16.3 , 16.51, 14.81,\n",
       "       17.28, 12.8 , 11.98, 22.6 , 13.04, 27.71, 18.35, 20.34,  9.68,\n",
       "       11.41,  8.77, 10.13,  4.32,  1.98,  4.84,  5.81,  7.44,  9.55,\n",
       "       10.21, 14.15, 18.8 , 30.81, 16.2 , 13.45,  9.43,  5.28,  8.43,\n",
       "       14.8 ,  4.81,  5.77,  3.95,  6.86,  9.22, 13.15, 14.44,  6.73,\n",
       "        9.5 ,  8.05,  4.67, 10.24,  8.1 , 13.09,  8.79,  6.72,  9.88,\n",
       "        5.52,  7.54,  6.78,  8.94, 11.97, 10.27, 12.34,  9.1 ,  5.29,\n",
       "        7.22,  7.51,  9.62,  6.53, 12.86,  8.44,  5.5 ,  5.7 ,  8.81,\n",
       "        8.2 ,  8.16,  6.21, 10.59,  6.65, 11.34,  4.21,  3.57,  6.19,\n",
       "        9.42,  7.67, 10.63, 13.44, 12.33, 16.47, 18.66, 14.09, 12.27,\n",
       "       15.55, 13.  , 10.16, 16.21, 17.09, 10.45, 15.76, 12.04, 10.3 ,\n",
       "       15.37, 13.61, 14.37, 14.27, 17.93, 25.41, 17.58, 27.26, 17.19,\n",
       "       15.39, 18.34, 12.6 , 12.26, 11.12, 15.03, 17.31, 16.96, 16.9 ,\n",
       "       14.59, 21.32, 18.46, 24.16, 34.41, 26.82, 26.42, 29.29, 27.8 ,\n",
       "       16.65, 29.53, 28.32, 21.45, 14.1 , 13.28, 12.12, 15.79, 15.12,\n",
       "       15.02, 16.14,  4.59,  6.43,  7.39,  1.73,  1.92,  3.32, 11.64,\n",
       "        9.81,  3.7 , 12.14, 11.1 , 11.32, 14.43, 12.03, 14.69,  9.04,\n",
       "        9.64, 10.11,  6.29,  6.92,  5.04,  7.56,  9.45,  4.82,  5.68,\n",
       "       13.98,  4.45,  6.68,  4.56,  5.39,  5.1 ,  4.69,  2.87,  5.03,\n",
       "        4.38,  2.97,  4.08,  8.61,  6.62,  7.43,  3.11,  3.81,  2.88,\n",
       "       10.87, 10.97, 18.06, 14.66, 23.09, 17.27, 23.98, 16.03,  9.38,\n",
       "       29.55,  9.47, 13.51,  9.69, 17.92, 10.5 ,  9.71, 21.46,  9.93,\n",
       "        7.6 ,  4.14,  4.63,  3.13,  6.36,  3.92,  3.76, 11.65,  5.25,\n",
       "        2.47, 10.88,  9.54,  4.73,  7.37, 11.38, 12.4 , 11.22,  5.19,\n",
       "       12.5 ,  9.16, 10.15,  9.52,  6.56,  5.9 ,  3.59,  3.53,  3.54,\n",
       "        6.57,  9.25,  5.12,  7.79,  6.9 ,  9.59,  7.26,  5.91, 11.25,\n",
       "       14.79,  3.16, 13.65,  6.59,  7.73,  2.98,  6.05,  4.16,  7.19,\n",
       "        4.85,  3.01,  7.85,  8.23, 12.93,  7.14,  9.51,  3.33,  3.56,\n",
       "        4.7 ,  8.58, 10.4 ,  6.27, 15.84,  4.97,  4.74,  6.07,  8.67,\n",
       "        4.86,  6.93,  8.93,  6.47,  7.53,  4.54,  9.97, 12.64,  5.98,\n",
       "       11.72,  7.9 ,  9.28, 11.5 , 18.33, 15.94, 10.36, 12.73,  7.2 ,\n",
       "        6.87,  7.7 , 11.74,  6.12,  5.08,  6.15, 12.79,  7.34,  9.09,\n",
       "        7.83,  6.75,  8.01,  9.8 , 10.56,  8.51,  9.74,  9.29,  5.49,\n",
       "        8.65,  7.18,  4.61, 10.53, 12.67,  5.99,  5.89,  4.5 ,  5.57,\n",
       "       17.6 , 11.48, 14.19, 10.19, 14.64,  7.12, 14.  , 13.33,  3.26,\n",
       "        3.73,  2.96,  9.53,  8.88, 34.77, 37.97, 23.24, 21.24, 23.69,\n",
       "       21.78, 17.21, 21.08, 23.6 , 24.56, 30.63, 28.28, 31.99, 30.62,\n",
       "       20.85, 17.11, 18.76, 25.68, 15.17, 16.35, 17.12, 19.37, 19.92,\n",
       "       30.59, 29.97, 26.77, 20.32, 20.31, 19.77, 27.38, 22.98, 23.34,\n",
       "       12.13, 26.4 , 19.78, 21.22, 34.37, 20.08, 36.98, 29.05, 25.79,\n",
       "       26.64, 20.62, 22.74, 15.7 , 23.29, 17.16, 24.39, 15.69, 14.52,\n",
       "       21.52, 24.08, 17.64, 19.69, 16.22, 23.27, 18.05, 26.45, 34.02,\n",
       "       22.88, 22.11, 19.52, 16.59, 18.85, 23.79, 17.79, 16.44, 18.13,\n",
       "       19.31, 17.44, 17.73, 16.74, 18.71, 19.01, 16.94, 16.23, 14.7 ,\n",
       "       16.42, 14.65, 13.99, 10.29, 13.22, 14.13, 17.15, 14.76, 16.29,\n",
       "       12.87, 14.36, 11.66, 18.14, 24.1 , 18.68, 24.91, 18.03, 13.11,\n",
       "       10.74,  7.74,  7.01, 10.42, 13.34, 10.58, 14.98, 11.45, 23.97,\n",
       "       29.68, 18.07, 13.35, 12.01, 13.59, 21.14, 12.92, 15.1 , 14.33,\n",
       "        9.67,  9.08,  5.64,  6.48,  7.88])"
      ]
     },
     "execution_count": 45,
     "metadata": {},
     "output_type": "execute_result"
    }
   ],
   "source": [
    "data['LSTAT'].unique()"
   ]
  },
  {
   "cell_type": "code",
   "execution_count": 50,
   "metadata": {},
   "outputs": [
    {
     "data": {
      "text/plain": [
       "1.73"
      ]
     },
     "execution_count": 50,
     "metadata": {},
     "output_type": "execute_result"
    }
   ],
   "source": [
    "data['LSTAT'].min()"
   ]
  },
  {
   "cell_type": "code",
   "execution_count": 51,
   "metadata": {},
   "outputs": [
    {
     "data": {
      "text/plain": [
       "37.97"
      ]
     },
     "execution_count": 51,
     "metadata": {},
     "output_type": "execute_result"
    }
   ],
   "source": [
    "data['LSTAT'].max()"
   ]
  },
  {
   "cell_type": "code",
   "execution_count": 46,
   "metadata": {},
   "outputs": [],
   "source": [
    "user_dict = {'LSTAT': [0, 10, 20, 30, np.Inf]}  \n",
    "\n",
    "# after seeing min and max value in the column we can define the required dictionary or bins"
   ]
  },
  {
   "cell_type": "code",
   "execution_count": 47,
   "metadata": {},
   "outputs": [],
   "source": [
    "transformer = UserInputDiscretiser(\n",
    "    binning_dict=user_dict, return_object=False, return_boundaries=False)\n",
    "\n",
    "X = transformer.fit_transform(data)"
   ]
  },
  {
   "cell_type": "code",
   "execution_count": 49,
   "metadata": {},
   "outputs": [
    {
     "data": {
      "text/plain": [
       "array([0, 1, 2, 3])"
      ]
     },
     "execution_count": 49,
     "metadata": {},
     "output_type": "execute_result"
    }
   ],
   "source": [
    "X['LSTAT'].unique()"
   ]
  },
  {
   "cell_type": "code",
   "execution_count": 53,
   "metadata": {},
   "outputs": [
    {
     "data": {
      "text/plain": [
       "0    219\n",
       "1    213\n",
       "2     62\n",
       "3     12\n",
       "Name: LSTAT, dtype: int64"
      ]
     },
     "execution_count": 53,
     "metadata": {},
     "output_type": "execute_result"
    }
   ],
   "source": [
    "X['LSTAT'].value_counts()  #for this column how to fetch SELECT COUNT(*), MIN(), MAX() together ?"
   ]
  },
  {
   "cell_type": "code",
   "execution_count": null,
   "metadata": {},
   "outputs": [],
   "source": []
  }
 ],
 "metadata": {
  "kernelspec": {
   "display_name": "Python 3",
   "language": "python",
   "name": "python3"
  },
  "language_info": {
   "codemirror_mode": {
    "name": "ipython",
    "version": 3
   },
   "file_extension": ".py",
   "mimetype": "text/x-python",
   "name": "python",
   "nbconvert_exporter": "python",
   "pygments_lexer": "ipython3",
   "version": "3.8.3"
  }
 },
 "nbformat": 4,
 "nbformat_minor": 4
}
