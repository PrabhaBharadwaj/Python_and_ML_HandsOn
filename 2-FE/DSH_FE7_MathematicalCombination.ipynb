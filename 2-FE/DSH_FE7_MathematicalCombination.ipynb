{
 "cells": [
  {
   "cell_type": "code",
   "execution_count": 2,
   "metadata": {},
   "outputs": [],
   "source": [
    "import numpy as np\n",
    "import pandas as pd\n",
    "from pandas import DataFrame, Series\n",
    "from sklearn.model_selection import train_test_split\n",
    "import matplotlib.pyplot as plt\n",
    "\n",
    "from feature_engine import mathematical_combination as mc"
   ]
  },
  {
   "cell_type": "markdown",
   "metadata": {},
   "source": [
    "# MathematicalCombinator"
   ]
  },
  {
   "cell_type": "code",
   "execution_count": null,
   "metadata": {},
   "outputs": [],
   "source": [
    "class feature_engine.mathematical_combination.MathematicalCombinator(\n",
    "    variables=None,                                                                   \n",
    "    math_operations=['sum', 'prod', 'mean', 'std', 'max', 'min'], \n",
    "    new_variables_names=None)\n"
   ]
  },
  {
   "cell_type": "code",
   "execution_count": 3,
   "metadata": {},
   "outputs": [],
   "source": [
    "data = pd.read_csv('houseprice.csv').fillna(0)\n",
    "\n",
    "X_train, X_test, y_train, y_test = train_test_split(\n",
    "    data.drop(['Id', 'SalePrice'], axis=1),\n",
    "    data['SalePrice'],\n",
    "    test_size=0.3,\n",
    "    random_state=0\n",
    ")\n",
    "\n",
    "math_combinator = mc.MathematicalCombinator(\n",
    "    variables=['LotFrontage', 'LotArea'],\n",
    "    math_operations = ['sum','prod'],\n",
    "    new_variables_names = ['LotTotal','LotProd']\n",
    ")\n",
    "\n",
    "math_combinator.fit(X_train, y_train)\n",
    "\n",
    "t_train = math_combinator.transform(X_train)"
   ]
  },
  {
   "cell_type": "code",
   "execution_count": 4,
   "metadata": {},
   "outputs": [
    {
     "data": {
      "text/plain": [
       "{'LotTotal': 'sum', 'LotProd': 'prod'}"
      ]
     },
     "execution_count": 4,
     "metadata": {},
     "output_type": "execute_result"
    }
   ],
   "source": [
    "math_combinator.combination_dict_"
   ]
  },
  {
   "cell_type": "code",
   "execution_count": 6,
   "metadata": {},
   "outputs": [
    {
     "data": {
      "text/html": [
       "<div>\n",
       "<style scoped>\n",
       "    .dataframe tbody tr th:only-of-type {\n",
       "        vertical-align: middle;\n",
       "    }\n",
       "\n",
       "    .dataframe tbody tr th {\n",
       "        vertical-align: top;\n",
       "    }\n",
       "\n",
       "    .dataframe thead th {\n",
       "        text-align: right;\n",
       "    }\n",
       "</style>\n",
       "<table border=\"1\" class=\"dataframe\">\n",
       "  <thead>\n",
       "    <tr style=\"text-align: right;\">\n",
       "      <th></th>\n",
       "      <th>LotFrontage</th>\n",
       "      <th>LotArea</th>\n",
       "      <th>LotTotal</th>\n",
       "      <th>LotProd</th>\n",
       "    </tr>\n",
       "  </thead>\n",
       "  <tbody>\n",
       "    <tr>\n",
       "      <th>64</th>\n",
       "      <td>0.0</td>\n",
       "      <td>9375</td>\n",
       "      <td>9375.0</td>\n",
       "      <td>0.0</td>\n",
       "    </tr>\n",
       "    <tr>\n",
       "      <th>682</th>\n",
       "      <td>0.0</td>\n",
       "      <td>2887</td>\n",
       "      <td>2887.0</td>\n",
       "      <td>0.0</td>\n",
       "    </tr>\n",
       "    <tr>\n",
       "      <th>960</th>\n",
       "      <td>50.0</td>\n",
       "      <td>7207</td>\n",
       "      <td>7257.0</td>\n",
       "      <td>360350.0</td>\n",
       "    </tr>\n",
       "    <tr>\n",
       "      <th>1384</th>\n",
       "      <td>60.0</td>\n",
       "      <td>9060</td>\n",
       "      <td>9120.0</td>\n",
       "      <td>543600.0</td>\n",
       "    </tr>\n",
       "    <tr>\n",
       "      <th>1100</th>\n",
       "      <td>60.0</td>\n",
       "      <td>8400</td>\n",
       "      <td>8460.0</td>\n",
       "      <td>504000.0</td>\n",
       "    </tr>\n",
       "    <tr>\n",
       "      <th>416</th>\n",
       "      <td>74.0</td>\n",
       "      <td>7844</td>\n",
       "      <td>7918.0</td>\n",
       "      <td>580456.0</td>\n",
       "    </tr>\n",
       "    <tr>\n",
       "      <th>1034</th>\n",
       "      <td>50.0</td>\n",
       "      <td>6305</td>\n",
       "      <td>6355.0</td>\n",
       "      <td>315250.0</td>\n",
       "    </tr>\n",
       "    <tr>\n",
       "      <th>853</th>\n",
       "      <td>0.0</td>\n",
       "      <td>12095</td>\n",
       "      <td>12095.0</td>\n",
       "      <td>0.0</td>\n",
       "    </tr>\n",
       "    <tr>\n",
       "      <th>472</th>\n",
       "      <td>35.0</td>\n",
       "      <td>3675</td>\n",
       "      <td>3710.0</td>\n",
       "      <td>128625.0</td>\n",
       "    </tr>\n",
       "    <tr>\n",
       "      <th>1011</th>\n",
       "      <td>75.0</td>\n",
       "      <td>9825</td>\n",
       "      <td>9900.0</td>\n",
       "      <td>736875.0</td>\n",
       "    </tr>\n",
       "  </tbody>\n",
       "</table>\n",
       "</div>"
      ],
      "text/plain": [
       "      LotFrontage  LotArea  LotTotal   LotProd\n",
       "64            0.0     9375    9375.0       0.0\n",
       "682           0.0     2887    2887.0       0.0\n",
       "960          50.0     7207    7257.0  360350.0\n",
       "1384         60.0     9060    9120.0  543600.0\n",
       "1100         60.0     8400    8460.0  504000.0\n",
       "416          74.0     7844    7918.0  580456.0\n",
       "1034         50.0     6305    6355.0  315250.0\n",
       "853           0.0    12095   12095.0       0.0\n",
       "472          35.0     3675    3710.0  128625.0\n",
       "1011         75.0     9825    9900.0  736875.0"
      ]
     },
     "execution_count": 6,
     "metadata": {},
     "output_type": "execute_result"
    }
   ],
   "source": [
    "t_train.loc[:,['LotFrontage', 'LotArea', 'LotTotal','LotProd']].head(10)\n",
    "\n",
    "#we can see that 2 new columns are created."
   ]
  },
  {
   "cell_type": "code",
   "execution_count": null,
   "metadata": {},
   "outputs": [],
   "source": []
  }
 ],
 "metadata": {
  "kernelspec": {
   "display_name": "Python 3",
   "language": "python",
   "name": "python3"
  },
  "language_info": {
   "codemirror_mode": {
    "name": "ipython",
    "version": 3
   },
   "file_extension": ".py",
   "mimetype": "text/x-python",
   "name": "python",
   "nbconvert_exporter": "python",
   "pygments_lexer": "ipython3",
   "version": "3.8.3"
  }
 },
 "nbformat": 4,
 "nbformat_minor": 4
}
