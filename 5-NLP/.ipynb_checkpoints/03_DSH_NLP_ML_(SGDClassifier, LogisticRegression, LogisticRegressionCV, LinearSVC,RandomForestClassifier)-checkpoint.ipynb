{
 "cells": [
  {
   "cell_type": "markdown",
   "metadata": {},
   "source": [
    "# ML Algorithms on NLP"
   ]
  },
  {
   "cell_type": "markdown",
   "metadata": {},
   "source": [
    "Source: https://kgptalkie.com/3664-2/"
   ]
  },
  {
   "cell_type": "code",
   "execution_count": 2,
   "metadata": {},
   "outputs": [],
   "source": [
    "import pandas as pd\n",
    "import numpy as np\n",
    "\n",
    "import spacy\n",
    "from spacy.lang.en.stop_words import STOP_WORDS\n",
    "\n",
    "import spacy\n",
    "from spacy.lang.en.stop_words import STOP_WORDS\n",
    "import re\n",
    "from bs4 import BeautifulSoup\n",
    "import unicodedata\n",
    "#from wordcloud import WordCloud\n",
    "from textblob import TextBlob\n",
    "from textblob import Word\n",
    "from spacy import displacy\n",
    "from textblob.sentiments import NaiveBayesAnalyzer\n",
    "from sklearn.feature_extraction.text import CountVectorizer\n",
    "from sklearn.feature_extraction.text import TfidfVectorizer"
   ]
  },
  {
   "cell_type": "markdown",
   "metadata": {},
   "source": [
    "## Prepare the dataset"
   ]
  },
  {
   "cell_type": "code",
   "execution_count": 94,
   "metadata": {},
   "outputs": [],
   "source": [
    "nlp = spacy.load('en_core_web_md')\n",
    "\n",
    "# for prod we should use nlp = spacy.load('en_core_web_lg')"
   ]
  },
  {
   "cell_type": "code",
   "execution_count": 35,
   "metadata": {},
   "outputs": [],
   "source": [
    "#df = pd.read_csv(\"Macintosh HD\\\\Users\\\\yogesh\\\\Documents\\\\Bharadwaj's\\\\Career\\\\Data Science\\\\Datasets\\\\1_DSH_Basic_Text_Mining_Output_v1.csv\")\n",
    "\n",
    "# tried to read like this but didnt work out, not sure whats the error, so copied same file to current folder also\n",
    "# to proceed. "
   ]
  },
  {
   "cell_type": "code",
   "execution_count": 3,
   "metadata": {},
   "outputs": [],
   "source": [
    "#df = pd.read_csv('1_DSH_Basic_Text_Mining_Output_v1.csv')\n",
    "\n",
    "df = pd.read_csv(\"/Users/yogesh/Documents/Bharadwaj's/Career/Data Science/Datasets/1_DSH_Basic_Text_Mining_Output_v1.csv\")\n",
    "\n"
   ]
  },
  {
   "cell_type": "code",
   "execution_count": 4,
   "metadata": {},
   "outputs": [
    {
     "data": {
      "text/html": [
       "<div>\n",
       "<style scoped>\n",
       "    .dataframe tbody tr th:only-of-type {\n",
       "        vertical-align: middle;\n",
       "    }\n",
       "\n",
       "    .dataframe tbody tr th {\n",
       "        vertical-align: top;\n",
       "    }\n",
       "\n",
       "    .dataframe thead th {\n",
       "        text-align: right;\n",
       "    }\n",
       "</style>\n",
       "<table border=\"1\" class=\"dataframe\">\n",
       "  <thead>\n",
       "    <tr style=\"text-align: right;\">\n",
       "      <th></th>\n",
       "      <th>Unnamed: 0</th>\n",
       "      <th>twitts</th>\n",
       "      <th>sentiment</th>\n",
       "      <th>words_counts</th>\n",
       "      <th>char_counts</th>\n",
       "      <th>avg_word_len</th>\n",
       "      <th>stop_words_len</th>\n",
       "      <th>hashtags_count</th>\n",
       "      <th>mentions_count</th>\n",
       "      <th>numerics_count</th>\n",
       "      <th>upper_counts</th>\n",
       "      <th>emails</th>\n",
       "      <th>emails_count</th>\n",
       "      <th>urls_flag</th>\n",
       "    </tr>\n",
       "  </thead>\n",
       "  <tbody>\n",
       "    <tr>\n",
       "      <th>0</th>\n",
       "      <td>0</td>\n",
       "      <td>switchfoot awww bummer shoulda david carr d</td>\n",
       "      <td>0</td>\n",
       "      <td>19</td>\n",
       "      <td>115</td>\n",
       "      <td>5.052632</td>\n",
       "      <td>4</td>\n",
       "      <td>0</td>\n",
       "      <td>1</td>\n",
       "      <td>0</td>\n",
       "      <td>0</td>\n",
       "      <td>[]</td>\n",
       "      <td>0</td>\n",
       "      <td>1</td>\n",
       "    </tr>\n",
       "    <tr>\n",
       "      <th>1</th>\n",
       "      <td>1</td>\n",
       "      <td>upset update facebook texting cry result schoo...</td>\n",
       "      <td>0</td>\n",
       "      <td>21</td>\n",
       "      <td>111</td>\n",
       "      <td>4.285714</td>\n",
       "      <td>9</td>\n",
       "      <td>0</td>\n",
       "      <td>0</td>\n",
       "      <td>0</td>\n",
       "      <td>0</td>\n",
       "      <td>[]</td>\n",
       "      <td>0</td>\n",
       "      <td>0</td>\n",
       "    </tr>\n",
       "    <tr>\n",
       "      <th>2</th>\n",
       "      <td>2</td>\n",
       "      <td>kenichan dived times ball managed save 50 rest...</td>\n",
       "      <td>0</td>\n",
       "      <td>18</td>\n",
       "      <td>89</td>\n",
       "      <td>3.944444</td>\n",
       "      <td>7</td>\n",
       "      <td>0</td>\n",
       "      <td>1</td>\n",
       "      <td>0</td>\n",
       "      <td>0</td>\n",
       "      <td>[]</td>\n",
       "      <td>0</td>\n",
       "      <td>0</td>\n",
       "    </tr>\n",
       "    <tr>\n",
       "      <th>3</th>\n",
       "      <td>3</td>\n",
       "      <td>body feels itchy fire</td>\n",
       "      <td>0</td>\n",
       "      <td>10</td>\n",
       "      <td>47</td>\n",
       "      <td>3.700000</td>\n",
       "      <td>5</td>\n",
       "      <td>0</td>\n",
       "      <td>0</td>\n",
       "      <td>0</td>\n",
       "      <td>0</td>\n",
       "      <td>[]</td>\n",
       "      <td>0</td>\n",
       "      <td>0</td>\n",
       "    </tr>\n",
       "    <tr>\n",
       "      <th>4</th>\n",
       "      <td>4</td>\n",
       "      <td>nationwideclass behaving mad</td>\n",
       "      <td>0</td>\n",
       "      <td>21</td>\n",
       "      <td>111</td>\n",
       "      <td>4.285714</td>\n",
       "      <td>10</td>\n",
       "      <td>0</td>\n",
       "      <td>1</td>\n",
       "      <td>0</td>\n",
       "      <td>0</td>\n",
       "      <td>[]</td>\n",
       "      <td>0</td>\n",
       "      <td>0</td>\n",
       "    </tr>\n",
       "  </tbody>\n",
       "</table>\n",
       "</div>"
      ],
      "text/plain": [
       "   Unnamed: 0                                             twitts  sentiment  \\\n",
       "0           0        switchfoot awww bummer shoulda david carr d          0   \n",
       "1           1  upset update facebook texting cry result schoo...          0   \n",
       "2           2  kenichan dived times ball managed save 50 rest...          0   \n",
       "3           3                              body feels itchy fire          0   \n",
       "4           4                       nationwideclass behaving mad          0   \n",
       "\n",
       "   words_counts  char_counts  avg_word_len  stop_words_len  hashtags_count  \\\n",
       "0            19          115      5.052632               4               0   \n",
       "1            21          111      4.285714               9               0   \n",
       "2            18           89      3.944444               7               0   \n",
       "3            10           47      3.700000               5               0   \n",
       "4            21          111      4.285714              10               0   \n",
       "\n",
       "   mentions_count  numerics_count  upper_counts emails  emails_count  \\\n",
       "0               1               0             0     []             0   \n",
       "1               0               0             0     []             0   \n",
       "2               1               0             0     []             0   \n",
       "3               0               0             0     []             0   \n",
       "4               1               0             0     []             0   \n",
       "\n",
       "   urls_flag  \n",
       "0          1  \n",
       "1          0  \n",
       "2          0  \n",
       "3          0  \n",
       "4          0  "
      ]
     },
     "execution_count": 4,
     "metadata": {},
     "output_type": "execute_result"
    }
   ],
   "source": [
    "df.head()"
   ]
  },
  {
   "cell_type": "code",
   "execution_count": 51,
   "metadata": {},
   "outputs": [],
   "source": [
    "df.drop(['Unnamed: 0'], axis=1, inplace = True)"
   ]
  },
  {
   "cell_type": "code",
   "execution_count": 52,
   "metadata": {},
   "outputs": [
    {
     "data": {
      "text/html": [
       "<div>\n",
       "<style scoped>\n",
       "    .dataframe tbody tr th:only-of-type {\n",
       "        vertical-align: middle;\n",
       "    }\n",
       "\n",
       "    .dataframe tbody tr th {\n",
       "        vertical-align: top;\n",
       "    }\n",
       "\n",
       "    .dataframe thead th {\n",
       "        text-align: right;\n",
       "    }\n",
       "</style>\n",
       "<table border=\"1\" class=\"dataframe\">\n",
       "  <thead>\n",
       "    <tr style=\"text-align: right;\">\n",
       "      <th></th>\n",
       "      <th>twitts</th>\n",
       "      <th>sentiment</th>\n",
       "      <th>words_counts</th>\n",
       "      <th>char_counts</th>\n",
       "      <th>avg_word_len</th>\n",
       "      <th>stop_words_len</th>\n",
       "      <th>hashtags_count</th>\n",
       "      <th>mentions_count</th>\n",
       "      <th>numerics_count</th>\n",
       "      <th>upper_counts</th>\n",
       "      <th>emails</th>\n",
       "      <th>emails_count</th>\n",
       "      <th>urls_flag</th>\n",
       "    </tr>\n",
       "  </thead>\n",
       "  <tbody>\n",
       "    <tr>\n",
       "      <th>0</th>\n",
       "      <td>switchfoot awww bummer shoulda david carr d</td>\n",
       "      <td>0</td>\n",
       "      <td>19</td>\n",
       "      <td>115</td>\n",
       "      <td>5.052632</td>\n",
       "      <td>4</td>\n",
       "      <td>0</td>\n",
       "      <td>1</td>\n",
       "      <td>0</td>\n",
       "      <td>0</td>\n",
       "      <td>[]</td>\n",
       "      <td>0</td>\n",
       "      <td>1</td>\n",
       "    </tr>\n",
       "    <tr>\n",
       "      <th>1</th>\n",
       "      <td>upset update facebook texting cry result schoo...</td>\n",
       "      <td>0</td>\n",
       "      <td>21</td>\n",
       "      <td>111</td>\n",
       "      <td>4.285714</td>\n",
       "      <td>9</td>\n",
       "      <td>0</td>\n",
       "      <td>0</td>\n",
       "      <td>0</td>\n",
       "      <td>0</td>\n",
       "      <td>[]</td>\n",
       "      <td>0</td>\n",
       "      <td>0</td>\n",
       "    </tr>\n",
       "    <tr>\n",
       "      <th>2</th>\n",
       "      <td>kenichan dived times ball managed save 50 rest...</td>\n",
       "      <td>0</td>\n",
       "      <td>18</td>\n",
       "      <td>89</td>\n",
       "      <td>3.944444</td>\n",
       "      <td>7</td>\n",
       "      <td>0</td>\n",
       "      <td>1</td>\n",
       "      <td>0</td>\n",
       "      <td>0</td>\n",
       "      <td>[]</td>\n",
       "      <td>0</td>\n",
       "      <td>0</td>\n",
       "    </tr>\n",
       "    <tr>\n",
       "      <th>3</th>\n",
       "      <td>body feels itchy fire</td>\n",
       "      <td>0</td>\n",
       "      <td>10</td>\n",
       "      <td>47</td>\n",
       "      <td>3.700000</td>\n",
       "      <td>5</td>\n",
       "      <td>0</td>\n",
       "      <td>0</td>\n",
       "      <td>0</td>\n",
       "      <td>0</td>\n",
       "      <td>[]</td>\n",
       "      <td>0</td>\n",
       "      <td>0</td>\n",
       "    </tr>\n",
       "    <tr>\n",
       "      <th>4</th>\n",
       "      <td>nationwideclass behaving mad</td>\n",
       "      <td>0</td>\n",
       "      <td>21</td>\n",
       "      <td>111</td>\n",
       "      <td>4.285714</td>\n",
       "      <td>10</td>\n",
       "      <td>0</td>\n",
       "      <td>1</td>\n",
       "      <td>0</td>\n",
       "      <td>0</td>\n",
       "      <td>[]</td>\n",
       "      <td>0</td>\n",
       "      <td>0</td>\n",
       "    </tr>\n",
       "  </tbody>\n",
       "</table>\n",
       "</div>"
      ],
      "text/plain": [
       "                                              twitts  sentiment  words_counts  \\\n",
       "0        switchfoot awww bummer shoulda david carr d          0            19   \n",
       "1  upset update facebook texting cry result schoo...          0            21   \n",
       "2  kenichan dived times ball managed save 50 rest...          0            18   \n",
       "3                              body feels itchy fire          0            10   \n",
       "4                       nationwideclass behaving mad          0            21   \n",
       "\n",
       "   char_counts  avg_word_len  stop_words_len  hashtags_count  mentions_count  \\\n",
       "0          115      5.052632               4               0               1   \n",
       "1          111      4.285714               9               0               0   \n",
       "2           89      3.944444               7               0               1   \n",
       "3           47      3.700000               5               0               0   \n",
       "4          111      4.285714              10               0               1   \n",
       "\n",
       "   numerics_count  upper_counts emails  emails_count  urls_flag  \n",
       "0               0             0     []             0          1  \n",
       "1               0             0     []             0          0  \n",
       "2               0             0     []             0          0  \n",
       "3               0             0     []             0          0  \n",
       "4               0             0     []             0          0  "
      ]
     },
     "execution_count": 52,
     "metadata": {},
     "output_type": "execute_result"
    }
   ],
   "source": [
    "df.head()"
   ]
  },
  {
   "cell_type": "code",
   "execution_count": 54,
   "metadata": {},
   "outputs": [
    {
     "data": {
      "text/plain": [
       "(1600000, 13)"
      ]
     },
     "execution_count": 54,
     "metadata": {},
     "output_type": "execute_result"
    }
   ],
   "source": [
    "df.shape"
   ]
  },
  {
   "cell_type": "code",
   "execution_count": 55,
   "metadata": {},
   "outputs": [],
   "source": [
    "#sampling the number of rows\n",
    "\n",
    "df0 = df[df['sentiment']==0].sample(2000)\n",
    "df4 = df[df['sentiment']==4].sample(2000)"
   ]
  },
  {
   "cell_type": "code",
   "execution_count": 56,
   "metadata": {},
   "outputs": [],
   "source": [
    "dfr = df0.append(df4)"
   ]
  },
  {
   "cell_type": "code",
   "execution_count": 57,
   "metadata": {},
   "outputs": [
    {
     "data": {
      "text/plain": [
       "(4000, 13)"
      ]
     },
     "execution_count": 57,
     "metadata": {},
     "output_type": "execute_result"
    }
   ],
   "source": [
    "dfr.shape"
   ]
  },
  {
   "cell_type": "code",
   "execution_count": 65,
   "metadata": {},
   "outputs": [
    {
     "data": {
      "text/html": [
       "<div>\n",
       "<style scoped>\n",
       "    .dataframe tbody tr th:only-of-type {\n",
       "        vertical-align: middle;\n",
       "    }\n",
       "\n",
       "    .dataframe tbody tr th {\n",
       "        vertical-align: top;\n",
       "    }\n",
       "\n",
       "    .dataframe thead th {\n",
       "        text-align: right;\n",
       "    }\n",
       "</style>\n",
       "<table border=\"1\" class=\"dataframe\">\n",
       "  <thead>\n",
       "    <tr style=\"text-align: right;\">\n",
       "      <th></th>\n",
       "      <th>twitts</th>\n",
       "      <th>sentiment</th>\n",
       "      <th>words_counts</th>\n",
       "      <th>char_counts</th>\n",
       "      <th>avg_word_len</th>\n",
       "      <th>stop_words_len</th>\n",
       "      <th>hashtags_count</th>\n",
       "      <th>mentions_count</th>\n",
       "      <th>numerics_count</th>\n",
       "      <th>upper_counts</th>\n",
       "      <th>emails</th>\n",
       "      <th>emails_count</th>\n",
       "      <th>urls_flag</th>\n",
       "    </tr>\n",
       "  </thead>\n",
       "  <tbody>\n",
       "    <tr>\n",
       "      <th>576057</th>\n",
       "      <td>gonna alot tears tomorrow dont wanna graduate ...</td>\n",
       "      <td>0</td>\n",
       "      <td>20</td>\n",
       "      <td>117</td>\n",
       "      <td>4.850000</td>\n",
       "      <td>5</td>\n",
       "      <td>0</td>\n",
       "      <td>0</td>\n",
       "      <td>0</td>\n",
       "      <td>0</td>\n",
       "      <td>[]</td>\n",
       "      <td>0</td>\n",
       "      <td>0</td>\n",
       "    </tr>\n",
       "    <tr>\n",
       "      <th>179752</th>\n",
       "      <td>thing having fever feeling cold especially hot...</td>\n",
       "      <td>0</td>\n",
       "      <td>21</td>\n",
       "      <td>114</td>\n",
       "      <td>4.428571</td>\n",
       "      <td>6</td>\n",
       "      <td>0</td>\n",
       "      <td>0</td>\n",
       "      <td>0</td>\n",
       "      <td>0</td>\n",
       "      <td>[]</td>\n",
       "      <td>0</td>\n",
       "      <td>0</td>\n",
       "    </tr>\n",
       "    <tr>\n",
       "      <th>456907</th>\n",
       "      <td>broken dvr recording</td>\n",
       "      <td>0</td>\n",
       "      <td>6</td>\n",
       "      <td>34</td>\n",
       "      <td>4.666667</td>\n",
       "      <td>2</td>\n",
       "      <td>0</td>\n",
       "      <td>0</td>\n",
       "      <td>0</td>\n",
       "      <td>0</td>\n",
       "      <td>[]</td>\n",
       "      <td>0</td>\n",
       "      <td>0</td>\n",
       "    </tr>\n",
       "    <tr>\n",
       "      <th>669640</th>\n",
       "      <td>angiecole throw steak dinner haha wont return ...</td>\n",
       "      <td>0</td>\n",
       "      <td>18</td>\n",
       "      <td>94</td>\n",
       "      <td>4.222222</td>\n",
       "      <td>5</td>\n",
       "      <td>0</td>\n",
       "      <td>1</td>\n",
       "      <td>0</td>\n",
       "      <td>0</td>\n",
       "      <td>[]</td>\n",
       "      <td>0</td>\n",
       "      <td>0</td>\n",
       "    </tr>\n",
       "    <tr>\n",
       "      <th>710227</th>\n",
       "      <td>miss summer</td>\n",
       "      <td>0</td>\n",
       "      <td>5</td>\n",
       "      <td>41</td>\n",
       "      <td>7.200000</td>\n",
       "      <td>0</td>\n",
       "      <td>0</td>\n",
       "      <td>0</td>\n",
       "      <td>0</td>\n",
       "      <td>0</td>\n",
       "      <td>[]</td>\n",
       "      <td>0</td>\n",
       "      <td>1</td>\n",
       "    </tr>\n",
       "  </tbody>\n",
       "</table>\n",
       "</div>"
      ],
      "text/plain": [
       "                                                   twitts  sentiment  \\\n",
       "576057  gonna alot tears tomorrow dont wanna graduate ...          0   \n",
       "179752  thing having fever feeling cold especially hot...          0   \n",
       "456907                               broken dvr recording          0   \n",
       "669640  angiecole throw steak dinner haha wont return ...          0   \n",
       "710227                                        miss summer          0   \n",
       "\n",
       "        words_counts  char_counts  avg_word_len  stop_words_len  \\\n",
       "576057            20          117      4.850000               5   \n",
       "179752            21          114      4.428571               6   \n",
       "456907             6           34      4.666667               2   \n",
       "669640            18           94      4.222222               5   \n",
       "710227             5           41      7.200000               0   \n",
       "\n",
       "        hashtags_count  mentions_count  numerics_count  upper_counts emails  \\\n",
       "576057               0               0               0             0     []   \n",
       "179752               0               0               0             0     []   \n",
       "456907               0               0               0             0     []   \n",
       "669640               0               1               0             0     []   \n",
       "710227               0               0               0             0     []   \n",
       "\n",
       "        emails_count  urls_flag  \n",
       "576057             0          0  \n",
       "179752             0          0  \n",
       "456907             0          0  \n",
       "669640             0          0  \n",
       "710227             0          1  "
      ]
     },
     "execution_count": 65,
     "metadata": {},
     "output_type": "execute_result"
    }
   ],
   "source": [
    "dfr.head()"
   ]
  },
  {
   "cell_type": "code",
   "execution_count": 58,
   "metadata": {},
   "outputs": [],
   "source": [
    "#removing the twitts,sentiment and emails columns\n",
    "\n",
    "dfr_feat = dfr.drop(labels=['twitts','sentiment','emails'], axis = 1).reset_index(drop=True)"
   ]
  },
  {
   "cell_type": "code",
   "execution_count": 59,
   "metadata": {},
   "outputs": [
    {
     "data": {
      "text/html": [
       "<div>\n",
       "<style scoped>\n",
       "    .dataframe tbody tr th:only-of-type {\n",
       "        vertical-align: middle;\n",
       "    }\n",
       "\n",
       "    .dataframe tbody tr th {\n",
       "        vertical-align: top;\n",
       "    }\n",
       "\n",
       "    .dataframe thead th {\n",
       "        text-align: right;\n",
       "    }\n",
       "</style>\n",
       "<table border=\"1\" class=\"dataframe\">\n",
       "  <thead>\n",
       "    <tr style=\"text-align: right;\">\n",
       "      <th></th>\n",
       "      <th>words_counts</th>\n",
       "      <th>char_counts</th>\n",
       "      <th>avg_word_len</th>\n",
       "      <th>stop_words_len</th>\n",
       "      <th>hashtags_count</th>\n",
       "      <th>mentions_count</th>\n",
       "      <th>numerics_count</th>\n",
       "      <th>upper_counts</th>\n",
       "      <th>emails_count</th>\n",
       "      <th>urls_flag</th>\n",
       "    </tr>\n",
       "  </thead>\n",
       "  <tbody>\n",
       "    <tr>\n",
       "      <th>0</th>\n",
       "      <td>20</td>\n",
       "      <td>117</td>\n",
       "      <td>4.850000</td>\n",
       "      <td>5</td>\n",
       "      <td>0</td>\n",
       "      <td>0</td>\n",
       "      <td>0</td>\n",
       "      <td>0</td>\n",
       "      <td>0</td>\n",
       "      <td>0</td>\n",
       "    </tr>\n",
       "    <tr>\n",
       "      <th>1</th>\n",
       "      <td>21</td>\n",
       "      <td>114</td>\n",
       "      <td>4.428571</td>\n",
       "      <td>6</td>\n",
       "      <td>0</td>\n",
       "      <td>0</td>\n",
       "      <td>0</td>\n",
       "      <td>0</td>\n",
       "      <td>0</td>\n",
       "      <td>0</td>\n",
       "    </tr>\n",
       "    <tr>\n",
       "      <th>2</th>\n",
       "      <td>6</td>\n",
       "      <td>34</td>\n",
       "      <td>4.666667</td>\n",
       "      <td>2</td>\n",
       "      <td>0</td>\n",
       "      <td>0</td>\n",
       "      <td>0</td>\n",
       "      <td>0</td>\n",
       "      <td>0</td>\n",
       "      <td>0</td>\n",
       "    </tr>\n",
       "    <tr>\n",
       "      <th>3</th>\n",
       "      <td>18</td>\n",
       "      <td>94</td>\n",
       "      <td>4.222222</td>\n",
       "      <td>5</td>\n",
       "      <td>0</td>\n",
       "      <td>1</td>\n",
       "      <td>0</td>\n",
       "      <td>0</td>\n",
       "      <td>0</td>\n",
       "      <td>0</td>\n",
       "    </tr>\n",
       "    <tr>\n",
       "      <th>4</th>\n",
       "      <td>5</td>\n",
       "      <td>41</td>\n",
       "      <td>7.200000</td>\n",
       "      <td>0</td>\n",
       "      <td>0</td>\n",
       "      <td>0</td>\n",
       "      <td>0</td>\n",
       "      <td>0</td>\n",
       "      <td>0</td>\n",
       "      <td>1</td>\n",
       "    </tr>\n",
       "  </tbody>\n",
       "</table>\n",
       "</div>"
      ],
      "text/plain": [
       "   words_counts  char_counts  avg_word_len  stop_words_len  hashtags_count  \\\n",
       "0            20          117      4.850000               5               0   \n",
       "1            21          114      4.428571               6               0   \n",
       "2             6           34      4.666667               2               0   \n",
       "3            18           94      4.222222               5               0   \n",
       "4             5           41      7.200000               0               0   \n",
       "\n",
       "   mentions_count  numerics_count  upper_counts  emails_count  urls_flag  \n",
       "0               0               0             0             0          0  \n",
       "1               0               0             0             0          0  \n",
       "2               0               0             0             0          0  \n",
       "3               1               0             0             0          0  \n",
       "4               0               0             0             0          1  "
      ]
     },
     "execution_count": 59,
     "metadata": {},
     "output_type": "execute_result"
    }
   ],
   "source": [
    "dfr_feat.head()"
   ]
  },
  {
   "cell_type": "code",
   "execution_count": 60,
   "metadata": {},
   "outputs": [],
   "source": [
    "y = dfr['sentiment']"
   ]
  },
  {
   "cell_type": "code",
   "execution_count": 62,
   "metadata": {},
   "outputs": [],
   "source": [
    "cv = CountVectorizer()"
   ]
  },
  {
   "cell_type": "code",
   "execution_count": 70,
   "metadata": {},
   "outputs": [],
   "source": [
    "text_counts = cv.fit_transform(dfr['twitts'].values.astype('U'))  \n",
    "\n",
    "# need to convert the dtype object to unicode string .\n",
    "\n",
    "# as this was exported file, some encoding was missing i guess. "
   ]
  },
  {
   "cell_type": "code",
   "execution_count": 71,
   "metadata": {},
   "outputs": [
    {
     "data": {
      "text/plain": [
       "(4000, 9734)"
      ]
     },
     "execution_count": 71,
     "metadata": {},
     "output_type": "execute_result"
    }
   ],
   "source": [
    "text_counts.toarray().shape\n",
    "\n",
    "#9734 columns got created. This is like one hot encoding, every word of twitts becames column. "
   ]
  },
  {
   "cell_type": "code",
   "execution_count": 72,
   "metadata": {},
   "outputs": [],
   "source": [
    "dfr_bow = pd.DataFrame(text_counts.toarray(), columns=cv.get_feature_names())"
   ]
  },
  {
   "cell_type": "code",
   "execution_count": 73,
   "metadata": {},
   "outputs": [
    {
     "data": {
      "text/html": [
       "<div>\n",
       "<style scoped>\n",
       "    .dataframe tbody tr th:only-of-type {\n",
       "        vertical-align: middle;\n",
       "    }\n",
       "\n",
       "    .dataframe tbody tr th {\n",
       "        vertical-align: top;\n",
       "    }\n",
       "\n",
       "    .dataframe thead th {\n",
       "        text-align: right;\n",
       "    }\n",
       "</style>\n",
       "<table border=\"1\" class=\"dataframe\">\n",
       "  <thead>\n",
       "    <tr style=\"text-align: right;\">\n",
       "      <th></th>\n",
       "      <th>020</th>\n",
       "      <th>09</th>\n",
       "      <th>0930</th>\n",
       "      <th>0ld</th>\n",
       "      <th>0rf</th>\n",
       "      <th>0summerbreeze0</th>\n",
       "      <th>10</th>\n",
       "      <th>100</th>\n",
       "      <th>1000</th>\n",
       "      <th>10000</th>\n",
       "      <th>...</th>\n",
       "      <th>zolani</th>\n",
       "      <th>zombie</th>\n",
       "      <th>zombies</th>\n",
       "      <th>zoo</th>\n",
       "      <th>zs</th>\n",
       "      <th>zulu</th>\n",
       "      <th>zumarr</th>\n",
       "      <th>zutradio</th>\n",
       "      <th>zzzzzs</th>\n",
       "      <th>zzzzzz</th>\n",
       "    </tr>\n",
       "  </thead>\n",
       "  <tbody>\n",
       "    <tr>\n",
       "      <th>0</th>\n",
       "      <td>0</td>\n",
       "      <td>0</td>\n",
       "      <td>0</td>\n",
       "      <td>0</td>\n",
       "      <td>0</td>\n",
       "      <td>0</td>\n",
       "      <td>0</td>\n",
       "      <td>0</td>\n",
       "      <td>0</td>\n",
       "      <td>0</td>\n",
       "      <td>...</td>\n",
       "      <td>0</td>\n",
       "      <td>0</td>\n",
       "      <td>0</td>\n",
       "      <td>0</td>\n",
       "      <td>0</td>\n",
       "      <td>0</td>\n",
       "      <td>0</td>\n",
       "      <td>0</td>\n",
       "      <td>0</td>\n",
       "      <td>0</td>\n",
       "    </tr>\n",
       "    <tr>\n",
       "      <th>1</th>\n",
       "      <td>0</td>\n",
       "      <td>0</td>\n",
       "      <td>0</td>\n",
       "      <td>0</td>\n",
       "      <td>0</td>\n",
       "      <td>0</td>\n",
       "      <td>0</td>\n",
       "      <td>0</td>\n",
       "      <td>0</td>\n",
       "      <td>0</td>\n",
       "      <td>...</td>\n",
       "      <td>0</td>\n",
       "      <td>0</td>\n",
       "      <td>0</td>\n",
       "      <td>0</td>\n",
       "      <td>0</td>\n",
       "      <td>0</td>\n",
       "      <td>0</td>\n",
       "      <td>0</td>\n",
       "      <td>0</td>\n",
       "      <td>0</td>\n",
       "    </tr>\n",
       "  </tbody>\n",
       "</table>\n",
       "<p>2 rows × 9734 columns</p>\n",
       "</div>"
      ],
      "text/plain": [
       "   020  09  0930  0ld  0rf  0summerbreeze0  10  100  1000  10000  ...  zolani  \\\n",
       "0    0   0     0    0    0               0   0    0     0      0  ...       0   \n",
       "1    0   0     0    0    0               0   0    0     0      0  ...       0   \n",
       "\n",
       "   zombie  zombies  zoo  zs  zulu  zumarr  zutradio  zzzzzs  zzzzzz  \n",
       "0       0        0    0   0     0       0         0       0       0  \n",
       "1       0        0    0   0     0       0         0       0       0  \n",
       "\n",
       "[2 rows x 9734 columns]"
      ]
     },
     "execution_count": 73,
     "metadata": {},
     "output_type": "execute_result"
    }
   ],
   "source": [
    "dfr_bow.head(2)"
   ]
  },
  {
   "cell_type": "markdown",
   "metadata": {},
   "source": [
    "## Importing Libraries for ML algorithms"
   ]
  },
  {
   "cell_type": "code",
   "execution_count": 74,
   "metadata": {},
   "outputs": [],
   "source": [
    "from sklearn.linear_model import SGDClassifier\n",
    "from sklearn.linear_model import LogisticRegression\n",
    "from sklearn.linear_model import LogisticRegressionCV\n",
    "from sklearn.svm import LinearSVC\n",
    "from sklearn.ensemble import RandomForestClassifier\n",
    "\n",
    "\n",
    "from sklearn.model_selection import train_test_split\n",
    "from sklearn.metrics import confusion_matrix, accuracy_score\n",
    "from sklearn.preprocessing import MinMaxScaler"
   ]
  },
  {
   "cell_type": "code",
   "execution_count": 75,
   "metadata": {},
   "outputs": [],
   "source": [
    "sgd = SGDClassifier(n_jobs=-1, random_state=42, max_iter=200)\n",
    "\n",
    "lgr = LogisticRegression(random_state=42, max_iter=200)\n",
    "\n",
    "lgrcv = LogisticRegressionCV(cv = 2, random_state=42, max_iter=1000)\n",
    "\n",
    "svm = LinearSVC(random_state=42, max_iter=200)\n",
    "\n",
    "rfc = RandomForestClassifier(random_state=42, n_jobs=-1, n_estimators=200)"
   ]
  },
  {
   "cell_type": "code",
   "execution_count": 76,
   "metadata": {},
   "outputs": [],
   "source": [
    "# Classifier\n",
    "\n",
    "clf = {'SGD': sgd, 'LGR': lgr, 'LGR-CV': lgrcv, 'SVM': svm, 'RFC': rfc}"
   ]
  },
  {
   "cell_type": "code",
   "execution_count": 77,
   "metadata": {},
   "outputs": [
    {
     "data": {
      "text/plain": [
       "dict_keys(['SGD', 'LGR', 'LGR-CV', 'SVM', 'RFC'])"
      ]
     },
     "execution_count": 77,
     "metadata": {},
     "output_type": "execute_result"
    }
   ],
   "source": [
    "clf.keys()"
   ]
  },
  {
   "cell_type": "code",
   "execution_count": 78,
   "metadata": {},
   "outputs": [],
   "source": [
    "#here, we are training our model by defining the function classify.\n",
    "\n",
    "def classify(X, y):\n",
    "    scaler = MinMaxScaler(feature_range=(0, 1))\n",
    "    X = scaler.fit_transform(X) \n",
    "    \n",
    "    X_train, X_test, y_train, y_test = train_test_split(X, y, test_size = 0.2, random_state = 42, stratify = y)\n",
    "    \n",
    "    for key in clf.keys():\n",
    "        clf[key].fit(X_train, y_train)\n",
    "        y_pred = clf[key].predict(X_test)\n",
    "        ac = accuracy_score(y_test, y_pred)\n",
    "        print(key, \" ---> \", ac)"
   ]
  },
  {
   "cell_type": "markdown",
   "metadata": {},
   "source": [
    "## Let's pass different data sets and see how the models accuracy varies:"
   ]
  },
  {
   "cell_type": "markdown",
   "metadata": {},
   "source": [
    "### Let's pass dfr_bow dataset"
   ]
  },
  {
   "cell_type": "code",
   "execution_count": 80,
   "metadata": {},
   "outputs": [
    {
     "name": "stdout",
     "output_type": "stream",
     "text": [
      "CPU times: user 2 µs, sys: 0 ns, total: 2 µs\n",
      "Wall time: 5.01 µs\n",
      "SGD  --->  0.6525\n",
      "LGR  --->  0.68875\n",
      "LGR-CV  --->  0.6825\n",
      "SVM  --->  0.66375\n",
      "RFC  --->  0.65875\n"
     ]
    }
   ],
   "source": [
    "%time\n",
    "classify(dfr_bow, y)"
   ]
  },
  {
   "cell_type": "markdown",
   "metadata": {},
   "source": [
    "### Manual Feature dataset"
   ]
  },
  {
   "cell_type": "code",
   "execution_count": 81,
   "metadata": {},
   "outputs": [
    {
     "data": {
      "text/html": [
       "<div>\n",
       "<style scoped>\n",
       "    .dataframe tbody tr th:only-of-type {\n",
       "        vertical-align: middle;\n",
       "    }\n",
       "\n",
       "    .dataframe tbody tr th {\n",
       "        vertical-align: top;\n",
       "    }\n",
       "\n",
       "    .dataframe thead th {\n",
       "        text-align: right;\n",
       "    }\n",
       "</style>\n",
       "<table border=\"1\" class=\"dataframe\">\n",
       "  <thead>\n",
       "    <tr style=\"text-align: right;\">\n",
       "      <th></th>\n",
       "      <th>words_counts</th>\n",
       "      <th>char_counts</th>\n",
       "      <th>avg_word_len</th>\n",
       "      <th>stop_words_len</th>\n",
       "      <th>hashtags_count</th>\n",
       "      <th>mentions_count</th>\n",
       "      <th>numerics_count</th>\n",
       "      <th>upper_counts</th>\n",
       "      <th>emails_count</th>\n",
       "      <th>urls_flag</th>\n",
       "    </tr>\n",
       "  </thead>\n",
       "  <tbody>\n",
       "    <tr>\n",
       "      <th>0</th>\n",
       "      <td>20</td>\n",
       "      <td>117</td>\n",
       "      <td>4.850000</td>\n",
       "      <td>5</td>\n",
       "      <td>0</td>\n",
       "      <td>0</td>\n",
       "      <td>0</td>\n",
       "      <td>0</td>\n",
       "      <td>0</td>\n",
       "      <td>0</td>\n",
       "    </tr>\n",
       "    <tr>\n",
       "      <th>1</th>\n",
       "      <td>21</td>\n",
       "      <td>114</td>\n",
       "      <td>4.428571</td>\n",
       "      <td>6</td>\n",
       "      <td>0</td>\n",
       "      <td>0</td>\n",
       "      <td>0</td>\n",
       "      <td>0</td>\n",
       "      <td>0</td>\n",
       "      <td>0</td>\n",
       "    </tr>\n",
       "  </tbody>\n",
       "</table>\n",
       "</div>"
      ],
      "text/plain": [
       "   words_counts  char_counts  avg_word_len  stop_words_len  hashtags_count  \\\n",
       "0            20          117      4.850000               5               0   \n",
       "1            21          114      4.428571               6               0   \n",
       "\n",
       "   mentions_count  numerics_count  upper_counts  emails_count  urls_flag  \n",
       "0               0               0             0             0          0  \n",
       "1               0               0             0             0          0  "
      ]
     },
     "execution_count": 81,
     "metadata": {},
     "output_type": "execute_result"
    }
   ],
   "source": [
    "dfr_feat.head(2)"
   ]
  },
  {
   "cell_type": "code",
   "execution_count": 82,
   "metadata": {},
   "outputs": [
    {
     "name": "stdout",
     "output_type": "stream",
     "text": [
      "SGD  --->  0.54625\n",
      "LGR  --->  0.60875\n",
      "LGR-CV  --->  0.6175\n",
      "SVM  --->  0.61125\n",
      "RFC  --->  0.55375\n"
     ]
    }
   ],
   "source": [
    "classify(dfr_feat, y)"
   ]
  },
  {
   "cell_type": "markdown",
   "metadata": {},
   "source": [
    "### Manual Feature + BoW"
   ]
  },
  {
   "cell_type": "code",
   "execution_count": 83,
   "metadata": {},
   "outputs": [],
   "source": [
    "X = dfr_feat.join(dfr_bow)"
   ]
  },
  {
   "cell_type": "code",
   "execution_count": 84,
   "metadata": {},
   "outputs": [
    {
     "name": "stdout",
     "output_type": "stream",
     "text": [
      "SGD  --->  0.66875\n",
      "LGR  --->  0.695\n",
      "LGR-CV  --->  0.6975\n",
      "SVM  --->  0.6775\n",
      "RFC  --->  0.67875\n"
     ]
    }
   ],
   "source": [
    "classify(X, y)"
   ]
  },
  {
   "cell_type": "markdown",
   "metadata": {},
   "source": [
    "### TFIDF"
   ]
  },
  {
   "cell_type": "code",
   "execution_count": 85,
   "metadata": {},
   "outputs": [
    {
     "data": {
      "text/plain": [
       "(4000, 13)"
      ]
     },
     "execution_count": 85,
     "metadata": {},
     "output_type": "execute_result"
    }
   ],
   "source": [
    "dfr.shape"
   ]
  },
  {
   "cell_type": "code",
   "execution_count": 86,
   "metadata": {},
   "outputs": [
    {
     "data": {
      "text/html": [
       "<div>\n",
       "<style scoped>\n",
       "    .dataframe tbody tr th:only-of-type {\n",
       "        vertical-align: middle;\n",
       "    }\n",
       "\n",
       "    .dataframe tbody tr th {\n",
       "        vertical-align: top;\n",
       "    }\n",
       "\n",
       "    .dataframe thead th {\n",
       "        text-align: right;\n",
       "    }\n",
       "</style>\n",
       "<table border=\"1\" class=\"dataframe\">\n",
       "  <thead>\n",
       "    <tr style=\"text-align: right;\">\n",
       "      <th></th>\n",
       "      <th>twitts</th>\n",
       "      <th>sentiment</th>\n",
       "      <th>words_counts</th>\n",
       "      <th>char_counts</th>\n",
       "      <th>avg_word_len</th>\n",
       "      <th>stop_words_len</th>\n",
       "      <th>hashtags_count</th>\n",
       "      <th>mentions_count</th>\n",
       "      <th>numerics_count</th>\n",
       "      <th>upper_counts</th>\n",
       "      <th>emails</th>\n",
       "      <th>emails_count</th>\n",
       "      <th>urls_flag</th>\n",
       "    </tr>\n",
       "  </thead>\n",
       "  <tbody>\n",
       "    <tr>\n",
       "      <th>576057</th>\n",
       "      <td>gonna alot tears tomorrow dont wanna graduate ...</td>\n",
       "      <td>0</td>\n",
       "      <td>20</td>\n",
       "      <td>117</td>\n",
       "      <td>4.850000</td>\n",
       "      <td>5</td>\n",
       "      <td>0</td>\n",
       "      <td>0</td>\n",
       "      <td>0</td>\n",
       "      <td>0</td>\n",
       "      <td>[]</td>\n",
       "      <td>0</td>\n",
       "      <td>0</td>\n",
       "    </tr>\n",
       "    <tr>\n",
       "      <th>179752</th>\n",
       "      <td>thing having fever feeling cold especially hot...</td>\n",
       "      <td>0</td>\n",
       "      <td>21</td>\n",
       "      <td>114</td>\n",
       "      <td>4.428571</td>\n",
       "      <td>6</td>\n",
       "      <td>0</td>\n",
       "      <td>0</td>\n",
       "      <td>0</td>\n",
       "      <td>0</td>\n",
       "      <td>[]</td>\n",
       "      <td>0</td>\n",
       "      <td>0</td>\n",
       "    </tr>\n",
       "  </tbody>\n",
       "</table>\n",
       "</div>"
      ],
      "text/plain": [
       "                                                   twitts  sentiment  \\\n",
       "576057  gonna alot tears tomorrow dont wanna graduate ...          0   \n",
       "179752  thing having fever feeling cold especially hot...          0   \n",
       "\n",
       "        words_counts  char_counts  avg_word_len  stop_words_len  \\\n",
       "576057            20          117      4.850000               5   \n",
       "179752            21          114      4.428571               6   \n",
       "\n",
       "        hashtags_count  mentions_count  numerics_count  upper_counts emails  \\\n",
       "576057               0               0               0             0     []   \n",
       "179752               0               0               0             0     []   \n",
       "\n",
       "        emails_count  urls_flag  \n",
       "576057             0          0  \n",
       "179752             0          0  "
      ]
     },
     "execution_count": 86,
     "metadata": {},
     "output_type": "execute_result"
    }
   ],
   "source": [
    "dfr.head(2)"
   ]
  },
  {
   "cell_type": "code",
   "execution_count": 88,
   "metadata": {},
   "outputs": [],
   "source": [
    "tfidf = TfidfVectorizer()\n",
    "X = tfidf.fit_transform(dfr['twitts'].values.astype('U'))"
   ]
  },
  {
   "cell_type": "code",
   "execution_count": 90,
   "metadata": {},
   "outputs": [
    {
     "name": "stdout",
     "output_type": "stream",
     "text": [
      "SGD  --->  0.66875\n",
      "LGR  --->  0.6925\n",
      "LGR-CV  --->  0.69625\n",
      "SVM  --->  0.6675\n",
      "RFC  --->  0.65875\n"
     ]
    }
   ],
   "source": [
    "classify(pd.DataFrame(X.toarray()), y)"
   ]
  },
  {
   "cell_type": "markdown",
   "metadata": {},
   "source": [
    "### Word2Vec"
   ]
  },
  {
   "cell_type": "code",
   "execution_count": 96,
   "metadata": {},
   "outputs": [],
   "source": [
    "def get_vec(x):\n",
    "    doc = nlp(x)\n",
    "    return doc.vector.reshape(1, -1)"
   ]
  },
  {
   "cell_type": "code",
   "execution_count": 99,
   "metadata": {},
   "outputs": [],
   "source": [
    "dfr['vec'] = dfr['twitts'].apply(lambda x: get_vec(str(x)))"
   ]
  },
  {
   "cell_type": "code",
   "execution_count": 100,
   "metadata": {},
   "outputs": [],
   "source": [
    "X = np.concatenate(dfr['vec'].to_numpy(), axis = 0)"
   ]
  },
  {
   "cell_type": "code",
   "execution_count": 101,
   "metadata": {},
   "outputs": [
    {
     "data": {
      "text/plain": [
       "(4000, 300)"
      ]
     },
     "execution_count": 101,
     "metadata": {},
     "output_type": "execute_result"
    }
   ],
   "source": [
    "X.shape"
   ]
  },
  {
   "cell_type": "code",
   "execution_count": 102,
   "metadata": {},
   "outputs": [
    {
     "name": "stdout",
     "output_type": "stream",
     "text": [
      "SGD  --->  0.6925\n"
     ]
    },
    {
     "name": "stderr",
     "output_type": "stream",
     "text": [
      "/Users/yogesh/opt/anaconda3/lib/python3.8/site-packages/sklearn/linear_model/_logistic.py:762: ConvergenceWarning: lbfgs failed to converge (status=1):\n",
      "STOP: TOTAL NO. of ITERATIONS REACHED LIMIT.\n",
      "\n",
      "Increase the number of iterations (max_iter) or scale the data as shown in:\n",
      "    https://scikit-learn.org/stable/modules/preprocessing.html\n",
      "Please also refer to the documentation for alternative solver options:\n",
      "    https://scikit-learn.org/stable/modules/linear_model.html#logistic-regression\n",
      "  n_iter_i = _check_optimize_result(\n"
     ]
    },
    {
     "name": "stdout",
     "output_type": "stream",
     "text": [
      "LGR  --->  0.71625\n",
      "LGR-CV  --->  0.71\n"
     ]
    },
    {
     "name": "stderr",
     "output_type": "stream",
     "text": [
      "/Users/yogesh/opt/anaconda3/lib/python3.8/site-packages/sklearn/svm/_base.py:976: ConvergenceWarning: Liblinear failed to converge, increase the number of iterations.\n",
      "  warnings.warn(\"Liblinear failed to converge, increase \"\n"
     ]
    },
    {
     "name": "stdout",
     "output_type": "stream",
     "text": [
      "SVM  --->  0.62\n",
      "RFC  --->  0.6925\n"
     ]
    }
   ],
   "source": [
    "classify(pd.DataFrame(X), y)"
   ]
  },
  {
   "cell_type": "code",
   "execution_count": 104,
   "metadata": {},
   "outputs": [],
   "source": [
    "# So invoking and verifying the alogrithms remains same, its all about Feature Engineering the text to convert into\n",
    "# numbers and passing to algorithms. "
   ]
  },
  {
   "cell_type": "code",
   "execution_count": null,
   "metadata": {},
   "outputs": [],
   "source": []
  }
 ],
 "metadata": {
  "kernelspec": {
   "display_name": "Python 3",
   "language": "python",
   "name": "python3"
  },
  "language_info": {
   "codemirror_mode": {
    "name": "ipython",
    "version": 3
   },
   "file_extension": ".py",
   "mimetype": "text/x-python",
   "name": "python",
   "nbconvert_exporter": "python",
   "pygments_lexer": "ipython3",
   "version": "3.8.3"
  }
 },
 "nbformat": 4,
 "nbformat_minor": 4
}
