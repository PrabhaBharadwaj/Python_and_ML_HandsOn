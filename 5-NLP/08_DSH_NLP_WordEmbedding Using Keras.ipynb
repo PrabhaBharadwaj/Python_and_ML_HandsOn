{
 "cells": [
  {
   "cell_type": "markdown",
   "metadata": {},
   "source": [
    "Source: https://www.youtube.com/watch?v=kKDYtZfriI8"
   ]
  },
  {
   "cell_type": "code",
   "execution_count": 1,
   "metadata": {},
   "outputs": [],
   "source": [
    "# Only below portion is taken from the source. "
   ]
  },
  {
   "cell_type": "code",
   "execution_count": 2,
   "metadata": {},
   "outputs": [
    {
     "name": "stdout",
     "output_type": "stream",
     "text": [
      "Collecting keras\n",
      "  Downloading Keras-2.4.3-py2.py3-none-any.whl (36 kB)\n",
      "Requirement already satisfied: pyyaml in /Users/yogesh/opt/anaconda3/lib/python3.8/site-packages (from keras) (5.3.1)\n",
      "Requirement already satisfied: h5py in /Users/yogesh/opt/anaconda3/lib/python3.8/site-packages (from keras) (2.10.0)\n",
      "Requirement already satisfied: scipy>=0.14 in /Users/yogesh/opt/anaconda3/lib/python3.8/site-packages (from keras) (1.5.0)\n",
      "Requirement already satisfied: numpy>=1.9.1 in /Users/yogesh/opt/anaconda3/lib/python3.8/site-packages (from keras) (1.19.4)\n",
      "Requirement already satisfied: six in /Users/yogesh/opt/anaconda3/lib/python3.8/site-packages (from h5py->keras) (1.15.0)\n",
      "Installing collected packages: keras\n",
      "Successfully installed keras-2.4.3\n",
      "Note: you may need to restart the kernel to use updated packages.\n"
     ]
    }
   ],
   "source": [
    "#pip install keras"
   ]
  },
  {
   "cell_type": "code",
   "execution_count": 3,
   "metadata": {},
   "outputs": [],
   "source": [
    "from numpy import array\n",
    "from keras.preprocessing.text import one_hot\n",
    "from keras.preprocessing.sequence import pad_sequences\n",
    "from keras.models import Sequential\n",
    "from keras.layers import Dense\n",
    "from keras.layers import Flatten\n",
    "from keras.layers.embeddings import Embedding"
   ]
  },
  {
   "cell_type": "code",
   "execution_count": 4,
   "metadata": {},
   "outputs": [],
   "source": [
    "# define documents\n",
    "Sent = ['Hello, how are you',\n",
    "        'how are you',\n",
    "        'how are you doing',\n",
    "        'I am doing great',\n",
    "        'I am doing good',\n",
    "        'I am good']"
   ]
  },
  {
   "cell_type": "code",
   "execution_count": 13,
   "metadata": {},
   "outputs": [],
   "source": [
    "# defining class labels i.e target variable\n",
    "\n",
    "sent_labels = array([1,1,1,0,0,0])  # here 1 means question type statements. 0 means answer type statements. "
   ]
  },
  {
   "cell_type": "code",
   "execution_count": 5,
   "metadata": {},
   "outputs": [
    {
     "name": "stdout",
     "output_type": "stream",
     "text": [
      "[[26, 11, 4, 20], [11, 4, 20], [11, 4, 20, 23], [26, 21, 23, 3], [26, 21, 23, 26], [26, 21, 26]]\n"
     ]
    }
   ],
   "source": [
    "# integer encoding of the documents\n",
    "\n",
    "my_vocab_size = 30\n",
    "\n",
    "encoded_sent = [one_hot(i, my_vocab_size) for i in Sent]\n",
    "\n",
    "print(encoded_sent)"
   ]
  },
  {
   "cell_type": "code",
   "execution_count": 6,
   "metadata": {},
   "outputs": [
    {
     "name": "stdout",
     "output_type": "stream",
     "text": [
      "[[ 0 26 11  4 20]\n",
      " [ 0  0 11  4 20]\n",
      " [ 0 11  4 20 23]\n",
      " [ 0 26 21 23  3]\n",
      " [ 0 26 21 23 26]\n",
      " [ 0  0 26 21 26]]\n"
     ]
    }
   ],
   "source": [
    "# padding documents to a max length =5 . Padding is performed to make all arrays of same size. \n",
    "\n",
    "length = 5\n",
    "\n",
    "padded_sent = pad_sequences(encoded_sent, maxlen=length, padding='pre') # 'pre' means pad the 0 in the beginning.\n",
    "\n",
    "print(padded_sent)"
   ]
  },
  {
   "cell_type": "code",
   "execution_count": 8,
   "metadata": {},
   "outputs": [],
   "source": [
    "# defining the model\n",
    "\n",
    "mymodel = Sequential()\n",
    "\n",
    "mymodel.add(Embedding(my_vocab_size, 8, input_length=length))\n",
    "\n",
    "mymodel.add(Flatten())\n",
    "\n",
    "mymodel.add(Dense(1, activation='sigmoid'))"
   ]
  },
  {
   "cell_type": "code",
   "execution_count": 9,
   "metadata": {},
   "outputs": [],
   "source": [
    "# compiling the model\n",
    "\n",
    "mymodel.compile(optimizer='adam', loss='binary_crossentropy', metrics=['accuracy'])"
   ]
  },
  {
   "cell_type": "code",
   "execution_count": 25,
   "metadata": {},
   "outputs": [
    {
     "name": "stdout",
     "output_type": "stream",
     "text": [
      "Epoch 1/25\n",
      "1/1 [==============================] - 0s 3ms/step - loss: 0.6371 - accuracy: 1.0000\n",
      "Epoch 2/25\n",
      "1/1 [==============================] - 0s 2ms/step - loss: 0.6348 - accuracy: 1.0000\n",
      "Epoch 3/25\n",
      "1/1 [==============================] - 0s 2ms/step - loss: 0.6326 - accuracy: 1.0000\n",
      "Epoch 4/25\n",
      "1/1 [==============================] - 0s 3ms/step - loss: 0.6303 - accuracy: 1.0000\n",
      "Epoch 5/25\n",
      "1/1 [==============================] - 0s 3ms/step - loss: 0.6279 - accuracy: 1.0000\n",
      "Epoch 6/25\n",
      "1/1 [==============================] - 0s 2ms/step - loss: 0.6256 - accuracy: 1.0000\n",
      "Epoch 7/25\n",
      "1/1 [==============================] - 0s 3ms/step - loss: 0.6233 - accuracy: 1.0000\n",
      "Epoch 8/25\n",
      "1/1 [==============================] - 0s 4ms/step - loss: 0.6209 - accuracy: 1.0000\n",
      "Epoch 9/25\n",
      "1/1 [==============================] - 0s 3ms/step - loss: 0.6186 - accuracy: 1.0000\n",
      "Epoch 10/25\n",
      "1/1 [==============================] - 0s 3ms/step - loss: 0.6162 - accuracy: 1.0000\n",
      "Epoch 11/25\n",
      "1/1 [==============================] - 0s 2ms/step - loss: 0.6138 - accuracy: 1.0000\n",
      "Epoch 12/25\n",
      "1/1 [==============================] - 0s 6ms/step - loss: 0.6113 - accuracy: 1.0000\n",
      "Epoch 13/25\n",
      "1/1 [==============================] - 0s 4ms/step - loss: 0.6089 - accuracy: 1.0000\n",
      "Epoch 14/25\n",
      "1/1 [==============================] - 0s 4ms/step - loss: 0.6064 - accuracy: 1.0000\n",
      "Epoch 15/25\n",
      "1/1 [==============================] - 0s 3ms/step - loss: 0.6040 - accuracy: 1.0000\n",
      "Epoch 16/25\n",
      "1/1 [==============================] - 0s 3ms/step - loss: 0.6015 - accuracy: 1.0000\n",
      "Epoch 17/25\n",
      "1/1 [==============================] - 0s 4ms/step - loss: 0.5990 - accuracy: 1.0000\n",
      "Epoch 18/25\n",
      "1/1 [==============================] - 0s 3ms/step - loss: 0.5964 - accuracy: 1.0000\n",
      "Epoch 19/25\n",
      "1/1 [==============================] - 0s 4ms/step - loss: 0.5939 - accuracy: 1.0000\n",
      "Epoch 20/25\n",
      "1/1 [==============================] - 0s 3ms/step - loss: 0.5913 - accuracy: 1.0000\n",
      "Epoch 21/25\n",
      "1/1 [==============================] - 0s 2ms/step - loss: 0.5887 - accuracy: 1.0000\n",
      "Epoch 22/25\n",
      "1/1 [==============================] - 0s 3ms/step - loss: 0.5861 - accuracy: 1.0000\n",
      "Epoch 23/25\n",
      "1/1 [==============================] - 0s 2ms/step - loss: 0.5835 - accuracy: 1.0000\n",
      "Epoch 24/25\n",
      "1/1 [==============================] - 0s 3ms/step - loss: 0.5809 - accuracy: 1.0000\n",
      "Epoch 25/25\n",
      "1/1 [==============================] - 0s 2ms/step - loss: 0.5782 - accuracy: 1.0000\n"
     ]
    },
    {
     "data": {
      "text/plain": [
       "<tensorflow.python.keras.callbacks.History at 0x7fb2f0883520>"
      ]
     },
     "execution_count": 25,
     "metadata": {},
     "output_type": "execute_result"
    }
   ],
   "source": [
    "# fiting  the model\n",
    "\n",
    "mymodel.fit(padded_sent, sent_labels, epochs=25)"
   ]
  },
  {
   "cell_type": "code",
   "execution_count": 26,
   "metadata": {},
   "outputs": [
    {
     "name": "stdout",
     "output_type": "stream",
     "text": [
      "Accuracy: 100.000000\n"
     ]
    }
   ],
   "source": [
    "# evaluate the model\n",
    "\n",
    "modelloss, modelaccuracy = mymodel.evaluate(padded_sent, sent_labels, verbose=0)\n",
    "\n",
    "print('Accuracy: %f' % (modelaccuracy*100))"
   ]
  },
  {
   "cell_type": "code",
   "execution_count": 27,
   "metadata": {},
   "outputs": [],
   "source": [
    "# since we have less data we got accuract as 1. "
   ]
  },
  {
   "cell_type": "markdown",
   "metadata": {},
   "source": [
    "### Prediction"
   ]
  },
  {
   "cell_type": "code",
   "execution_count": 28,
   "metadata": {},
   "outputs": [],
   "source": [
    "mysent_to_predict = ['how are you Suman',\n",
    "        'I am good']\n",
    "\n",
    "# we have created one as question and one sentence as answer. "
   ]
  },
  {
   "cell_type": "code",
   "execution_count": 29,
   "metadata": {},
   "outputs": [
    {
     "name": "stdout",
     "output_type": "stream",
     "text": [
      "[[11, 4, 20, 27], [26, 21, 26]]\n"
     ]
    }
   ],
   "source": [
    "# integer encode the documents\n",
    "\n",
    "vocab_size = 30\n",
    "\n",
    "encoded = [one_hot(d, vocab_size) for d in mysent_to_predict]\n",
    "\n",
    "print(encoded)"
   ]
  },
  {
   "cell_type": "code",
   "execution_count": 30,
   "metadata": {},
   "outputs": [
    {
     "name": "stdout",
     "output_type": "stream",
     "text": [
      "[[ 0 11  4 20 27]\n",
      " [ 0  0 26 21 26]]\n"
     ]
    }
   ],
   "source": [
    "# pad documents to a max length of 5 words\n",
    "\n",
    "max_length = 5\n",
    "\n",
    "mypadded = pad_sequences(encoded, maxlen=max_length, padding='pre')\n",
    "\n",
    "print(mypadded)"
   ]
  },
  {
   "cell_type": "code",
   "execution_count": 32,
   "metadata": {},
   "outputs": [
    {
     "data": {
      "text/plain": [
       "array([[1],\n",
       "       [0]], dtype=int32)"
      ]
     },
     "execution_count": 32,
     "metadata": {},
     "output_type": "execute_result"
    }
   ],
   "source": [
    "mymodel.predict_classes(mypadded)  "
   ]
  },
  {
   "cell_type": "code",
   "execution_count": null,
   "metadata": {},
   "outputs": [],
   "source": [
    "# we can see that model has predicted correctly. Class 1 means question, Class 0 means answer. "
   ]
  },
  {
   "cell_type": "code",
   "execution_count": null,
   "metadata": {},
   "outputs": [],
   "source": [
    "# when we trained the model with epoch = 30 , it gave wrong prediction, then after reducing epoch to 25 it correctly\n",
    "# predicted. So some times we need to increase or decrease the epoch and train again. "
   ]
  }
 ],
 "metadata": {
  "kernelspec": {
   "display_name": "Python 3",
   "language": "python",
   "name": "python3"
  },
  "language_info": {
   "codemirror_mode": {
    "name": "ipython",
    "version": 3
   },
   "file_extension": ".py",
   "mimetype": "text/x-python",
   "name": "python",
   "nbconvert_exporter": "python",
   "pygments_lexer": "ipython3",
   "version": "3.8.3"
  }
 },
 "nbformat": 4,
 "nbformat_minor": 4
}
