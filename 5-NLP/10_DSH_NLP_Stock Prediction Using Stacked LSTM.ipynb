{
 "cells": [
  {
   "cell_type": "markdown",
   "metadata": {},
   "source": [
    "### Stock Market Prediction And Forecasting Using Stacked LSTM"
   ]
  },
  {
   "cell_type": "markdown",
   "metadata": {},
   "source": [
    "Source\" https://www.youtube.com/watch?v=H6du_pfuznE&list=PLZoTAELRMXVMdJ5sqbCK2LiM0HhQVWNzm&index=23"
   ]
  },
  {
   "cell_type": "code",
   "execution_count": null,
   "metadata": {},
   "outputs": [],
   "source": [
    "### Keras and Tensorflow >2.0"
   ]
  },
  {
   "cell_type": "code",
   "execution_count": 2,
   "metadata": {},
   "outputs": [
    {
     "name": "stdout",
     "output_type": "stream",
     "text": [
      "Collecting pandas-datareader\n",
      "  Downloading pandas_datareader-0.9.0-py3-none-any.whl (107 kB)\n",
      "\u001b[K     |████████████████████████████████| 107 kB 5.2 MB/s eta 0:00:01\n",
      "\u001b[?25hRequirement already satisfied: requests>=2.19.0 in /Users/yogesh/opt/anaconda3/lib/python3.8/site-packages (from pandas-datareader) (2.24.0)\n",
      "Requirement already satisfied: lxml in /Users/yogesh/opt/anaconda3/lib/python3.8/site-packages (from pandas-datareader) (4.5.2)\n",
      "Requirement already satisfied: pandas>=0.23 in /Users/yogesh/opt/anaconda3/lib/python3.8/site-packages (from pandas-datareader) (1.0.5)\n",
      "Requirement already satisfied: numpy>=1.13.3 in /Users/yogesh/opt/anaconda3/lib/python3.8/site-packages (from pandas>=0.23->pandas-datareader) (1.19.4)\n",
      "Requirement already satisfied: python-dateutil>=2.6.1 in /Users/yogesh/opt/anaconda3/lib/python3.8/site-packages (from pandas>=0.23->pandas-datareader) (2.8.1)\n",
      "Requirement already satisfied: pytz>=2017.2 in /Users/yogesh/opt/anaconda3/lib/python3.8/site-packages (from pandas>=0.23->pandas-datareader) (2020.1)\n",
      "Requirement already satisfied: six>=1.5 in /Users/yogesh/opt/anaconda3/lib/python3.8/site-packages (from python-dateutil>=2.6.1->pandas>=0.23->pandas-datareader) (1.15.0)\n",
      "Requirement already satisfied: certifi>=2017.4.17 in /Users/yogesh/opt/anaconda3/lib/python3.8/site-packages (from requests>=2.19.0->pandas-datareader) (2020.6.20)\n",
      "Requirement already satisfied: chardet<4,>=3.0.2 in /Users/yogesh/opt/anaconda3/lib/python3.8/site-packages (from requests>=2.19.0->pandas-datareader) (3.0.4)\n",
      "Requirement already satisfied: idna<3,>=2.5 in /Users/yogesh/opt/anaconda3/lib/python3.8/site-packages (from requests>=2.19.0->pandas-datareader) (2.10)\n",
      "Requirement already satisfied: urllib3!=1.25.0,!=1.25.1,<1.26,>=1.21.1 in /Users/yogesh/opt/anaconda3/lib/python3.8/site-packages (from requests>=2.19.0->pandas-datareader) (1.25.9)\n",
      "Installing collected packages: pandas-datareader\n",
      "Successfully installed pandas-datareader-0.9.0\n",
      "Note: you may need to restart the kernel to use updated packages.\n"
     ]
    }
   ],
   "source": [
    "pip install pandas-datareader"
   ]
  },
  {
   "cell_type": "code",
   "execution_count": 3,
   "metadata": {},
   "outputs": [],
   "source": [
    "### Data Collection\n",
    "import pandas_datareader as pdr\n",
    "key=\"1a95f2ec83e5bcefd4bb19a6a838311d9cf4eebd\""
   ]
  },
  {
   "cell_type": "code",
   "execution_count": 4,
   "metadata": {},
   "outputs": [],
   "source": [
    "df = pdr.get_data_tiingo('AAPL', api_key=key)"
   ]
  },
  {
   "cell_type": "code",
   "execution_count": 5,
   "metadata": {},
   "outputs": [],
   "source": [
    "df.to_csv('AAPL.csv')"
   ]
  },
  {
   "cell_type": "code",
   "execution_count": 6,
   "metadata": {},
   "outputs": [],
   "source": [
    "import pandas as pd"
   ]
  },
  {
   "cell_type": "code",
   "execution_count": 7,
   "metadata": {},
   "outputs": [],
   "source": [
    "df=pd.read_csv('AAPL.csv')"
   ]
  },
  {
   "cell_type": "code",
   "execution_count": 8,
   "metadata": {},
   "outputs": [
    {
     "data": {
      "text/html": [
       "<div>\n",
       "<style scoped>\n",
       "    .dataframe tbody tr th:only-of-type {\n",
       "        vertical-align: middle;\n",
       "    }\n",
       "\n",
       "    .dataframe tbody tr th {\n",
       "        vertical-align: top;\n",
       "    }\n",
       "\n",
       "    .dataframe thead th {\n",
       "        text-align: right;\n",
       "    }\n",
       "</style>\n",
       "<table border=\"1\" class=\"dataframe\">\n",
       "  <thead>\n",
       "    <tr style=\"text-align: right;\">\n",
       "      <th></th>\n",
       "      <th>symbol</th>\n",
       "      <th>date</th>\n",
       "      <th>close</th>\n",
       "      <th>high</th>\n",
       "      <th>low</th>\n",
       "      <th>open</th>\n",
       "      <th>volume</th>\n",
       "      <th>adjClose</th>\n",
       "      <th>adjHigh</th>\n",
       "      <th>adjLow</th>\n",
       "      <th>adjOpen</th>\n",
       "      <th>adjVolume</th>\n",
       "      <th>divCash</th>\n",
       "      <th>splitFactor</th>\n",
       "    </tr>\n",
       "  </thead>\n",
       "  <tbody>\n",
       "    <tr>\n",
       "      <th>0</th>\n",
       "      <td>AAPL</td>\n",
       "      <td>2016-01-04 00:00:00+00:00</td>\n",
       "      <td>105.35</td>\n",
       "      <td>105.368</td>\n",
       "      <td>102.00</td>\n",
       "      <td>102.61</td>\n",
       "      <td>67649387</td>\n",
       "      <td>24.397857</td>\n",
       "      <td>24.402026</td>\n",
       "      <td>23.622035</td>\n",
       "      <td>23.763304</td>\n",
       "      <td>270597548</td>\n",
       "      <td>0.0</td>\n",
       "      <td>1.0</td>\n",
       "    </tr>\n",
       "    <tr>\n",
       "      <th>1</th>\n",
       "      <td>AAPL</td>\n",
       "      <td>2016-01-05 00:00:00+00:00</td>\n",
       "      <td>102.71</td>\n",
       "      <td>105.850</td>\n",
       "      <td>102.41</td>\n",
       "      <td>105.75</td>\n",
       "      <td>55790992</td>\n",
       "      <td>23.786463</td>\n",
       "      <td>24.513651</td>\n",
       "      <td>23.716987</td>\n",
       "      <td>24.490493</td>\n",
       "      <td>223163968</td>\n",
       "      <td>0.0</td>\n",
       "      <td>1.0</td>\n",
       "    </tr>\n",
       "    <tr>\n",
       "      <th>2</th>\n",
       "      <td>AAPL</td>\n",
       "      <td>2016-01-06 00:00:00+00:00</td>\n",
       "      <td>100.70</td>\n",
       "      <td>102.370</td>\n",
       "      <td>99.87</td>\n",
       "      <td>100.56</td>\n",
       "      <td>68457388</td>\n",
       "      <td>23.320970</td>\n",
       "      <td>23.707723</td>\n",
       "      <td>23.128752</td>\n",
       "      <td>23.288548</td>\n",
       "      <td>273829552</td>\n",
       "      <td>0.0</td>\n",
       "      <td>1.0</td>\n",
       "    </tr>\n",
       "    <tr>\n",
       "      <th>3</th>\n",
       "      <td>AAPL</td>\n",
       "      <td>2016-01-07 00:00:00+00:00</td>\n",
       "      <td>96.45</td>\n",
       "      <td>100.130</td>\n",
       "      <td>96.43</td>\n",
       "      <td>98.68</td>\n",
       "      <td>81094428</td>\n",
       "      <td>22.336719</td>\n",
       "      <td>23.188965</td>\n",
       "      <td>22.332087</td>\n",
       "      <td>22.853161</td>\n",
       "      <td>324377712</td>\n",
       "      <td>0.0</td>\n",
       "      <td>1.0</td>\n",
       "    </tr>\n",
       "    <tr>\n",
       "      <th>4</th>\n",
       "      <td>AAPL</td>\n",
       "      <td>2016-01-08 00:00:00+00:00</td>\n",
       "      <td>96.96</td>\n",
       "      <td>99.110</td>\n",
       "      <td>96.76</td>\n",
       "      <td>98.55</td>\n",
       "      <td>70798016</td>\n",
       "      <td>22.454829</td>\n",
       "      <td>22.952744</td>\n",
       "      <td>22.408511</td>\n",
       "      <td>22.823055</td>\n",
       "      <td>283192064</td>\n",
       "      <td>0.0</td>\n",
       "      <td>1.0</td>\n",
       "    </tr>\n",
       "  </tbody>\n",
       "</table>\n",
       "</div>"
      ],
      "text/plain": [
       "  symbol                       date   close     high     low    open  \\\n",
       "0   AAPL  2016-01-04 00:00:00+00:00  105.35  105.368  102.00  102.61   \n",
       "1   AAPL  2016-01-05 00:00:00+00:00  102.71  105.850  102.41  105.75   \n",
       "2   AAPL  2016-01-06 00:00:00+00:00  100.70  102.370   99.87  100.56   \n",
       "3   AAPL  2016-01-07 00:00:00+00:00   96.45  100.130   96.43   98.68   \n",
       "4   AAPL  2016-01-08 00:00:00+00:00   96.96   99.110   96.76   98.55   \n",
       "\n",
       "     volume   adjClose    adjHigh     adjLow    adjOpen  adjVolume  divCash  \\\n",
       "0  67649387  24.397857  24.402026  23.622035  23.763304  270597548      0.0   \n",
       "1  55790992  23.786463  24.513651  23.716987  24.490493  223163968      0.0   \n",
       "2  68457388  23.320970  23.707723  23.128752  23.288548  273829552      0.0   \n",
       "3  81094428  22.336719  23.188965  22.332087  22.853161  324377712      0.0   \n",
       "4  70798016  22.454829  22.952744  22.408511  22.823055  283192064      0.0   \n",
       "\n",
       "   splitFactor  \n",
       "0          1.0  \n",
       "1          1.0  \n",
       "2          1.0  \n",
       "3          1.0  \n",
       "4          1.0  "
      ]
     },
     "execution_count": 8,
     "metadata": {},
     "output_type": "execute_result"
    }
   ],
   "source": [
    "df.head()"
   ]
  },
  {
   "cell_type": "code",
   "execution_count": 9,
   "metadata": {},
   "outputs": [
    {
     "data": {
      "text/html": [
       "<div>\n",
       "<style scoped>\n",
       "    .dataframe tbody tr th:only-of-type {\n",
       "        vertical-align: middle;\n",
       "    }\n",
       "\n",
       "    .dataframe tbody tr th {\n",
       "        vertical-align: top;\n",
       "    }\n",
       "\n",
       "    .dataframe thead th {\n",
       "        text-align: right;\n",
       "    }\n",
       "</style>\n",
       "<table border=\"1\" class=\"dataframe\">\n",
       "  <thead>\n",
       "    <tr style=\"text-align: right;\">\n",
       "      <th></th>\n",
       "      <th>symbol</th>\n",
       "      <th>date</th>\n",
       "      <th>close</th>\n",
       "      <th>high</th>\n",
       "      <th>low</th>\n",
       "      <th>open</th>\n",
       "      <th>volume</th>\n",
       "      <th>adjClose</th>\n",
       "      <th>adjHigh</th>\n",
       "      <th>adjLow</th>\n",
       "      <th>adjOpen</th>\n",
       "      <th>adjVolume</th>\n",
       "      <th>divCash</th>\n",
       "      <th>splitFactor</th>\n",
       "    </tr>\n",
       "  </thead>\n",
       "  <tbody>\n",
       "    <tr>\n",
       "      <th>1252</th>\n",
       "      <td>AAPL</td>\n",
       "      <td>2020-12-22 00:00:00+00:00</td>\n",
       "      <td>131.88</td>\n",
       "      <td>134.405</td>\n",
       "      <td>129.6500</td>\n",
       "      <td>131.61</td>\n",
       "      <td>169351825</td>\n",
       "      <td>131.88</td>\n",
       "      <td>134.405</td>\n",
       "      <td>129.6500</td>\n",
       "      <td>131.61</td>\n",
       "      <td>169351825</td>\n",
       "      <td>0.0</td>\n",
       "      <td>1.0</td>\n",
       "    </tr>\n",
       "    <tr>\n",
       "      <th>1253</th>\n",
       "      <td>AAPL</td>\n",
       "      <td>2020-12-23 00:00:00+00:00</td>\n",
       "      <td>130.96</td>\n",
       "      <td>132.430</td>\n",
       "      <td>130.7800</td>\n",
       "      <td>132.16</td>\n",
       "      <td>88223692</td>\n",
       "      <td>130.96</td>\n",
       "      <td>132.430</td>\n",
       "      <td>130.7800</td>\n",
       "      <td>132.16</td>\n",
       "      <td>88223692</td>\n",
       "      <td>0.0</td>\n",
       "      <td>1.0</td>\n",
       "    </tr>\n",
       "    <tr>\n",
       "      <th>1254</th>\n",
       "      <td>AAPL</td>\n",
       "      <td>2020-12-24 00:00:00+00:00</td>\n",
       "      <td>131.97</td>\n",
       "      <td>133.460</td>\n",
       "      <td>131.1000</td>\n",
       "      <td>131.32</td>\n",
       "      <td>54930064</td>\n",
       "      <td>131.97</td>\n",
       "      <td>133.460</td>\n",
       "      <td>131.1000</td>\n",
       "      <td>131.32</td>\n",
       "      <td>54930064</td>\n",
       "      <td>0.0</td>\n",
       "      <td>1.0</td>\n",
       "    </tr>\n",
       "    <tr>\n",
       "      <th>1255</th>\n",
       "      <td>AAPL</td>\n",
       "      <td>2020-12-28 00:00:00+00:00</td>\n",
       "      <td>136.69</td>\n",
       "      <td>137.340</td>\n",
       "      <td>133.5100</td>\n",
       "      <td>133.99</td>\n",
       "      <td>123124632</td>\n",
       "      <td>136.69</td>\n",
       "      <td>137.340</td>\n",
       "      <td>133.5100</td>\n",
       "      <td>133.99</td>\n",
       "      <td>123124632</td>\n",
       "      <td>0.0</td>\n",
       "      <td>1.0</td>\n",
       "    </tr>\n",
       "    <tr>\n",
       "      <th>1256</th>\n",
       "      <td>AAPL</td>\n",
       "      <td>2020-12-29 00:00:00+00:00</td>\n",
       "      <td>134.87</td>\n",
       "      <td>138.789</td>\n",
       "      <td>134.3409</td>\n",
       "      <td>138.05</td>\n",
       "      <td>121047324</td>\n",
       "      <td>134.87</td>\n",
       "      <td>138.789</td>\n",
       "      <td>134.3409</td>\n",
       "      <td>138.05</td>\n",
       "      <td>121047324</td>\n",
       "      <td>0.0</td>\n",
       "      <td>1.0</td>\n",
       "    </tr>\n",
       "  </tbody>\n",
       "</table>\n",
       "</div>"
      ],
      "text/plain": [
       "     symbol                       date   close     high       low    open  \\\n",
       "1252   AAPL  2020-12-22 00:00:00+00:00  131.88  134.405  129.6500  131.61   \n",
       "1253   AAPL  2020-12-23 00:00:00+00:00  130.96  132.430  130.7800  132.16   \n",
       "1254   AAPL  2020-12-24 00:00:00+00:00  131.97  133.460  131.1000  131.32   \n",
       "1255   AAPL  2020-12-28 00:00:00+00:00  136.69  137.340  133.5100  133.99   \n",
       "1256   AAPL  2020-12-29 00:00:00+00:00  134.87  138.789  134.3409  138.05   \n",
       "\n",
       "         volume  adjClose  adjHigh    adjLow  adjOpen  adjVolume  divCash  \\\n",
       "1252  169351825    131.88  134.405  129.6500   131.61  169351825      0.0   \n",
       "1253   88223692    130.96  132.430  130.7800   132.16   88223692      0.0   \n",
       "1254   54930064    131.97  133.460  131.1000   131.32   54930064      0.0   \n",
       "1255  123124632    136.69  137.340  133.5100   133.99  123124632      0.0   \n",
       "1256  121047324    134.87  138.789  134.3409   138.05  121047324      0.0   \n",
       "\n",
       "      splitFactor  \n",
       "1252          1.0  \n",
       "1253          1.0  \n",
       "1254          1.0  \n",
       "1255          1.0  \n",
       "1256          1.0  "
      ]
     },
     "execution_count": 9,
     "metadata": {},
     "output_type": "execute_result"
    }
   ],
   "source": [
    "df.tail()"
   ]
  },
  {
   "cell_type": "code",
   "execution_count": 22,
   "metadata": {},
   "outputs": [],
   "source": [
    "df1=df.reset_index()['close']"
   ]
  },
  {
   "cell_type": "code",
   "execution_count": 23,
   "metadata": {},
   "outputs": [
    {
     "data": {
      "text/plain": [
       "0       105.35\n",
       "1       102.71\n",
       "2       100.70\n",
       "3        96.45\n",
       "4        96.96\n",
       "         ...  \n",
       "1252    131.88\n",
       "1253    130.96\n",
       "1254    131.97\n",
       "1255    136.69\n",
       "1256    134.87\n",
       "Name: close, Length: 1257, dtype: float64"
      ]
     },
     "execution_count": 23,
     "metadata": {},
     "output_type": "execute_result"
    }
   ],
   "source": [
    "df1"
   ]
  },
  {
   "cell_type": "code",
   "execution_count": 24,
   "metadata": {},
   "outputs": [
    {
     "data": {
      "text/plain": [
       "[<matplotlib.lines.Line2D at 0x7fd0d6f8fc40>]"
      ]
     },
     "execution_count": 24,
     "metadata": {},
     "output_type": "execute_result"
    },
    {
     "data": {
      "image/png": "[encoded data removed]",
      "text/plain": [
       "<Figure size 432x288 with 1 Axes>"
      ]
     },
     "metadata": {
      "needs_background": "light"
     },
     "output_type": "display_data"
    }
   ],
   "source": [
    "import matplotlib.pyplot as plt\n",
    "plt.plot(df1)"
   ]
  },
  {
   "cell_type": "code",
   "execution_count": 25,
   "metadata": {},
   "outputs": [],
   "source": [
    "### LSTM are sensitive to the scale of the data. so we apply MinMax scaler "
   ]
  },
  {
   "cell_type": "code",
   "execution_count": 26,
   "metadata": {},
   "outputs": [],
   "source": [
    "import numpy as np"
   ]
  },
  {
   "cell_type": "code",
   "execution_count": 27,
   "metadata": {},
   "outputs": [
    {
     "data": {
      "text/plain": [
       "0       105.35\n",
       "1       102.71\n",
       "2       100.70\n",
       "3        96.45\n",
       "4        96.96\n",
       "         ...  \n",
       "1252    131.88\n",
       "1253    130.96\n",
       "1254    131.97\n",
       "1255    136.69\n",
       "1256    134.87\n",
       "Name: close, Length: 1257, dtype: float64"
      ]
     },
     "execution_count": 27,
     "metadata": {},
     "output_type": "execute_result"
    }
   ],
   "source": [
    "df1"
   ]
  },
  {
   "cell_type": "code",
   "execution_count": 30,
   "metadata": {},
   "outputs": [],
   "source": [
    "from sklearn.preprocessing import MinMaxScaler\n",
    "scaler=MinMaxScaler(feature_range=(0,1))\n",
    "df1=scaler.fit_transform(np.array(df1).reshape(-1,1))"
   ]
  },
  {
   "cell_type": "code",
   "execution_count": 28,
   "metadata": {},
   "outputs": [
    {
     "data": {
      "text/plain": [
       "array([105.35, 102.71, 100.7 , ..., 131.97, 136.69, 134.87])"
      ]
     },
     "execution_count": 28,
     "metadata": {},
     "output_type": "execute_result"
    }
   ],
   "source": [
    "np.array(df1)  # stored as rows"
   ]
  },
  {
   "cell_type": "code",
   "execution_count": 29,
   "metadata": {},
   "outputs": [
    {
     "data": {
      "text/plain": [
       "array([[105.35],\n",
       "       [102.71],\n",
       "       [100.7 ],\n",
       "       ...,\n",
       "       [131.97],\n",
       "       [136.69],\n",
       "       [134.87]])"
      ]
     },
     "execution_count": 29,
     "metadata": {},
     "output_type": "execute_result"
    }
   ],
   "source": [
    "np.array(df1).reshape(-1,1)  #reshape is applied to convert into columns"
   ]
  },
  {
   "cell_type": "code",
   "execution_count": 31,
   "metadata": {},
   "outputs": [
    {
     "name": "stdout",
     "output_type": "stream",
     "text": [
      "[[0.03610343]\n",
      " [0.02975346]\n",
      " [0.02491882]\n",
      " ...\n",
      " [0.10013229]\n",
      " [0.11148527]\n",
      " [0.10710764]]\n"
     ]
    }
   ],
   "source": [
    "print(df1)   # values are between 0 and 1"
   ]
  },
  {
   "cell_type": "code",
   "execution_count": 35,
   "metadata": {},
   "outputs": [],
   "source": [
    "##splitting dataset into train and test split\n",
    "# For timeseries data (like stock price) the train, test split should happen in order since the next day market price\n",
    "#depends on previous days or months market price. Hence we should not do it randomy and we should do it ourself\n",
    "#like below. \n",
    "\n",
    "training_size=int(len(df1)*0.65) # first 65% data is train data. Row Index will select the records in order only. \n",
    "\n",
    "test_size=len(df1)-training_size\n",
    "\n",
    "train_data,test_data=df1[0:training_size,:],df1[training_size:len(df1),:1]"
   ]
  },
  {
   "cell_type": "code",
   "execution_count": 37,
   "metadata": {},
   "outputs": [
    {
     "data": {
      "text/plain": [
       "(817, 440)"
      ]
     },
     "execution_count": 37,
     "metadata": {},
     "output_type": "execute_result"
    }
   ],
   "source": [
    "training_size,test_size"
   ]
  },
  {
   "cell_type": "code",
   "execution_count": 34,
   "metadata": {},
   "outputs": [
    {
     "data": {
      "text/plain": [
       "array([[0.03610343],\n",
       "       [0.02975346],\n",
       "       [0.02491882],\n",
       "       [0.01469633],\n",
       "       [0.01592303],\n",
       "       [0.01969934],\n",
       "       [0.02313891],\n",
       "       [0.01695731],\n",
       "       [0.02208058],\n",
       "       [0.01633193],\n",
       "       [0.01520144],\n",
       "       [0.01551413],\n",
       "       [0.01433554],\n",
       "       [0.02665063],\n",
       "       [0.02188815],\n",
       "       [0.02321106],\n",
       "       [0.0074083 ],\n",
       "       [0.00901984],\n",
       "       [0.01683704],\n",
       "       [0.01464823],\n",
       "       [0.00995791],\n",
       "       [0.0144558 ],\n",
       "       [0.01505713],\n",
       "       [0.00885147],\n",
       "       [0.01123271],\n",
       "       [0.01118461],\n",
       "       [0.0094528 ],\n",
       "       [0.00808178],\n",
       "       [0.00877931],\n",
       "       [0.01515334],\n",
       "       [0.01871317],\n",
       "       [0.01423933],\n",
       "       [0.01371016],\n",
       "       [0.01573061],\n",
       "       [0.01046302],\n",
       "       [0.01385448],\n",
       "       [0.01544197],\n",
       "       [0.01580277],\n",
       "       [0.0152736 ],\n",
       "       [0.02450992],\n",
       "       [0.02503909],\n",
       "       [0.02684305],\n",
       "       [0.03047505],\n",
       "       [0.02773301],\n",
       "       [0.02571257],\n",
       "       [0.02592904],\n",
       "       [0.02604931],\n",
       "       [0.02867108],\n",
       "       [0.02929645],\n",
       "       [0.03425135],\n",
       "       [0.03759471],\n",
       "       [0.03718581],\n",
       "       [0.03747444],\n",
       "       [0.03745039],\n",
       "       [0.03939868],\n",
       "       [0.03797956],\n",
       "       [0.03687312],\n",
       "       [0.03571858],\n",
       "       [0.04170776],\n",
       "       [0.04622971],\n",
       "       [0.04485869],\n",
       "       [0.04726398],\n",
       "       [0.04998196],\n",
       "       [0.04683103],\n",
       "       [0.04959711],\n",
       "       [0.04377631],\n",
       "       [0.04406494],\n",
       "       [0.04493085],\n",
       "       [0.04834636],\n",
       "       [0.05219483],\n",
       "       [0.05233915],\n",
       "       [0.04692724],\n",
       "       [0.0412267 ],\n",
       "       [0.03985568],\n",
       "       [0.04038485],\n",
       "       [0.03759471],\n",
       "       [0.03689717],\n",
       "       [0.035454  ],\n",
       "       [0.03369814],\n",
       "       [0.01799158],\n",
       "       [0.01079976],\n",
       "       [0.00817799],\n",
       "       [0.00793746],\n",
       "       [0.01164161],\n",
       "       [0.00926037],\n",
       "       [0.00697535],\n",
       "       [0.00572459],\n",
       "       [0.00589296],\n",
       "       [0.0074083 ],\n",
       "       [0.00521948],\n",
       "       [0.        ],\n",
       "       [0.00043295],\n",
       "       [0.00851473],\n",
       "       [0.00757667],\n",
       "       [0.01015033],\n",
       "       [0.00928443],\n",
       "       [0.01173782],\n",
       "       [0.01464823],\n",
       "       [0.018184  ],\n",
       "       [0.02232111],\n",
       "       [0.02422129],\n",
       "       [0.02407697],\n",
       "       [0.02289838],\n",
       "       [0.01953097],\n",
       "       [0.01775105],\n",
       "       [0.01823211],\n",
       "       [0.01993987],\n",
       "       [0.02090198],\n",
       "       [0.02068551],\n",
       "       [0.02239327],\n",
       "       [0.02042093],\n",
       "       [0.01683704],\n",
       "       [0.01712568],\n",
       "       [0.01635598],\n",
       "       [0.01734215],\n",
       "       [0.01200241],\n",
       "       [0.01144919],\n",
       "       [0.01339747],\n",
       "       [0.01253157],\n",
       "       [0.01385448],\n",
       "       [0.00736019],\n",
       "       [0.004089  ],\n",
       "       [0.0078172 ],\n",
       "       [0.00976548],\n",
       "       [0.01265183],\n",
       "       [0.01334937],\n",
       "       [0.01118461],\n",
       "       [0.01248346],\n",
       "       [0.01346963],\n",
       "       [0.01524955],\n",
       "       [0.01597114],\n",
       "       [0.01702946],\n",
       "       [0.01570655],\n",
       "       [0.02032471],\n",
       "       [0.02030066],\n",
       "       [0.02282622],\n",
       "       [0.02292243],\n",
       "       [0.02313891],\n",
       "       [0.0218641 ],\n",
       "       [0.02001203],\n",
       "       [0.01683704],\n",
       "       [0.0152255 ],\n",
       "       [0.03033073],\n",
       "       [0.03367408],\n",
       "       [0.0333614 ],\n",
       "       [0.03778713],\n",
       "       [0.03401082],\n",
       "       [0.03716176],\n",
       "       [0.03735418],\n",
       "       [0.0412267 ],\n",
       "       [0.04336741],\n",
       "       [0.04442574],\n",
       "       [0.04247745],\n",
       "       [0.04230908],\n",
       "       [0.0429104 ],\n",
       "       [0.04603728],\n",
       "       [0.04579675],\n",
       "       [0.04541191],\n",
       "       [0.04507517],\n",
       "       [0.04574865],\n",
       "       [0.04370415],\n",
       "       [0.04452195],\n",
       "       [0.04254961],\n",
       "       [0.04144317],\n",
       "       [0.03992784],\n",
       "       [0.03963921],\n",
       "       [0.03766687],\n",
       "       [0.0379074 ],\n",
       "       [0.03942273],\n",
       "       [0.04182802],\n",
       "       [0.04175586],\n",
       "       [0.04334336],\n",
       "       [0.03651233],\n",
       "       [0.03076368],\n",
       "       [0.0363199 ],\n",
       "       [0.04235719],\n",
       "       [0.0515454 ],\n",
       "       [0.06068551],\n",
       "       [0.05912207],\n",
       "       [0.05589898],\n",
       "       [0.05587492],\n",
       "       [0.05582682],\n",
       "       [0.05840048],\n",
       "       [0.05380637],\n",
       "       [0.05421527],\n",
       "       [0.05472038],\n",
       "       [0.05678894],\n",
       "       [0.05253157],\n",
       "       [0.05462417],\n",
       "       [0.05334937],\n",
       "       [0.05450391],\n",
       "       [0.05462417],\n",
       "       [0.05664462],\n",
       "       [0.05705352],\n",
       "       [0.06184005],\n",
       "       [0.06244137],\n",
       "       [0.06494287],\n",
       "       [0.06407697],\n",
       "       [0.06564041],\n",
       "       [0.06544799],\n",
       "       [0.06525556],\n",
       "       [0.06441371],\n",
       "       [0.06426939],\n",
       "       [0.06316296],\n",
       "       [0.06568851],\n",
       "       [0.06713169],\n",
       "       [0.06073361],\n",
       "       [0.05806374],\n",
       "       [0.05623572],\n",
       "       [0.05580277],\n",
       "       [0.05087192],\n",
       "       [0.05111245],\n",
       "       [0.04687913],\n",
       "       [0.0444979 ],\n",
       "       [0.0482742 ],\n",
       "       [0.04983764],\n",
       "       [0.04940469],\n",
       "       [0.04197234],\n",
       "       [0.04351173],\n",
       "       [0.03696933],\n",
       "       [0.04033674],\n",
       "       [0.04726398],\n",
       "       [0.04716777],\n",
       "       [0.04743235],\n",
       "       [0.05144919],\n",
       "       [0.05161756],\n",
       "       [0.05024654],\n",
       "       [0.05159351],\n",
       "       [0.05106434],\n",
       "       [0.05079976],\n",
       "       [0.04853879],\n",
       "       [0.04606133],\n",
       "       [0.0470475 ],\n",
       "       [0.04514732],\n",
       "       [0.04716777],\n",
       "       [0.04976548],\n",
       "       [0.05238725],\n",
       "       [0.05678894],\n",
       "       [0.0552255 ],\n",
       "       [0.0597715 ],\n",
       "       [0.0597715 ],\n",
       "       [0.06128683],\n",
       "       [0.06164762],\n",
       "       [0.06325917],\n",
       "       [0.06400481],\n",
       "       [0.06426939],\n",
       "       [0.06241732],\n",
       "       [0.06297054],\n",
       "       [0.06475045],\n",
       "       [0.06354781],\n",
       "       [0.06347565],\n",
       "       [0.06128683],\n",
       "       [0.06208058],\n",
       "       [0.06176789],\n",
       "       [0.06318701],\n",
       "       [0.06631389],\n",
       "       [0.06891161],\n",
       "       [0.06920024],\n",
       "       [0.07073963],\n",
       "       [0.06953698],\n",
       "       [0.06903187],\n",
       "       [0.07134095],\n",
       "       [0.0713169 ],\n",
       "       [0.07081179],\n",
       "       [0.07134095],\n",
       "       [0.07153337],\n",
       "       [0.07126879],\n",
       "       [0.0758629 ],\n",
       "       [0.07600722],\n",
       "       [0.07603127],\n",
       "       [0.07526158],\n",
       "       [0.07458809],\n",
       "       [0.09238725],\n",
       "       [0.09185809],\n",
       "       [0.093181  ],\n",
       "       [0.0960914 ],\n",
       "       [0.09907396],\n",
       "       [0.10030066],\n",
       "       [0.10121467],\n",
       "       [0.10049308],\n",
       "       [0.10330728],\n",
       "       [0.10746843],\n",
       "       [0.10864702],\n",
       "       [0.10825015],\n",
       "       [0.10915213],\n",
       "       [0.11150932],\n",
       "       [0.11249549],\n",
       "       [0.11110042],\n",
       "       [0.11141311],\n",
       "       [0.11206254],\n",
       "       [0.11220686],\n",
       "       [0.11894167],\n",
       "       [0.11694528],\n",
       "       [0.11891762],\n",
       "       [0.11785929],\n",
       "       [0.11829224],\n",
       "       [0.11704149],\n",
       "       [0.1162718 ],\n",
       "       [0.11737823],\n",
       "       [0.11752255],\n",
       "       [0.11701744],\n",
       "       [0.12055322],\n",
       "       [0.12110643],\n",
       "       [0.11942273],\n",
       "       [0.12295851],\n",
       "       [0.11906194],\n",
       "       [0.1228623 ],\n",
       "       [0.12165965],\n",
       "       [0.12098617],\n",
       "       [0.12156344],\n",
       "       [0.12858689],\n",
       "       [0.12935658],\n",
       "       [0.12889958],\n",
       "       [0.12825015],\n",
       "       [0.12834636],\n",
       "       [0.13092002],\n",
       "       [0.12911606],\n",
       "       [0.12825015],\n",
       "       [0.12748046],\n",
       "       [0.12707156],\n",
       "       [0.12336741],\n",
       "       [0.12377631],\n",
       "       [0.12197234],\n",
       "       [0.12384847],\n",
       "       [0.12233313],\n",
       "       [0.12108238],\n",
       "       [0.12531569],\n",
       "       [0.12490679],\n",
       "       [0.12820204],\n",
       "       [0.13034275],\n",
       "       [0.12829826],\n",
       "       [0.12856284],\n",
       "       [0.1282261 ],\n",
       "       [0.1352736 ],\n",
       "       [0.13751052],\n",
       "       [0.13642814],\n",
       "       [0.13515334],\n",
       "       [0.1409982 ],\n",
       "       [0.15073963],\n",
       "       [0.15309681],\n",
       "       [0.15134095],\n",
       "       [0.1530006 ],\n",
       "       [0.15817198],\n",
       "       [0.15720986],\n",
       "       [0.15665664],\n",
       "       [0.14410102],\n",
       "       [0.14960914],\n",
       "       [0.15085989],\n",
       "       [0.15309681],\n",
       "       [0.15263981],\n",
       "       [0.15153337],\n",
       "       [0.15280818],\n",
       "       [0.1521828 ],\n",
       "       [0.15232712],\n",
       "       [0.1501383 ],\n",
       "       [0.15114853],\n",
       "       [0.15660854],\n",
       "       [0.1529525 ],\n",
       "       [0.15420325],\n",
       "       [0.15641612],\n",
       "       [0.1555021 ],\n",
       "       [0.1410463 ],\n",
       "       [0.13248346],\n",
       "       [0.13529765],\n",
       "       [0.13185809],\n",
       "       [0.12976548],\n",
       "       [0.12490679],\n",
       "       [0.13469633],\n",
       "       [0.13149729],\n",
       "       [0.13356584],\n",
       "       [0.13298857],\n",
       "       [0.13455201],\n",
       "       [0.13344558],\n",
       "       [0.12841852],\n",
       "       [0.13346963],\n",
       "       [0.12829826],\n",
       "       [0.12911606],\n",
       "       [0.1278653 ],\n",
       "       [0.12928443],\n",
       "       [0.12601323],\n",
       "       [0.1295009 ],\n",
       "       [0.13161756],\n",
       "       [0.13274805],\n",
       "       [0.13325316],\n",
       "       [0.1381359 ],\n",
       "       [0.14119062],\n",
       "       [0.14244137],\n",
       "       [0.14369212],\n",
       "       [0.1459531 ],\n",
       "       [0.1443175 ],\n",
       "       [0.14414913],\n",
       "       [0.14852676],\n",
       "       [0.1500902 ],\n",
       "       [0.15182201],\n",
       "       [0.14484666],\n",
       "       [0.14229705],\n",
       "       [0.14044498],\n",
       "       [0.14361996],\n",
       "       [0.16067348],\n",
       "       [0.15689717],\n",
       "       [0.15886951],\n",
       "       [0.16469032],\n",
       "       [0.16774504],\n",
       "       [0.17010222],\n",
       "       [0.15629585],\n",
       "       [0.16149128],\n",
       "       [0.16719182],\n",
       "       [0.17140108],\n",
       "       [0.16983764],\n",
       "       [0.16240529],\n",
       "       [0.16153939],\n",
       "       [0.16084185],\n",
       "       [0.16702345],\n",
       "       [0.16750451],\n",
       "       [0.16579675],\n",
       "       [0.16721587],\n",
       "       [0.17108839],\n",
       "       [0.17455201],\n",
       "       [0.17561034],\n",
       "       [0.17717378],\n",
       "       [0.17729405],\n",
       "       [0.17255562],\n",
       "       [0.17214672],\n",
       "       [0.17058328],\n",
       "       [0.16425737],\n",
       "       [0.17116055],\n",
       "       [0.16962117],\n",
       "       [0.16671076],\n",
       "       [0.16341551],\n",
       "       [0.16726398],\n",
       "       [0.16435358],\n",
       "       [0.1644979 ],\n",
       "       [0.15809982],\n",
       "       [0.15165364],\n",
       "       [0.1480457 ],\n",
       "       [0.14482261],\n",
       "       [0.15105232],\n",
       "       [0.15367408],\n",
       "       [0.15138906],\n",
       "       [0.1534095 ],\n",
       "       [0.15266386],\n",
       "       [0.15427541],\n",
       "       [0.15187011],\n",
       "       [0.15646422],\n",
       "       [0.15624775],\n",
       "       [0.1575466 ],\n",
       "       [0.15769092],\n",
       "       [0.15925436],\n",
       "       [0.15793145],\n",
       "       [0.16031269],\n",
       "       [0.16726398],\n",
       "       [0.1686831 ],\n",
       "       [0.16697535],\n",
       "       [0.15788334],\n",
       "       [0.15853277],\n",
       "       [0.15834035],\n",
       "       [0.16057727],\n",
       "       [0.15891762],\n",
       "       [0.16132291],\n",
       "       [0.17488876],\n",
       "       [0.18371618],\n",
       "       [0.18929645],\n",
       "       [0.18412508],\n",
       "       [0.18705953],\n",
       "       [0.19761876],\n",
       "       [0.20182802],\n",
       "       [0.20317498],\n",
       "       [0.20661455],\n",
       "       [0.20574865],\n",
       "       [0.20283824],\n",
       "       [0.20115454],\n",
       "       [0.19482862],\n",
       "       [0.18939266],\n",
       "       [0.19425135],\n",
       "       [0.19196633],\n",
       "       [0.19155743],\n",
       "       [0.19915815],\n",
       "       [0.20353578],\n",
       "       [0.20355983],\n",
       "       [0.20144317],\n",
       "       [0.19898978],\n",
       "       [0.19035478],\n",
       "       [0.19605532],\n",
       "       [0.19413109],\n",
       "       [0.19112447],\n",
       "       [0.19073963],\n",
       "       [0.18922429],\n",
       "       [0.18996993],\n",
       "       [0.1900902 ],\n",
       "       [0.19802766],\n",
       "       [0.19569453],\n",
       "       [0.19706554],\n",
       "       [0.19694528],\n",
       "       [0.20115454],\n",
       "       [0.2070475 ],\n",
       "       [0.20252556],\n",
       "       [0.20206855],\n",
       "       [0.20365604],\n",
       "       [0.20365604],\n",
       "       [0.19297655],\n",
       "       [0.19304871],\n",
       "       [0.19420325],\n",
       "       [0.18975346],\n",
       "       [0.19704149],\n",
       "       [0.19696933],\n",
       "       [0.19889357],\n",
       "       [0.20363199],\n",
       "       [0.20206855],\n",
       "       [0.20202044],\n",
       "       [0.20192423],\n",
       "       [0.20430547],\n",
       "       [0.20865905],\n",
       "       [0.20649429],\n",
       "       [0.21349369],\n",
       "       [0.21387853],\n",
       "       [0.2119543 ],\n",
       "       [0.20844257],\n",
       "       [0.20853879],\n",
       "       [0.20175586],\n",
       "       [0.19427541],\n",
       "       [0.19523752],\n",
       "       [0.18669874],\n",
       "       [0.1843175 ],\n",
       "       [0.18542393],\n",
       "       [0.18626578],\n",
       "       [0.16875526],\n",
       "       [0.15911004],\n",
       "       [0.17484065],\n",
       "       [0.16644618],\n",
       "       [0.15588695],\n",
       "       [0.15891762],\n",
       "       [0.17407096],\n",
       "       [0.17799158],\n",
       "       [0.18527962],\n",
       "       [0.19879735],\n",
       "       [0.19745039],\n",
       "       [0.19605532],\n",
       "       [0.19417919],\n",
       "       [0.19761876],\n",
       "       [0.20483464],\n",
       "       [0.213181  ],\n",
       "       [0.21178593],\n",
       "       [0.2111365 ],\n",
       "       [0.20363199],\n",
       "       [0.20654239],\n",
       "       [0.20800962],\n",
       "       [0.20764883],\n",
       "       [0.20370415],\n",
       "       [0.20829826],\n",
       "       [0.21561034],\n",
       "       [0.21979555],\n",
       "       [0.21558629],\n",
       "       [0.21190619],\n",
       "       [0.2124113 ],\n",
       "       [0.21089597],\n",
       "       [0.20435358],\n",
       "       [0.20420926],\n",
       "       [0.19466025],\n",
       "       [0.18883945],\n",
       "       [0.17943476],\n",
       "       [0.19826819],\n",
       "       [0.18761275],\n",
       "       [0.18313891],\n",
       "       [0.18626578],\n",
       "       [0.18361996],\n",
       "       [0.18773301],\n",
       "       [0.19547805],\n",
       "       [0.19834035],\n",
       "       [0.18770896],\n",
       "       [0.1917258 ],\n",
       "       [0.19942273],\n",
       "       [0.19747444],\n",
       "       [0.20156344],\n",
       "       [0.20298256],\n",
       "       [0.20560433],\n",
       "       [0.21142514],\n",
       "       [0.21046302],\n",
       "       [0.19834035],\n",
       "       [0.18131088],\n",
       "       [0.18015634],\n",
       "       [0.17462417],\n",
       "       [0.17633193],\n",
       "       [0.17770295],\n",
       "       [0.17313289],\n",
       "       [0.18020445],\n",
       "       [0.18944077],\n",
       "       [0.2074083 ],\n",
       "       [0.20817799],\n",
       "       [0.22487072],\n",
       "       [0.22806975],\n",
       "       [0.23021046],\n",
       "       [0.2333614 ],\n",
       "       [0.23980758],\n",
       "       [0.2363199 ],\n",
       "       [0.23526158],\n",
       "       [0.23114853],\n",
       "       [0.23533373],\n",
       "       [0.23247144],\n",
       "       [0.23083584],\n",
       "       [0.23401082],\n",
       "       [0.23288034],\n",
       "       [0.23576669],\n",
       "       [0.23526158],\n",
       "       [0.23629585],\n",
       "       [0.23466025],\n",
       "       [0.23369814],\n",
       "       [0.2321828 ],\n",
       "       [0.24028863],\n",
       "       [0.24411305],\n",
       "       [0.24767288],\n",
       "       [0.24928443],\n",
       "       [0.24803367],\n",
       "       [0.24380036],\n",
       "       [0.24266987],\n",
       "       [0.24519543],\n",
       "       [0.24139507],\n",
       "       [0.2416356 ],\n",
       "       [0.23692123],\n",
       "       [0.2366807 ],\n",
       "       [0.22934456],\n",
       "       [0.23129284],\n",
       "       [0.22879134],\n",
       "       [0.22749248],\n",
       "       [0.22087793],\n",
       "       [0.22631389],\n",
       "       [0.22566446],\n",
       "       [0.22888755],\n",
       "       [0.22794949],\n",
       "       [0.23292844],\n",
       "       [0.22508719],\n",
       "       [0.22864702],\n",
       "       [0.23482862],\n",
       "       [0.24110643],\n",
       "       [0.24055322],\n",
       "       [0.23461215],\n",
       "       [0.24218882],\n",
       "       [0.2429104 ],\n",
       "       [0.24190018],\n",
       "       [0.24319904],\n",
       "       [0.24067348],\n",
       "       [0.24423331],\n",
       "       [0.24317498],\n",
       "       [0.24358388],\n",
       "       [0.24692724],\n",
       "       [0.25130487],\n",
       "       [0.24983764],\n",
       "       [0.24206855],\n",
       "       [0.23949489],\n",
       "       [0.2404089 ],\n",
       "       [0.26737222],\n",
       "       [0.28153939],\n",
       "       [0.28298256],\n",
       "       [0.28558028],\n",
       "       [0.2808659 ],\n",
       "       [0.28120265],\n",
       "       [0.28512327],\n",
       "       [0.28187613],\n",
       "       [0.28509922],\n",
       "       [0.28721587],\n",
       "       [0.28839447],\n",
       "       [0.29580277],\n",
       "       [0.30604931],\n",
       "       [0.30095009],\n",
       "       [0.29993987],\n",
       "       [0.29996392],\n",
       "       [0.30102225],\n",
       "       [0.30263379],\n",
       "       [0.30691521],\n",
       "       [0.31114853],\n",
       "       [0.31903788],\n",
       "       [0.32396873],\n",
       "       [0.33022249],\n",
       "       [0.33197835],\n",
       "       [0.32839447],\n",
       "       [0.31932652],\n",
       "       [0.31499699],\n",
       "       [0.30785328],\n",
       "       [0.32113049],\n",
       "       [0.31444378],\n",
       "       [0.32728803],\n",
       "       [0.32110643],\n",
       "       [0.3067709 ],\n",
       "       [0.3076368 ],\n",
       "       [0.30794949],\n",
       "       [0.31194227],\n",
       "       [0.30624173],\n",
       "       [0.31377029],\n",
       "       [0.3171377 ],\n",
       "       [0.31288034],\n",
       "       [0.32377631],\n",
       "       [0.32567649],\n",
       "       [0.32933253],\n",
       "       [0.33419122],\n",
       "       [0.34090198],\n",
       "       [0.33108839],\n",
       "       [0.32218882],\n",
       "       [0.32093806],\n",
       "       [0.32839447],\n",
       "       [0.30311485],\n",
       "       [0.29852075],\n",
       "       [0.31694528],\n",
       "       [0.30552014],\n",
       "       [0.31704149],\n",
       "       [0.31473241],\n",
       "       [0.30229705],\n",
       "       [0.31021046],\n",
       "       [0.31343355],\n",
       "       [0.31843656],\n",
       "       [0.30006013],\n",
       "       [0.31138906],\n",
       "       [0.30297054],\n",
       "       [0.29320505],\n",
       "       [0.29575466],\n",
       "       [0.30912808],\n",
       "       [0.31720986],\n",
       "       [0.28175586],\n",
       "       [0.2675887 ],\n",
       "       [0.27283223],\n",
       "       [0.28769693],\n",
       "       [0.28418521],\n",
       "       [0.27451594],\n",
       "       [0.24974143],\n",
       "       [0.24507517],\n",
       "       [0.23201443],\n",
       "       [0.24310283],\n",
       "       [0.24820204],\n",
       "       [0.22975346],\n",
       "       [0.20839447],\n",
       "       [0.20791341],\n",
       "       [0.19711365],\n",
       "       [0.20271798],\n",
       "       [0.20180397],\n",
       "       [0.21791942],\n",
       "       [0.21457607],\n",
       "       [0.21224293],\n",
       "       [0.22725195],\n",
       "       [0.20769693],\n",
       "       [0.20295851],\n",
       "       [0.18797354],\n",
       "       [0.19064342],\n",
       "       [0.18831028],\n",
       "       [0.18944077],\n",
       "       [0.19389056],\n",
       "       [0.18073361],\n",
       "       [0.17702946],\n",
       "       [0.18215274],\n",
       "       [0.16969333],\n",
       "       [0.15992784],\n",
       "       [0.14525556],\n",
       "       [0.13587492],\n",
       "       [0.16074564],\n",
       "       [0.15829224],\n",
       "       [0.15848467],\n",
       "       [0.16211666],\n",
       "       [0.16254961],\n",
       "       [0.12471437],\n",
       "       [0.13931449],\n",
       "       [0.13852075],\n",
       "       [0.14530367],\n",
       "       [0.15146121],\n",
       "       [0.15263981],\n",
       "       [0.14900782],\n",
       "       [0.1434997 ],\n",
       "       [0.15088394],\n",
       "       [0.15538184],\n",
       "       [0.15759471],\n",
       "       [0.15990379],\n",
       "       [0.15143716],\n",
       "       [0.15292844],\n",
       "       [0.14999399],\n",
       "       [0.16216476],\n",
       "       [0.15865304],\n",
       "       [0.15475646],\n",
       "       [0.1801804 ],\n",
       "       [0.18304269],\n",
       "       [0.18323512],\n",
       "       [0.19461215],\n",
       "       [0.20165965],\n",
       "       [0.20180397],\n",
       "       [0.19386651],\n",
       "       [0.1925917 ],\n",
       "       [0.19023452],\n",
       "       [0.19374624],\n",
       "       [0.19203848],\n",
       "       [0.19352977],\n",
       "       [0.19261575],\n",
       "       [0.19384245],\n",
       "       [0.19648827],\n",
       "       [0.19415514],\n",
       "       [0.19874925],\n",
       "       [0.20177992],\n",
       "       [0.20202044],\n",
       "       [0.2033193 ],\n",
       "       [0.1991822 ],\n",
       "       [0.20355983],\n",
       "       [0.20567649],\n",
       "       [0.20490679],\n",
       "       [0.20247745],\n",
       "       [0.19761876],\n",
       "       [0.19860493],\n",
       "       [0.21301263],\n",
       "       [0.21784726],\n",
       "       [0.2197715 ],\n",
       "       [0.22463019],\n",
       "       [0.23037883],\n",
       "       [0.23494889],\n",
       "       [0.231365  ],\n",
       "       [0.23528563],\n",
       "       [0.2519543 ],\n",
       "       [0.24223692],\n",
       "       [0.2366807 ],\n",
       "       [0.23199038],\n",
       "       [0.23603127],\n",
       "       [0.23663259],\n",
       "       [0.2395911 ],\n",
       "       [0.24269393],\n",
       "       [0.24938064]])"
      ]
     },
     "execution_count": 34,
     "metadata": {},
     "output_type": "execute_result"
    }
   ],
   "source": [
    "train_data"
   ]
  },
  {
   "cell_type": "code",
   "execution_count": 41,
   "metadata": {},
   "outputs": [],
   "source": [
    "import numpy\n",
    "# convert an array of values into a dataset matrix.\n",
    "# This function is decoded below. \n",
    "\n",
    "def create_dataset(dataset, time_step=1):\n",
    "\tdataX, dataY = [], []\n",
    "    \n",
    "\tfor i in range(len(dataset)-time_step-1):\n",
    "\t\ta = dataset[i:(i+time_step), 0]   ###i=0, 0,1,2,3-----99   100 \n",
    "\t\tdataX.append(a)\n",
    "\t\tdataY.append(dataset[i + time_step, 0])\n",
    "        \n",
    "\treturn numpy.array(dataX), numpy.array(dataY)\n",
    "\n",
    "\n",
    "# this function will prepare the train test data as below. In image only 3 days data is take i.e 3 columns (f1,f2,f3) are\n",
    "# created. But in above program it will be f1 to f100 since the step = 100"
   ]
  },
  {
   "cell_type": "markdown",
   "metadata": {},
   "source": [
    "<img src=\"Timeseries Data - Train Test Split.png\" height=800 width=800/>"
   ]
  },
  {
   "cell_type": "code",
   "execution_count": 42,
   "metadata": {},
   "outputs": [],
   "source": [
    "# reshape into X=t,t+1,t+2,t+3 and Y=t+4\n",
    "\n",
    "time_step = 100  # how many previous days data model should look to predict next day. The more its better. \n",
    "\n",
    "X_train, y_train = create_dataset(train_data, time_step)\n",
    "\n",
    "X_test, ytest = create_dataset(test_data, time_step)"
   ]
  },
  {
   "cell_type": "code",
   "execution_count": 47,
   "metadata": {},
   "outputs": [
    {
     "data": {
      "text/plain": [
       "range(0, 716)"
      ]
     },
     "execution_count": 47,
     "metadata": {},
     "output_type": "execute_result"
    }
   ],
   "source": [
    "range(len(train_data)-time_step-1)  # 817-100-1 = 716"
   ]
  },
  {
   "cell_type": "code",
   "execution_count": 49,
   "metadata": {},
   "outputs": [
    {
     "data": {
      "text/plain": [
       "100"
      ]
     },
     "execution_count": 49,
     "metadata": {},
     "output_type": "execute_result"
    }
   ],
   "source": [
    "0+time_step"
   ]
  },
  {
   "cell_type": "code",
   "execution_count": 53,
   "metadata": {},
   "outputs": [
    {
     "data": {
      "text/plain": [
       "array([0.03610343, 0.02975346, 0.02491882, 0.01469633, 0.01592303,\n",
       "       0.01969934, 0.02313891, 0.01695731, 0.02208058, 0.01633193,\n",
       "       0.01520144, 0.01551413, 0.01433554, 0.02665063, 0.02188815,\n",
       "       0.02321106, 0.0074083 , 0.00901984, 0.01683704, 0.01464823,\n",
       "       0.00995791, 0.0144558 , 0.01505713, 0.00885147, 0.01123271,\n",
       "       0.01118461, 0.0094528 , 0.00808178, 0.00877931, 0.01515334,\n",
       "       0.01871317, 0.01423933, 0.01371016, 0.01573061, 0.01046302,\n",
       "       0.01385448, 0.01544197, 0.01580277, 0.0152736 , 0.02450992,\n",
       "       0.02503909, 0.02684305, 0.03047505, 0.02773301, 0.02571257,\n",
       "       0.02592904, 0.02604931, 0.02867108, 0.02929645, 0.03425135,\n",
       "       0.03759471, 0.03718581, 0.03747444, 0.03745039, 0.03939868,\n",
       "       0.03797956, 0.03687312, 0.03571858, 0.04170776, 0.04622971,\n",
       "       0.04485869, 0.04726398, 0.04998196, 0.04683103, 0.04959711,\n",
       "       0.04377631, 0.04406494, 0.04493085, 0.04834636, 0.05219483,\n",
       "       0.05233915, 0.04692724, 0.0412267 , 0.03985568, 0.04038485,\n",
       "       0.03759471, 0.03689717, 0.035454  , 0.03369814, 0.01799158,\n",
       "       0.01079976, 0.00817799, 0.00793746, 0.01164161, 0.00926037,\n",
       "       0.00697535, 0.00572459, 0.00589296, 0.0074083 , 0.00521948,\n",
       "       0.        , 0.00043295, 0.00851473, 0.00757667, 0.01015033,\n",
       "       0.00928443, 0.01173782, 0.01464823, 0.018184  , 0.02232111])"
      ]
     },
     "execution_count": 53,
     "metadata": {},
     "output_type": "execute_result"
    }
   ],
   "source": [
    "train_data[0:(0+time_step),0]  # 100 days data , taking as train data "
   ]
  },
  {
   "cell_type": "code",
   "execution_count": 54,
   "metadata": {},
   "outputs": [
    {
     "data": {
      "text/plain": [
       "0.024221286831028227"
      ]
     },
     "execution_count": 54,
     "metadata": {},
     "output_type": "execute_result"
    }
   ],
   "source": [
    "train_data[0 + time_step, 0]  # 101st day data , taking as test data "
   ]
  },
  {
   "cell_type": "code",
   "execution_count": null,
   "metadata": {},
   "outputs": [],
   "source": [
    "# the same split contineous to prepare x train, y train, x testt and y test"
   ]
  },
  {
   "cell_type": "code",
   "execution_count": 56,
   "metadata": {},
   "outputs": [
    {
     "name": "stdout",
     "output_type": "stream",
     "text": [
      "(716, 100)\n",
      "(716,)\n"
     ]
    }
   ],
   "source": [
    "print(X_train.shape)  # 716 rows with 100 columns (i.e previous 100 days data is created as columns)\n",
    "\n",
    "print(y_train.shape)"
   ]
  },
  {
   "cell_type": "code",
   "execution_count": 57,
   "metadata": {},
   "outputs": [
    {
     "name": "stdout",
     "output_type": "stream",
     "text": [
      "(339, 100)\n",
      "(339,)\n"
     ]
    }
   ],
   "source": [
    "print(X_test.shape)\n",
    "\n",
    "print(ytest.shape)"
   ]
  },
  {
   "cell_type": "code",
   "execution_count": 60,
   "metadata": {},
   "outputs": [],
   "source": [
    "# reshape input to be [# of samples, time steps, # of features] which is required for LSTM\n",
    "\n",
    "X_train =X_train.reshape(X_train.shape[0],X_train.shape[1] , 1)\n",
    "\n",
    "X_test = X_test.reshape(X_test.shape[0],X_test.shape[1] , 1)"
   ]
  },
  {
   "cell_type": "code",
   "execution_count": 61,
   "metadata": {},
   "outputs": [],
   "source": [
    "### Create the Stacked LSTM model (Stacked means adding one on top of other)\n",
    "from tensorflow.keras.models import Sequential\n",
    "from tensorflow.keras.layers import Dense\n",
    "from tensorflow.keras.layers import LSTM"
   ]
  },
  {
   "cell_type": "code",
   "execution_count": 62,
   "metadata": {},
   "outputs": [],
   "source": [
    "model=Sequential()\n",
    "\n",
    "model.add(LSTM(50,return_sequences=True,input_shape=(100,1))) # first hidden layer\n",
    "\n",
    "model.add(LSTM(50,return_sequences=True)) # adding 2nd hidden layer (stacking)\n",
    "\n",
    "model.add(LSTM(50)) # adding 3rd hidden layer (stacking)\n",
    "\n",
    "model.add(Dense(1)) # adding 4th hidden layer (stacking)\n",
    "\n",
    "model.compile(loss='mean_squared_error',optimizer='adam')\n"
   ]
  },
  {
   "cell_type": "code",
   "execution_count": 63,
   "metadata": {},
   "outputs": [
    {
     "name": "stdout",
     "output_type": "stream",
     "text": [
      "Model: \"sequential\"\n",
      "_________________________________________________________________\n",
      "Layer (type)                 Output Shape              Param #   \n",
      "=================================================================\n",
      "lstm (LSTM)                  (None, 100, 50)           10400     \n",
      "_________________________________________________________________\n",
      "lstm_1 (LSTM)                (None, 100, 50)           20200     \n",
      "_________________________________________________________________\n",
      "lstm_2 (LSTM)                (None, 50)                20200     \n",
      "_________________________________________________________________\n",
      "dense (Dense)                (None, 1)                 51        \n",
      "=================================================================\n",
      "Total params: 50,851\n",
      "Trainable params: 50,851\n",
      "Non-trainable params: 0\n",
      "_________________________________________________________________\n"
     ]
    }
   ],
   "source": [
    "model.summary()"
   ]
  },
  {
   "cell_type": "code",
   "execution_count": 64,
   "metadata": {},
   "outputs": [
    {
     "name": "stdout",
     "output_type": "stream",
     "text": [
      "Model: \"sequential\"\n",
      "_________________________________________________________________\n",
      "Layer (type)                 Output Shape              Param #   \n",
      "=================================================================\n",
      "lstm (LSTM)                  (None, 100, 50)           10400     \n",
      "_________________________________________________________________\n",
      "lstm_1 (LSTM)                (None, 100, 50)           20200     \n",
      "_________________________________________________________________\n",
      "lstm_2 (LSTM)                (None, 50)                20200     \n",
      "_________________________________________________________________\n",
      "dense (Dense)                (None, 1)                 51        \n",
      "=================================================================\n",
      "Total params: 50,851\n",
      "Trainable params: 50,851\n",
      "Non-trainable params: 0\n",
      "_________________________________________________________________\n"
     ]
    }
   ],
   "source": [
    "model.summary()"
   ]
  },
  {
   "cell_type": "code",
   "execution_count": 65,
   "metadata": {},
   "outputs": [
    {
     "name": "stdout",
     "output_type": "stream",
     "text": [
      "Epoch 1/100\n",
      "12/12 [==============================] - 6s 189ms/step - loss: 0.0144 - val_loss: 0.0512\n",
      "Epoch 2/100\n",
      "12/12 [==============================] - 1s 92ms/step - loss: 0.0028 - val_loss: 0.0196\n",
      "Epoch 3/100\n",
      "12/12 [==============================] - 1s 88ms/step - loss: 7.6620e-04 - val_loss: 0.0227\n",
      "Epoch 4/100\n",
      "12/12 [==============================] - 1s 89ms/step - loss: 5.2548e-04 - val_loss: 0.0206\n",
      "Epoch 5/100\n",
      "12/12 [==============================] - 1s 89ms/step - loss: 3.4122e-04 - val_loss: 0.0183\n",
      "Epoch 6/100\n",
      "12/12 [==============================] - 1s 96ms/step - loss: 2.9943e-04 - val_loss: 0.0182\n",
      "Epoch 7/100\n",
      "12/12 [==============================] - 1s 91ms/step - loss: 2.7124e-04 - val_loss: 0.0177\n",
      "Epoch 8/100\n",
      "12/12 [==============================] - 1s 90ms/step - loss: 2.8426e-04 - val_loss: 0.0171\n",
      "Epoch 9/100\n",
      "12/12 [==============================] - 1s 88ms/step - loss: 2.6448e-04 - val_loss: 0.0167\n",
      "Epoch 10/100\n",
      "12/12 [==============================] - 1s 91ms/step - loss: 2.7770e-04 - val_loss: 0.0163\n",
      "Epoch 11/100\n",
      "12/12 [==============================] - 1s 93ms/step - loss: 2.7505e-04 - val_loss: 0.0158\n",
      "Epoch 12/100\n",
      "12/12 [==============================] - 1s 98ms/step - loss: 2.7032e-04 - val_loss: 0.0155\n",
      "Epoch 13/100\n",
      "12/12 [==============================] - 1s 95ms/step - loss: 2.4402e-04 - val_loss: 0.0151\n",
      "Epoch 14/100\n",
      "12/12 [==============================] - 1s 94ms/step - loss: 2.8384e-04 - val_loss: 0.0147\n",
      "Epoch 15/100\n",
      "12/12 [==============================] - 1s 93ms/step - loss: 2.1393e-04 - val_loss: 0.0144\n",
      "Epoch 16/100\n",
      "12/12 [==============================] - 1s 90ms/step - loss: 2.0600e-04 - val_loss: 0.0139\n",
      "Epoch 17/100\n",
      "12/12 [==============================] - 1s 92ms/step - loss: 2.0697e-04 - val_loss: 0.0140\n",
      "Epoch 18/100\n",
      "12/12 [==============================] - 1s 95ms/step - loss: 2.2800e-04 - val_loss: 0.0133\n",
      "Epoch 19/100\n",
      "12/12 [==============================] - 1s 96ms/step - loss: 2.2334e-04 - val_loss: 0.0143\n",
      "Epoch 20/100\n",
      "12/12 [==============================] - 1s 94ms/step - loss: 2.2470e-04 - val_loss: 0.0130\n",
      "Epoch 21/100\n",
      "12/12 [==============================] - 1s 94ms/step - loss: 1.8648e-04 - val_loss: 0.0149\n",
      "Epoch 22/100\n",
      "12/12 [==============================] - 1s 96ms/step - loss: 2.3059e-04 - val_loss: 0.0130\n",
      "Epoch 23/100\n",
      "12/12 [==============================] - 1s 97ms/step - loss: 1.8829e-04 - val_loss: 0.0139\n",
      "Epoch 24/100\n",
      "12/12 [==============================] - 1s 98ms/step - loss: 1.8275e-04 - val_loss: 0.0129\n",
      "Epoch 25/100\n",
      "12/12 [==============================] - 1s 96ms/step - loss: 1.8512e-04 - val_loss: 0.0139\n",
      "Epoch 26/100\n",
      "12/12 [==============================] - 1s 96ms/step - loss: 1.8877e-04 - val_loss: 0.0127\n",
      "Epoch 27/100\n",
      "12/12 [==============================] - 1s 92ms/step - loss: 2.1061e-04 - val_loss: 0.0130\n",
      "Epoch 28/100\n",
      "12/12 [==============================] - 1s 93ms/step - loss: 2.0404e-04 - val_loss: 0.0144\n",
      "Epoch 29/100\n",
      "12/12 [==============================] - 1s 95ms/step - loss: 1.8995e-04 - val_loss: 0.0123\n",
      "Epoch 30/100\n",
      "12/12 [==============================] - 1s 97ms/step - loss: 2.5128e-04 - val_loss: 0.0144\n",
      "Epoch 31/100\n",
      "12/12 [==============================] - 1s 96ms/step - loss: 1.9055e-04 - val_loss: 0.0131\n",
      "Epoch 32/100\n",
      "12/12 [==============================] - 1s 101ms/step - loss: 1.9530e-04 - val_loss: 0.0129\n",
      "Epoch 33/100\n",
      "12/12 [==============================] - 1s 93ms/step - loss: 1.8980e-04 - val_loss: 0.0135\n",
      "Epoch 34/100\n",
      "12/12 [==============================] - 1s 95ms/step - loss: 1.6125e-04 - val_loss: 0.0128\n",
      "Epoch 35/100\n",
      "12/12 [==============================] - 1s 101ms/step - loss: 1.5051e-04 - val_loss: 0.0134\n",
      "Epoch 36/100\n",
      "12/12 [==============================] - 1s 101ms/step - loss: 1.7013e-04 - val_loss: 0.0130\n",
      "Epoch 37/100\n",
      "12/12 [==============================] - 1s 98ms/step - loss: 1.7407e-04 - val_loss: 0.0128\n",
      "Epoch 38/100\n",
      "12/12 [==============================] - 1s 97ms/step - loss: 1.9505e-04 - val_loss: 0.0122\n",
      "Epoch 39/100\n",
      "12/12 [==============================] - 1s 101ms/step - loss: 1.7914e-04 - val_loss: 0.0123\n",
      "Epoch 40/100\n",
      "12/12 [==============================] - 1s 102ms/step - loss: 1.7722e-04 - val_loss: 0.0122\n",
      "Epoch 41/100\n",
      "12/12 [==============================] - 1s 98ms/step - loss: 1.6941e-04 - val_loss: 0.0123\n",
      "Epoch 42/100\n",
      "12/12 [==============================] - 1s 96ms/step - loss: 1.6714e-04 - val_loss: 0.0127\n",
      "Epoch 43/100\n",
      "12/12 [==============================] - 1s 100ms/step - loss: 1.5708e-04 - val_loss: 0.0126\n",
      "Epoch 44/100\n",
      "12/12 [==============================] - 1s 102ms/step - loss: 1.5779e-04 - val_loss: 0.0120\n",
      "Epoch 45/100\n",
      "12/12 [==============================] - 1s 98ms/step - loss: 1.5741e-04 - val_loss: 0.0122\n",
      "Epoch 46/100\n",
      "12/12 [==============================] - 1s 106ms/step - loss: 1.5215e-04 - val_loss: 0.0123\n",
      "Epoch 47/100\n",
      "12/12 [==============================] - 1s 97ms/step - loss: 1.4205e-04 - val_loss: 0.0121\n",
      "Epoch 48/100\n",
      "12/12 [==============================] - 1s 97ms/step - loss: 1.6018e-04 - val_loss: 0.0119\n",
      "Epoch 49/100\n",
      "12/12 [==============================] - 1s 97ms/step - loss: 1.5909e-04 - val_loss: 0.0127\n",
      "Epoch 50/100\n",
      "12/12 [==============================] - 1s 100ms/step - loss: 1.4490e-04 - val_loss: 0.0117\n",
      "Epoch 51/100\n",
      "12/12 [==============================] - 1s 100ms/step - loss: 1.5434e-04 - val_loss: 0.0138\n",
      "Epoch 52/100\n",
      "12/12 [==============================] - 1s 100ms/step - loss: 1.8228e-04 - val_loss: 0.0116\n",
      "Epoch 53/100\n",
      "12/12 [==============================] - 1s 125ms/step - loss: 1.4615e-04 - val_loss: 0.0136\n",
      "Epoch 54/100\n",
      "12/12 [==============================] - 1s 111ms/step - loss: 1.6590e-04 - val_loss: 0.0114\n",
      "Epoch 55/100\n",
      "12/12 [==============================] - 1s 109ms/step - loss: 1.5751e-04 - val_loss: 0.0114\n",
      "Epoch 56/100\n",
      "12/12 [==============================] - 1s 102ms/step - loss: 2.4436e-04 - val_loss: 0.0123\n",
      "Epoch 57/100\n",
      "12/12 [==============================] - 1s 117ms/step - loss: 2.2468e-04 - val_loss: 0.0110\n",
      "Epoch 58/100\n",
      "12/12 [==============================] - 1s 108ms/step - loss: 1.4713e-04 - val_loss: 0.0115\n",
      "Epoch 59/100\n",
      "12/12 [==============================] - 1s 105ms/step - loss: 1.4481e-04 - val_loss: 0.0110\n",
      "Epoch 60/100\n",
      "12/12 [==============================] - 1s 101ms/step - loss: 1.4917e-04 - val_loss: 0.0112\n",
      "Epoch 61/100\n",
      "12/12 [==============================] - 1s 95ms/step - loss: 1.3951e-04 - val_loss: 0.0108\n",
      "Epoch 62/100\n",
      "12/12 [==============================] - 1s 113ms/step - loss: 1.4273e-04 - val_loss: 0.0107\n",
      "Epoch 63/100\n",
      "12/12 [==============================] - 1s 122ms/step - loss: 1.3571e-04 - val_loss: 0.0105\n",
      "Epoch 64/100\n",
      "12/12 [==============================] - 1s 99ms/step - loss: 1.4207e-04 - val_loss: 0.0106\n",
      "Epoch 65/100\n",
      "12/12 [==============================] - 1s 99ms/step - loss: 1.7641e-04 - val_loss: 0.0101\n",
      "Epoch 66/100\n",
      "12/12 [==============================] - 1s 97ms/step - loss: 1.9788e-04 - val_loss: 0.0115\n",
      "Epoch 67/100\n",
      "12/12 [==============================] - 1s 101ms/step - loss: 1.6777e-04 - val_loss: 0.0100\n",
      "Epoch 68/100\n",
      "12/12 [==============================] - 1s 99ms/step - loss: 1.3779e-04 - val_loss: 0.0100\n",
      "Epoch 69/100\n",
      "12/12 [==============================] - 1s 98ms/step - loss: 1.4197e-04 - val_loss: 0.0099\n",
      "Epoch 70/100\n",
      "12/12 [==============================] - 1s 97ms/step - loss: 1.3757e-04 - val_loss: 0.0093\n",
      "Epoch 71/100\n",
      "12/12 [==============================] - 1s 99ms/step - loss: 1.4043e-04 - val_loss: 0.0096\n",
      "Epoch 72/100\n",
      "12/12 [==============================] - 1s 101ms/step - loss: 1.3656e-04 - val_loss: 0.0093\n",
      "Epoch 73/100\n",
      "12/12 [==============================] - 1s 102ms/step - loss: 1.2141e-04 - val_loss: 0.0099\n",
      "Epoch 74/100\n",
      "12/12 [==============================] - 1s 100ms/step - loss: 1.2602e-04 - val_loss: 0.0101\n",
      "Epoch 75/100\n",
      "12/12 [==============================] - 1s 98ms/step - loss: 1.2396e-04 - val_loss: 0.0089\n",
      "Epoch 76/100\n",
      "12/12 [==============================] - 1s 95ms/step - loss: 1.1641e-04 - val_loss: 0.0087\n",
      "Epoch 77/100\n",
      "12/12 [==============================] - 1s 95ms/step - loss: 1.1402e-04 - val_loss: 0.0090\n",
      "Epoch 78/100\n",
      "12/12 [==============================] - 1s 95ms/step - loss: 1.2658e-04 - val_loss: 0.0087\n"
     ]
    },
    {
     "name": "stdout",
     "output_type": "stream",
     "text": [
      "Epoch 79/100\n",
      "12/12 [==============================] - 1s 97ms/step - loss: 1.3152e-04 - val_loss: 0.0091\n",
      "Epoch 80/100\n",
      "12/12 [==============================] - 1s 96ms/step - loss: 1.1272e-04 - val_loss: 0.0084\n",
      "Epoch 81/100\n",
      "12/12 [==============================] - 1s 98ms/step - loss: 1.0636e-04 - val_loss: 0.0086\n",
      "Epoch 82/100\n",
      "12/12 [==============================] - 1s 94ms/step - loss: 1.0740e-04 - val_loss: 0.0078\n",
      "Epoch 83/100\n",
      "12/12 [==============================] - 1s 94ms/step - loss: 1.3903e-04 - val_loss: 0.0089\n",
      "Epoch 84/100\n",
      "12/12 [==============================] - 1s 93ms/step - loss: 1.0978e-04 - val_loss: 0.0079\n",
      "Epoch 85/100\n",
      "12/12 [==============================] - 1s 94ms/step - loss: 1.1376e-04 - val_loss: 0.0083\n",
      "Epoch 86/100\n",
      "12/12 [==============================] - 1s 96ms/step - loss: 1.0621e-04 - val_loss: 0.0081\n",
      "Epoch 87/100\n",
      "12/12 [==============================] - 1s 103ms/step - loss: 1.0230e-04 - val_loss: 0.0079\n",
      "Epoch 88/100\n",
      "12/12 [==============================] - 1s 107ms/step - loss: 1.0339e-04 - val_loss: 0.0074\n",
      "Epoch 89/100\n",
      "12/12 [==============================] - 1s 108ms/step - loss: 1.0778e-04 - val_loss: 0.0074\n",
      "Epoch 90/100\n",
      "12/12 [==============================] - 1s 113ms/step - loss: 1.0277e-04 - val_loss: 0.0082\n",
      "Epoch 91/100\n",
      "12/12 [==============================] - 1s 105ms/step - loss: 9.4637e-05 - val_loss: 0.0075\n",
      "Epoch 92/100\n",
      "12/12 [==============================] - 1s 118ms/step - loss: 1.0527e-04 - val_loss: 0.0076\n",
      "Epoch 93/100\n",
      "12/12 [==============================] - 1s 102ms/step - loss: 1.0372e-04 - val_loss: 0.0072\n",
      "Epoch 94/100\n",
      "12/12 [==============================] - 1s 102ms/step - loss: 1.3555e-04 - val_loss: 0.0068\n",
      "Epoch 95/100\n",
      "12/12 [==============================] - 1s 100ms/step - loss: 1.2294e-04 - val_loss: 0.0076\n",
      "Epoch 96/100\n",
      "12/12 [==============================] - 1s 99ms/step - loss: 1.1183e-04 - val_loss: 0.0066\n",
      "Epoch 97/100\n",
      "12/12 [==============================] - 1s 100ms/step - loss: 1.3907e-04 - val_loss: 0.0074\n",
      "Epoch 98/100\n",
      "12/12 [==============================] - 1s 103ms/step - loss: 1.1334e-04 - val_loss: 0.0067\n",
      "Epoch 99/100\n",
      "12/12 [==============================] - 1s 108ms/step - loss: 1.2386e-04 - val_loss: 0.0070\n",
      "Epoch 100/100\n",
      "12/12 [==============================] - 1s 105ms/step - loss: 1.0467e-04 - val_loss: 0.0065\n"
     ]
    },
    {
     "data": {
      "text/plain": [
       "<tensorflow.python.keras.callbacks.History at 0x7fd0dcd36eb0>"
      ]
     },
     "execution_count": 65,
     "metadata": {},
     "output_type": "execute_result"
    }
   ],
   "source": [
    "model.fit(X_train,y_train,validation_data=(X_test,ytest),epochs=100,batch_size=64,verbose=1)"
   ]
  },
  {
   "cell_type": "code",
   "execution_count": 66,
   "metadata": {},
   "outputs": [],
   "source": [
    "import tensorflow as tf"
   ]
  },
  {
   "cell_type": "code",
   "execution_count": 67,
   "metadata": {},
   "outputs": [
    {
     "data": {
      "text/plain": [
       "'2.4.0'"
      ]
     },
     "execution_count": 67,
     "metadata": {},
     "output_type": "execute_result"
    }
   ],
   "source": [
    "tf.__version__"
   ]
  },
  {
   "cell_type": "code",
   "execution_count": 68,
   "metadata": {},
   "outputs": [],
   "source": [
    "### Lets Do the prediction and check performance metrics\n",
    "\n",
    "train_predict=model.predict(X_train)\n",
    "\n",
    "test_predict=model.predict(X_test)"
   ]
  },
  {
   "cell_type": "code",
   "execution_count": 75,
   "metadata": {},
   "outputs": [],
   "source": [
    "##Transformback to original form\n",
    "\n",
    "train_predict=scaler.inverse_transform(train_predict) # as we had scaled the data between 0 and 1, we are reversing it back so that we can get actual predicted price and compare with google (if required)\n",
    "\n",
    "test_predict=scaler.inverse_transform(test_predict)"
   ]
  },
  {
   "cell_type": "code",
   "execution_count": 70,
   "metadata": {},
   "outputs": [
    {
     "data": {
      "text/plain": [
       "160.9447058398635"
      ]
     },
     "execution_count": 70,
     "metadata": {},
     "output_type": "execute_result"
    }
   ],
   "source": [
    "### Calculate RMSE performance metrics\n",
    "import math\n",
    "\n",
    "from sklearn.metrics import mean_squared_error\n",
    "\n",
    "math.sqrt(mean_squared_error(y_train,train_predict))"
   ]
  },
  {
   "cell_type": "code",
   "execution_count": 71,
   "metadata": {},
   "outputs": [
    {
     "data": {
      "text/plain": [
       "265.7084387696348"
      ]
     },
     "execution_count": 71,
     "metadata": {},
     "output_type": "execute_result"
    }
   ],
   "source": [
    "### Test Data RMSE\n",
    "math.sqrt(mean_squared_error(ytest,test_predict))"
   ]
  },
  {
   "cell_type": "code",
   "execution_count": 72,
   "metadata": {},
   "outputs": [
    {
     "data": {
      "image/png": "[encoded data removed]",
      "text/plain": [
       "<Figure size 432x288 with 1 Axes>"
      ]
     },
     "metadata": {
      "needs_background": "light"
     },
     "output_type": "display_data"
    }
   ],
   "source": [
    "### Plotting \n",
    "\n",
    "# shift train predictions for plotting\n",
    "look_back=100\n",
    "trainPredictPlot = numpy.empty_like(df1)\n",
    "trainPredictPlot[:, :] = np.nan\n",
    "trainPredictPlot[look_back:len(train_predict)+look_back, :] = train_predict\n",
    "\n",
    "# shift test predictions for plotting\n",
    "testPredictPlot = numpy.empty_like(df1)\n",
    "testPredictPlot[:, :] = numpy.nan\n",
    "testPredictPlot[len(train_predict)+(look_back*2)+1:len(df1)-1, :] = test_predict\n",
    "\n",
    "# plot baseline and predictions\n",
    "plt.plot(scaler.inverse_transform(df1)) # original raw data\n",
    "plt.plot(trainPredictPlot) # orange color, train data \n",
    "plt.plot(testPredictPlot) # green color, test data\n",
    "\n",
    "plt.show()\n"
   ]
  },
  {
   "cell_type": "markdown",
   "metadata": {},
   "source": [
    "## Prediction "
   ]
  },
  {
   "cell_type": "code",
   "execution_count": 76,
   "metadata": {},
   "outputs": [
    {
     "data": {
      "text/plain": [
       "440"
      ]
     },
     "execution_count": 76,
     "metadata": {},
     "output_type": "execute_result"
    }
   ],
   "source": [
    "len(test_data)"
   ]
  },
  {
   "cell_type": "code",
   "execution_count": 77,
   "metadata": {},
   "outputs": [
    {
     "data": {
      "text/plain": [
       "(1, 100)"
      ]
     },
     "execution_count": 77,
     "metadata": {},
     "output_type": "execute_result"
    }
   ],
   "source": [
    "x_input=test_data[340:].reshape(1,-1)  \n",
    "\n",
    "# to predict next day rate, we need previous 100 days rate. Hence using \n",
    "# test data only we manually creating new input here. So 440 -100 = 340 \n",
    "\n",
    "x_input.shape  # 1 row with 100 column. This is one sample record to test the prediction. "
   ]
  },
  {
   "cell_type": "code",
   "execution_count": 78,
   "metadata": {
    "scrolled": true
   },
   "outputs": [
    {
     "data": {
      "text/plain": [
       "array([[0.85173782, 0.86727601, 0.83502105, 0.86999399, 0.88923632,\n",
       "        0.88825015, 0.8853638 , 0.89455201, 0.89594708, 0.92064943,\n",
       "        0.97929044, 0.99360192, 0.98366807, 1.        , 0.98544799,\n",
       "        0.9834997 , 0.09308479, 0.10544799, 0.09876127, 0.07345761,\n",
       "        0.07365003, 0.05407096, 0.06489477, 0.0556825 , 0.05209862,\n",
       "        0.06016837, 0.06061335, 0.0524113 , 0.04810583, 0.03968731,\n",
       "        0.04748046, 0.05164161, 0.04036079, 0.04300661, 0.0527721 ,\n",
       "        0.05921828, 0.05712568, 0.06126278, 0.06361996, 0.05455201,\n",
       "        0.06292243, 0.05488876, 0.05950692, 0.05924233, 0.06405292,\n",
       "        0.08192423, 0.07398677, 0.07420325, 0.07304871, 0.06898376,\n",
       "        0.06167168, 0.06535177, 0.06381239, 0.06111846, 0.0594107 ,\n",
       "        0.05943476, 0.06316296, 0.05017438, 0.06008419, 0.044546  ,\n",
       "        0.04432952, 0.04834636, 0.05919423, 0.06900782, 0.06819002,\n",
       "        0.06248948, 0.06164762, 0.07011425, 0.06944077, 0.06956103,\n",
       "        0.07206254, 0.06987372, 0.06660253, 0.06806975, 0.06494287,\n",
       "        0.05654841, 0.05972339, 0.06179194, 0.06313891, 0.06905592,\n",
       "        0.07788334, 0.07874925, 0.07841251, 0.07675286, 0.08036079,\n",
       "        0.08187613, 0.07562237, 0.0791341 , 0.0771377 , 0.07562237,\n",
       "        0.09029465, 0.09012628, 0.09226699, 0.08734817, 0.0911365 ,\n",
       "        0.09991581, 0.09770295, 0.10013229, 0.11148527, 0.10710764]])"
      ]
     },
     "execution_count": 78,
     "metadata": {},
     "output_type": "execute_result"
    }
   ],
   "source": [
    "x_input"
   ]
  },
  {
   "cell_type": "code",
   "execution_count": 79,
   "metadata": {},
   "outputs": [
    {
     "data": {
      "text/plain": [
       "[array([0.85173782, 0.86727601, 0.83502105, 0.86999399, 0.88923632,\n",
       "        0.88825015, 0.8853638 , 0.89455201, 0.89594708, 0.92064943,\n",
       "        0.97929044, 0.99360192, 0.98366807, 1.        , 0.98544799,\n",
       "        0.9834997 , 0.09308479, 0.10544799, 0.09876127, 0.07345761,\n",
       "        0.07365003, 0.05407096, 0.06489477, 0.0556825 , 0.05209862,\n",
       "        0.06016837, 0.06061335, 0.0524113 , 0.04810583, 0.03968731,\n",
       "        0.04748046, 0.05164161, 0.04036079, 0.04300661, 0.0527721 ,\n",
       "        0.05921828, 0.05712568, 0.06126278, 0.06361996, 0.05455201,\n",
       "        0.06292243, 0.05488876, 0.05950692, 0.05924233, 0.06405292,\n",
       "        0.08192423, 0.07398677, 0.07420325, 0.07304871, 0.06898376,\n",
       "        0.06167168, 0.06535177, 0.06381239, 0.06111846, 0.0594107 ,\n",
       "        0.05943476, 0.06316296, 0.05017438, 0.06008419, 0.044546  ,\n",
       "        0.04432952, 0.04834636, 0.05919423, 0.06900782, 0.06819002,\n",
       "        0.06248948, 0.06164762, 0.07011425, 0.06944077, 0.06956103,\n",
       "        0.07206254, 0.06987372, 0.06660253, 0.06806975, 0.06494287,\n",
       "        0.05654841, 0.05972339, 0.06179194, 0.06313891, 0.06905592,\n",
       "        0.07788334, 0.07874925, 0.07841251, 0.07675286, 0.08036079,\n",
       "        0.08187613, 0.07562237, 0.0791341 , 0.0771377 , 0.07562237,\n",
       "        0.09029465, 0.09012628, 0.09226699, 0.08734817, 0.0911365 ,\n",
       "        0.09991581, 0.09770295, 0.10013229, 0.11148527, 0.10710764])]"
      ]
     },
     "execution_count": 79,
     "metadata": {},
     "output_type": "execute_result"
    }
   ],
   "source": [
    "list(x_input)"
   ]
  },
  {
   "cell_type": "code",
   "execution_count": 82,
   "metadata": {},
   "outputs": [],
   "source": [
    "temp_input=list(x_input)"
   ]
  },
  {
   "cell_type": "code",
   "execution_count": 83,
   "metadata": {},
   "outputs": [
    {
     "data": {
      "text/plain": [
       "[0.8517378232110644,\n",
       " 0.8672760072158752,\n",
       " 0.8350210463018641,\n",
       " 0.8699939867708961,\n",
       " 0.8892363199037885,\n",
       " 0.8882501503307276,\n",
       " 0.8853638003607938,\n",
       " 0.89455201443175,\n",
       " 0.8959470835838845,\n",
       " 0.9206494287432352,\n",
       " 0.9792904389657247,\n",
       " 0.9936019242333134,\n",
       " 0.9836680697534577,\n",
       " 1.0,\n",
       " 0.9854479855682503,\n",
       " 0.983499699338545,\n",
       " 0.09308478653036678,\n",
       " 0.10544798556825014,\n",
       " 0.09876127480457003,\n",
       " 0.07345760673481655,\n",
       " 0.07365003006614551,\n",
       " 0.05407095610342749,\n",
       " 0.06489476849067943,\n",
       " 0.055682501503307225,\n",
       " 0.052098616957306054,\n",
       " 0.0601683704149128,\n",
       " 0.06061334936861096,\n",
       " 0.05241130487071555,\n",
       " 0.04810583283223091,\n",
       " 0.03968731208659049,\n",
       " 0.04748045700541187,\n",
       " 0.05164161154539987,\n",
       " 0.04036079374624174,\n",
       " 0.04300661455201443,\n",
       " 0.05277209861695731,\n",
       " 0.05921828021647624,\n",
       " 0.05712567648827421,\n",
       " 0.06126277811184605,\n",
       " 0.06361996392062536,\n",
       " 0.05455201443174984,\n",
       " 0.062922429344558,\n",
       " 0.05488875526157544,\n",
       " 0.059506915213469624,\n",
       " 0.059242333132892344,\n",
       " 0.06405291641611544,\n",
       " 0.08192423331328924,\n",
       " 0.07398677089597111,\n",
       " 0.07420324714371618,\n",
       " 0.07304870715574258,\n",
       " 0.06898376428141911,\n",
       " 0.061671677690920024,\n",
       " 0.06535177390258567,\n",
       " 0.06381238725195432,\n",
       " 0.06111846061334936,\n",
       " 0.059410703547805144,\n",
       " 0.05943475646422125,\n",
       " 0.06316295850871917,\n",
       " 0.05017438364401683,\n",
       " 0.06008418520745634,\n",
       " 0.04454600120264579,\n",
       " 0.04432952495490078,\n",
       " 0.04834636199639203,\n",
       " 0.05919422730006013,\n",
       " 0.06900781719783522,\n",
       " 0.06819001803968727,\n",
       " 0.062489476849067915,\n",
       " 0.06164762477450386,\n",
       " 0.0701142513529765,\n",
       " 0.0694407696933253,\n",
       " 0.06956103427540589,\n",
       " 0.07206253758268188,\n",
       " 0.06987372218881538,\n",
       " 0.0666025255562237,\n",
       " 0.06806975345760674,\n",
       " 0.0649428743235117,\n",
       " 0.056548406494287384,\n",
       " 0.05972339146121464,\n",
       " 0.06179194227300061,\n",
       " 0.06313890559230306,\n",
       " 0.06905592303066743,\n",
       " 0.07788334335538183,\n",
       " 0.07874924834636199,\n",
       " 0.07841250751653633,\n",
       " 0.07675285628382439,\n",
       " 0.08036079374624172,\n",
       " 0.08187612748045697,\n",
       " 0.07562236921226695,\n",
       " 0.0791340950090198,\n",
       " 0.07713770294648226,\n",
       " 0.07562236921226695,\n",
       " 0.0902946482260974,\n",
       " 0.0901262778111846,\n",
       " 0.09226698737221883,\n",
       " 0.08734816596512324,\n",
       " 0.0911365003006614,\n",
       " 0.09991581479254358,\n",
       " 0.09770294648226097,\n",
       " 0.10013229104028859,\n",
       " 0.11148526758869509,\n",
       " 0.10710763680096214]"
      ]
     },
     "execution_count": 83,
     "metadata": {},
     "output_type": "execute_result"
    }
   ],
   "source": [
    "temp_input[0].tolist()"
   ]
  },
  {
   "cell_type": "code",
   "execution_count": null,
   "metadata": {},
   "outputs": [],
   "source": [
    "temp_input=temp_input[0].tolist()"
   ]
  },
  {
   "cell_type": "code",
   "execution_count": 440,
   "metadata": {},
   "outputs": [
    {
     "data": {
      "text/plain": [
       "[0.8583551465000423,\n",
       " 0.8866418981676942,\n",
       " 0.8743139407244789,\n",
       " 0.8843198513890065,\n",
       " 0.8783669678290975,\n",
       " 0.8986321033521913,\n",
       " 0.925821160179009,\n",
       " 0.9287764924427933,\n",
       " 0.9567677108840666,\n",
       " 0.9386979650426415,\n",
       " 0.933040614709111,\n",
       " 0.9495060373216249,\n",
       " 0.9642404796082076,\n",
       " 0.9551211686228154,\n",
       " 0.9598919192772104,\n",
       " 0.9663514312251966,\n",
       " 0.9624672802499368,\n",
       " 0.9229502659799038,\n",
       " 0.9598497002448705,\n",
       " 0.9879253567508233,\n",
       " 0.985941062230854,\n",
       " 0.9253145317909315,\n",
       " 0.9217259140420504,\n",
       " 0.964747107996285,\n",
       " 0.9757240564046274,\n",
       " 0.9915984125643842,\n",
       " 0.9697289538123788,\n",
       " 0.9761462467280253,\n",
       " 0.9679557544541082,\n",
       " 1.0000000000000002,\n",
       " 0.9901629654648318,\n",
       " 0.9905007177235499,\n",
       " 0.9653803934813816,\n",
       " 0.9848855864223593,\n",
       " 0.9708688676855528,\n",
       " 0.9402600692392133,\n",
       " 0.8774803681499621,\n",
       " 0.8348391454867856,\n",
       " 0.8541332432660644,\n",
       " 0.7733682344000676,\n",
       " 0.7726927298826314,\n",
       " 0.8801401671873683,\n",
       " 0.8400743054969182,\n",
       " 0.8967322468969012,\n",
       " 0.8552731571392387,\n",
       " 0.8388499535590646,\n",
       " 0.7423372456303303,\n",
       " 0.8232711306256861,\n",
       " 0.7814320695769654,\n",
       " 0.6665963016127672,\n",
       " 0.7921557037912694,\n",
       " 0.6411804441442204,\n",
       " 0.6861437135860848,\n",
       " 0.6600101325677616,\n",
       " 0.6520307354555435,\n",
       " 0.5864223591995272,\n",
       " 0.5658616904500551,\n",
       " 0.660896732246897,\n",
       " 0.6551549438486872,\n",
       " 0.7097019336316812,\n",
       " 0.664527569028118,\n",
       " 0.6943764248923416,\n",
       " 0.692181035210673,\n",
       " 0.6356919699400492,\n",
       " 0.6526640209406402,\n",
       " 0.637802921557038,\n",
       " 0.7267162036646122,\n",
       " 0.7138816178333194,\n",
       " 0.7419150553069325,\n",
       " 0.7500211095161702,\n",
       " 0.7722283205268936,\n",
       " 0.8304905851557884,\n",
       " 0.8194291986827664,\n",
       " 0.8289706999915563,\n",
       " 0.8125474964113824,\n",
       " 0.7877649244279323,\n",
       " 0.7516254327450818,\n",
       " 0.7842607447437306,\n",
       " 0.7797433082833742,\n",
       " 0.8132652199611587,\n",
       " 0.8141096006079542,\n",
       " 0.7947310647639958,\n",
       " 0.8333614793548934,\n",
       " 0.8589884319851391,\n",
       " 0.8390188296884238,\n",
       " 0.8562864139153934,\n",
       " 0.8748627881448958,\n",
       " 0.887824031073208,\n",
       " 0.9009541501308793,\n",
       " 0.9279321117959978,\n",
       " 0.9485349995778098,\n",
       " 0.9333361479354896,\n",
       " 0.9174617917757326,\n",
       " 0.925441188887951,\n",
       " 0.9177151059697712,\n",
       " 0.9483239044161109,\n",
       " 0.9406400405302711,\n",
       " 0.9663514312251966,\n",
       " 0.9563033015283293,\n",
       " 0.964915984125644]"
      ]
     },
     "execution_count": 440,
     "metadata": {},
     "output_type": "execute_result"
    }
   ],
   "source": [
    "temp_input"
   ]
  },
  {
   "cell_type": "code",
   "execution_count": 84,
   "metadata": {},
   "outputs": [
    {
     "name": "stdout",
     "output_type": "stream",
     "text": [
      "[0.10063446]\n",
      "2\n",
      "[0.10063446]\n",
      "3\n",
      "[0.10063446]\n",
      "4\n",
      "[0.10063446]\n",
      "5\n",
      "[0.10063446]\n",
      "6\n",
      "[0.10063446]\n",
      "7\n",
      "[0.10063446]\n",
      "8\n",
      "[0.10063446]\n",
      "9\n",
      "[0.10063446]\n",
      "10\n",
      "[0.10063446]\n",
      "11\n",
      "[0.10063446]\n",
      "12\n",
      "[0.10063446]\n",
      "13\n",
      "[0.10063446]\n",
      "14\n",
      "[0.10063446]\n",
      "15\n",
      "[0.10063446]\n",
      "16\n",
      "[0.10063446]\n",
      "17\n",
      "[0.10063446]\n",
      "18\n",
      "[0.10063446]\n",
      "19\n",
      "[0.10063446]\n",
      "20\n",
      "[0.10063446]\n",
      "21\n",
      "[0.10063446]\n",
      "22\n",
      "[0.10063446]\n",
      "23\n",
      "[0.10063446]\n",
      "24\n",
      "[0.10063446]\n",
      "25\n",
      "[0.10063446]\n",
      "26\n",
      "[0.10063446]\n",
      "27\n",
      "[0.10063446]\n",
      "28\n",
      "[0.10063446]\n",
      "29\n",
      "[0.10063446]\n",
      "30\n",
      "[0.10063446]\n",
      "31\n",
      "[[0.10063446313142776], [0.10063446313142776], [0.10063446313142776], [0.10063446313142776], [0.10063446313142776], [0.10063446313142776], [0.10063446313142776], [0.10063446313142776], [0.10063446313142776], [0.10063446313142776], [0.10063446313142776], [0.10063446313142776], [0.10063446313142776], [0.10063446313142776], [0.10063446313142776], [0.10063446313142776], [0.10063446313142776], [0.10063446313142776], [0.10063446313142776], [0.10063446313142776], [0.10063446313142776], [0.10063446313142776], [0.10063446313142776], [0.10063446313142776], [0.10063446313142776], [0.10063446313142776], [0.10063446313142776], [0.10063446313142776], [0.10063446313142776], [0.10063446313142776]]\n"
     ]
    }
   ],
   "source": [
    "# demonstrate prediction for next 10 days\n",
    "# can see the video to understand below code. \n",
    "\n",
    "from numpy import array\n",
    "\n",
    "lst_output=[]\n",
    "n_steps=100\n",
    "i=0\n",
    "\n",
    "while(i<30):\n",
    "    \n",
    "    if(len(temp_input)>100):\n",
    "        \n",
    "        #print(temp_input)\n",
    "        x_input=np.array(temp_input[1:])\n",
    "        print(\"{} day input {}\".format(i,x_input))\n",
    "        x_input=x_input.reshape(1,-1)\n",
    "        x_input = x_input.reshape((1, n_steps, 1))\n",
    "        \n",
    "        #print(x_input)\n",
    "        yhat = model.predict(x_input, verbose=0)\n",
    "        print(\"{} day output {}\".format(i,yhat))\n",
    "        temp_input.extend(yhat[0].tolist())\n",
    "        temp_input=temp_input[1:]\n",
    "        \n",
    "        #print(temp_input)\n",
    "        lst_output.extend(yhat.tolist())\n",
    "        i=i+1\n",
    "        \n",
    "    else:\n",
    "        x_input = x_input.reshape((1, n_steps,1))\n",
    "        yhat = model.predict(x_input, verbose=0)\n",
    "        print(yhat[0])\n",
    "        temp_input.extend(yhat[0].tolist())\n",
    "        print(len(temp_input))\n",
    "        lst_output.extend(yhat.tolist())\n",
    "        i=i+1\n",
    "    \n",
    "\n",
    "print(lst_output)"
   ]
  },
  {
   "cell_type": "code",
   "execution_count": 89,
   "metadata": {},
   "outputs": [],
   "source": [
    "day_new=np.arange(1,101)\n",
    "day_pred=np.arange(101,131)"
   ]
  },
  {
   "cell_type": "code",
   "execution_count": 86,
   "metadata": {},
   "outputs": [],
   "source": [
    "import matplotlib.pyplot as plt"
   ]
  },
  {
   "cell_type": "code",
   "execution_count": 90,
   "metadata": {},
   "outputs": [
    {
     "data": {
      "text/plain": [
       "1257"
      ]
     },
     "execution_count": 90,
     "metadata": {},
     "output_type": "execute_result"
    }
   ],
   "source": [
    "len(df1)"
   ]
  },
  {
   "cell_type": "code",
   "execution_count": 93,
   "metadata": {},
   "outputs": [
    {
     "data": {
      "text/plain": [
       "[<matplotlib.lines.Line2D at 0x7fd0c664eaf0>]"
      ]
     },
     "execution_count": 93,
     "metadata": {},
     "output_type": "execute_result"
    },
    {
     "data": {
      "image/png": "[encoded data removed]",
      "text/plain": [
       "<Figure size 432x288 with 1 Axes>"
      ]
     },
     "metadata": {
      "needs_background": "light"
     },
     "output_type": "display_data"
    }
   ],
   "source": [
    "plt.plot(day_new,scaler.inverse_transform(df1[1157:]))   # 1257 - 100 = 1157 (previous 100 day data)\n",
    "plt.plot(day_pred,scaler.inverse_transform(lst_output))\n",
    "\n",
    "#orange is the next 30days prediction here. "
   ]
  },
  {
   "cell_type": "code",
   "execution_count": 95,
   "metadata": {},
   "outputs": [
    {
     "data": {
      "text/plain": [
       "[<matplotlib.lines.Line2D at 0x7fd0c67b4b50>]"
      ]
     },
     "execution_count": 95,
     "metadata": {},
     "output_type": "execute_result"
    },
    {
     "data": {
      "image/png": "[encoded data removed]",
      "text/plain": [
       "<Figure size 432x288 with 1 Axes>"
      ]
     },
     "metadata": {
      "needs_background": "light"
     },
     "output_type": "display_data"
    }
   ],
   "source": [
    "# to visualize the output including raw data\n",
    "\n",
    "df3=df1.tolist()\n",
    "df3.extend(lst_output)\n",
    "plt.plot(df3[1200:])"
   ]
  },
  {
   "cell_type": "code",
   "execution_count": 96,
   "metadata": {},
   "outputs": [],
   "source": [
    "df3=scaler.inverse_transform(df3).tolist()"
   ]
  },
  {
   "cell_type": "code",
   "execution_count": 97,
   "metadata": {},
   "outputs": [
    {
     "data": {
      "text/plain": [
       "[<matplotlib.lines.Line2D at 0x7fd0c674cee0>]"
      ]
     },
     "execution_count": 97,
     "metadata": {},
     "output_type": "execute_result"
    },
    {
     "data": {
      "image/png": "[encoded data removed]",
      "text/plain": [
       "<Figure size 432x288 with 1 Axes>"
      ]
     },
     "metadata": {
      "needs_background": "light"
     },
     "output_type": "display_data"
    }
   ],
   "source": [
    "plt.plot(df3)"
   ]
  },
  {
   "cell_type": "code",
   "execution_count": null,
   "metadata": {},
   "outputs": [],
   "source": []
  }
 ],
 "metadata": {
  "kernelspec": {
   "display_name": "Python 3",
   "language": "python",
   "name": "python3"
  },
  "language_info": {
   "codemirror_mode": {
    "name": "ipython",
    "version": 3
   },
   "file_extension": ".py",
   "mimetype": "text/x-python",
   "name": "python",
   "nbconvert_exporter": "python",
   "pygments_lexer": "ipython3",
   "version": "3.8.3"
  }
 },
 "nbformat": 4,
 "nbformat_minor": 2
}
